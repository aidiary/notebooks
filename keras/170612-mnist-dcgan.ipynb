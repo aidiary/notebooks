{
 "cells": [
  {
   "cell_type": "code",
   "execution_count": 113,
   "metadata": {
    "collapsed": false
   },
   "outputs": [],
   "source": [
    "%matplotlib inline\n",
    "import numpy as np\n",
    "from keras.models import Sequential\n",
    "from keras.layers import Dense, Activation, Reshape, Flatten, Dropout, MaxPooling2D\n",
    "from keras.layers.normalization import BatchNormalization\n",
    "from keras.layers.convolutional import UpSampling2D, Conv2D\n",
    "from keras.layers.advanced_activations import LeakyReLU\n",
    "\n",
    "import os\n",
    "from keras.datasets import mnist\n",
    "from keras.optimizers import Adam\n",
    "from PIL import Image\n",
    "\n",
    "import math\n",
    "\n",
    "import matplotlib.pyplot as plt"
   ]
  },
  {
   "cell_type": "code",
   "execution_count": 82,
   "metadata": {
    "collapsed": true
   },
   "outputs": [],
   "source": [
    "def generator_model():\n",
    "    model = Sequential()\n",
    "    # Generatorへのランダム入力は100次元のノイズベクトル\n",
    "    model.add(Dense(input_dim=100, units=1024))\n",
    "    model.add(BatchNormalization())\n",
    "    model.add(Activation('relu'))\n",
    "    model.add(Dense(128 * 7 * 7))\n",
    "    model.add(BatchNormalization())\n",
    "    model.add(Activation('relu'))\n",
    "    model.add(Reshape((7, 7, 128), input_shape=(128 * 7 * 7, )))\n",
    "    model.add(UpSampling2D((2, 2)))\n",
    "    model.add(Conv2D(64, (5, 5), padding='same'))\n",
    "    model.add(BatchNormalization())\n",
    "    model.add(Activation('relu'))\n",
    "    model.add(UpSampling2D((2, 2)))\n",
    "    model.add(Conv2D(1, (5, 5), padding='same'))\n",
    "    model.add(Activation('tanh'))\n",
    "    return model"
   ]
  },
  {
   "cell_type": "code",
   "execution_count": 31,
   "metadata": {
    "collapsed": false
   },
   "outputs": [
    {
     "name": "stdout",
     "output_type": "stream",
     "text": [
      "_________________________________________________________________\n",
      "Layer (type)                 Output Shape              Param #   \n",
      "=================================================================\n",
      "dense_21 (Dense)             (None, 1024)              103424    \n",
      "_________________________________________________________________\n",
      "batch_normalization_26 (Batc (None, 1024)              4096      \n",
      "_________________________________________________________________\n",
      "activation_31 (Activation)   (None, 1024)              0         \n",
      "_________________________________________________________________\n",
      "dense_22 (Dense)             (None, 6272)              6428800   \n",
      "_________________________________________________________________\n",
      "batch_normalization_27 (Batc (None, 6272)              25088     \n",
      "_________________________________________________________________\n",
      "activation_32 (Activation)   (None, 6272)              0         \n",
      "_________________________________________________________________\n",
      "reshape_10 (Reshape)         (None, 7, 7, 128)         0         \n",
      "_________________________________________________________________\n",
      "up_sampling2d_14 (UpSampling (None, 14, 14, 128)       0         \n",
      "_________________________________________________________________\n",
      "conv2d_12 (Conv2D)           (None, 14, 14, 64)        204864    \n",
      "_________________________________________________________________\n",
      "batch_normalization_28 (Batc (None, 14, 14, 64)        256       \n",
      "_________________________________________________________________\n",
      "activation_33 (Activation)   (None, 14, 14, 64)        0         \n",
      "_________________________________________________________________\n",
      "up_sampling2d_15 (UpSampling (None, 28, 28, 64)        0         \n",
      "_________________________________________________________________\n",
      "conv2d_13 (Conv2D)           (None, 28, 28, 1)         1601      \n",
      "_________________________________________________________________\n",
      "activation_34 (Activation)   (None, 28, 28, 1)         0         \n",
      "=================================================================\n",
      "Total params: 6,768,129\n",
      "Trainable params: 6,753,409\n",
      "Non-trainable params: 14,720\n",
      "_________________________________________________________________\n"
     ]
    }
   ],
   "source": [
    "generator = generator_model()\n",
    "generator.summary()"
   ]
  },
  {
   "cell_type": "code",
   "execution_count": 112,
   "metadata": {
    "collapsed": true
   },
   "outputs": [],
   "source": [
    "def discriminator_model():\n",
    "    model = Sequential()\n",
    "    model.add(Conv2D(64, (5, 5),\n",
    "                     strides=(2, 2),\n",
    "                     padding='same',\n",
    "                     input_shape=(28, 28, 1)))\n",
    "    model.add(LeakyReLU(0.2))\n",
    "    model.add(Conv2D(128, (5, 5), strides=(2, 2)))\n",
    "    model.add(LeakyReLU(0.2))\n",
    "    model.add(Flatten())\n",
    "    model.add(Dense(256))\n",
    "    model.add(LeakyReLU(0.2))\n",
    "    model.add(Dropout(0.5))\n",
    "    model.add(Dense(1))\n",
    "    model.add(Activation('sigmoid'))\n",
    "    return model"
   ]
  },
  {
   "cell_type": "code",
   "execution_count": 75,
   "metadata": {
    "collapsed": false
   },
   "outputs": [
    {
     "name": "stdout",
     "output_type": "stream",
     "text": [
      "_________________________________________________________________\n",
      "Layer (type)                 Output Shape              Param #   \n",
      "=================================================================\n",
      "conv2d_57 (Conv2D)           (None, 14, 14, 64)        1664      \n",
      "_________________________________________________________________\n",
      "leaky_re_lu_36 (LeakyReLU)   (None, 14, 14, 64)        0         \n",
      "_________________________________________________________________\n",
      "conv2d_58 (Conv2D)           (None, 5, 5, 128)         204928    \n",
      "_________________________________________________________________\n",
      "leaky_re_lu_37 (LeakyReLU)   (None, 5, 5, 128)         0         \n",
      "_________________________________________________________________\n",
      "flatten_15 (Flatten)         (None, 3200)              0         \n",
      "_________________________________________________________________\n",
      "dense_61 (Dense)             (None, 256)               819456    \n",
      "_________________________________________________________________\n",
      "leaky_re_lu_38 (LeakyReLU)   (None, 256)               0         \n",
      "_________________________________________________________________\n",
      "dropout_14 (Dropout)         (None, 256)               0         \n",
      "_________________________________________________________________\n",
      "dense_62 (Dense)             (None, 1)                 257       \n",
      "_________________________________________________________________\n",
      "activation_80 (Activation)   (None, 1)                 0         \n",
      "=================================================================\n",
      "Total params: 1,026,305\n",
      "Trainable params: 1,026,305\n",
      "Non-trainable params: 0\n",
      "_________________________________________________________________\n"
     ]
    }
   ],
   "source": [
    "discriminator = discriminator_model()\n",
    "discriminator.summary()"
   ]
  },
  {
   "cell_type": "code",
   "execution_count": 102,
   "metadata": {
    "collapsed": true
   },
   "outputs": [],
   "source": [
    "def combine_images(generated_images):\n",
    "    \"\"\"\n",
    "    benerated_images: (batches, height, width, channels)\n",
    "    \"\"\"\n",
    "    total = generated_images.shape[0]\n",
    "    cols = int(math.sqrt(total))\n",
    "    rows = math.ceil(float(total) / cols)\n",
    "    width, height = generated_images.shape[1:3]\n",
    "    combined_image = np.zeros((height * rows, width * cols),\n",
    "                              dtype=generated_images.dtype)\n",
    "    for index, image in enumerate(generated_images):\n",
    "        i = int(index / cols)\n",
    "        j = index % cols\n",
    "        combined_image[width * i:width * (i + 1), height * j:height * (j + 1)] = image[:, :, 0]\n",
    "    return combined_image"
   ]
  },
  {
   "cell_type": "code",
   "execution_count": 94,
   "metadata": {
    "collapsed": false
   },
   "outputs": [
    {
     "name": "stdout",
     "output_type": "stream",
     "text": [
      "_________________________________________________________________\n",
      "Layer (type)                 Output Shape              Param #   \n",
      "=================================================================\n",
      "conv2d_63 (Conv2D)           (None, 14, 14, 64)        1664      \n",
      "_________________________________________________________________\n",
      "leaky_re_lu_42 (LeakyReLU)   (None, 14, 14, 64)        0         \n",
      "_________________________________________________________________\n",
      "conv2d_64 (Conv2D)           (None, 5, 5, 128)         204928    \n",
      "_________________________________________________________________\n",
      "leaky_re_lu_43 (LeakyReLU)   (None, 5, 5, 128)         0         \n",
      "_________________________________________________________________\n",
      "flatten_17 (Flatten)         (None, 3200)              0         \n",
      "_________________________________________________________________\n",
      "dense_67 (Dense)             (None, 256)               819456    \n",
      "_________________________________________________________________\n",
      "leaky_re_lu_44 (LeakyReLU)   (None, 256)               0         \n",
      "_________________________________________________________________\n",
      "dropout_16 (Dropout)         (None, 256)               0         \n",
      "_________________________________________________________________\n",
      "dense_68 (Dense)             (None, 1)                 257       \n",
      "_________________________________________________________________\n",
      "activation_86 (Activation)   (None, 1)                 0         \n",
      "=================================================================\n",
      "Total params: 1,026,305\n",
      "Trainable params: 1,026,305\n",
      "Non-trainable params: 0\n",
      "_________________________________________________________________\n",
      "_________________________________________________________________\n",
      "Layer (type)                 Output Shape              Param #   \n",
      "=================================================================\n",
      "sequential_47 (Sequential)   (None, 28, 28, 1)         6768129   \n",
      "_________________________________________________________________\n",
      "sequential_46 (Sequential)   (None, 1)                 1026305   \n",
      "=================================================================\n",
      "Total params: 7,794,434\n",
      "Trainable params: 6,753,409\n",
      "Non-trainable params: 1,041,025\n",
      "_________________________________________________________________\n"
     ]
    }
   ],
   "source": [
    "BATCH_SIZE = 36\n",
    "NUM_EPOCH = 20\n",
    "GENERATED_IMAGE_PATH = 'generated_images/'\n",
    "MODEL_PATH = 'models/'\n",
    "\n",
    "if not os.path.exists(GENERATED_IMAGE_PATH):\n",
    "    os.mkdir(GENERATED_IMAGE_PATH)\n",
    "\n",
    "if not os.path.exists(MODEL_PATH):\n",
    "    os.mkdir(MODEL_PATH)\n",
    "\n",
    "# MNISTをロード\n",
    "(X_train, y_train), (_, _) = mnist.load_data()\n",
    "# [-1.0, 1.0] に正規化\n",
    "X_train = (X_train.astype(np.float32) - 127.5) / 127.5\n",
    "# (batch, height, width, channels)\n",
    "X_train = X_train.reshape(X_train.shape[0], X_train.shape[1], X_train.shape[2], 1)\n",
    "\n",
    "# discriminatorのみのモデル構築\n",
    "discriminator = discriminator_model()\n",
    "d_opt = Adam(lr=1e-5, beta_1=0.1)\n",
    "discriminator.compile(loss='binary_crossentropy', optimizer=d_opt)\n",
    "discriminator.summary()\n",
    "\n",
    "# generator + discriminatorのモデル構築\n",
    "# discriminatorの重みは固定（固定されるのはdcganの中のdiscriminatorのみ）\n",
    "# trainableを反映させるにはcompile()が必要\n",
    "# summary()表示するとわかる\n",
    "discriminator.trainable = False\n",
    "generator = generator_model()\n",
    "# generatorが生成した画像をdiscriminatorが予測\n",
    "dcgan = Sequential([generator, discriminator])\n",
    "g_opt = Adam(lr=2e-4, beta_1=0.5)\n",
    "dcgan.compile(loss='binary_crossentropy', optimizer=g_opt)\n",
    "dcgan.summary()"
   ]
  },
  {
   "cell_type": "code",
   "execution_count": 101,
   "metadata": {
    "collapsed": false
   },
   "outputs": [
    {
     "name": "stdout",
     "output_type": "stream",
     "text": [
      "Number of batches: 5\n",
      "epoch: 0, batch: 0, g_loss: 0.422608, d_loss: 0.598482\n",
      "epoch: 0, batch: 1, g_loss: 0.425497, d_loss: 0.588529\n",
      "epoch: 0, batch: 2, g_loss: 0.417925, d_loss: 0.595980\n",
      "epoch: 0, batch: 3, g_loss: 0.424054, d_loss: 0.588540\n",
      "epoch: 0, batch: 4, g_loss: 0.428060, d_loss: 0.586221\n",
      "(28, 28, 1)\n"
     ]
    },
    {
     "ename": "IndexError",
     "evalue": "index 1 is out of bounds for axis 2 with size 1",
     "output_type": "error",
     "traceback": [
      "\u001b[0;31m---------------------------------------------------------------------------\u001b[0m",
      "\u001b[0;31mIndexError\u001b[0m                                Traceback (most recent call last)",
      "\u001b[0;32m<ipython-input-101-d75396e76eea>\u001b[0m in \u001b[0;36m<module>\u001b[0;34m()\u001b[0m\n\u001b[1;32m     32\u001b[0m \u001b[0;34m\u001b[0m\u001b[0m\n\u001b[1;32m     33\u001b[0m     \u001b[0;31m# 各エポックで生成画像を出力\u001b[0m\u001b[0;34m\u001b[0m\u001b[0;34m\u001b[0m\u001b[0m\n\u001b[0;32m---> 34\u001b[0;31m     \u001b[0mimage\u001b[0m \u001b[0;34m=\u001b[0m \u001b[0mcombine_images\u001b[0m\u001b[0;34m(\u001b[0m\u001b[0mgenerated_images\u001b[0m\u001b[0;34m)\u001b[0m\u001b[0;34m\u001b[0m\u001b[0m\n\u001b[0m\u001b[1;32m     35\u001b[0m     \u001b[0mimage\u001b[0m \u001b[0;34m=\u001b[0m \u001b[0mimage\u001b[0m \u001b[0;34m*\u001b[0m \u001b[0;36m127.5\u001b[0m \u001b[0;34m+\u001b[0m \u001b[0;36m127.5\u001b[0m\u001b[0;34m\u001b[0m\u001b[0m\n\u001b[1;32m     36\u001b[0m     \u001b[0mImage\u001b[0m\u001b[0;34m.\u001b[0m\u001b[0mfromarray\u001b[0m\u001b[0;34m(\u001b[0m\u001b[0mimage\u001b[0m\u001b[0;34m.\u001b[0m\u001b[0mastype\u001b[0m\u001b[0;34m(\u001b[0m\u001b[0mnp\u001b[0m\u001b[0;34m.\u001b[0m\u001b[0muint8\u001b[0m\u001b[0;34m)\u001b[0m\u001b[0;34m)\u001b[0m\u001b[0;34m.\u001b[0m\u001b[0msave\u001b[0m\u001b[0;34m(\u001b[0m\u001b[0mGENERATED_IMAGE_PATH\u001b[0m \u001b[0;34m+\u001b[0m \u001b[0;34m'epoch-%04d.png'\u001b[0m \u001b[0;34m%\u001b[0m \u001b[0;34m(\u001b[0m\u001b[0mepoch\u001b[0m\u001b[0;34m)\u001b[0m\u001b[0;34m)\u001b[0m\u001b[0;34m\u001b[0m\u001b[0m\n",
      "\u001b[0;32m<ipython-input-100-d9a88aa6eb80>\u001b[0m in \u001b[0;36mcombine_images\u001b[0;34m(generated_images)\u001b[0m\n\u001b[1;32m     16\u001b[0m         \u001b[0mj\u001b[0m \u001b[0;34m=\u001b[0m \u001b[0mindex\u001b[0m \u001b[0;34m%\u001b[0m \u001b[0mcols\u001b[0m\u001b[0;34m\u001b[0m\u001b[0m\n\u001b[1;32m     17\u001b[0m         \u001b[0mprint\u001b[0m\u001b[0;34m(\u001b[0m\u001b[0mimage\u001b[0m\u001b[0;34m.\u001b[0m\u001b[0mshape\u001b[0m\u001b[0;34m)\u001b[0m\u001b[0;34m\u001b[0m\u001b[0m\n\u001b[0;32m---> 18\u001b[0;31m         \u001b[0mcombined_image\u001b[0m\u001b[0;34m[\u001b[0m\u001b[0mwidth\u001b[0m \u001b[0;34m*\u001b[0m \u001b[0mi\u001b[0m\u001b[0;34m:\u001b[0m\u001b[0mwidth\u001b[0m \u001b[0;34m*\u001b[0m \u001b[0;34m(\u001b[0m\u001b[0mi\u001b[0m \u001b[0;34m+\u001b[0m \u001b[0;36m1\u001b[0m\u001b[0;34m)\u001b[0m\u001b[0;34m,\u001b[0m \u001b[0mheight\u001b[0m \u001b[0;34m*\u001b[0m \u001b[0mj\u001b[0m\u001b[0;34m:\u001b[0m\u001b[0mheight\u001b[0m \u001b[0;34m*\u001b[0m \u001b[0;34m(\u001b[0m\u001b[0mj\u001b[0m \u001b[0;34m+\u001b[0m \u001b[0;36m1\u001b[0m\u001b[0;34m)\u001b[0m\u001b[0;34m]\u001b[0m \u001b[0;34m=\u001b[0m \u001b[0mimage\u001b[0m\u001b[0;34m[\u001b[0m\u001b[0;34m:\u001b[0m\u001b[0;34m,\u001b[0m \u001b[0;34m:\u001b[0m\u001b[0;34m,\u001b[0m \u001b[0;36m1\u001b[0m\u001b[0;34m]\u001b[0m\u001b[0;34m\u001b[0m\u001b[0m\n\u001b[0m\u001b[1;32m     19\u001b[0m     \u001b[0;32mreturn\u001b[0m \u001b[0mcombined_image\u001b[0m\u001b[0;34m\u001b[0m\u001b[0m\n",
      "\u001b[0;31mIndexError\u001b[0m: index 1 is out of bounds for axis 2 with size 1"
     ]
    }
   ],
   "source": [
    "num_batches = int(X_train.shape[0] / BATCH_SIZE)\n",
    "print('Number of batches:', num_batches)\n",
    "\n",
    "d_loss_history = []\n",
    "g_loss_history = []\n",
    "\n",
    "for epoch in range(NUM_EPOCH):\n",
    "    for index in range(num_batches):\n",
    "        # Generatorへの入力となるノイズベクトルをバッチサイズ分作成\n",
    "        noise = np.array([np.random.uniform(-1, 1, 100) for _ in range(BATCH_SIZE)])\n",
    "        \n",
    "        # 本物の画像（訓練データ）\n",
    "        image_batch = X_train[index * BATCH_SIZE:(index + 1) * BATCH_SIZE]\n",
    "        \n",
    "        # 生成画像\n",
    "        generated_images = generator.predict(noise, verbose=0)\n",
    "\n",
    "        # discriminatorを更新\n",
    "        # discriminatorの出力は本物の画像である確率なので本物の画像のラベルは1、生成画像のラベルは0\n",
    "        X = np.concatenate((image_batch, generated_images))\n",
    "        y = [1] * BATCH_SIZE + [0] * BATCH_SIZE\n",
    "        d_loss = discriminator.train_on_batch(X, y)\n",
    "        d_loss_history.append(d_loss)\n",
    "\n",
    "        # generatorを更新\n",
    "        # generatorは生成画像が本物の画像（ラベル1）と認識されたいため理想となる正解ラベルは1になる\n",
    "        noise = np.array([np.random.uniform(-1, 1, 100) for _ in range(BATCH_SIZE)])\n",
    "        g_loss = dcgan.train_on_batch(noise, [1] * BATCH_SIZE)\n",
    "        g_loss_history.append(g_loss)\n",
    "\n",
    "        print('epoch: %d, batch: %d, g_loss: %f, d_loss: %f' % (epoch, index, g_loss, d_loss))\n",
    "\n",
    "    # 各エポックで生成画像を出力\n",
    "    image = combine_images(generated_images)\n",
    "    image = image * 127.5 + 127.5\n",
    "    Image.fromarray(image.astype(np.uint8)).save(GENERATED_IMAGE_PATH + 'epoch-%04d.png' % (epoch))\n",
    "    \n",
    "    # モデルを保存\n",
    "    generator.save('%s/generator-%03d-%.2f.h5' % (MODEL_PATH, epoch, g_loss))\n",
    "    discriminator.save('%s/discriminator-%03d-%.2f.h5' % (MODEL_PATH, epoch, d_loss))"
   ]
  },
  {
   "cell_type": "code",
   "execution_count": 103,
   "metadata": {
    "collapsed": true
   },
   "outputs": [],
   "source": [
    "with open('g_loss_history.log', 'w') as fp:\n",
    "    for x in g_loss_history:\n",
    "        fp.write('%f\\n' % x)\n",
    "\n",
    "with open('d_loss_history.log', 'w') as fp:\n",
    "    for x in d_loss_history:\n",
    "        fp.write('%f\\n' % x)"
   ]
  },
  {
   "cell_type": "markdown",
   "metadata": {},
   "source": [
    "## 実験結果"
   ]
  },
  {
   "cell_type": "code",
   "execution_count": 118,
   "metadata": {
    "collapsed": false
   },
   "outputs": [],
   "source": [
    "g_loss_history = []\n",
    "d_loss_history = []\n",
    "with open('g_loss_history.log', 'r') as fp:\n",
    "    for line in fp:\n",
    "        line = line.rstrip()\n",
    "        g_loss_history.append(float(line))\n",
    "with open('d_loss_history.log', 'r') as fp:\n",
    "    for line in fp:\n",
    "        line = line.rstrip()\n",
    "        d_loss_history.append(float(line))"
   ]
  },
  {
   "cell_type": "code",
   "execution_count": 120,
   "metadata": {
    "collapsed": false
   },
   "outputs": [
    {
     "data": {
      "text/plain": [
       "33320"
      ]
     },
     "execution_count": 120,
     "metadata": {},
     "output_type": "execute_result"
    }
   ],
   "source": [
    "len(g_loss_history)"
   ]
  },
  {
   "cell_type": "code",
   "execution_count": 123,
   "metadata": {
    "collapsed": false
   },
   "outputs": [
    {
     "data": {
      "text/plain": [
       "(0, 33320)"
      ]
     },
     "execution_count": 123,
     "metadata": {},
     "output_type": "execute_result"
    },
    {
     "data": {
      "image/png": "[encoded data removed]",
      "text/plain": [
       "<matplotlib.figure.Figure at 0x149c7e2b0>"
      ]
     },
     "metadata": {},
     "output_type": "display_data"
    }
   ],
   "source": [
    "plt.plot(g_loss_history, label='g_loss')\n",
    "plt.plot(d_loss_history, label='d_loss')\n",
    "plt.xlabel('# of batches')\n",
    "plt.ylabel('loss')\n",
    "plt.xlim((0, len(g_loss_history)))"
   ]
  },
  {
   "cell_type": "code",
   "execution_count": 130,
   "metadata": {
    "collapsed": false
   },
   "outputs": [],
   "source": [
    "from IPython.display import Image"
   ]
  },
  {
   "cell_type": "code",
   "execution_count": 136,
   "metadata": {
    "collapsed": false
   },
   "outputs": [
    {
     "data": {
      "image/png": "[encoded data removed]",
      "text/plain": [
       "<IPython.core.display.Image object>"
      ]
     },
     "execution_count": 136,
     "metadata": {
      "image/png": {
       "height": 320,
       "width": 320
      }
     },
     "output_type": "execute_result"
    }
   ],
   "source": [
    "Image('generated_images/epoch-0000.png', width=320, height=320)"
   ]
  },
  {
   "cell_type": "code",
   "execution_count": 137,
   "metadata": {
    "collapsed": false
   },
   "outputs": [
    {
     "data": {
      "image/png": "[encoded data removed]",
      "text/plain": [
       "<IPython.core.display.Image object>"
      ]
     },
     "execution_count": 137,
     "metadata": {
      "image/png": {
       "height": 320,
       "width": 320
      }
     },
     "output_type": "execute_result"
    }
   ],
   "source": [
    "Image('generated_images/epoch-0019.png', width=320, height=320)"
   ]
  },
  {
   "cell_type": "code",
   "execution_count": null,
   "metadata": {
    "collapsed": true
   },
   "outputs": [],
   "source": []
  }
 ],
 "metadata": {
  "anaconda-cloud": {},
  "kernelspec": {
   "display_name": "Python [conda root]",
   "language": "python",
   "name": "conda-root-py"
  },
  "language_info": {
   "codemirror_mode": {
    "name": "ipython",
    "version": 3
   },
   "file_extension": ".py",
   "mimetype": "text/x-python",
   "name": "python",
   "nbconvert_exporter": "python",
   "pygments_lexer": "ipython3",
   "version": "3.5.2"
  }
 },
 "nbformat": 4,
 "nbformat_minor": 1
}
