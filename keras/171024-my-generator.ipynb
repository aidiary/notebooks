{
 "cells": [
  {
   "cell_type": "code",
   "execution_count": 34,
   "metadata": {
    "collapsed": true
   },
   "outputs": [],
   "source": [
    "from keras.datasets import mnist\n",
    "from keras.utils import np_utils\n",
    "\n",
    "from keras.models import Sequential\n",
    "from keras.layers import Dense, Dropout\n",
    "from keras.optimizers import RMSprop"
   ]
  },
  {
   "cell_type": "code",
   "execution_count": 43,
   "metadata": {
    "collapsed": true
   },
   "outputs": [],
   "source": [
    "batch_size = 32\n",
    "num_classes = 10\n",
    "epochs = 20"
   ]
  },
  {
   "cell_type": "code",
   "execution_count": 44,
   "metadata": {
    "collapsed": true
   },
   "outputs": [],
   "source": [
    "def my_generator():\n",
    "    # TODO: 音声ファイルのディレクトリからwavデータを読み込む\n",
    "    # 拡張のベースとなるディレクトリの音声ファイルはすべてメモリに乗せてもよいかも\n",
    "    (X_train, y_train), (X_test, y_test) = mnist.load_data()\n",
    "\n",
    "    X_train = X_train.reshape(60000, 784)\n",
    "    X_test = X_test.reshape(10000, 784)\n",
    "    X_train = X_train.astype('float32')\n",
    "    X_test = X_test.astype('float32')\n",
    "    X_train /= 255\n",
    "    X_test /= 255\n",
    "    y_train = np_utils.to_categorical(y_train, 10)\n",
    "\n",
    "    # バッチサイズ単位でデータとラベルのタプルをyieldで返す\n",
    "    while True:\n",
    "        for i in range(1875):  # 1875 * 32 (batch_size) = 60000\n",
    "            data_batch = X_train[i * batch_size:(i + 1) * batch_size]\n",
    "            label_batch = y_train[i * batch_size:(i + 1) * batch_size]\n",
    "\n",
    "            # TODO: ここで音声ファイルの拡張処理（ノイズ付与など） + 特徴抽出\n",
    "\n",
    "            yield data_batch, label_batch"
   ]
  },
  {
   "cell_type": "code",
   "execution_count": 45,
   "metadata": {
    "collapsed": false
   },
   "outputs": [],
   "source": [
    "gen = my_generator()"
   ]
  },
  {
   "cell_type": "code",
   "execution_count": 46,
   "metadata": {
    "collapsed": false
   },
   "outputs": [
    {
     "data": {
      "text/plain": [
       "<generator object my_generator at 0x13b924620>"
      ]
     },
     "execution_count": 46,
     "metadata": {},
     "output_type": "execute_result"
    }
   ],
   "source": [
    "gen"
   ]
  },
  {
   "cell_type": "code",
   "execution_count": 47,
   "metadata": {
    "collapsed": false
   },
   "outputs": [],
   "source": [
    "images, labels = gen.__next__()"
   ]
  },
  {
   "cell_type": "code",
   "execution_count": 48,
   "metadata": {
    "collapsed": false
   },
   "outputs": [
    {
     "data": {
      "text/plain": [
       "(32, 784)"
      ]
     },
     "execution_count": 48,
     "metadata": {},
     "output_type": "execute_result"
    }
   ],
   "source": [
    "images.shape"
   ]
  },
  {
   "cell_type": "code",
   "execution_count": 49,
   "metadata": {
    "collapsed": false
   },
   "outputs": [
    {
     "data": {
      "text/plain": [
       "(32, 10)"
      ]
     },
     "execution_count": 49,
     "metadata": {},
     "output_type": "execute_result"
    }
   ],
   "source": [
    "labels.shape"
   ]
  },
  {
   "cell_type": "code",
   "execution_count": 51,
   "metadata": {
    "collapsed": false
   },
   "outputs": [],
   "source": [
    "model = Sequential()\n",
    "model.add(Dense(512, activation='relu', input_shape=(784,)))\n",
    "model.add(Dropout(0.2))\n",
    "model.add(Dense(512, activation='relu'))\n",
    "model.add(Dropout(0.2))\n",
    "model.add(Dense(num_classes, activation='softmax'))"
   ]
  },
  {
   "cell_type": "code",
   "execution_count": 53,
   "metadata": {
    "collapsed": false
   },
   "outputs": [],
   "source": [
    "model.compile(loss='categorical_crossentropy',\n",
    "              optimizer=RMSprop(),\n",
    "              metrics=['accuracy'])"
   ]
  },
  {
   "cell_type": "code",
   "execution_count": 54,
   "metadata": {
    "collapsed": false
   },
   "outputs": [
    {
     "name": "stdout",
     "output_type": "stream",
     "text": [
      "Epoch 1/20\n",
      "1875/1875 [==============================] - 19s - loss: 0.2161 - acc: 0.9362    \n",
      "Epoch 2/20\n",
      "1875/1875 [==============================] - 19s - loss: 0.1287 - acc: 0.9685    \n",
      "Epoch 3/20\n",
      "1875/1875 [==============================] - 18s - loss: 0.1214 - acc: 0.9732    \n",
      "Epoch 4/20\n",
      "1875/1875 [==============================] - 18s - loss: 0.1152 - acc: 0.9765    \n",
      "Epoch 5/20\n",
      "1875/1875 [==============================] - 19s - loss: 0.1113 - acc: 0.9783    \n",
      "Epoch 6/20\n",
      "1875/1875 [==============================] - 17s - loss: 0.1130 - acc: 0.9791    \n",
      "Epoch 7/20\n",
      "1875/1875 [==============================] - 16s - loss: 0.1071 - acc: 0.9814    \n",
      "Epoch 8/20\n",
      "1875/1875 [==============================] - 17s - loss: 0.1031 - acc: 0.9826    \n",
      "Epoch 9/20\n",
      "1875/1875 [==============================] - 20s - loss: 0.1074 - acc: 0.9825    \n",
      "Epoch 10/20\n",
      "1875/1875 [==============================] - 17s - loss: 0.1082 - acc: 0.9829    \n",
      "Epoch 11/20\n",
      "1875/1875 [==============================] - 19s - loss: 0.1092 - acc: 0.9836    \n",
      "Epoch 12/20\n",
      "1875/1875 [==============================] - 20s - loss: 0.1080 - acc: 0.9851    \n",
      "Epoch 13/20\n",
      "1875/1875 [==============================] - 17s - loss: 0.1125 - acc: 0.9837    \n",
      "Epoch 14/20\n",
      "1875/1875 [==============================] - 17s - loss: 0.1102 - acc: 0.9847    \n",
      "Epoch 15/20\n",
      "1875/1875 [==============================] - 16s - loss: 0.1084 - acc: 0.9854    \n",
      "Epoch 16/20\n",
      "1875/1875 [==============================] - 17s - loss: 0.1093 - acc: 0.9858    \n",
      "Epoch 17/20\n",
      "1875/1875 [==============================] - 19s - loss: 0.1113 - acc: 0.9864    \n",
      "Epoch 18/20\n",
      "1875/1875 [==============================] - 16s - loss: 0.1038 - acc: 0.9870    \n",
      "Epoch 19/20\n",
      "1875/1875 [==============================] - 18s - loss: 0.1078 - acc: 0.9863    \n",
      "Epoch 20/20\n",
      "1875/1875 [==============================] - 16s - loss: 0.0985 - acc: 0.9879    \n"
     ]
    },
    {
     "data": {
      "text/plain": [
       "<keras.callbacks.History at 0x10611aef0>"
      ]
     },
     "execution_count": 54,
     "metadata": {},
     "output_type": "execute_result"
    }
   ],
   "source": [
    "# steps_per_epoch: 1エポックを宣言してから次のエポックの開始前までにgeneratorから生成される\n",
    "# サンプル (サンプルのバッチ) の総数． 典型的には，データにおけるユニークなサンプル数をバッチサイズで割った値です．\n",
    "model.fit_generator(my_generator(), steps_per_epoch=1875, epochs=epochs, verbose=1)"
   ]
  },
  {
   "cell_type": "markdown",
   "metadata": {},
   "source": [
    "## 音声用のGenerator"
   ]
  },
  {
   "cell_type": "code",
   "execution_count": 55,
   "metadata": {
    "collapsed": true
   },
   "outputs": [],
   "source": [
    "import os\n",
    "import glob\n",
    "import numpy as np\n",
    "import librosa"
   ]
  },
  {
   "cell_type": "code",
   "execution_count": 88,
   "metadata": {
    "collapsed": true
   },
   "outputs": [],
   "source": [
    "def pad(y, length):\n",
    "    arr = np.zeros(length)\n",
    "    if len(y) < length:\n",
    "        arr[:len(y)] = y\n",
    "    else:\n",
    "        arr[:] = y[:length]\n",
    "    return arr\n",
    "\n",
    "def extract_melspectrogram(wave_batch, sr, length, n_fft, hop_length, n_mels):\n",
    "    melgram_batch = []\n",
    "    \n",
    "    for y in wave_batch:\n",
    "        x = librosa.feature.melspectrogram(y=y, sr=sr, n_fft=n_fft, hop_length=hop_length, n_mels=n_mels)\n",
    "        melgram = librosa.power_to_db(x, ref=np.max)\n",
    "        melgram_batch.append(melgram)\n",
    "    \n",
    "    melgram_batch = np.array(melgram_batch)\n",
    "\n",
    "    return melgram_batch"
   ]
  },
  {
   "cell_type": "code",
   "execution_count": 89,
   "metadata": {
    "collapsed": false
   },
   "outputs": [],
   "source": [
    "def sound_generator(sound_dir, batch_size=10, sr=16000, length=3,\n",
    "                    n_fft=512, hop_length=256, n_mels=128):\n",
    "    wave_data = []\n",
    "    labels = []\n",
    "\n",
    "    # load all data and labels from directory\n",
    "    for fpath in glob.glob(os.path.join(sound_dir, '*.wav')):\n",
    "        fname = os.path.basename(fpath)\n",
    "\n",
    "        # load sound\n",
    "        # メモリを圧迫する場合はwhileループの中でI/Oする方法もある\n",
    "        # 8万ファイルで4GB程度なので最初にメモリに載せた方が効率よさそう\n",
    "        y, sr = librosa.load(fpath, sr=sr)\n",
    "        y = pad(y, sr * length)\n",
    "        wave_data.append(y)\n",
    "\n",
    "        # extract label\n",
    "        label = int(fname.split('.')[0].split('_')[-1][:2]) - 1\n",
    "        labels.append(label)\n",
    "\n",
    "    wave_data = np.array(wave_data, dtype=np.float32)\n",
    "    labels = np.array(labels, dtype=np.int32)\n",
    "\n",
    "    print(wave_data.dtype, wave_data.shape)\n",
    "    print(labels.dtype, labels.shape)\n",
    "\n",
    "    while True:\n",
    "        # 各バッチに対する処理\n",
    "        for i in range(batch_size):  # 100 samples / 10 batch_size = 10 batch\n",
    "            wave_batch = wave_data[i * batch_size:(i + 1) * batch_size]\n",
    "            label_batch = labels[i * batch_size:(i + 1) * batch_size]\n",
    "            \n",
    "            print(i, wave_batch.shape, label_batch.shape)\n",
    "\n",
    "            # TODO: ここで音声ファイルの拡張処理（ノイズ付与など）\n",
    "            noise_wave_batch = add_noise(wave_batch, snr)\n",
    "\n",
    "            # バッチ単位で特徴抽出\n",
    "            data_batch = extract_melspectrogram(wave_batch, sr, length, n_fft, hop_length, n_mels)\n",
    "\n",
    "            yield data_batch, label_batch"
   ]
  },
  {
   "cell_type": "code",
   "execution_count": 90,
   "metadata": {
    "collapsed": false
   },
   "outputs": [],
   "source": [
    "gen = sound_generator('../../Projects/speech-emotion-recognition/data/sounds/sample/')"
   ]
  },
  {
   "cell_type": "code",
   "execution_count": 91,
   "metadata": {
    "collapsed": false
   },
   "outputs": [
    {
     "name": "stdout",
     "output_type": "stream",
     "text": [
      "float32 (100, 48000)\n",
      "int32 (100,)\n",
      "0 (10, 48000) (10,)\n"
     ]
    },
    {
     "data": {
      "text/plain": [
       "(array([[[-32.30982954, -34.984229  , -27.52332604, ..., -80.        ,\n",
       "          -80.        , -80.        ],\n",
       "         [-28.24036922, -33.31718039, -27.09672633, ..., -80.        ,\n",
       "          -80.        , -80.        ],\n",
       "         [-26.06931372, -32.02468645, -26.63682338, ..., -80.        ,\n",
       "          -80.        , -80.        ],\n",
       "         ..., \n",
       "         [-80.        , -80.        , -80.        , ..., -80.        ,\n",
       "          -80.        , -80.        ],\n",
       "         [-80.        , -80.        , -80.        , ..., -80.        ,\n",
       "          -80.        , -80.        ],\n",
       "         [-80.        , -80.        , -80.        , ..., -80.        ,\n",
       "          -80.        , -80.        ]],\n",
       " \n",
       "        [[-57.16541029, -75.87655468, -75.61125944, ..., -80.        ,\n",
       "          -80.        , -80.        ],\n",
       "         [-57.04721801, -76.0775156 , -62.90697491, ..., -80.        ,\n",
       "          -80.        , -80.        ],\n",
       "         [-56.86804705, -76.23355357, -59.8938694 , ..., -80.        ,\n",
       "          -80.        , -80.        ],\n",
       "         ..., \n",
       "         [-76.12353534, -77.38806989, -77.89556493, ..., -80.        ,\n",
       "          -80.        , -80.        ],\n",
       "         [-78.86884334, -77.32854848, -75.84517533, ..., -80.        ,\n",
       "          -80.        , -80.        ],\n",
       "         [-78.72209156, -75.86473667, -78.52149499, ..., -80.        ,\n",
       "          -80.        , -80.        ]],\n",
       " \n",
       "        [[-61.97431102, -72.47778458, -73.61469134, ..., -80.        ,\n",
       "          -80.        , -80.        ],\n",
       "         [-64.3430686 , -69.40057677, -71.45922721, ..., -80.        ,\n",
       "          -80.        , -80.        ],\n",
       "         [-70.23575022, -67.51506397, -69.92955489, ..., -80.        ,\n",
       "          -80.        , -80.        ],\n",
       "         ..., \n",
       "         [-78.13379463, -76.90200217, -77.26110145, ..., -80.        ,\n",
       "          -80.        , -80.        ],\n",
       "         [-78.56864999, -77.81839419, -80.        , ..., -80.        ,\n",
       "          -80.        , -80.        ],\n",
       "         [-74.83485817, -78.20930691, -78.73502546, ..., -80.        ,\n",
       "          -80.        , -80.        ]],\n",
       " \n",
       "        ..., \n",
       "        [[-70.73205876, -80.        , -80.        , ..., -80.        ,\n",
       "          -80.        , -80.        ],\n",
       "         [-72.15036921, -80.        , -80.        , ..., -80.        ,\n",
       "          -80.        , -80.        ],\n",
       "         [-74.28830432, -80.        , -80.        , ..., -80.        ,\n",
       "          -80.        , -80.        ],\n",
       "         ..., \n",
       "         [-80.        , -80.        , -80.        , ..., -80.        ,\n",
       "          -80.        , -80.        ],\n",
       "         [-80.        , -80.        , -80.        , ..., -80.        ,\n",
       "          -80.        , -80.        ],\n",
       "         [-80.        , -80.        , -80.        , ..., -80.        ,\n",
       "          -80.        , -80.        ]],\n",
       " \n",
       "        [[-28.60478476, -29.03776449, -31.47523103, ..., -80.        ,\n",
       "          -80.        , -80.        ],\n",
       "         [-26.21652872, -31.86810023, -33.74495046, ..., -80.        ,\n",
       "          -80.        , -80.        ],\n",
       "         [-24.58681048, -44.41322579, -39.00203586, ..., -80.        ,\n",
       "          -80.        , -80.        ],\n",
       "         ..., \n",
       "         [-70.83477328, -76.24278936, -78.24521161, ..., -80.        ,\n",
       "          -80.        , -80.        ],\n",
       "         [-69.75237358, -74.36421852, -78.1617174 , ..., -80.        ,\n",
       "          -80.        , -80.        ],\n",
       "         [-71.28257172, -77.64345535, -80.        , ..., -80.        ,\n",
       "          -80.        , -80.        ]],\n",
       " \n",
       "        [[-40.8662439 , -32.65086604, -34.87308953, ..., -80.        ,\n",
       "          -80.        , -80.        ],\n",
       "         [-34.16580248, -33.69276653, -35.86661242, ..., -80.        ,\n",
       "          -80.        , -80.        ],\n",
       "         [-31.53119448, -35.05190479, -37.13938307, ..., -80.        ,\n",
       "          -80.        , -80.        ],\n",
       "         ..., \n",
       "         [-80.        , -80.        , -80.        , ..., -80.        ,\n",
       "          -80.        , -80.        ],\n",
       "         [-80.        , -80.        , -80.        , ..., -80.        ,\n",
       "          -80.        , -80.        ],\n",
       "         [-80.        , -80.        , -80.        , ..., -80.        ,\n",
       "          -80.        , -80.        ]]]),\n",
       " array([4, 0, 6, 1, 6, 6, 6, 3, 3, 7], dtype=int32))"
      ]
     },
     "execution_count": 91,
     "metadata": {},
     "output_type": "execute_result"
    }
   ],
   "source": [
    "gen.__next__()"
   ]
  },
  {
   "cell_type": "code",
   "execution_count": null,
   "metadata": {
    "collapsed": true
   },
   "outputs": [],
   "source": []
  }
 ],
 "metadata": {
  "anaconda-cloud": {},
  "kernelspec": {
   "display_name": "Python [conda root]",
   "language": "python",
   "name": "conda-root-py"
  },
  "language_info": {
   "codemirror_mode": {
    "name": "ipython",
    "version": 3
   },
   "file_extension": ".py",
   "mimetype": "text/x-python",
   "name": "python",
   "nbconvert_exporter": "python",
   "pygments_lexer": "ipython3",
   "version": "3.5.2"
  }
 },
 "nbformat": 4,
 "nbformat_minor": 1
}
