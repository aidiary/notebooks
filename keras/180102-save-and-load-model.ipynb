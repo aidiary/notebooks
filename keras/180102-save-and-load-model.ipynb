{
 "cells": [
  {
   "cell_type": "markdown",
   "metadata": {},
   "source": [
    "https://machinelearningmastery.com/save-load-keras-deep-learning-models/"
   ]
  },
  {
   "cell_type": "code",
   "execution_count": 1,
   "metadata": {},
   "outputs": [
    {
     "name": "stderr",
     "output_type": "stream",
     "text": [
      "Using TensorFlow backend.\n"
     ]
    }
   ],
   "source": [
    "from keras.models import Sequential, model_from_json\n",
    "from keras.layers import Dense\n",
    "import numpy as np\n",
    "import os\n",
    "\n",
    "np.random.seed(7)\n",
    "\n",
    "dataset = np.loadtxt('pima-indians-diabetes.data', delimiter=',')\n",
    "X = dataset[:, 0:8]\n",
    "Y = dataset[:, 8]"
   ]
  },
  {
   "cell_type": "code",
   "execution_count": null,
   "metadata": {
    "collapsed": true
   },
   "outputs": [],
   "source": [
    "model = Sequential()\n",
    "model.add(Dense(12, input_dim=8, kernel_initializer='uniform', activation='relu'))\n",
    "model.add(Dense(8, kernel_initializer='uniform', activation='relu'))\n",
    "model.add(Dense(1, kernel_initializer='uniform', activation='sigmoid'))\n",
    "model.compile(loss='binary_crossentropy', optimizer='adam', metrics=['accuracy'])\n",
    "model.fit(X, Y, epochs=150, batch_size=10, verbose=0)"
   ]
  },
  {
   "cell_type": "code",
   "execution_count": 3,
   "metadata": {},
   "outputs": [
    {
     "name": "stdout",
     "output_type": "stream",
     "text": [
      "acc: 77.60%\n"
     ]
    }
   ],
   "source": [
    "scores = model.evaluate(X, Y, verbose=0)\n",
    "print('%s: %.2f%%' % (model.metrics_names[1], scores[1] * 100))"
   ]
  },
  {
   "cell_type": "code",
   "execution_count": 9,
   "metadata": {},
   "outputs": [
    {
     "name": "stdout",
     "output_type": "stream",
     "text": [
      "saved model to disk\n"
     ]
    }
   ],
   "source": [
    "# serialize model to JSON\n",
    "model_json = model.to_json()\n",
    "with open('model.json', 'w') as json_file:\n",
    "    json_file.write(model_json)\n",
    "\n",
    "# serialize weights to HDF5\n",
    "model.save_weights('model.h5')\n",
    "print('saved model to disk')"
   ]
  },
  {
   "cell_type": "code",
   "execution_count": 10,
   "metadata": {},
   "outputs": [
    {
     "name": "stdout",
     "output_type": "stream",
     "text": [
      "170518-keras-mnist.ipynb\r\n",
      "170519-lstm-text-generation.ipynb\r\n",
      "170522-inception-v3.ipynb\r\n",
      "170523-googlenet.ipynb\r\n",
      "170525-resnet.ipynb\r\n",
      "170526-airline-passengers.ipynb\r\n",
      "170526-pima-indians.ipynb\r\n",
      "170531-multi-task-learning.ipynb\r\n",
      "170602-saliency-map.ipynb\r\n",
      "170602-vae2.ipynb\r\n",
      "170605-cross-validation.ipynb\r\n",
      "170606-ssd.ipynb\r\n",
      "170608-babi-rnn.ipynb\r\n",
      "170612-mnist-dcgan.ipynb\r\n",
      "170612-slack-notifier.ipynb\r\n",
      "170613-lfw-dcgan.ipynb\r\n",
      "170615-keras-dcgan.ipynb\r\n",
      "170615-mnist-dcgan.ipynb\r\n",
      "170622-lstm-forecast.ipynb\r\n",
      "170704-imdb-cnn-lstm.ipynb\r\n",
      "170704-imdb-cnn.ipynb\r\n",
      "170711-music-tagging.ipynb\r\n",
      "170713-coco-test-1.ipynb\r\n",
      "170714-coco-test-2.ipynb\r\n",
      "170727-pose-estimation.ipynb\r\n",
      "170808-neural-style-transfer.ipynb\r\n",
      "170818-neural-style-transfer-examples.ipynb\r\n",
      "170908-how-to-develop-lstms-in-keras.ipynb\r\n",
      "170914-urban-sound-classification.ipynb\r\n",
      "171002-keras-tensorboard.ipynb\r\n",
      "171024-my-generator.ipynb\r\n",
      "171218-sequence-echo-problem.ipynb\r\n",
      "171225-encoder-decoder-with-attention.ipynb\r\n",
      "180102-checkpoint.ipynb\r\n",
      "180102-dropout-regularization.ipynb\r\n",
      "180102-functional-api.ipynb\r\n",
      "180102-learning-rate-scheduler.ipynb\r\n",
      "180102-save-and-load-model.ipynb\r\n",
      "180102-visualize-model.ipynb\r\n",
      "\u001b[1m\u001b[36m__pycache__\u001b[m\u001b[m/\r\n",
      "attention_decoder.py\r\n",
      "cnn.png\r\n",
      "create_pose_estimation_data.py\r\n",
      "\u001b[1m\u001b[36mdata\u001b[m\u001b[m/\r\n",
      "dcgan_mnist.py\r\n",
      "\u001b[1m\u001b[36mdcgan_mnist1\u001b[m\u001b[m/\r\n",
      "hyperas_tutorial.py\r\n",
      "ionosphere.data\r\n",
      "model.h5\r\n",
      "model.json\r\n",
      "model.png\r\n",
      "model_plot.png\r\n",
      "multilayer_perceptron_graph.png\r\n",
      "multiple_inputs.png\r\n",
      "multiple_output.png\r\n",
      "pima-indians-diabetes.data\r\n",
      "\u001b[1m\u001b[36mresults\u001b[m\u001b[m/\r\n",
      "rnn.png\r\n",
      "shared_feature_extractor.png\r\n",
      "shared_input_layer.png\r\n",
      "sonar.all-data\r\n",
      "train_pose_estimation.py\r\n",
      "utils2.py\r\n",
      "vgg16_avg.py\r\n"
     ]
    }
   ],
   "source": [
    "%ls"
   ]
  },
  {
   "cell_type": "code",
   "execution_count": 18,
   "metadata": {
    "collapsed": true
   },
   "outputs": [],
   "source": [
    "# load json and create model\n",
    "json_file = open('model.json', 'r')\n",
    "loaded_model_json = json_file.read()\n",
    "json_file.close()"
   ]
  },
  {
   "cell_type": "code",
   "execution_count": 19,
   "metadata": {},
   "outputs": [],
   "source": [
    "loaded_model = model_from_json(loaded_model_json)\n",
    "\n",
    "# load weights into new model\n",
    "loaded_model.load_weights('model.h5')"
   ]
  },
  {
   "cell_type": "code",
   "execution_count": 20,
   "metadata": {},
   "outputs": [
    {
     "name": "stdout",
     "output_type": "stream",
     "text": [
      "_________________________________________________________________\n",
      "Layer (type)                 Output Shape              Param #   \n",
      "=================================================================\n",
      "dense_1 (Dense)              (None, 12)                108       \n",
      "_________________________________________________________________\n",
      "dense_2 (Dense)              (None, 8)                 104       \n",
      "_________________________________________________________________\n",
      "dense_3 (Dense)              (None, 1)                 9         \n",
      "=================================================================\n",
      "Total params: 221\n",
      "Trainable params: 221\n",
      "Non-trainable params: 0\n",
      "_________________________________________________________________\n"
     ]
    }
   ],
   "source": [
    "loaded_model.summary()"
   ]
  },
  {
   "cell_type": "code",
   "execution_count": 21,
   "metadata": {},
   "outputs": [
    {
     "name": "stdout",
     "output_type": "stream",
     "text": [
      "acc: 77.60%\n"
     ]
    }
   ],
   "source": [
    "loaded_model.compile(loss='binary_crossentropy', optimizer='rmsprop', metrics=['accuracy'])\n",
    "scores = loaded_model.evaluate(X, Y, verbose=0)\n",
    "print('%s: %.2f%%' % (loaded_model.metrics_names[1], scores[1] * 100))"
   ]
  },
  {
   "cell_type": "code",
   "execution_count": null,
   "metadata": {
    "collapsed": true
   },
   "outputs": [],
   "source": []
  }
 ],
 "metadata": {
  "kernelspec": {
   "display_name": "Python 3",
   "language": "python",
   "name": "python3"
  },
  "language_info": {
   "codemirror_mode": {
    "name": "ipython",
    "version": 3
   },
   "file_extension": ".py",
   "mimetype": "text/x-python",
   "name": "python",
   "nbconvert_exporter": "python",
   "pygments_lexer": "ipython3",
   "version": "3.6.4"
  }
 },
 "nbformat": 4,
 "nbformat_minor": 2
}
