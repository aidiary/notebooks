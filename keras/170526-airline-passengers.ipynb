{
 "cells": [
  {
   "cell_type": "markdown",
   "metadata": {},
   "source": [
    "- [Time Series Prediction with LSTM Recurrent Neural Networks in Python with Keras](http://machinelearningmastery.com/time-series-prediction-lstm-recurrent-neural-networks-python-keras/)\n",
    "- 時系列データの予測"
   ]
  },
  {
   "cell_type": "code",
   "execution_count": 12,
   "metadata": {
    "collapsed": false
   },
   "outputs": [
    {
     "data": {
      "image/png": "[encoded data removed]",
      "text/plain": [
       "<matplotlib.figure.Figure at 0x112eeab38>"
      ]
     },
     "metadata": {},
     "output_type": "display_data"
    }
   ],
   "source": [
    "%matplotlib inline\n",
    "import pandas\n",
    "import matplotlib.pyplot as plt\n",
    "dataset = pandas.read_csv('data/international-airline-passengers.csv',\n",
    "                          usecols=[1], engine='python', skipfooter=3)\n",
    "plt.plot(dataset)\n",
    "plt.show()"
   ]
  },
  {
   "cell_type": "code",
   "execution_count": 13,
   "metadata": {
    "collapsed": false
   },
   "outputs": [
    {
     "data": {
      "text/html": [
       "<div>\n",
       "<table border=\"1\" class=\"dataframe\">\n",
       "  <thead>\n",
       "    <tr style=\"text-align: right;\">\n",
       "      <th></th>\n",
       "      <th>International airline passengers: monthly totals in thousands. Jan 49 ? Dec 60</th>\n",
       "    </tr>\n",
       "  </thead>\n",
       "  <tbody>\n",
       "    <tr>\n",
       "      <th>0</th>\n",
       "      <td>112</td>\n",
       "    </tr>\n",
       "    <tr>\n",
       "      <th>1</th>\n",
       "      <td>118</td>\n",
       "    </tr>\n",
       "    <tr>\n",
       "      <th>2</th>\n",
       "      <td>132</td>\n",
       "    </tr>\n",
       "    <tr>\n",
       "      <th>3</th>\n",
       "      <td>129</td>\n",
       "    </tr>\n",
       "    <tr>\n",
       "      <th>4</th>\n",
       "      <td>121</td>\n",
       "    </tr>\n",
       "    <tr>\n",
       "      <th>5</th>\n",
       "      <td>135</td>\n",
       "    </tr>\n",
       "    <tr>\n",
       "      <th>6</th>\n",
       "      <td>148</td>\n",
       "    </tr>\n",
       "    <tr>\n",
       "      <th>7</th>\n",
       "      <td>148</td>\n",
       "    </tr>\n",
       "    <tr>\n",
       "      <th>8</th>\n",
       "      <td>136</td>\n",
       "    </tr>\n",
       "    <tr>\n",
       "      <th>9</th>\n",
       "      <td>119</td>\n",
       "    </tr>\n",
       "    <tr>\n",
       "      <th>10</th>\n",
       "      <td>104</td>\n",
       "    </tr>\n",
       "    <tr>\n",
       "      <th>11</th>\n",
       "      <td>118</td>\n",
       "    </tr>\n",
       "    <tr>\n",
       "      <th>12</th>\n",
       "      <td>115</td>\n",
       "    </tr>\n",
       "    <tr>\n",
       "      <th>13</th>\n",
       "      <td>126</td>\n",
       "    </tr>\n",
       "    <tr>\n",
       "      <th>14</th>\n",
       "      <td>141</td>\n",
       "    </tr>\n",
       "    <tr>\n",
       "      <th>15</th>\n",
       "      <td>135</td>\n",
       "    </tr>\n",
       "    <tr>\n",
       "      <th>16</th>\n",
       "      <td>125</td>\n",
       "    </tr>\n",
       "    <tr>\n",
       "      <th>17</th>\n",
       "      <td>149</td>\n",
       "    </tr>\n",
       "    <tr>\n",
       "      <th>18</th>\n",
       "      <td>170</td>\n",
       "    </tr>\n",
       "    <tr>\n",
       "      <th>19</th>\n",
       "      <td>170</td>\n",
       "    </tr>\n",
       "    <tr>\n",
       "      <th>20</th>\n",
       "      <td>158</td>\n",
       "    </tr>\n",
       "    <tr>\n",
       "      <th>21</th>\n",
       "      <td>133</td>\n",
       "    </tr>\n",
       "    <tr>\n",
       "      <th>22</th>\n",
       "      <td>114</td>\n",
       "    </tr>\n",
       "    <tr>\n",
       "      <th>23</th>\n",
       "      <td>140</td>\n",
       "    </tr>\n",
       "    <tr>\n",
       "      <th>24</th>\n",
       "      <td>145</td>\n",
       "    </tr>\n",
       "    <tr>\n",
       "      <th>25</th>\n",
       "      <td>150</td>\n",
       "    </tr>\n",
       "    <tr>\n",
       "      <th>26</th>\n",
       "      <td>178</td>\n",
       "    </tr>\n",
       "    <tr>\n",
       "      <th>27</th>\n",
       "      <td>163</td>\n",
       "    </tr>\n",
       "    <tr>\n",
       "      <th>28</th>\n",
       "      <td>172</td>\n",
       "    </tr>\n",
       "    <tr>\n",
       "      <th>29</th>\n",
       "      <td>178</td>\n",
       "    </tr>\n",
       "    <tr>\n",
       "      <th>...</th>\n",
       "      <td>...</td>\n",
       "    </tr>\n",
       "    <tr>\n",
       "      <th>114</th>\n",
       "      <td>491</td>\n",
       "    </tr>\n",
       "    <tr>\n",
       "      <th>115</th>\n",
       "      <td>505</td>\n",
       "    </tr>\n",
       "    <tr>\n",
       "      <th>116</th>\n",
       "      <td>404</td>\n",
       "    </tr>\n",
       "    <tr>\n",
       "      <th>117</th>\n",
       "      <td>359</td>\n",
       "    </tr>\n",
       "    <tr>\n",
       "      <th>118</th>\n",
       "      <td>310</td>\n",
       "    </tr>\n",
       "    <tr>\n",
       "      <th>119</th>\n",
       "      <td>337</td>\n",
       "    </tr>\n",
       "    <tr>\n",
       "      <th>120</th>\n",
       "      <td>360</td>\n",
       "    </tr>\n",
       "    <tr>\n",
       "      <th>121</th>\n",
       "      <td>342</td>\n",
       "    </tr>\n",
       "    <tr>\n",
       "      <th>122</th>\n",
       "      <td>406</td>\n",
       "    </tr>\n",
       "    <tr>\n",
       "      <th>123</th>\n",
       "      <td>396</td>\n",
       "    </tr>\n",
       "    <tr>\n",
       "      <th>124</th>\n",
       "      <td>420</td>\n",
       "    </tr>\n",
       "    <tr>\n",
       "      <th>125</th>\n",
       "      <td>472</td>\n",
       "    </tr>\n",
       "    <tr>\n",
       "      <th>126</th>\n",
       "      <td>548</td>\n",
       "    </tr>\n",
       "    <tr>\n",
       "      <th>127</th>\n",
       "      <td>559</td>\n",
       "    </tr>\n",
       "    <tr>\n",
       "      <th>128</th>\n",
       "      <td>463</td>\n",
       "    </tr>\n",
       "    <tr>\n",
       "      <th>129</th>\n",
       "      <td>407</td>\n",
       "    </tr>\n",
       "    <tr>\n",
       "      <th>130</th>\n",
       "      <td>362</td>\n",
       "    </tr>\n",
       "    <tr>\n",
       "      <th>131</th>\n",
       "      <td>405</td>\n",
       "    </tr>\n",
       "    <tr>\n",
       "      <th>132</th>\n",
       "      <td>417</td>\n",
       "    </tr>\n",
       "    <tr>\n",
       "      <th>133</th>\n",
       "      <td>391</td>\n",
       "    </tr>\n",
       "    <tr>\n",
       "      <th>134</th>\n",
       "      <td>419</td>\n",
       "    </tr>\n",
       "    <tr>\n",
       "      <th>135</th>\n",
       "      <td>461</td>\n",
       "    </tr>\n",
       "    <tr>\n",
       "      <th>136</th>\n",
       "      <td>472</td>\n",
       "    </tr>\n",
       "    <tr>\n",
       "      <th>137</th>\n",
       "      <td>535</td>\n",
       "    </tr>\n",
       "    <tr>\n",
       "      <th>138</th>\n",
       "      <td>622</td>\n",
       "    </tr>\n",
       "    <tr>\n",
       "      <th>139</th>\n",
       "      <td>606</td>\n",
       "    </tr>\n",
       "    <tr>\n",
       "      <th>140</th>\n",
       "      <td>508</td>\n",
       "    </tr>\n",
       "    <tr>\n",
       "      <th>141</th>\n",
       "      <td>461</td>\n",
       "    </tr>\n",
       "    <tr>\n",
       "      <th>142</th>\n",
       "      <td>390</td>\n",
       "    </tr>\n",
       "    <tr>\n",
       "      <th>143</th>\n",
       "      <td>432</td>\n",
       "    </tr>\n",
       "  </tbody>\n",
       "</table>\n",
       "<p>144 rows × 1 columns</p>\n",
       "</div>"
      ],
      "text/plain": [
       "     International airline passengers: monthly totals in thousands. Jan 49 ? Dec 60\n",
       "0                                                  112                             \n",
       "1                                                  118                             \n",
       "2                                                  132                             \n",
       "3                                                  129                             \n",
       "4                                                  121                             \n",
       "5                                                  135                             \n",
       "6                                                  148                             \n",
       "7                                                  148                             \n",
       "8                                                  136                             \n",
       "9                                                  119                             \n",
       "10                                                 104                             \n",
       "11                                                 118                             \n",
       "12                                                 115                             \n",
       "13                                                 126                             \n",
       "14                                                 141                             \n",
       "15                                                 135                             \n",
       "16                                                 125                             \n",
       "17                                                 149                             \n",
       "18                                                 170                             \n",
       "19                                                 170                             \n",
       "20                                                 158                             \n",
       "21                                                 133                             \n",
       "22                                                 114                             \n",
       "23                                                 140                             \n",
       "24                                                 145                             \n",
       "25                                                 150                             \n",
       "26                                                 178                             \n",
       "27                                                 163                             \n",
       "28                                                 172                             \n",
       "29                                                 178                             \n",
       "..                                                 ...                             \n",
       "114                                                491                             \n",
       "115                                                505                             \n",
       "116                                                404                             \n",
       "117                                                359                             \n",
       "118                                                310                             \n",
       "119                                                337                             \n",
       "120                                                360                             \n",
       "121                                                342                             \n",
       "122                                                406                             \n",
       "123                                                396                             \n",
       "124                                                420                             \n",
       "125                                                472                             \n",
       "126                                                548                             \n",
       "127                                                559                             \n",
       "128                                                463                             \n",
       "129                                                407                             \n",
       "130                                                362                             \n",
       "131                                                405                             \n",
       "132                                                417                             \n",
       "133                                                391                             \n",
       "134                                                419                             \n",
       "135                                                461                             \n",
       "136                                                472                             \n",
       "137                                                535                             \n",
       "138                                                622                             \n",
       "139                                                606                             \n",
       "140                                                508                             \n",
       "141                                                461                             \n",
       "142                                                390                             \n",
       "143                                                432                             \n",
       "\n",
       "[144 rows x 1 columns]"
      ]
     },
     "execution_count": 13,
     "metadata": {},
     "output_type": "execute_result"
    }
   ],
   "source": [
    "dataset"
   ]
  },
  {
   "cell_type": "markdown",
   "metadata": {},
   "source": [
    "## データセットの作成"
   ]
  },
  {
   "cell_type": "code",
   "execution_count": 58,
   "metadata": {
    "collapsed": false
   },
   "outputs": [],
   "source": [
    "import numpy as np\n",
    "import matplotlib.pyplot as plt\n",
    "import pandas\n",
    "import math\n",
    "from keras.models import Sequential\n",
    "from keras.layers import Dense, LSTM\n",
    "from sklearn.preprocessing import MinMaxScaler\n",
    "from sklearn.metrics import mean_squared_error"
   ]
  },
  {
   "cell_type": "code",
   "execution_count": 15,
   "metadata": {
    "collapsed": true
   },
   "outputs": [],
   "source": [
    "# 再現性を担保するために固定したほうがよい\n",
    "np.random.seed(7)"
   ]
  },
  {
   "cell_type": "code",
   "execution_count": 17,
   "metadata": {
    "collapsed": false
   },
   "outputs": [],
   "source": [
    "# load the dataset\n",
    "dataframe = pandas.read_csv('data/international-airline-passengers.csv', usecols=[1], engine='python', skipfooter=3)\n",
    "dataset = dataframe.values\n",
    "type(dataframe), type(dataset)\n",
    "dataset = dataset.astype('float32')"
   ]
  },
  {
   "cell_type": "code",
   "execution_count": 18,
   "metadata": {
    "collapsed": false
   },
   "outputs": [
    {
     "data": {
      "text/plain": [
       "(144, 1)"
      ]
     },
     "execution_count": 18,
     "metadata": {},
     "output_type": "execute_result"
    }
   ],
   "source": [
    "dataset.shape"
   ]
  },
  {
   "cell_type": "markdown",
   "metadata": {},
   "source": [
    "- 活性化関数にsigmoidやtanhを使うときは入力のスケールに大きな影響をうける\n",
    "- 入力は[0, 1]に正規化するとよい\n",
    "- scikit-learnの`MinMaxScaler`が便利"
   ]
  },
  {
   "cell_type": "code",
   "execution_count": 20,
   "metadata": {
    "collapsed": true
   },
   "outputs": [],
   "source": [
    "# normalize the dataset\n",
    "scaler = MinMaxScaler(feature_range=(0, 1))\n",
    "dataset = scaler.fit_transform(dataset)"
   ]
  },
  {
   "cell_type": "code",
   "execution_count": 21,
   "metadata": {
    "collapsed": false
   },
   "outputs": [
    {
     "data": {
      "text/plain": [
       "array([[ 0.01544401],\n",
       "       [ 0.02702703],\n",
       "       [ 0.05405405],\n",
       "       [ 0.04826255],\n",
       "       [ 0.03281853],\n",
       "       [ 0.05984557],\n",
       "       [ 0.08494207],\n",
       "       [ 0.08494207],\n",
       "       [ 0.06177607],\n",
       "       [ 0.02895753]], dtype=float32)"
      ]
     },
     "execution_count": 21,
     "metadata": {},
     "output_type": "execute_result"
    }
   ],
   "source": [
    "dataset[:10]"
   ]
  },
  {
   "cell_type": "code",
   "execution_count": 77,
   "metadata": {
    "collapsed": false
   },
   "outputs": [
    {
     "name": "stdout",
     "output_type": "stream",
     "text": [
      "96 48\n"
     ]
    }
   ],
   "source": [
    "# split into train and test sets\n",
    "train_size = int(len(dataset) * 0.67)\n",
    "test_size = len(dataset) - train_size\n",
    "train, test = dataset[0:train_size, :], dataset[train_size:len(dataset), :]\n",
    "print(len(train), len(test))"
   ]
  },
  {
   "cell_type": "markdown",
   "metadata": {},
   "source": [
    "- 1つ前の時刻tの値から次の時刻t+1の値を予測するのが課題\n",
    "- (t)と(t+1)の値のペアを訓練データとする\n",
    "- Xの方はlook_back（いくつ前まで使うか）によて複数の値があるため2次元配列になる"
   ]
  },
  {
   "cell_type": "code",
   "execution_count": 103,
   "metadata": {
    "collapsed": true
   },
   "outputs": [],
   "source": [
    "def create_dataset(dataset, look_back=1):\n",
    "    dataX, dataY = [], []\n",
    "    for i in range(len(dataset) - look_back - 1):\n",
    "        a = dataset[i:(i + look_back), 0]\n",
    "        dataX.append(a)\n",
    "        dataY.append(dataset[i + look_back, 0])\n",
    "    return np.array(dataX), np.array(dataY)"
   ]
  },
  {
   "cell_type": "code",
   "execution_count": 104,
   "metadata": {
    "collapsed": true
   },
   "outputs": [],
   "source": [
    "look_back = 1\n",
    "trainX, trainY = create_dataset(train, look_back)\n",
    "testX, testY = create_dataset(test, look_back)"
   ]
  },
  {
   "cell_type": "code",
   "execution_count": 105,
   "metadata": {
    "collapsed": false
   },
   "outputs": [
    {
     "name": "stdout",
     "output_type": "stream",
     "text": [
      "(94, 1)\n",
      "(94,)\n",
      "(46, 1)\n",
      "(46,)\n"
     ]
    }
   ],
   "source": [
    "print(trainX.shape)\n",
    "print(trainY.shape)\n",
    "print(testX.shape)\n",
    "print(testY.shape)"
   ]
  },
  {
   "cell_type": "markdown",
   "metadata": {},
   "source": [
    "- `trainX`は (samples, features) の配列\n",
    "- LSTMでは入力を (samples, time steps, features) の配列にする必要がある\n",
    "- look_backが大きい場合は入力が系列であるがfeaturesと考える？"
   ]
  },
  {
   "cell_type": "code",
   "execution_count": 106,
   "metadata": {
    "collapsed": true
   },
   "outputs": [],
   "source": [
    "trainX = np.reshape(trainX, (trainX.shape[0], 1, trainX.shape[1]))\n",
    "testX = np.reshape(testX, (testX.shape[0], 1, testX.shape[1]))"
   ]
  },
  {
   "cell_type": "code",
   "execution_count": 107,
   "metadata": {
    "collapsed": false
   },
   "outputs": [
    {
     "name": "stdout",
     "output_type": "stream",
     "text": [
      "(94, 1, 1)\n",
      "(46, 1, 1)\n"
     ]
    }
   ],
   "source": [
    "print(trainX.shape)\n",
    "print(testX.shape)"
   ]
  },
  {
   "cell_type": "markdown",
   "metadata": {},
   "source": [
    "## LSTMの訓練\n",
    "\n",
    "- LSTMはRNNの一種\n",
    "- BPTT (Backpropagation Through Time) で訓練する\n",
    "- LSTMは最近のシーケンスを記憶できる Memory Block を使う\n",
    "\n",
    "- Forgate Gate: 記憶から何を捨て去るかを決める\n",
    "- Input Gate: 記憶状態を更新するための入力からの値を決める\n",
    "- Output Gate: 入力と記憶状態から何を出力するかを決める"
   ]
  },
  {
   "cell_type": "code",
   "execution_count": 57,
   "metadata": {
    "collapsed": false
   },
   "outputs": [
    {
     "name": "stdout",
     "output_type": "stream",
     "text": [
      "Epoch 1/100\n",
      "1s - loss: 0.0320\n",
      "Epoch 2/100\n",
      "0s - loss: 0.0143\n",
      "Epoch 3/100\n",
      "0s - loss: 0.0112\n",
      "Epoch 4/100\n",
      "0s - loss: 0.0102\n",
      "Epoch 5/100\n",
      "0s - loss: 0.0093\n",
      "Epoch 6/100\n",
      "0s - loss: 0.0084\n",
      "Epoch 7/100\n",
      "0s - loss: 0.0076\n",
      "Epoch 8/100\n",
      "0s - loss: 0.0068\n",
      "Epoch 9/100\n",
      "0s - loss: 0.0060\n",
      "Epoch 10/100\n",
      "0s - loss: 0.0053\n",
      "Epoch 11/100\n",
      "0s - loss: 0.0045\n",
      "Epoch 12/100\n",
      "0s - loss: 0.0039\n",
      "Epoch 13/100\n",
      "0s - loss: 0.0035\n",
      "Epoch 14/100\n",
      "0s - loss: 0.0031\n",
      "Epoch 15/100\n",
      "0s - loss: 0.0027\n",
      "Epoch 16/100\n",
      "0s - loss: 0.0025\n",
      "Epoch 17/100\n",
      "0s - loss: 0.0023\n",
      "Epoch 18/100\n",
      "0s - loss: 0.0022\n",
      "Epoch 19/100\n",
      "0s - loss: 0.0022\n",
      "Epoch 20/100\n",
      "0s - loss: 0.0021\n",
      "Epoch 21/100\n",
      "0s - loss: 0.0020\n",
      "Epoch 22/100\n",
      "0s - loss: 0.0021\n",
      "Epoch 23/100\n",
      "0s - loss: 0.0021\n",
      "Epoch 24/100\n",
      "0s - loss: 0.0021\n",
      "Epoch 25/100\n",
      "0s - loss: 0.0021\n",
      "Epoch 26/100\n",
      "0s - loss: 0.0021\n",
      "Epoch 27/100\n",
      "0s - loss: 0.0021\n",
      "Epoch 28/100\n",
      "0s - loss: 0.0021\n",
      "Epoch 29/100\n",
      "0s - loss: 0.0020\n",
      "Epoch 30/100\n",
      "0s - loss: 0.0020\n",
      "Epoch 31/100\n",
      "0s - loss: 0.0021\n",
      "Epoch 32/100\n",
      "0s - loss: 0.0020\n",
      "Epoch 33/100\n",
      "0s - loss: 0.0021\n",
      "Epoch 34/100\n",
      "0s - loss: 0.0021\n",
      "Epoch 35/100\n",
      "0s - loss: 0.0020\n",
      "Epoch 36/100\n",
      "0s - loss: 0.0020\n",
      "Epoch 37/100\n",
      "0s - loss: 0.0021\n",
      "Epoch 38/100\n",
      "0s - loss: 0.0020\n",
      "Epoch 39/100\n",
      "0s - loss: 0.0020\n",
      "Epoch 40/100\n",
      "0s - loss: 0.0020\n",
      "Epoch 41/100\n",
      "0s - loss: 0.0020\n",
      "Epoch 42/100\n",
      "0s - loss: 0.0020\n",
      "Epoch 43/100\n",
      "0s - loss: 0.0021\n",
      "Epoch 44/100\n",
      "0s - loss: 0.0020\n",
      "Epoch 45/100\n",
      "0s - loss: 0.0020\n",
      "Epoch 46/100\n",
      "0s - loss: 0.0020\n",
      "Epoch 47/100\n",
      "0s - loss: 0.0020\n",
      "Epoch 48/100\n",
      "0s - loss: 0.0021\n",
      "Epoch 49/100\n",
      "0s - loss: 0.0020\n",
      "Epoch 50/100\n",
      "0s - loss: 0.0020\n",
      "Epoch 51/100\n",
      "0s - loss: 0.0020\n",
      "Epoch 52/100\n",
      "0s - loss: 0.0020\n",
      "Epoch 53/100\n",
      "0s - loss: 0.0020\n",
      "Epoch 54/100\n",
      "0s - loss: 0.0020\n",
      "Epoch 55/100\n",
      "0s - loss: 0.0020\n",
      "Epoch 56/100\n",
      "0s - loss: 0.0021\n",
      "Epoch 57/100\n",
      "0s - loss: 0.0021\n",
      "Epoch 58/100\n",
      "0s - loss: 0.0021\n",
      "Epoch 59/100\n",
      "0s - loss: 0.0020\n",
      "Epoch 60/100\n",
      "0s - loss: 0.0020\n",
      "Epoch 61/100\n",
      "0s - loss: 0.0021\n",
      "Epoch 62/100\n",
      "0s - loss: 0.0020\n",
      "Epoch 63/100\n",
      "0s - loss: 0.0021\n",
      "Epoch 64/100\n",
      "0s - loss: 0.0020\n",
      "Epoch 65/100\n",
      "0s - loss: 0.0020\n",
      "Epoch 66/100\n",
      "0s - loss: 0.0020\n",
      "Epoch 67/100\n",
      "0s - loss: 0.0021\n",
      "Epoch 68/100\n",
      "0s - loss: 0.0021\n",
      "Epoch 69/100\n",
      "0s - loss: 0.0020\n",
      "Epoch 70/100\n",
      "0s - loss: 0.0020\n",
      "Epoch 71/100\n",
      "0s - loss: 0.0021\n",
      "Epoch 72/100\n",
      "0s - loss: 0.0020\n",
      "Epoch 73/100\n",
      "0s - loss: 0.0021\n",
      "Epoch 74/100\n",
      "0s - loss: 0.0020\n",
      "Epoch 75/100\n",
      "0s - loss: 0.0021\n",
      "Epoch 76/100\n",
      "0s - loss: 0.0020\n",
      "Epoch 77/100\n",
      "0s - loss: 0.0020\n",
      "Epoch 78/100\n",
      "0s - loss: 0.0021\n",
      "Epoch 79/100\n",
      "0s - loss: 0.0020\n",
      "Epoch 80/100\n",
      "0s - loss: 0.0020\n",
      "Epoch 81/100\n",
      "0s - loss: 0.0020\n",
      "Epoch 82/100\n",
      "0s - loss: 0.0020\n",
      "Epoch 83/100\n",
      "0s - loss: 0.0021\n",
      "Epoch 84/100\n",
      "0s - loss: 0.0020\n",
      "Epoch 85/100\n",
      "0s - loss: 0.0020\n",
      "Epoch 86/100\n",
      "0s - loss: 0.0020\n",
      "Epoch 87/100\n",
      "0s - loss: 0.0020\n",
      "Epoch 88/100\n",
      "0s - loss: 0.0021\n",
      "Epoch 89/100\n",
      "0s - loss: 0.0020\n",
      "Epoch 90/100\n",
      "0s - loss: 0.0020\n",
      "Epoch 91/100\n",
      "0s - loss: 0.0020\n",
      "Epoch 92/100\n",
      "0s - loss: 0.0020\n",
      "Epoch 93/100\n",
      "0s - loss: 0.0021\n",
      "Epoch 94/100\n",
      "0s - loss: 0.0020\n",
      "Epoch 95/100\n",
      "0s - loss: 0.0020\n",
      "Epoch 96/100\n",
      "0s - loss: 0.0020\n",
      "Epoch 97/100\n",
      "0s - loss: 0.0020\n",
      "Epoch 98/100\n",
      "0s - loss: 0.0020\n",
      "Epoch 99/100\n",
      "0s - loss: 0.0020\n",
      "Epoch 100/100\n",
      "0s - loss: 0.0020\n"
     ]
    },
    {
     "data": {
      "text/plain": [
       "<keras.callbacks.History at 0x122d69ef0>"
      ]
     },
     "execution_count": 57,
     "metadata": {},
     "output_type": "execute_result"
    }
   ],
   "source": [
    "model = Sequential()\n",
    "# input_shape=(input_length, input_dim)\n",
    "# look_back次元の系列長1のデータが入力、出力は4次元ベクトル\n",
    "# 系列長1なので記憶は使われない？ LSTMに入れたらすぐ出てくる\n",
    "model.add(LSTM(4, input_shape=(1, look_back)))\n",
    "model.add(Dense(1))\n",
    "model.compile(loss='mean_squared_error', optimizer='adam')\n",
    "model.fit(trainX, trainY, epochs=100, batch_size=1, verbose=2)"
   ]
  },
  {
   "cell_type": "markdown",
   "metadata": {},
   "source": [
    "## 予測"
   ]
  },
  {
   "cell_type": "code",
   "execution_count": 108,
   "metadata": {
    "collapsed": false
   },
   "outputs": [],
   "source": [
    "trainPredict = model.predict(trainX)\n",
    "testPredict = model.predict(testX)"
   ]
  },
  {
   "cell_type": "code",
   "execution_count": 109,
   "metadata": {
    "collapsed": false
   },
   "outputs": [],
   "source": [
    "# 出力は正規化されているため元のスケールに戻す\n",
    "trainPredict = scaler.inverse_transform(trainPredict)\n",
    "trainY = scaler.inverse_transform([trainY])"
   ]
  },
  {
   "cell_type": "code",
   "execution_count": 110,
   "metadata": {
    "collapsed": true
   },
   "outputs": [],
   "source": [
    "testPredict = scaler.inverse_transform(testPredict)\n",
    "testY = scaler.inverse_transform([testY])"
   ]
  },
  {
   "cell_type": "code",
   "execution_count": 111,
   "metadata": {
    "collapsed": false
   },
   "outputs": [
    {
     "name": "stdout",
     "output_type": "stream",
     "text": [
      "(94, 1) (1, 94)\n",
      "(46, 1) (1, 46)\n"
     ]
    }
   ],
   "source": [
    "print(trainPredict.shape, trainY.shape)\n",
    "print(testPredict.shape, testY.shape)"
   ]
  },
  {
   "cell_type": "code",
   "execution_count": 112,
   "metadata": {
    "collapsed": false
   },
   "outputs": [
    {
     "name": "stdout",
     "output_type": "stream",
     "text": [
      "Train Score: 22.86 RMSE\n"
     ]
    }
   ],
   "source": [
    "trainScore = math.sqrt(mean_squared_error(trainY[0], trainPredict[:, 0]))\n",
    "print('Train Score: %.2f RMSE' % (trainScore))"
   ]
  },
  {
   "cell_type": "code",
   "execution_count": 113,
   "metadata": {
    "collapsed": false
   },
   "outputs": [
    {
     "name": "stdout",
     "output_type": "stream",
     "text": [
      "Test Score: 47.80 RMSE\n"
     ]
    }
   ],
   "source": [
    "testScore = math.sqrt(mean_squared_error(testY[0], testPredict[:, 0]))\n",
    "print('Test Score: %.2f RMSE' % (testScore))"
   ]
  },
  {
   "cell_type": "markdown",
   "metadata": {},
   "source": [
    "## 結果をプロット"
   ]
  },
  {
   "cell_type": "code",
   "execution_count": 114,
   "metadata": {
    "collapsed": false
   },
   "outputs": [],
   "source": [
    "trainPredictPlot = np.empty_like(dataset)\n",
    "trainPredictPlot[:, :] = np.nan\n",
    "trainPredictPlot[look_back:len(trainPredict) + look_back, :] = trainPredict"
   ]
  },
  {
   "cell_type": "code",
   "execution_count": 115,
   "metadata": {
    "collapsed": false
   },
   "outputs": [],
   "source": [
    "testPredictPlot = np.empty_like(dataset)\n",
    "testPredictPlot[:, :] = np.nan\n",
    "testPredictPlot[len(trainPredict) + (look_back * 2) + 1:len(dataset) - 1, :] = testPredict"
   ]
  },
  {
   "cell_type": "code",
   "execution_count": 119,
   "metadata": {
    "collapsed": false
   },
   "outputs": [
    {
     "data": {
      "text/plain": [
       "[<matplotlib.lines.Line2D at 0x1236d5e48>]"
      ]
     },
     "execution_count": 119,
     "metadata": {},
     "output_type": "execute_result"
    },
    {
     "data": {
      "image/png": "[encoded data removed]",
      "text/plain": [
       "<matplotlib.figure.Figure at 0x1234c3a20>"
      ]
     },
     "metadata": {},
     "output_type": "display_data"
    }
   ],
   "source": [
    "# 元データをプロット（青）\n",
    "plt.plot(scaler.inverse_transform(dataset))\n",
    "\n",
    "# 訓練内データの予測をプロット（緑）\n",
    "plt.plot(trainPredictPlot)\n",
    "\n",
    "# テストデータの予測をプロット\n",
    "plt.plot(testPredictPlot)"
   ]
  },
  {
   "cell_type": "markdown",
   "metadata": {},
   "source": [
    "## Windows Size\n",
    "\n",
    "- 過去の3つ分のデータ（t-2, t-1, t) から次のデータ (t+1) を予測する\n",
    "- このやり方では過去のデータを系列ではなく次元長として扱う（次元長は固定）"
   ]
  },
  {
   "cell_type": "code",
   "execution_count": 120,
   "metadata": {
    "collapsed": true
   },
   "outputs": [],
   "source": [
    "look_back = 3\n",
    "trainX, trainY = create_dataset(train, look_back)\n",
    "testX, testY = create_dataset(test, look_back)"
   ]
  },
  {
   "cell_type": "code",
   "execution_count": 121,
   "metadata": {
    "collapsed": false
   },
   "outputs": [
    {
     "name": "stdout",
     "output_type": "stream",
     "text": [
      "(92, 3)\n",
      "(92,)\n",
      "(44, 3)\n",
      "(44,)\n"
     ]
    }
   ],
   "source": [
    "print(trainX.shape)\n",
    "print(trainY.shape)\n",
    "print(testX.shape)\n",
    "print(testY.shape)"
   ]
  },
  {
   "cell_type": "code",
   "execution_count": 122,
   "metadata": {
    "collapsed": false
   },
   "outputs": [
    {
     "name": "stdout",
     "output_type": "stream",
     "text": [
      "(92, 1, 3)\n",
      "(44, 1, 3)\n"
     ]
    }
   ],
   "source": [
    "trainX = np.reshape(trainX, (trainX.shape[0], 1, trainX.shape[1]))\n",
    "testX = np.reshape(testX, (testX.shape[0], 1, testX.shape[1]))\n",
    "print(trainX.shape)\n",
    "print(testX.shape)"
   ]
  },
  {
   "cell_type": "markdown",
   "metadata": {},
   "source": [
    "- 系列長は1のままで入力次元を3としている"
   ]
  },
  {
   "cell_type": "code",
   "execution_count": 123,
   "metadata": {
    "collapsed": false
   },
   "outputs": [
    {
     "name": "stdout",
     "output_type": "stream",
     "text": [
      "Epoch 1/100\n",
      "1s - loss: 0.0474\n",
      "Epoch 2/100\n",
      "0s - loss: 0.0180\n",
      "Epoch 3/100\n",
      "0s - loss: 0.0125\n",
      "Epoch 4/100\n",
      "0s - loss: 0.0109\n",
      "Epoch 5/100\n",
      "0s - loss: 0.0096\n",
      "Epoch 6/100\n",
      "0s - loss: 0.0086\n",
      "Epoch 7/100\n",
      "0s - loss: 0.0077\n",
      "Epoch 8/100\n",
      "0s - loss: 0.0067\n",
      "Epoch 9/100\n",
      "0s - loss: 0.0061\n",
      "Epoch 10/100\n",
      "0s - loss: 0.0056\n",
      "Epoch 11/100\n",
      "0s - loss: 0.0052\n",
      "Epoch 12/100\n",
      "0s - loss: 0.0050\n",
      "Epoch 13/100\n",
      "0s - loss: 0.0048\n",
      "Epoch 14/100\n",
      "0s - loss: 0.0046\n",
      "Epoch 15/100\n",
      "0s - loss: 0.0044\n",
      "Epoch 16/100\n",
      "0s - loss: 0.0044\n",
      "Epoch 17/100\n",
      "0s - loss: 0.0043\n",
      "Epoch 18/100\n",
      "0s - loss: 0.0042\n",
      "Epoch 19/100\n",
      "0s - loss: 0.0041\n",
      "Epoch 20/100\n",
      "0s - loss: 0.0041\n",
      "Epoch 21/100\n",
      "0s - loss: 0.0042\n",
      "Epoch 22/100\n",
      "0s - loss: 0.0040\n",
      "Epoch 23/100\n",
      "0s - loss: 0.0038\n",
      "Epoch 24/100\n",
      "0s - loss: 0.0040\n",
      "Epoch 25/100\n",
      "0s - loss: 0.0038\n",
      "Epoch 26/100\n",
      "0s - loss: 0.0037\n",
      "Epoch 27/100\n",
      "0s - loss: 0.0038\n",
      "Epoch 28/100\n",
      "0s - loss: 0.0037\n",
      "Epoch 29/100\n",
      "0s - loss: 0.0037\n",
      "Epoch 30/100\n",
      "0s - loss: 0.0035\n",
      "Epoch 31/100\n",
      "0s - loss: 0.0034\n",
      "Epoch 32/100\n",
      "0s - loss: 0.0035\n",
      "Epoch 33/100\n",
      "0s - loss: 0.0035\n",
      "Epoch 34/100\n",
      "0s - loss: 0.0034\n",
      "Epoch 35/100\n",
      "0s - loss: 0.0033\n",
      "Epoch 36/100\n",
      "0s - loss: 0.0032\n",
      "Epoch 37/100\n",
      "0s - loss: 0.0032\n",
      "Epoch 38/100\n",
      "0s - loss: 0.0032\n",
      "Epoch 39/100\n",
      "0s - loss: 0.0030\n",
      "Epoch 40/100\n",
      "0s - loss: 0.0030\n",
      "Epoch 41/100\n",
      "0s - loss: 0.0030\n",
      "Epoch 42/100\n",
      "0s - loss: 0.0029\n",
      "Epoch 43/100\n",
      "0s - loss: 0.0029\n",
      "Epoch 44/100\n",
      "0s - loss: 0.0029\n",
      "Epoch 45/100\n",
      "0s - loss: 0.0029\n",
      "Epoch 46/100\n",
      "0s - loss: 0.0028\n",
      "Epoch 47/100\n",
      "0s - loss: 0.0028\n",
      "Epoch 48/100\n",
      "0s - loss: 0.0028\n",
      "Epoch 49/100\n",
      "0s - loss: 0.0026\n",
      "Epoch 50/100\n",
      "0s - loss: 0.0027\n",
      "Epoch 51/100\n",
      "0s - loss: 0.0026\n",
      "Epoch 52/100\n",
      "0s - loss: 0.0026\n",
      "Epoch 53/100\n",
      "0s - loss: 0.0026\n",
      "Epoch 54/100\n",
      "0s - loss: 0.0025\n",
      "Epoch 55/100\n",
      "0s - loss: 0.0025\n",
      "Epoch 56/100\n",
      "0s - loss: 0.0025\n",
      "Epoch 57/100\n",
      "0s - loss: 0.0024\n",
      "Epoch 58/100\n",
      "0s - loss: 0.0024\n",
      "Epoch 59/100\n",
      "0s - loss: 0.0024\n",
      "Epoch 60/100\n",
      "0s - loss: 0.0023\n",
      "Epoch 61/100\n",
      "0s - loss: 0.0023\n",
      "Epoch 62/100\n",
      "0s - loss: 0.0023\n",
      "Epoch 63/100\n",
      "0s - loss: 0.0022\n",
      "Epoch 64/100\n",
      "0s - loss: 0.0023\n",
      "Epoch 65/100\n",
      "0s - loss: 0.0022\n",
      "Epoch 66/100\n",
      "0s - loss: 0.0022\n",
      "Epoch 67/100\n",
      "0s - loss: 0.0021\n",
      "Epoch 68/100\n",
      "0s - loss: 0.0022\n",
      "Epoch 69/100\n",
      "0s - loss: 0.0021\n",
      "Epoch 70/100\n",
      "0s - loss: 0.0020\n",
      "Epoch 71/100\n",
      "0s - loss: 0.0020\n",
      "Epoch 72/100\n",
      "0s - loss: 0.0020\n",
      "Epoch 73/100\n",
      "0s - loss: 0.0020\n",
      "Epoch 74/100\n",
      "0s - loss: 0.0019\n",
      "Epoch 75/100\n",
      "0s - loss: 0.0020\n",
      "Epoch 76/100\n",
      "0s - loss: 0.0020\n",
      "Epoch 77/100\n",
      "0s - loss: 0.0020\n",
      "Epoch 78/100\n",
      "0s - loss: 0.0019\n",
      "Epoch 79/100\n",
      "0s - loss: 0.0020\n",
      "Epoch 80/100\n",
      "0s - loss: 0.0019\n",
      "Epoch 81/100\n",
      "0s - loss: 0.0020\n",
      "Epoch 82/100\n",
      "0s - loss: 0.0019\n",
      "Epoch 83/100\n",
      "0s - loss: 0.0020\n",
      "Epoch 84/100\n",
      "0s - loss: 0.0020\n",
      "Epoch 85/100\n",
      "0s - loss: 0.0019\n",
      "Epoch 86/100\n",
      "0s - loss: 0.0018\n",
      "Epoch 87/100\n",
      "0s - loss: 0.0019\n",
      "Epoch 88/100\n",
      "0s - loss: 0.0017\n",
      "Epoch 89/100\n",
      "0s - loss: 0.0019\n",
      "Epoch 90/100\n",
      "0s - loss: 0.0018\n",
      "Epoch 91/100\n",
      "0s - loss: 0.0019\n",
      "Epoch 92/100\n",
      "0s - loss: 0.0018\n",
      "Epoch 93/100\n",
      "0s - loss: 0.0017\n",
      "Epoch 94/100\n",
      "0s - loss: 0.0020\n",
      "Epoch 95/100\n",
      "0s - loss: 0.0018\n",
      "Epoch 96/100\n",
      "0s - loss: 0.0018\n",
      "Epoch 97/100\n",
      "0s - loss: 0.0018\n",
      "Epoch 98/100\n",
      "0s - loss: 0.0019\n",
      "Epoch 99/100\n",
      "0s - loss: 0.0018\n",
      "Epoch 100/100\n",
      "0s - loss: 0.0018\n"
     ]
    },
    {
     "data": {
      "text/plain": [
       "<keras.callbacks.History at 0x125526b70>"
      ]
     },
     "execution_count": 123,
     "metadata": {},
     "output_type": "execute_result"
    }
   ],
   "source": [
    "model = Sequential()\n",
    "# input_shape=(input_length, input_dim)\n",
    "model.add(LSTM(4, input_shape=(1, look_back)))\n",
    "model.add(Dense(1))\n",
    "model.compile(loss='mean_squared_error', optimizer='adam')\n",
    "model.fit(trainX, trainY, epochs=100, batch_size=1, verbose=2)"
   ]
  },
  {
   "cell_type": "code",
   "execution_count": 124,
   "metadata": {
    "collapsed": false
   },
   "outputs": [
    {
     "name": "stdout",
     "output_type": "stream",
     "text": [
      "Train Score: 21.73 RMSE\n",
      "Test Score: 43.32 RMSE\n"
     ]
    }
   ],
   "source": [
    "# 予測\n",
    "trainPredict = model.predict(trainX)\n",
    "testPredict = model.predict(testX)\n",
    "\n",
    "# 元のスケールに戻す\n",
    "trainPredict = scaler.inverse_transform(trainPredict)\n",
    "trainY = scaler.inverse_transform([trainY])\n",
    "testPredict = scaler.inverse_transform(testPredict)\n",
    "testY = scaler.inverse_transform([testY])\n",
    "\n",
    "trainScore = math.sqrt(mean_squared_error(trainY[0], trainPredict[:, 0]))\n",
    "print('Train Score: %.2f RMSE' % (trainScore))\n",
    "testScore = math.sqrt(mean_squared_error(testY[0], testPredict[:, 0]))\n",
    "print('Test Score: %.2f RMSE' % (testScore))"
   ]
  },
  {
   "cell_type": "markdown",
   "metadata": {},
   "source": [
    "- WindowSize=1より少し改善した！"
   ]
  },
  {
   "cell_type": "markdown",
   "metadata": {},
   "source": [
    "## 入力を特徴ではなく系列として扱うアプローチ\n",
    "\n",
    "- 過去の観測を別々の入力特徴量として表現するのではなく、入力特徴量の系列として使用することができます\n",
    "- これは実際に問題の正確な枠組みになります\n",
    "- 入力の系列3の間はLSTMが記憶している？\n",
    "- 系列長を変えられる？（0パディング？）"
   ]
  },
  {
   "cell_type": "code",
   "execution_count": 132,
   "metadata": {
    "collapsed": false
   },
   "outputs": [],
   "source": [
    "look_back = 3\n",
    "trainX, trainY = create_dataset(train, look_back)\n",
    "testX, testY = create_dataset(test, look_back)\n",
    "\n",
    "# [samples, time steps, features]\n",
    "# 3次元の系列長1のデータ => 1次元の系列長3のデータ\n",
    "trainX = np.reshape(trainX, (trainX.shape[0], trainX.shape[1], 1))\n",
    "testX = np.reshape(testX, (testX.shape[0], testX.shape[1], 1))"
   ]
  },
  {
   "cell_type": "code",
   "execution_count": 134,
   "metadata": {
    "collapsed": false
   },
   "outputs": [
    {
     "name": "stdout",
     "output_type": "stream",
     "text": [
      "(92, 3, 1) (44, 3, 1)\n"
     ]
    }
   ],
   "source": [
    "print(trainX.shape, testX.shape)"
   ]
  },
  {
   "cell_type": "code",
   "execution_count": 135,
   "metadata": {
    "collapsed": false
   },
   "outputs": [
    {
     "name": "stdout",
     "output_type": "stream",
     "text": [
      "Epoch 1/100\n",
      "2s - loss: 0.0059\n",
      "Epoch 2/100\n",
      "1s - loss: 0.0044\n",
      "Epoch 3/100\n",
      "1s - loss: 0.0041\n",
      "Epoch 4/100\n",
      "1s - loss: 0.0037\n",
      "Epoch 5/100\n",
      "1s - loss: 0.0037\n",
      "Epoch 6/100\n",
      "1s - loss: 0.0034\n",
      "Epoch 7/100\n",
      "1s - loss: 0.0033\n",
      "Epoch 8/100\n",
      "1s - loss: 0.0032\n",
      "Epoch 9/100\n",
      "1s - loss: 0.0032\n",
      "Epoch 10/100\n",
      "1s - loss: 0.0032\n",
      "Epoch 11/100\n",
      "1s - loss: 0.0031\n",
      "Epoch 12/100\n",
      "1s - loss: 0.0031\n",
      "Epoch 13/100\n",
      "1s - loss: 0.0032\n",
      "Epoch 14/100\n",
      "1s - loss: 0.0032\n",
      "Epoch 15/100\n",
      "1s - loss: 0.0033\n",
      "Epoch 16/100\n",
      "1s - loss: 0.0032\n",
      "Epoch 17/100\n",
      "1s - loss: 0.0031\n",
      "Epoch 18/100\n",
      "1s - loss: 0.0032\n",
      "Epoch 19/100\n",
      "1s - loss: 0.0033\n",
      "Epoch 20/100\n",
      "1s - loss: 0.0031\n",
      "Epoch 21/100\n",
      "1s - loss: 0.0031\n",
      "Epoch 22/100\n",
      "1s - loss: 0.0031\n",
      "Epoch 23/100\n",
      "1s - loss: 0.0030\n",
      "Epoch 24/100\n",
      "1s - loss: 0.0030\n",
      "Epoch 25/100\n",
      "1s - loss: 0.0030\n",
      "Epoch 26/100\n",
      "1s - loss: 0.0031\n",
      "Epoch 27/100\n",
      "1s - loss: 0.0031\n",
      "Epoch 28/100\n",
      "1s - loss: 0.0031\n",
      "Epoch 29/100\n",
      "1s - loss: 0.0031\n",
      "Epoch 30/100\n",
      "1s - loss: 0.0032\n",
      "Epoch 31/100\n",
      "1s - loss: 0.0030\n",
      "Epoch 32/100\n",
      "1s - loss: 0.0030\n",
      "Epoch 33/100\n",
      "1s - loss: 0.0030\n",
      "Epoch 34/100\n",
      "1s - loss: 0.0031\n",
      "Epoch 35/100\n",
      "1s - loss: 0.0029\n",
      "Epoch 36/100\n",
      "1s - loss: 0.0029\n",
      "Epoch 37/100\n",
      "1s - loss: 0.0029\n",
      "Epoch 38/100\n",
      "1s - loss: 0.0029\n",
      "Epoch 39/100\n",
      "1s - loss: 0.0029\n",
      "Epoch 40/100\n",
      "1s - loss: 0.0028\n",
      "Epoch 41/100\n",
      "1s - loss: 0.0029\n",
      "Epoch 42/100\n",
      "1s - loss: 0.0029\n",
      "Epoch 43/100\n",
      "1s - loss: 0.0028\n",
      "Epoch 44/100\n",
      "1s - loss: 0.0029\n",
      "Epoch 45/100\n",
      "1s - loss: 0.0028\n",
      "Epoch 46/100\n",
      "1s - loss: 0.0027\n",
      "Epoch 47/100\n",
      "1s - loss: 0.0027\n",
      "Epoch 48/100\n",
      "1s - loss: 0.0026\n",
      "Epoch 49/100\n",
      "1s - loss: 0.0027\n",
      "Epoch 50/100\n",
      "1s - loss: 0.0026\n",
      "Epoch 51/100\n",
      "1s - loss: 0.0026\n",
      "Epoch 52/100\n",
      "1s - loss: 0.0025\n",
      "Epoch 53/100\n",
      "1s - loss: 0.0025\n",
      "Epoch 54/100\n",
      "1s - loss: 0.0025\n",
      "Epoch 55/100\n",
      "1s - loss: 0.0024\n",
      "Epoch 56/100\n",
      "1s - loss: 0.0025\n",
      "Epoch 57/100\n",
      "1s - loss: 0.0024\n",
      "Epoch 58/100\n",
      "1s - loss: 0.0024\n",
      "Epoch 59/100\n",
      "1s - loss: 0.0022\n",
      "Epoch 60/100\n",
      "1s - loss: 0.0024\n",
      "Epoch 61/100\n",
      "1s - loss: 0.0024\n",
      "Epoch 62/100\n",
      "1s - loss: 0.0024\n",
      "Epoch 63/100\n",
      "1s - loss: 0.0023\n",
      "Epoch 64/100\n",
      "1s - loss: 0.0022\n",
      "Epoch 65/100\n",
      "1s - loss: 0.0022\n",
      "Epoch 66/100\n",
      "1s - loss: 0.0022\n",
      "Epoch 67/100\n",
      "1s - loss: 0.0021\n",
      "Epoch 68/100\n",
      "1s - loss: 0.0021\n",
      "Epoch 69/100\n",
      "1s - loss: 0.0021\n",
      "Epoch 70/100\n",
      "1s - loss: 0.0021\n",
      "Epoch 71/100\n",
      "1s - loss: 0.0020\n",
      "Epoch 72/100\n",
      "1s - loss: 0.0020\n",
      "Epoch 73/100\n",
      "1s - loss: 0.0020\n",
      "Epoch 74/100\n",
      "1s - loss: 0.0021\n",
      "Epoch 75/100\n",
      "1s - loss: 0.0020\n",
      "Epoch 76/100\n",
      "1s - loss: 0.0019\n",
      "Epoch 77/100\n",
      "1s - loss: 0.0019\n",
      "Epoch 78/100\n",
      "1s - loss: 0.0020\n",
      "Epoch 79/100\n",
      "1s - loss: 0.0019\n",
      "Epoch 80/100\n",
      "1s - loss: 0.0019\n",
      "Epoch 81/100\n",
      "1s - loss: 0.0019\n",
      "Epoch 82/100\n",
      "1s - loss: 0.0019\n",
      "Epoch 83/100\n",
      "1s - loss: 0.0019\n",
      "Epoch 84/100\n",
      "1s - loss: 0.0019\n",
      "Epoch 85/100\n",
      "1s - loss: 0.0018\n",
      "Epoch 86/100\n",
      "1s - loss: 0.0018\n",
      "Epoch 87/100\n",
      "1s - loss: 0.0019\n",
      "Epoch 88/100\n",
      "1s - loss: 0.0018\n",
      "Epoch 89/100\n",
      "1s - loss: 0.0019\n",
      "Epoch 90/100\n",
      "1s - loss: 0.0018\n",
      "Epoch 91/100\n",
      "1s - loss: 0.0018\n",
      "Epoch 92/100\n",
      "1s - loss: 0.0020\n",
      "Epoch 93/100\n",
      "1s - loss: 0.0018\n",
      "Epoch 94/100\n",
      "1s - loss: 0.0018\n",
      "Epoch 95/100\n",
      "1s - loss: 0.0019\n",
      "Epoch 96/100\n",
      "1s - loss: 0.0019\n",
      "Epoch 97/100\n",
      "1s - loss: 0.0018\n",
      "Epoch 98/100\n",
      "1s - loss: 0.0018\n",
      "Epoch 99/100\n",
      "1s - loss: 0.0018\n",
      "Epoch 100/100\n",
      "1s - loss: 0.0018\n"
     ]
    },
    {
     "data": {
      "text/plain": [
       "<keras.callbacks.History at 0x127b30c18>"
      ]
     },
     "execution_count": 135,
     "metadata": {},
     "output_type": "execute_result"
    }
   ],
   "source": [
    "model = Sequential()\n",
    "# input_shape=(input_length, input_dim)\n",
    "# 入力データの次元が1で系列長がlook_backになった！\n",
    "model.add(LSTM(4, input_shape=(look_back, 1)))\n",
    "model.add(Dense(1))\n",
    "model.compile(loss='mean_squared_error', optimizer='adam')\n",
    "model.fit(trainX, trainY, epochs=100, batch_size=1, verbose=2)"
   ]
  },
  {
   "cell_type": "code",
   "execution_count": 136,
   "metadata": {
    "collapsed": false
   },
   "outputs": [
    {
     "name": "stdout",
     "output_type": "stream",
     "text": [
      "Train Score: 22.25 RMSE\n",
      "Test Score: 57.85 RMSE\n"
     ]
    }
   ],
   "source": [
    "# 予測\n",
    "trainPredict = model.predict(trainX)\n",
    "testPredict = model.predict(testX)\n",
    "\n",
    "# 元のスケールに戻す\n",
    "trainPredict = scaler.inverse_transform(trainPredict)\n",
    "trainY = scaler.inverse_transform([trainY])\n",
    "testPredict = scaler.inverse_transform(testPredict)\n",
    "testY = scaler.inverse_transform([testY])\n",
    "\n",
    "trainScore = math.sqrt(mean_squared_error(trainY[0], trainPredict[:, 0]))\n",
    "print('Train Score: %.2f RMSE' % (trainScore))\n",
    "testScore = math.sqrt(mean_squared_error(testY[0], testPredict[:, 0]))\n",
    "print('Test Score: %.2f RMSE' % (testScore))"
   ]
  },
  {
   "cell_type": "markdown",
   "metadata": {},
   "source": [
    "- 結果はちょっと悪化した・・・"
   ]
  },
  {
   "cell_type": "code",
   "execution_count": 137,
   "metadata": {
    "collapsed": false
   },
   "outputs": [
    {
     "data": {
      "text/plain": [
       "[<matplotlib.lines.Line2D at 0x128105da0>]"
      ]
     },
     "execution_count": 137,
     "metadata": {},
     "output_type": "execute_result"
    },
    {
     "data": {
      "image/png": "[encoded data removed]",
      "text/plain": [
       "<matplotlib.figure.Figure at 0x127c5add8>"
      ]
     },
     "metadata": {},
     "output_type": "display_data"
    }
   ],
   "source": [
    "trainPredictPlot = np.empty_like(dataset)\n",
    "trainPredictPlot[:, :] = np.nan\n",
    "trainPredictPlot[look_back:len(trainPredict) + look_back, :] = trainPredict\n",
    "testPredictPlot = np.empty_like(dataset)\n",
    "testPredictPlot[:, :] = np.nan\n",
    "testPredictPlot[len(trainPredict) + (look_back * 2) + 1:len(dataset) - 1, :] = testPredict\n",
    "\n",
    "# 元データをプロット（青）\n",
    "plt.plot(scaler.inverse_transform(dataset))\n",
    "\n",
    "# 訓練内データの予測をプロット（緑）\n",
    "plt.plot(trainPredictPlot)\n",
    "\n",
    "# テストデータの予測をプロット\n",
    "plt.plot(testPredictPlot)"
   ]
  },
  {
   "cell_type": "markdown",
   "metadata": {},
   "source": [
    "## LSTMの内部状態\n",
    "\n",
    "- Kerasのデフォルトでは各訓練バッチで内部状態がリセットされる\n",
    "- また`predict()`や`evaluate()`を呼ぶたびにリセットされる\n",
    "- statefulにすることで訓練中はずっと内部状態を維持することができる"
   ]
  },
  {
   "cell_type": "markdown",
   "metadata": {},
   "source": [
    "```python\n",
    "# LSTMオブジェクトの作成\n",
    "model.add(LSTM(4,\n",
    "               batch_input_shape=(batch_size, time_steps, features), \n",
    "               stateful=True)\n",
    "\n",
    "# 訓練ループの書き方\n",
    "for i in range(100):\n",
    "    model.fit(trainX, trainY, epochs=1, batch_size=batch_size, verbose=2, shuffle=False)\n",
    "    model.reset_states()\n",
    "\n",
    "# 予測の仕方\n",
    "model.predict(trainX, batch_size=batch_size)\n",
    "```\n",
    "\n",
    "- LSTM作成時に`stateful=True`を指定する\n",
    "- `batch_input_shape`でバッチサイズなどの情報も追加する\n",
    "- `fit`時は`shuffle=False`にする\n",
    "- 各エポックの最後で明示的に`reset_states()`する\n",
    "- `predict`時も`batch_size`を与える"
   ]
  },
  {
   "cell_type": "code",
   "execution_count": 145,
   "metadata": {
    "collapsed": true
   },
   "outputs": [],
   "source": [
    "look_back = 3\n",
    "trainX, trainY = create_dataset(train, look_back)\n",
    "testX, testY = create_dataset(test, look_back)\n",
    "\n",
    "# [samples, time steps, features]\n",
    "# 3次元の系列長1のデータ => 1次元の系列長3のデータ\n",
    "trainX = np.reshape(trainX, (trainX.shape[0], trainX.shape[1], 1))\n",
    "testX = np.reshape(testX, (testX.shape[0], testX.shape[1], 1))"
   ]
  },
  {
   "cell_type": "code",
   "execution_count": 146,
   "metadata": {
    "collapsed": false
   },
   "outputs": [
    {
     "name": "stdout",
     "output_type": "stream",
     "text": [
      "Epoch 1/1\n",
      "2s - loss: 0.0041\n",
      "Epoch 1/1\n",
      "0s - loss: 0.0071\n",
      "Epoch 1/1\n",
      "0s - loss: 0.0056\n",
      "Epoch 1/1\n",
      "0s - loss: 0.0049\n",
      "Epoch 1/1\n",
      "0s - loss: 0.0046\n",
      "Epoch 1/1\n",
      "0s - loss: 0.0045\n",
      "Epoch 1/1\n",
      "0s - loss: 0.0044\n",
      "Epoch 1/1\n",
      "0s - loss: 0.0043\n",
      "Epoch 1/1\n",
      "0s - loss: 0.0043\n",
      "Epoch 1/1\n",
      "0s - loss: 0.0043\n",
      "Epoch 1/1\n",
      "0s - loss: 0.0042\n",
      "Epoch 1/1\n",
      "0s - loss: 0.0042\n",
      "Epoch 1/1\n",
      "0s - loss: 0.0042\n",
      "Epoch 1/1\n",
      "0s - loss: 0.0042\n",
      "Epoch 1/1\n",
      "0s - loss: 0.0041\n",
      "Epoch 1/1\n",
      "0s - loss: 0.0041\n",
      "Epoch 1/1\n",
      "0s - loss: 0.0041\n",
      "Epoch 1/1\n",
      "0s - loss: 0.0041\n",
      "Epoch 1/1\n",
      "0s - loss: 0.0040\n",
      "Epoch 1/1\n",
      "0s - loss: 0.0040\n",
      "Epoch 1/1\n",
      "0s - loss: 0.0040\n",
      "Epoch 1/1\n",
      "0s - loss: 0.0040\n",
      "Epoch 1/1\n",
      "0s - loss: 0.0040\n",
      "Epoch 1/1\n",
      "0s - loss: 0.0039\n",
      "Epoch 1/1\n",
      "0s - loss: 0.0039\n",
      "Epoch 1/1\n",
      "0s - loss: 0.0039\n",
      "Epoch 1/1\n",
      "0s - loss: 0.0039\n",
      "Epoch 1/1\n",
      "0s - loss: 0.0039\n",
      "Epoch 1/1\n",
      "0s - loss: 0.0038\n",
      "Epoch 1/1\n",
      "0s - loss: 0.0038\n",
      "Epoch 1/1\n",
      "0s - loss: 0.0038\n",
      "Epoch 1/1\n",
      "0s - loss: 0.0038\n",
      "Epoch 1/1\n",
      "0s - loss: 0.0037\n",
      "Epoch 1/1\n",
      "0s - loss: 0.0037\n",
      "Epoch 1/1\n",
      "0s - loss: 0.0037\n",
      "Epoch 1/1\n",
      "0s - loss: 0.0037\n",
      "Epoch 1/1\n",
      "0s - loss: 0.0036\n",
      "Epoch 1/1\n",
      "0s - loss: 0.0036\n",
      "Epoch 1/1\n",
      "0s - loss: 0.0036\n",
      "Epoch 1/1\n",
      "0s - loss: 0.0036\n",
      "Epoch 1/1\n",
      "0s - loss: 0.0035\n",
      "Epoch 1/1\n",
      "0s - loss: 0.0035\n",
      "Epoch 1/1\n",
      "0s - loss: 0.0035\n",
      "Epoch 1/1\n",
      "0s - loss: 0.0035\n",
      "Epoch 1/1\n",
      "0s - loss: 0.0035\n",
      "Epoch 1/1\n",
      "0s - loss: 0.0034\n",
      "Epoch 1/1\n",
      "0s - loss: 0.0034\n",
      "Epoch 1/1\n",
      "0s - loss: 0.0034\n",
      "Epoch 1/1\n",
      "0s - loss: 0.0034\n",
      "Epoch 1/1\n",
      "0s - loss: 0.0034\n",
      "Epoch 1/1\n",
      "0s - loss: 0.0034\n",
      "Epoch 1/1\n",
      "0s - loss: 0.0033\n",
      "Epoch 1/1\n",
      "0s - loss: 0.0033\n",
      "Epoch 1/1\n",
      "0s - loss: 0.0033\n",
      "Epoch 1/1\n",
      "0s - loss: 0.0033\n",
      "Epoch 1/1\n",
      "0s - loss: 0.0032\n",
      "Epoch 1/1\n",
      "0s - loss: 0.0032\n",
      "Epoch 1/1\n",
      "0s - loss: 0.0031\n",
      "Epoch 1/1\n",
      "0s - loss: 0.0031\n",
      "Epoch 1/1\n",
      "0s - loss: 0.0031\n",
      "Epoch 1/1\n",
      "0s - loss: 0.0030\n",
      "Epoch 1/1\n",
      "0s - loss: 0.0030\n",
      "Epoch 1/1\n",
      "0s - loss: 0.0029\n",
      "Epoch 1/1\n",
      "0s - loss: 0.0029\n",
      "Epoch 1/1\n",
      "0s - loss: 0.0029\n",
      "Epoch 1/1\n",
      "0s - loss: 0.0028\n",
      "Epoch 1/1\n",
      "0s - loss: 0.0028\n",
      "Epoch 1/1\n",
      "0s - loss: 0.0027\n",
      "Epoch 1/1\n",
      "0s - loss: 0.0027\n",
      "Epoch 1/1\n",
      "0s - loss: 0.0027\n",
      "Epoch 1/1\n",
      "0s - loss: 0.0026\n",
      "Epoch 1/1\n",
      "0s - loss: 0.0026\n",
      "Epoch 1/1\n",
      "0s - loss: 0.0026\n",
      "Epoch 1/1\n",
      "0s - loss: 0.0025\n",
      "Epoch 1/1\n",
      "0s - loss: 0.0025\n",
      "Epoch 1/1\n",
      "0s - loss: 0.0024\n",
      "Epoch 1/1\n",
      "0s - loss: 0.0024\n",
      "Epoch 1/1\n",
      "0s - loss: 0.0023\n",
      "Epoch 1/1\n",
      "0s - loss: 0.0023\n",
      "Epoch 1/1\n",
      "0s - loss: 0.0023\n",
      "Epoch 1/1\n",
      "0s - loss: 0.0022\n",
      "Epoch 1/1\n",
      "0s - loss: 0.0022\n",
      "Epoch 1/1\n",
      "0s - loss: 0.0022\n",
      "Epoch 1/1\n",
      "0s - loss: 0.0021\n",
      "Epoch 1/1\n",
      "0s - loss: 0.0021\n",
      "Epoch 1/1\n",
      "0s - loss: 0.0021\n",
      "Epoch 1/1\n",
      "0s - loss: 0.0021\n",
      "Epoch 1/1\n",
      "0s - loss: 0.0020\n",
      "Epoch 1/1\n",
      "0s - loss: 0.0020\n",
      "Epoch 1/1\n",
      "0s - loss: 0.0020\n",
      "Epoch 1/1\n",
      "0s - loss: 0.0020\n",
      "Epoch 1/1\n",
      "0s - loss: 0.0019\n",
      "Epoch 1/1\n",
      "0s - loss: 0.0019\n",
      "Epoch 1/1\n",
      "0s - loss: 0.0019\n",
      "Epoch 1/1\n",
      "0s - loss: 0.0019\n",
      "Epoch 1/1\n",
      "0s - loss: 0.0019\n",
      "Epoch 1/1\n",
      "0s - loss: 0.0019\n",
      "Epoch 1/1\n",
      "0s - loss: 0.0018\n",
      "Epoch 1/1\n",
      "0s - loss: 0.0018\n",
      "Epoch 1/1\n",
      "0s - loss: 0.0018\n"
     ]
    }
   ],
   "source": [
    "batch_size = 1\n",
    "\n",
    "model = Sequential()\n",
    "model.add(LSTM(4, batch_input_shape=(batch_size, look_back, 1), stateful=True))\n",
    "model.add(Dense(1))\n",
    "model.compile(loss='mean_squared_error', optimizer='adam')\n",
    "#model.fit(trainX, trainY, epochs=100, batch_size=1, verbose=2)\n",
    "for i in range(100):\n",
    "    model.fit(trainX, trainY, epochs=1, batch_size=batch_size, verbose=2, shuffle=False)\n",
    "    model.reset_states()"
   ]
  },
  {
   "cell_type": "code",
   "execution_count": 147,
   "metadata": {
    "collapsed": false
   },
   "outputs": [
    {
     "name": "stdout",
     "output_type": "stream",
     "text": [
      "Train Score: 22.97 RMSE\n",
      "Test Score: 50.51 RMSE\n"
     ]
    },
    {
     "data": {
      "text/plain": [
       "[<matplotlib.lines.Line2D at 0x12ed79dd8>]"
      ]
     },
     "execution_count": 147,
     "metadata": {},
     "output_type": "execute_result"
    },
    {
     "data": {
      "image/png": "[encoded data removed]",
      "text/plain": [
       "<matplotlib.figure.Figure at 0x12db10160>"
      ]
     },
     "metadata": {},
     "output_type": "display_data"
    }
   ],
   "source": [
    "# 予測\n",
    "trainPredict = model.predict(trainX, batch_size=batch_size)\n",
    "testPredict = model.predict(testX, batch_size=batch_size)\n",
    "\n",
    "# 元のスケールに戻す\n",
    "trainPredict = scaler.inverse_transform(trainPredict)\n",
    "trainY = scaler.inverse_transform([trainY])\n",
    "testPredict = scaler.inverse_transform(testPredict)\n",
    "testY = scaler.inverse_transform([testY])\n",
    "\n",
    "trainScore = math.sqrt(mean_squared_error(trainY[0], trainPredict[:, 0]))\n",
    "print('Train Score: %.2f RMSE' % (trainScore))\n",
    "testScore = math.sqrt(mean_squared_error(testY[0], testPredict[:, 0]))\n",
    "print('Test Score: %.2f RMSE' % (testScore))\n",
    "\n",
    "trainPredictPlot = np.empty_like(dataset)\n",
    "trainPredictPlot[:, :] = np.nan\n",
    "trainPredictPlot[look_back:len(trainPredict) + look_back, :] = trainPredict\n",
    "testPredictPlot = np.empty_like(dataset)\n",
    "testPredictPlot[:, :] = np.nan\n",
    "testPredictPlot[len(trainPredict) + (look_back * 2) + 1:len(dataset) - 1, :] = testPredict\n",
    "\n",
    "# 元データをプロット（青）\n",
    "plt.plot(scaler.inverse_transform(dataset))\n",
    "\n",
    "# 訓練内データの予測をプロット（緑）\n",
    "plt.plot(trainPredictPlot)\n",
    "\n",
    "# テストデータの予測をプロット\n",
    "plt.plot(testPredictPlot)"
   ]
  },
  {
   "cell_type": "markdown",
   "metadata": {},
   "source": [
    "## Stacked LSTM\n",
    "\n",
    "- LSTMを複数つなげることができる\n",
    "- 1つ前のLSTMが最終出力ではなく出力の系列を返す必要がある\n",
    "- `return_sequences=True`とする\n",
    "\n",
    "```python\n",
    "model.add(LSTM(4,\n",
    "               batch_input_shape=(batch_size, look_back, 1),\n",
    "               stateful=True,\n",
    "               return_sequences=True))\n",
    "model.add(LSTM(4,\n",
    "               batch_input_shape=(batch_size, look_back, 1),\n",
    "               stateful=True))\n",
    "```"
   ]
  },
  {
   "cell_type": "code",
   "execution_count": 148,
   "metadata": {
    "collapsed": false
   },
   "outputs": [
    {
     "name": "stdout",
     "output_type": "stream",
     "text": [
      "Epoch 1/1\n",
      "4s - loss: 0.0049\n",
      "Epoch 1/1\n",
      "1s - loss: 0.0139\n",
      "Epoch 1/1\n",
      "1s - loss: 0.0119\n",
      "Epoch 1/1\n",
      "1s - loss: 0.0104\n",
      "Epoch 1/1\n",
      "1s - loss: 0.0092\n",
      "Epoch 1/1\n",
      "1s - loss: 0.0083\n",
      "Epoch 1/1\n",
      "1s - loss: 0.0077\n",
      "Epoch 1/1\n",
      "1s - loss: 0.0073\n",
      "Epoch 1/1\n",
      "1s - loss: 0.0069\n",
      "Epoch 1/1\n",
      "1s - loss: 0.0067\n",
      "Epoch 1/1\n",
      "1s - loss: 0.0065\n",
      "Epoch 1/1\n",
      "1s - loss: 0.0064\n",
      "Epoch 1/1\n",
      "1s - loss: 0.0063\n",
      "Epoch 1/1\n",
      "1s - loss: 0.0062\n",
      "Epoch 1/1\n",
      "1s - loss: 0.0061\n",
      "Epoch 1/1\n",
      "1s - loss: 0.0060\n",
      "Epoch 1/1\n",
      "1s - loss: 0.0059\n",
      "Epoch 1/1\n",
      "1s - loss: 0.0058\n",
      "Epoch 1/1\n",
      "1s - loss: 0.0057\n",
      "Epoch 1/1\n",
      "1s - loss: 0.0057\n",
      "Epoch 1/1\n",
      "1s - loss: 0.0056\n",
      "Epoch 1/1\n",
      "1s - loss: 0.0055\n",
      "Epoch 1/1\n",
      "1s - loss: 0.0055\n",
      "Epoch 1/1\n",
      "1s - loss: 0.0054\n",
      "Epoch 1/1\n",
      "1s - loss: 0.0053\n",
      "Epoch 1/1\n",
      "1s - loss: 0.0053\n",
      "Epoch 1/1\n",
      "1s - loss: 0.0052\n",
      "Epoch 1/1\n",
      "1s - loss: 0.0052\n",
      "Epoch 1/1\n",
      "1s - loss: 0.0051\n",
      "Epoch 1/1\n",
      "1s - loss: 0.0050\n",
      "Epoch 1/1\n",
      "1s - loss: 0.0050\n",
      "Epoch 1/1\n",
      "1s - loss: 0.0049\n",
      "Epoch 1/1\n",
      "1s - loss: 0.0049\n",
      "Epoch 1/1\n",
      "1s - loss: 0.0048\n",
      "Epoch 1/1\n",
      "1s - loss: 0.0048\n",
      "Epoch 1/1\n",
      "1s - loss: 0.0047\n",
      "Epoch 1/1\n",
      "1s - loss: 0.0047\n",
      "Epoch 1/1\n",
      "1s - loss: 0.0046\n",
      "Epoch 1/1\n",
      "1s - loss: 0.0046\n",
      "Epoch 1/1\n",
      "1s - loss: 0.0045\n",
      "Epoch 1/1\n",
      "1s - loss: 0.0045\n",
      "Epoch 1/1\n",
      "1s - loss: 0.0044\n",
      "Epoch 1/1\n",
      "1s - loss: 0.0044\n",
      "Epoch 1/1\n",
      "1s - loss: 0.0043\n",
      "Epoch 1/1\n",
      "1s - loss: 0.0043\n",
      "Epoch 1/1\n",
      "1s - loss: 0.0042\n",
      "Epoch 1/1\n",
      "1s - loss: 0.0042\n",
      "Epoch 1/1\n",
      "1s - loss: 0.0041\n",
      "Epoch 1/1\n",
      "1s - loss: 0.0041\n",
      "Epoch 1/1\n",
      "1s - loss: 0.0040\n",
      "Epoch 1/1\n",
      "1s - loss: 0.0040\n",
      "Epoch 1/1\n",
      "1s - loss: 0.0039\n",
      "Epoch 1/1\n",
      "1s - loss: 0.0038\n",
      "Epoch 1/1\n",
      "1s - loss: 0.0038\n",
      "Epoch 1/1\n",
      "1s - loss: 0.0037\n",
      "Epoch 1/1\n",
      "1s - loss: 0.0036\n",
      "Epoch 1/1\n",
      "1s - loss: 0.0036\n",
      "Epoch 1/1\n",
      "1s - loss: 0.0035\n",
      "Epoch 1/1\n",
      "1s - loss: 0.0034\n",
      "Epoch 1/1\n",
      "1s - loss: 0.0033\n",
      "Epoch 1/1\n",
      "1s - loss: 0.0033\n",
      "Epoch 1/1\n",
      "1s - loss: 0.0032\n",
      "Epoch 1/1\n",
      "1s - loss: 0.0031\n",
      "Epoch 1/1\n",
      "1s - loss: 0.0030\n",
      "Epoch 1/1\n",
      "1s - loss: 0.0029\n",
      "Epoch 1/1\n",
      "1s - loss: 0.0029\n",
      "Epoch 1/1\n",
      "1s - loss: 0.0028\n",
      "Epoch 1/1\n",
      "1s - loss: 0.0027\n",
      "Epoch 1/1\n",
      "1s - loss: 0.0026\n",
      "Epoch 1/1\n",
      "1s - loss: 0.0025\n",
      "Epoch 1/1\n",
      "1s - loss: 0.0025\n",
      "Epoch 1/1\n",
      "1s - loss: 0.0024\n",
      "Epoch 1/1\n",
      "1s - loss: 0.0023\n",
      "Epoch 1/1\n",
      "1s - loss: 0.0023\n",
      "Epoch 1/1\n",
      "1s - loss: 0.0022\n",
      "Epoch 1/1\n",
      "1s - loss: 0.0021\n",
      "Epoch 1/1\n",
      "1s - loss: 0.0021\n",
      "Epoch 1/1\n",
      "1s - loss: 0.0020\n",
      "Epoch 1/1\n",
      "1s - loss: 0.0020\n",
      "Epoch 1/1\n",
      "1s - loss: 0.0020\n",
      "Epoch 1/1\n",
      "1s - loss: 0.0019\n",
      "Epoch 1/1\n",
      "1s - loss: 0.0019\n",
      "Epoch 1/1\n",
      "1s - loss: 0.0019\n",
      "Epoch 1/1\n",
      "1s - loss: 0.0018\n",
      "Epoch 1/1\n",
      "1s - loss: 0.0018\n",
      "Epoch 1/1\n",
      "1s - loss: 0.0018\n",
      "Epoch 1/1\n",
      "1s - loss: 0.0018\n",
      "Epoch 1/1\n",
      "1s - loss: 0.0018\n",
      "Epoch 1/1\n",
      "1s - loss: 0.0018\n",
      "Epoch 1/1\n",
      "1s - loss: 0.0018\n",
      "Epoch 1/1\n",
      "1s - loss: 0.0017\n",
      "Epoch 1/1\n",
      "1s - loss: 0.0017\n",
      "Epoch 1/1\n",
      "1s - loss: 0.0017\n",
      "Epoch 1/1\n",
      "1s - loss: 0.0017\n",
      "Epoch 1/1\n",
      "1s - loss: 0.0017\n",
      "Epoch 1/1\n",
      "1s - loss: 0.0017\n",
      "Epoch 1/1\n",
      "1s - loss: 0.0017\n",
      "Epoch 1/1\n",
      "1s - loss: 0.0017\n",
      "Epoch 1/1\n",
      "1s - loss: 0.0017\n",
      "Epoch 1/1\n",
      "1s - loss: 0.0017\n"
     ]
    }
   ],
   "source": [
    "look_back = 3\n",
    "trainX, trainY = create_dataset(train, look_back)\n",
    "testX, testY = create_dataset(test, look_back)\n",
    "\n",
    "# [samples, time steps, features]\n",
    "# 3次元の系列長1のデータ => 1次元の系列長3のデータ\n",
    "trainX = np.reshape(trainX, (trainX.shape[0], trainX.shape[1], 1))\n",
    "testX = np.reshape(testX, (testX.shape[0], testX.shape[1], 1))\n",
    "\n",
    "batch_size = 1\n",
    "\n",
    "model = Sequential()\n",
    "model.add(LSTM(4, batch_input_shape=(batch_size, look_back, 1), stateful=True,\n",
    "               return_sequences=True))\n",
    "model.add(LSTM(4, batch_input_shape=(batch_size, look_back, 1), stateful=True))\n",
    "model.add(Dense(1))\n",
    "model.compile(loss='mean_squared_error', optimizer='adam')\n",
    "#model.fit(trainX, trainY, epochs=100, batch_size=1, verbose=2)\n",
    "for i in range(100):\n",
    "    model.fit(trainX, trainY, epochs=1, batch_size=batch_size, verbose=2, shuffle=False)\n",
    "    model.reset_states()"
   ]
  },
  {
   "cell_type": "code",
   "execution_count": 149,
   "metadata": {
    "collapsed": false
   },
   "outputs": [
    {
     "name": "stdout",
     "output_type": "stream",
     "text": [
      "Train Score: 22.90 RMSE\n",
      "Test Score: 53.89 RMSE\n"
     ]
    },
    {
     "data": {
      "text/plain": [
       "[<matplotlib.lines.Line2D at 0x132042f28>]"
      ]
     },
     "execution_count": 149,
     "metadata": {},
     "output_type": "execute_result"
    },
    {
     "data": {
      "image/png": "[encoded data removed]",
      "text/plain": [
       "<matplotlib.figure.Figure at 0x131d3d400>"
      ]
     },
     "metadata": {},
     "output_type": "display_data"
    }
   ],
   "source": [
    "# 予測\n",
    "trainPredict = model.predict(trainX, batch_size=batch_size)\n",
    "testPredict = model.predict(testX, batch_size=batch_size)\n",
    "\n",
    "# 元のスケールに戻す\n",
    "trainPredict = scaler.inverse_transform(trainPredict)\n",
    "trainY = scaler.inverse_transform([trainY])\n",
    "testPredict = scaler.inverse_transform(testPredict)\n",
    "testY = scaler.inverse_transform([testY])\n",
    "\n",
    "trainScore = math.sqrt(mean_squared_error(trainY[0], trainPredict[:, 0]))\n",
    "print('Train Score: %.2f RMSE' % (trainScore))\n",
    "testScore = math.sqrt(mean_squared_error(testY[0], testPredict[:, 0]))\n",
    "print('Test Score: %.2f RMSE' % (testScore))\n",
    "\n",
    "trainPredictPlot = np.empty_like(dataset)\n",
    "trainPredictPlot[:, :] = np.nan\n",
    "trainPredictPlot[look_back:len(trainPredict) + look_back, :] = trainPredict\n",
    "testPredictPlot = np.empty_like(dataset)\n",
    "testPredictPlot[:, :] = np.nan\n",
    "testPredictPlot[len(trainPredict) + (look_back * 2) + 1:len(dataset) - 1, :] = testPredict\n",
    "\n",
    "# 元データをプロット（青）\n",
    "plt.plot(scaler.inverse_transform(dataset))\n",
    "\n",
    "# 訓練内データの予測をプロット（緑）\n",
    "plt.plot(trainPredictPlot)\n",
    "\n",
    "# テストデータの予測をプロット\n",
    "plt.plot(testPredictPlot)"
   ]
  },
  {
   "cell_type": "code",
   "execution_count": null,
   "metadata": {
    "collapsed": true
   },
   "outputs": [],
   "source": []
  }
 ],
 "metadata": {
  "kernelspec": {
   "display_name": "Python [conda root]",
   "language": "python",
   "name": "conda-root-py"
  },
  "language_info": {
   "codemirror_mode": {
    "name": "ipython",
    "version": 3
   },
   "file_extension": ".py",
   "mimetype": "text/x-python",
   "name": "python",
   "nbconvert_exporter": "python",
   "pygments_lexer": "ipython3",
   "version": "3.5.2"
  }
 },
 "nbformat": 4,
 "nbformat_minor": 1
}
