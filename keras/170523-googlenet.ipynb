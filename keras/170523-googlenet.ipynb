{
 "cells": [
  {
   "cell_type": "code",
   "execution_count": 7,
   "metadata": {
    "collapsed": false
   },
   "outputs": [],
   "source": [
    "import keras"
   ]
  },
  {
   "cell_type": "code",
   "execution_count": 2,
   "metadata": {
    "collapsed": false
   },
   "outputs": [
    {
     "data": {
      "text/plain": [
       "'1.2.2'"
      ]
     },
     "execution_count": 2,
     "metadata": {},
     "output_type": "execute_result"
    }
   ],
   "source": [
    "keras.__version__"
   ]
  },
  {
   "cell_type": "code",
   "execution_count": 3,
   "metadata": {
    "collapsed": true
   },
   "outputs": [],
   "source": [
    "from googlenet_custom_layers import PoolHelper, LRN\n",
    "from keras.models import model_from_json"
   ]
  },
  {
   "cell_type": "code",
   "execution_count": 8,
   "metadata": {
    "collapsed": false
   },
   "outputs": [],
   "source": [
    "model = model_from_json(open('googlenet_architecture.json').read(),\n",
    "                       custom_objects={'PoolHelper': PoolHelper, 'LRN': LRN})\n",
    "model.load_weights('googlenet_weights.h5')"
   ]
  },
  {
   "cell_type": "code",
   "execution_count": 9,
   "metadata": {
    "collapsed": false
   },
   "outputs": [
    {
     "name": "stdout",
     "output_type": "stream",
     "text": [
      "____________________________________________________________________________________________________\n",
      "Layer (type)                     Output Shape          Param #     Connected to                     \n",
      "====================================================================================================\n",
      "input_1 (InputLayer)             (None, 3, 224, 224)   0                                            \n",
      "____________________________________________________________________________________________________\n",
      "conv1/7x7_s2 (Convolution2D)     (None, 64, 112, 112)  9472        input_1[0][0]                    \n",
      "____________________________________________________________________________________________________\n",
      "zeropadding2d_1 (ZeroPadding2D)  (None, 64, 114, 114)  0           conv1/7x7_s2[0][0]               \n",
      "____________________________________________________________________________________________________\n",
      "poolhelper_1 (PoolHelper)        (None, 64, 114, 114)  0           zeropadding2d_1[0][0]            \n",
      "____________________________________________________________________________________________________\n",
      "pool1/3x3_s2 (MaxPooling2D)      (None, 64, 56, 56)    0           poolhelper_1[0][0]               \n",
      "____________________________________________________________________________________________________\n",
      "pool1/norm1 (LRN)                (None, 64, 56, 56)    0           pool1/3x3_s2[0][0]               \n",
      "____________________________________________________________________________________________________\n",
      "conv2/3x3_reduce (Convolution2D) (None, 64, 56, 56)    4160        pool1/norm1[0][0]                \n",
      "____________________________________________________________________________________________________\n",
      "conv2/3x3 (Convolution2D)        (None, 192, 56, 56)   110784      conv2/3x3_reduce[0][0]           \n",
      "____________________________________________________________________________________________________\n",
      "conv2/norm2 (LRN)                (None, 192, 56, 56)   0           conv2/3x3[0][0]                  \n",
      "____________________________________________________________________________________________________\n",
      "zeropadding2d_2 (ZeroPadding2D)  (None, 192, 58, 58)   0           conv2/norm2[0][0]                \n",
      "____________________________________________________________________________________________________\n",
      "poolhelper_2 (PoolHelper)        (None, 192, 58, 58)   0           zeropadding2d_2[0][0]            \n",
      "____________________________________________________________________________________________________\n",
      "pool2/3x3_s2 (MaxPooling2D)      (None, 192, 28, 28)   0           poolhelper_2[0][0]               \n",
      "____________________________________________________________________________________________________\n",
      "inception_3a/3x3_reduce (Convolu (None, 96, 28, 28)    18528       pool2/3x3_s2[0][0]               \n",
      "____________________________________________________________________________________________________\n",
      "inception_3a/5x5_reduce (Convolu (None, 16, 28, 28)    3088        pool2/3x3_s2[0][0]               \n",
      "____________________________________________________________________________________________________\n",
      "inception_3a/pool (MaxPooling2D) (None, 192, 28, 28)   0           pool2/3x3_s2[0][0]               \n",
      "____________________________________________________________________________________________________\n",
      "inception_3a/1x1 (Convolution2D) (None, 64, 28, 28)    12352       pool2/3x3_s2[0][0]               \n",
      "____________________________________________________________________________________________________\n",
      "inception_3a/3x3 (Convolution2D) (None, 128, 28, 28)   110720      inception_3a/3x3_reduce[0][0]    \n",
      "____________________________________________________________________________________________________\n",
      "inception_3a/5x5 (Convolution2D) (None, 32, 28, 28)    12832       inception_3a/5x5_reduce[0][0]    \n",
      "____________________________________________________________________________________________________\n",
      "inception_3a/pool_proj (Convolut (None, 32, 28, 28)    6176        inception_3a/pool[0][0]          \n",
      "____________________________________________________________________________________________________\n",
      "inception_3a/output (Merge)      (None, 256, 28, 28)   0           inception_3a/1x1[0][0]           \n",
      "                                                                   inception_3a/3x3[0][0]           \n",
      "                                                                   inception_3a/5x5[0][0]           \n",
      "                                                                   inception_3a/pool_proj[0][0]     \n",
      "____________________________________________________________________________________________________\n",
      "inception_3b/3x3_reduce (Convolu (None, 128, 28, 28)   32896       inception_3a/output[0][0]        \n",
      "____________________________________________________________________________________________________\n",
      "inception_3b/5x5_reduce (Convolu (None, 32, 28, 28)    8224        inception_3a/output[0][0]        \n",
      "____________________________________________________________________________________________________\n",
      "inception_3b/pool (MaxPooling2D) (None, 256, 28, 28)   0           inception_3a/output[0][0]        \n",
      "____________________________________________________________________________________________________\n",
      "inception_3b/1x1 (Convolution2D) (None, 128, 28, 28)   32896       inception_3a/output[0][0]        \n",
      "____________________________________________________________________________________________________\n",
      "inception_3b/3x3 (Convolution2D) (None, 192, 28, 28)   221376      inception_3b/3x3_reduce[0][0]    \n",
      "____________________________________________________________________________________________________\n",
      "inception_3b/5x5 (Convolution2D) (None, 96, 28, 28)    76896       inception_3b/5x5_reduce[0][0]    \n",
      "____________________________________________________________________________________________________\n",
      "inception_3b/pool_proj (Convolut (None, 64, 28, 28)    16448       inception_3b/pool[0][0]          \n",
      "____________________________________________________________________________________________________\n",
      "inception_3b/output (Merge)      (None, 480, 28, 28)   0           inception_3b/1x1[0][0]           \n",
      "                                                                   inception_3b/3x3[0][0]           \n",
      "                                                                   inception_3b/5x5[0][0]           \n",
      "                                                                   inception_3b/pool_proj[0][0]     \n",
      "____________________________________________________________________________________________________\n",
      "zeropadding2d_3 (ZeroPadding2D)  (None, 480, 30, 30)   0           inception_3b/output[0][0]        \n",
      "____________________________________________________________________________________________________\n",
      "poolhelper_3 (PoolHelper)        (None, 480, 30, 30)   0           zeropadding2d_3[0][0]            \n",
      "____________________________________________________________________________________________________\n",
      "pool3/3x3_s2 (MaxPooling2D)      (None, 480, 14, 14)   0           poolhelper_3[0][0]               \n",
      "____________________________________________________________________________________________________\n",
      "inception_4a/3x3_reduce (Convolu (None, 96, 14, 14)    46176       pool3/3x3_s2[0][0]               \n",
      "____________________________________________________________________________________________________\n",
      "inception_4a/5x5_reduce (Convolu (None, 16, 14, 14)    7696        pool3/3x3_s2[0][0]               \n",
      "____________________________________________________________________________________________________\n",
      "inception_4a/pool (MaxPooling2D) (None, 480, 14, 14)   0           pool3/3x3_s2[0][0]               \n",
      "____________________________________________________________________________________________________\n",
      "inception_4a/1x1 (Convolution2D) (None, 192, 14, 14)   92352       pool3/3x3_s2[0][0]               \n",
      "____________________________________________________________________________________________________\n",
      "inception_4a/3x3 (Convolution2D) (None, 208, 14, 14)   179920      inception_4a/3x3_reduce[0][0]    \n",
      "____________________________________________________________________________________________________\n",
      "inception_4a/5x5 (Convolution2D) (None, 48, 14, 14)    19248       inception_4a/5x5_reduce[0][0]    \n",
      "____________________________________________________________________________________________________\n",
      "inception_4a/pool_proj (Convolut (None, 64, 14, 14)    30784       inception_4a/pool[0][0]          \n",
      "____________________________________________________________________________________________________\n",
      "inception_4a/output (Merge)      (None, 512, 14, 14)   0           inception_4a/1x1[0][0]           \n",
      "                                                                   inception_4a/3x3[0][0]           \n",
      "                                                                   inception_4a/5x5[0][0]           \n",
      "                                                                   inception_4a/pool_proj[0][0]     \n",
      "____________________________________________________________________________________________________\n",
      "inception_4b/3x3_reduce (Convolu (None, 112, 14, 14)   57456       inception_4a/output[0][0]        \n",
      "____________________________________________________________________________________________________\n",
      "inception_4b/5x5_reduce (Convolu (None, 24, 14, 14)    12312       inception_4a/output[0][0]        \n",
      "____________________________________________________________________________________________________\n",
      "inception_4b/pool (MaxPooling2D) (None, 512, 14, 14)   0           inception_4a/output[0][0]        \n",
      "____________________________________________________________________________________________________\n",
      "inception_4b/1x1 (Convolution2D) (None, 160, 14, 14)   82080       inception_4a/output[0][0]        \n",
      "____________________________________________________________________________________________________\n",
      "inception_4b/3x3 (Convolution2D) (None, 224, 14, 14)   226016      inception_4b/3x3_reduce[0][0]    \n",
      "____________________________________________________________________________________________________\n",
      "inception_4b/5x5 (Convolution2D) (None, 64, 14, 14)    38464       inception_4b/5x5_reduce[0][0]    \n",
      "____________________________________________________________________________________________________\n",
      "inception_4b/pool_proj (Convolut (None, 64, 14, 14)    32832       inception_4b/pool[0][0]          \n",
      "____________________________________________________________________________________________________\n",
      "inception_4b_output (Merge)      (None, 512, 14, 14)   0           inception_4b/1x1[0][0]           \n",
      "                                                                   inception_4b/3x3[0][0]           \n",
      "                                                                   inception_4b/5x5[0][0]           \n",
      "                                                                   inception_4b/pool_proj[0][0]     \n",
      "____________________________________________________________________________________________________\n",
      "inception_4c/3x3_reduce (Convolu (None, 128, 14, 14)   65664       inception_4b_output[0][0]        \n",
      "____________________________________________________________________________________________________\n",
      "inception_4c/5x5_reduce (Convolu (None, 24, 14, 14)    12312       inception_4b_output[0][0]        \n",
      "____________________________________________________________________________________________________\n",
      "inception_4c/pool (MaxPooling2D) (None, 512, 14, 14)   0           inception_4b_output[0][0]        \n",
      "____________________________________________________________________________________________________\n",
      "inception_4c/1x1 (Convolution2D) (None, 128, 14, 14)   65664       inception_4b_output[0][0]        \n",
      "____________________________________________________________________________________________________\n",
      "inception_4c/3x3 (Convolution2D) (None, 256, 14, 14)   295168      inception_4c/3x3_reduce[0][0]    \n",
      "____________________________________________________________________________________________________\n",
      "inception_4c/5x5 (Convolution2D) (None, 64, 14, 14)    38464       inception_4c/5x5_reduce[0][0]    \n",
      "____________________________________________________________________________________________________\n",
      "inception_4c/pool_proj (Convolut (None, 64, 14, 14)    32832       inception_4c/pool[0][0]          \n",
      "____________________________________________________________________________________________________\n",
      "inception_4c/output (Merge)      (None, 512, 14, 14)   0           inception_4c/1x1[0][0]           \n",
      "                                                                   inception_4c/3x3[0][0]           \n",
      "                                                                   inception_4c/5x5[0][0]           \n",
      "                                                                   inception_4c/pool_proj[0][0]     \n",
      "____________________________________________________________________________________________________\n",
      "inception_4d/3x3_reduce (Convolu (None, 144, 14, 14)   73872       inception_4c/output[0][0]        \n",
      "____________________________________________________________________________________________________\n",
      "inception_4d/5x5_reduce (Convolu (None, 32, 14, 14)    16416       inception_4c/output[0][0]        \n",
      "____________________________________________________________________________________________________\n",
      "inception_4d/pool (MaxPooling2D) (None, 512, 14, 14)   0           inception_4c/output[0][0]        \n",
      "____________________________________________________________________________________________________\n",
      "inception_4d/1x1 (Convolution2D) (None, 112, 14, 14)   57456       inception_4c/output[0][0]        \n",
      "____________________________________________________________________________________________________\n",
      "inception_4d/3x3 (Convolution2D) (None, 288, 14, 14)   373536      inception_4d/3x3_reduce[0][0]    \n",
      "____________________________________________________________________________________________________\n",
      "inception_4d/5x5 (Convolution2D) (None, 64, 14, 14)    51264       inception_4d/5x5_reduce[0][0]    \n",
      "____________________________________________________________________________________________________\n",
      "inception_4d/pool_proj (Convolut (None, 64, 14, 14)    32832       inception_4d/pool[0][0]          \n",
      "____________________________________________________________________________________________________\n",
      "inception_4d/output (Merge)      (None, 528, 14, 14)   0           inception_4d/1x1[0][0]           \n",
      "                                                                   inception_4d/3x3[0][0]           \n",
      "                                                                   inception_4d/5x5[0][0]           \n",
      "                                                                   inception_4d/pool_proj[0][0]     \n",
      "____________________________________________________________________________________________________\n",
      "inception_4e/3x3_reduce (Convolu (None, 160, 14, 14)   84640       inception_4d/output[0][0]        \n",
      "____________________________________________________________________________________________________\n",
      "inception_4e/5x5_reduce (Convolu (None, 32, 14, 14)    16928       inception_4d/output[0][0]        \n",
      "____________________________________________________________________________________________________\n",
      "inception_4e/pool (MaxPooling2D) (None, 528, 14, 14)   0           inception_4d/output[0][0]        \n",
      "____________________________________________________________________________________________________\n",
      "inception_4e/1x1 (Convolution2D) (None, 256, 14, 14)   135424      inception_4d/output[0][0]        \n",
      "____________________________________________________________________________________________________\n",
      "inception_4e/3x3 (Convolution2D) (None, 320, 14, 14)   461120      inception_4e/3x3_reduce[0][0]    \n",
      "____________________________________________________________________________________________________\n",
      "inception_4e/5x5 (Convolution2D) (None, 128, 14, 14)   102528      inception_4e/5x5_reduce[0][0]    \n",
      "____________________________________________________________________________________________________\n",
      "inception_4e/pool_proj (Convolut (None, 128, 14, 14)   67712       inception_4e/pool[0][0]          \n",
      "____________________________________________________________________________________________________\n",
      "inception_4e/output (Merge)      (None, 832, 14, 14)   0           inception_4e/1x1[0][0]           \n",
      "                                                                   inception_4e/3x3[0][0]           \n",
      "                                                                   inception_4e/5x5[0][0]           \n",
      "                                                                   inception_4e/pool_proj[0][0]     \n",
      "____________________________________________________________________________________________________\n",
      "zeropadding2d_4 (ZeroPadding2D)  (None, 832, 16, 16)   0           inception_4e/output[0][0]        \n",
      "____________________________________________________________________________________________________\n",
      "poolhelper_4 (PoolHelper)        (None, 832, 16, 16)   0           zeropadding2d_4[0][0]            \n",
      "____________________________________________________________________________________________________\n",
      "pool4/3x3_s2 (MaxPooling2D)      (None, 832, 7, 7)     0           poolhelper_4[0][0]               \n",
      "____________________________________________________________________________________________________\n",
      "inception_5a/3x3_reduce (Convolu (None, 160, 7, 7)     133280      pool4/3x3_s2[0][0]               \n",
      "____________________________________________________________________________________________________\n",
      "inception_5a/5x5_reduce (Convolu (None, 32, 7, 7)      26656       pool4/3x3_s2[0][0]               \n",
      "____________________________________________________________________________________________________\n",
      "inception_5a/pool (MaxPooling2D) (None, 832, 7, 7)     0           pool4/3x3_s2[0][0]               \n",
      "____________________________________________________________________________________________________\n",
      "inception_5a/1x1 (Convolution2D) (None, 256, 7, 7)     213248      pool4/3x3_s2[0][0]               \n",
      "____________________________________________________________________________________________________\n",
      "inception_5a/3x3 (Convolution2D) (None, 320, 7, 7)     461120      inception_5a/3x3_reduce[0][0]    \n",
      "____________________________________________________________________________________________________\n",
      "inception_5a/5x5 (Convolution2D) (None, 128, 7, 7)     102528      inception_5a/5x5_reduce[0][0]    \n",
      "____________________________________________________________________________________________________\n",
      "inception_5a/pool_proj (Convolut (None, 128, 7, 7)     106624      inception_5a/pool[0][0]          \n",
      "____________________________________________________________________________________________________\n",
      "inception_5a/output (Merge)      (None, 832, 7, 7)     0           inception_5a/1x1[0][0]           \n",
      "                                                                   inception_5a/3x3[0][0]           \n",
      "                                                                   inception_5a/5x5[0][0]           \n",
      "                                                                   inception_5a/pool_proj[0][0]     \n",
      "____________________________________________________________________________________________________\n",
      "inception_5b/3x3_reduce (Convolu (None, 192, 7, 7)     159936      inception_5a/output[0][0]        \n",
      "____________________________________________________________________________________________________\n",
      "inception_5b/5x5_reduce (Convolu (None, 48, 7, 7)      39984       inception_5a/output[0][0]        \n",
      "____________________________________________________________________________________________________\n",
      "inception_5b/pool (MaxPooling2D) (None, 832, 7, 7)     0           inception_5a/output[0][0]        \n",
      "____________________________________________________________________________________________________\n",
      "loss1/ave_pool (AveragePooling2D (None, 512, 4, 4)     0           inception_4a/output[0][0]        \n",
      "____________________________________________________________________________________________________\n",
      "loss2/ave_pool (AveragePooling2D (None, 528, 4, 4)     0           inception_4d/output[0][0]        \n",
      "____________________________________________________________________________________________________\n",
      "inception_5b/1x1 (Convolution2D) (None, 384, 7, 7)     319872      inception_5a/output[0][0]        \n",
      "____________________________________________________________________________________________________\n",
      "inception_5b/3x3 (Convolution2D) (None, 384, 7, 7)     663936      inception_5b/3x3_reduce[0][0]    \n",
      "____________________________________________________________________________________________________\n",
      "inception_5b/5x5 (Convolution2D) (None, 128, 7, 7)     153728      inception_5b/5x5_reduce[0][0]    \n",
      "____________________________________________________________________________________________________\n",
      "inception_5b/pool_proj (Convolut (None, 128, 7, 7)     106624      inception_5b/pool[0][0]          \n",
      "____________________________________________________________________________________________________\n",
      "loss1/conv (Convolution2D)       (None, 128, 4, 4)     65664       loss1/ave_pool[0][0]             \n",
      "____________________________________________________________________________________________________\n",
      "loss2/conv (Convolution2D)       (None, 128, 4, 4)     67712       loss2/ave_pool[0][0]             \n",
      "____________________________________________________________________________________________________\n",
      "inception_5b/output (Merge)      (None, 1024, 7, 7)    0           inception_5b/1x1[0][0]           \n",
      "                                                                   inception_5b/3x3[0][0]           \n",
      "                                                                   inception_5b/5x5[0][0]           \n",
      "                                                                   inception_5b/pool_proj[0][0]     \n",
      "____________________________________________________________________________________________________\n",
      "flatten_1 (Flatten)              (None, 2048)          0           loss1/conv[0][0]                 \n",
      "____________________________________________________________________________________________________\n",
      "flatten_2 (Flatten)              (None, 2048)          0           loss2/conv[0][0]                 \n",
      "____________________________________________________________________________________________________\n",
      "pool5/7x7_s2 (AveragePooling2D)  (None, 1024, 1, 1)    0           inception_5b/output[0][0]        \n",
      "____________________________________________________________________________________________________\n",
      "loss1/fc (Dense)                 (None, 1024)          2098176     flatten_1[0][0]                  \n",
      "____________________________________________________________________________________________________\n",
      "loss2/fc (Dense)                 (None, 1024)          2098176     flatten_2[0][0]                  \n",
      "____________________________________________________________________________________________________\n",
      "flatten_3 (Flatten)              (None, 1024)          0           pool5/7x7_s2[0][0]               \n",
      "____________________________________________________________________________________________________\n",
      "dropout_1 (Dropout)              (None, 1024)          0           loss1/fc[0][0]                   \n",
      "____________________________________________________________________________________________________\n",
      "dropout_2 (Dropout)              (None, 1024)          0           loss2/fc[0][0]                   \n",
      "____________________________________________________________________________________________________\n",
      "dropout_3 (Dropout)              (None, 1024)          0           flatten_3[0][0]                  \n",
      "____________________________________________________________________________________________________\n",
      "loss1/classifier (Dense)         (None, 1000)          1025000     dropout_1[0][0]                  \n",
      "____________________________________________________________________________________________________\n",
      "loss2/classifier (Dense)         (None, 1000)          1025000     dropout_2[0][0]                  \n",
      "____________________________________________________________________________________________________\n",
      "loss3/classifier (Dense)         (None, 1000)          1025000     dropout_3[0][0]                  \n",
      "____________________________________________________________________________________________________\n",
      "activation_1 (Activation)        (None, 1000)          0           loss1/classifier[0][0]           \n",
      "____________________________________________________________________________________________________\n",
      "activation_2 (Activation)        (None, 1000)          0           loss2/classifier[0][0]           \n",
      "____________________________________________________________________________________________________\n",
      "prob (Activation)                (None, 1000)          0           loss3/classifier[0][0]           \n",
      "====================================================================================================\n",
      "Total params: 13,378,280\n",
      "Trainable params: 13,378,280\n",
      "Non-trainable params: 0\n",
      "____________________________________________________________________________________________________\n"
     ]
    }
   ],
   "source": [
    "model.summary()"
   ]
  },
  {
   "cell_type": "code",
   "execution_count": 10,
   "metadata": {
    "collapsed": true
   },
   "outputs": [],
   "source": [
    "??model_from_json"
   ]
  },
  {
   "cell_type": "code",
   "execution_count": 12,
   "metadata": {
    "collapsed": true
   },
   "outputs": [],
   "source": [
    "??PoolHelper"
   ]
  },
  {
   "cell_type": "code",
   "execution_count": 35,
   "metadata": {
    "collapsed": true
   },
   "outputs": [],
   "source": [
    "from keras.layers import Merge"
   ]
  },
  {
   "cell_type": "code",
   "execution_count": 36,
   "metadata": {
    "collapsed": false
   },
   "outputs": [
    {
     "data": {
      "text/plain": [
       "<function keras.engine.topology.merge>"
      ]
     },
     "execution_count": 36,
     "metadata": {},
     "output_type": "execute_result"
    }
   ],
   "source": [
    "merge"
   ]
  },
  {
   "cell_type": "code",
   "execution_count": 58,
   "metadata": {
    "collapsed": false
   },
   "outputs": [
    {
     "name": "stdout",
     "output_type": "stream",
     "text": [
      "(None, 32)\n",
      "(None, 32)\n",
      "(None, 64)\n"
     ]
    }
   ],
   "source": [
    "from keras.models import Sequential\n",
    "from keras.layers import Dense, merge\n",
    "\n",
    "left_branch = Sequential()\n",
    "left_branch.add(Dense(32, input_dim=784))\n",
    "print(left_branch.output_shape)\n",
    "\n",
    "right_branch = Sequential()\n",
    "right_branch.add(Dense(32, input_dim=784))\n",
    "print(right_branch.output_shape)\n",
    "\n",
    "merged = Merge([left_branch, right_branch], mode='concat', concat_axis=1)\n",
    "print(merged.output_shape)"
   ]
  },
  {
   "cell_type": "code",
   "execution_count": 60,
   "metadata": {
    "collapsed": false
   },
   "outputs": [
    {
     "data": {
      "text/plain": [
       "[(None, 1000), (None, 1000), (None, 1000)]"
      ]
     },
     "execution_count": 60,
     "metadata": {},
     "output_type": "execute_result"
    }
   ],
   "source": [
    "model.output_shape"
   ]
  },
  {
   "cell_type": "code",
   "execution_count": 62,
   "metadata": {
    "collapsed": false
   },
   "outputs": [
    {
     "ename": "ImportError",
     "evalue": "No module named 'cv2'",
     "output_type": "error",
     "traceback": [
      "\u001b[0;31m---------------------------------------------------------------------------\u001b[0m",
      "\u001b[0;31mImportError\u001b[0m                               Traceback (most recent call last)",
      "\u001b[0;32m<ipython-input-62-a0e6bed9ef3d>\u001b[0m in \u001b[0;36m<module>\u001b[0;34m()\u001b[0m\n\u001b[0;32m----> 1\u001b[0;31m \u001b[0;32mimport\u001b[0m \u001b[0mcv2\u001b[0m\u001b[0;34m\u001b[0m\u001b[0m\n\u001b[0m\u001b[1;32m      2\u001b[0m \u001b[0mimg\u001b[0m \u001b[0;34m=\u001b[0m \u001b[0mimread\u001b[0m\u001b[0;34m\u001b[0m\u001b[0m\n",
      "\u001b[0;31mImportError\u001b[0m: No module named 'cv2'"
     ]
    }
   ],
   "source": [
    "import cv2\n",
    "img = imread"
   ]
  },
  {
   "cell_type": "code",
   "execution_count": 63,
   "metadata": {
    "collapsed": false
   },
   "outputs": [
    {
     "data": {
      "text/plain": [
       "<keras.engine.training.Model at 0x118b5b0b8>"
      ]
     },
     "execution_count": 63,
     "metadata": {},
     "output_type": "execute_result"
    }
   ],
   "source": [
    "model"
   ]
  },
  {
   "cell_type": "code",
   "execution_count": 64,
   "metadata": {
    "collapsed": false
   },
   "outputs": [
    {
     "data": {
      "text/plain": [
       "['__call__',\n",
       " '__class__',\n",
       " '__delattr__',\n",
       " '__dict__',\n",
       " '__dir__',\n",
       " '__doc__',\n",
       " '__eq__',\n",
       " '__format__',\n",
       " '__ge__',\n",
       " '__getattribute__',\n",
       " '__gt__',\n",
       " '__hash__',\n",
       " '__init__',\n",
       " '__le__',\n",
       " '__lt__',\n",
       " '__module__',\n",
       " '__ne__',\n",
       " '__new__',\n",
       " '__reduce__',\n",
       " '__reduce_ex__',\n",
       " '__repr__',\n",
       " '__setattr__',\n",
       " '__sizeof__',\n",
       " '__str__',\n",
       " '__subclasshook__',\n",
       " '__weakref__',\n",
       " '_fit_loop',\n",
       " '_get_node_attribute_at_index',\n",
       " '_make_predict_function',\n",
       " '_make_test_function',\n",
       " '_make_train_function',\n",
       " '_output_mask_cache',\n",
       " '_output_shape_cache',\n",
       " '_output_tensor_cache',\n",
       " '_predict_loop',\n",
       " '_standardize_user_data',\n",
       " '_test_loop',\n",
       " '_updated_config',\n",
       " 'add_inbound_node',\n",
       " 'add_loss',\n",
       " 'add_update',\n",
       " 'add_weight',\n",
       " 'assert_input_compatibility',\n",
       " 'build',\n",
       " 'built',\n",
       " 'call',\n",
       " 'compile',\n",
       " 'compute_mask',\n",
       " 'constraints',\n",
       " 'container_nodes',\n",
       " 'count_params',\n",
       " 'create_input_layer',\n",
       " 'evaluate',\n",
       " 'evaluate_generator',\n",
       " 'fit',\n",
       " 'fit_generator',\n",
       " 'from_config',\n",
       " 'get_config',\n",
       " 'get_input_at',\n",
       " 'get_input_mask_at',\n",
       " 'get_input_shape_at',\n",
       " 'get_layer',\n",
       " 'get_losses_for',\n",
       " 'get_output_at',\n",
       " 'get_output_mask_at',\n",
       " 'get_output_shape_at',\n",
       " 'get_output_shape_for',\n",
       " 'get_updates_for',\n",
       " 'get_weights',\n",
       " 'inbound_nodes',\n",
       " 'input',\n",
       " 'input_layers',\n",
       " 'input_layers_node_indices',\n",
       " 'input_layers_tensor_indices',\n",
       " 'input_mask',\n",
       " 'input_names',\n",
       " 'input_shape',\n",
       " 'input_spec',\n",
       " 'inputs',\n",
       " 'internal_input_shapes',\n",
       " 'internal_output_shapes',\n",
       " 'layers',\n",
       " 'layers_by_depth',\n",
       " 'load_weights',\n",
       " 'load_weights_from_hdf5_group',\n",
       " 'load_weights_from_hdf5_group_by_name',\n",
       " 'losses',\n",
       " 'name',\n",
       " 'nodes_by_depth',\n",
       " 'non_trainable_weights',\n",
       " 'outbound_nodes',\n",
       " 'output',\n",
       " 'output_layers',\n",
       " 'output_layers_node_indices',\n",
       " 'output_layers_tensor_indices',\n",
       " 'output_mask',\n",
       " 'output_names',\n",
       " 'output_shape',\n",
       " 'outputs',\n",
       " 'predict',\n",
       " 'predict_generator',\n",
       " 'predict_on_batch',\n",
       " 'regularizers',\n",
       " 'reset_states',\n",
       " 'run_internal_graph',\n",
       " 'save',\n",
       " 'save_weights',\n",
       " 'save_weights_to_hdf5_group',\n",
       " 'set_weights',\n",
       " 'state_updates',\n",
       " 'stateful',\n",
       " 'summary',\n",
       " 'supports_masking',\n",
       " 'test_on_batch',\n",
       " 'to_json',\n",
       " 'to_yaml',\n",
       " 'train_on_batch',\n",
       " 'trainable',\n",
       " 'trainable_weights',\n",
       " 'updates',\n",
       " 'uses_learning_phase',\n",
       " 'weights']"
      ]
     },
     "execution_count": 64,
     "metadata": {},
     "output_type": "execute_result"
    }
   ],
   "source": [
    "dir(model)"
   ]
  },
  {
   "cell_type": "code",
   "execution_count": 65,
   "metadata": {
    "collapsed": false
   },
   "outputs": [
    {
     "data": {
      "text/plain": [
       "keras.engine.training.Model"
      ]
     },
     "execution_count": 65,
     "metadata": {},
     "output_type": "execute_result"
    }
   ],
   "source": [
    "type(model)"
   ]
  },
  {
   "cell_type": "code",
   "execution_count": 67,
   "metadata": {
    "collapsed": false
   },
   "outputs": [
    {
     "data": {
      "text/plain": [
       "(None, 3, 224, 224)"
      ]
     },
     "execution_count": 67,
     "metadata": {},
     "output_type": "execute_result"
    }
   ],
   "source": [
    "model.input_shape"
   ]
  },
  {
   "cell_type": "code",
   "execution_count": 81,
   "metadata": {
    "collapsed": false
   },
   "outputs": [],
   "source": [
    "from PIL import Image\n",
    "import numpy as np"
   ]
  },
  {
   "cell_type": "code",
   "execution_count": 82,
   "metadata": {
    "collapsed": false
   },
   "outputs": [
    {
     "name": "stdout",
     "output_type": "stream",
     "text": [
      "170518-keras-mnist.ipynb           googlenet_custom_layers.py\r\n",
      "170519-lstm-text-generation.ipynb  googlenet_weights.h5\r\n",
      "170523-googlenet.ipynb             keras_mlp.py\r\n",
      "\u001b[1m\u001b[36m__pycache__\u001b[m\u001b[m/                       tabby_cat.jpg\r\n",
      "googlenet_architecture.json\r\n"
     ]
    }
   ],
   "source": [
    "ls"
   ]
  },
  {
   "cell_type": "code",
   "execution_count": 106,
   "metadata": {
    "collapsed": false
   },
   "outputs": [],
   "source": [
    "img = Image.open('tabby_cat.jpg')"
   ]
  },
  {
   "cell_type": "code",
   "execution_count": 107,
   "metadata": {
    "collapsed": true
   },
   "outputs": [],
   "source": [
    "img = img.resize((224, 224))"
   ]
  },
  {
   "cell_type": "code",
   "execution_count": 108,
   "metadata": {
    "collapsed": false
   },
   "outputs": [],
   "source": [
    "img = np.array(img, dtype='float32')"
   ]
  },
  {
   "cell_type": "code",
   "execution_count": 109,
   "metadata": {
    "collapsed": false
   },
   "outputs": [
    {
     "data": {
      "text/plain": [
       "(224, 224, 3)"
      ]
     },
     "execution_count": 109,
     "metadata": {},
     "output_type": "execute_result"
    }
   ],
   "source": [
    "img.shape"
   ]
  },
  {
   "cell_type": "code",
   "execution_count": 110,
   "metadata": {
    "collapsed": true
   },
   "outputs": [],
   "source": [
    "img[:, :, 0] -= 123.68\n",
    "img[:, :, 1] -= 116.779\n",
    "img[:, :, 2] -= 103.939"
   ]
  },
  {
   "cell_type": "code",
   "execution_count": 111,
   "metadata": {
    "collapsed": true
   },
   "outputs": [],
   "source": [
    "img[:, :, [0, 1, 2]] = img[:, :, [2, 1, 0]]  # RGB => BGR"
   ]
  },
  {
   "cell_type": "code",
   "execution_count": 112,
   "metadata": {
    "collapsed": false
   },
   "outputs": [],
   "source": [
    "img = img.transpose((2, 0, 1))"
   ]
  },
  {
   "cell_type": "code",
   "execution_count": 113,
   "metadata": {
    "collapsed": false
   },
   "outputs": [
    {
     "data": {
      "text/plain": [
       "(3, 224, 224)"
      ]
     },
     "execution_count": 113,
     "metadata": {},
     "output_type": "execute_result"
    }
   ],
   "source": [
    "img.shape"
   ]
  },
  {
   "cell_type": "code",
   "execution_count": 114,
   "metadata": {
    "collapsed": true
   },
   "outputs": [],
   "source": [
    "img = np.expand_dims(img, axis=0)"
   ]
  },
  {
   "cell_type": "code",
   "execution_count": 115,
   "metadata": {
    "collapsed": false
   },
   "outputs": [
    {
     "data": {
      "text/plain": [
       "(1, 3, 224, 224)"
      ]
     },
     "execution_count": 115,
     "metadata": {},
     "output_type": "execute_result"
    }
   ],
   "source": [
    "img.shape"
   ]
  },
  {
   "cell_type": "code",
   "execution_count": 118,
   "metadata": {
    "collapsed": false
   },
   "outputs": [],
   "source": [
    "output = model(img)"
   ]
  },
  {
   "cell_type": "code",
   "execution_count": 122,
   "metadata": {
    "collapsed": false
   },
   "outputs": [
    {
     "data": {
      "text/plain": [
       "theano.tensor.var.TensorVariable"
      ]
     },
     "execution_count": 122,
     "metadata": {},
     "output_type": "execute_result"
    }
   ],
   "source": [
    "output[0]"
   ]
  },
  {
   "cell_type": "code",
   "execution_count": 135,
   "metadata": {
    "collapsed": true
   },
   "outputs": [],
   "source": [
    "import theano\n",
    "import keras.backend as K"
   ]
  },
  {
   "cell_type": "code",
   "execution_count": 131,
   "metadata": {
    "collapsed": false
   },
   "outputs": [
    {
     "data": {
      "text/plain": [
       "input_1"
      ]
     },
     "execution_count": 131,
     "metadata": {},
     "output_type": "execute_result"
    }
   ],
   "source": [
    "model.input"
   ]
  },
  {
   "cell_type": "code",
   "execution_count": 132,
   "metadata": {
    "collapsed": false
   },
   "outputs": [
    {
     "data": {
      "text/plain": [
       "[Softmax.0, Softmax.0, Softmax.0]"
      ]
     },
     "execution_count": 132,
     "metadata": {},
     "output_type": "execute_result"
    }
   ],
   "source": [
    "model.output"
   ]
  },
  {
   "cell_type": "code",
   "execution_count": 136,
   "metadata": {
    "collapsed": false
   },
   "outputs": [],
   "source": [
    "f = theano.function(inputs=[model.input, K.learning_phase()], outputs=model.output, allow_input_downcast=True)"
   ]
  },
  {
   "cell_type": "code",
   "execution_count": 140,
   "metadata": {
    "collapsed": false
   },
   "outputs": [
    {
     "data": {
      "text/plain": [
       "keras_learning_phase"
      ]
     },
     "execution_count": 140,
     "metadata": {},
     "output_type": "execute_result"
    }
   ],
   "source": [
    "K.learning_phase()"
   ]
  },
  {
   "cell_type": "code",
   "execution_count": 144,
   "metadata": {
    "collapsed": false
   },
   "outputs": [],
   "source": [
    "result = f(img, 0)"
   ]
  },
  {
   "cell_type": "code",
   "execution_count": 149,
   "metadata": {
    "collapsed": false
   },
   "outputs": [
    {
     "name": "stdout",
     "output_type": "stream",
     "text": [
      "(1, 1000)\n",
      "(1, 1000)\n",
      "(1, 1000)\n"
     ]
    }
   ],
   "source": [
    "print(result[0].shape)\n",
    "print(result[1].shape)\n",
    "print(result[2].shape)"
   ]
  },
  {
   "cell_type": "code",
   "execution_count": 150,
   "metadata": {
    "collapsed": false
   },
   "outputs": [
    {
     "data": {
      "text/plain": [
       "282"
      ]
     },
     "execution_count": 150,
     "metadata": {},
     "output_type": "execute_result"
    }
   ],
   "source": [
    "np.argmax(result[0])"
   ]
  },
  {
   "cell_type": "code",
   "execution_count": 151,
   "metadata": {
    "collapsed": false
   },
   "outputs": [
    {
     "data": {
      "text/plain": [
       "282"
      ]
     },
     "execution_count": 151,
     "metadata": {},
     "output_type": "execute_result"
    }
   ],
   "source": [
    "np.argmax(result[1])"
   ]
  },
  {
   "cell_type": "code",
   "execution_count": 152,
   "metadata": {
    "collapsed": false
   },
   "outputs": [
    {
     "data": {
      "text/plain": [
       "282"
      ]
     },
     "execution_count": 152,
     "metadata": {},
     "output_type": "execute_result"
    }
   ],
   "source": [
    "np.argmax(result[2])"
   ]
  },
  {
   "cell_type": "code",
   "execution_count": 155,
   "metadata": {
    "collapsed": false
   },
   "outputs": [
    {
     "name": "stdout",
     "output_type": "stream",
     "text": [
      "--2017-05-23 15:03:14--  https://s3.amazonaws.com/deep-learning-models/image-models/imagenet_class_index.json\n",
      "Resolving s3.amazonaws.com... 52.216.17.115\n",
      "Connecting to s3.amazonaws.com|52.216.17.115|:443... connected.\n",
      "HTTP request sent, awaiting response... 200 OK\n",
      "Length: 35363 (35K) [application/octet-stream]\n",
      "Saving to: ‘imagenet_class_index.json’\n",
      "\n",
      "imagenet_class_inde 100%[===================>]  34.53K   107KB/s    in 0.3s    \n",
      "\n",
      "2017-05-23 15:03:15 (107 KB/s) - ‘imagenet_class_index.json’ saved [35363/35363]\n",
      "\n"
     ]
    }
   ],
   "source": [
    "!wget 'https://s3.amazonaws.com/deep-learning-models/image-models/imagenet_class_index.json'"
   ]
  },
  {
   "cell_type": "code",
   "execution_count": 157,
   "metadata": {
    "collapsed": false
   },
   "outputs": [],
   "source": [
    "import json\n",
    "classes = json.load(open('imagenet_class_index.json'))"
   ]
  },
  {
   "cell_type": "code",
   "execution_count": 160,
   "metadata": {
    "collapsed": false
   },
   "outputs": [
    {
     "data": {
      "text/plain": [
       "['n02123159', 'tiger_cat']"
      ]
     },
     "execution_count": 160,
     "metadata": {},
     "output_type": "execute_result"
    }
   ],
   "source": [
    "classes['282']"
   ]
  },
  {
   "cell_type": "code",
   "execution_count": null,
   "metadata": {
    "collapsed": true
   },
   "outputs": [],
   "source": []
  }
 ],
 "metadata": {
  "anaconda-cloud": {},
  "kernelspec": {
   "display_name": "Python [conda env:keras1]",
   "language": "python",
   "name": "conda-env-keras1-py"
  },
  "language_info": {
   "codemirror_mode": {
    "name": "ipython",
    "version": 3
   },
   "file_extension": ".py",
   "mimetype": "text/x-python",
   "name": "python",
   "nbconvert_exporter": "python",
   "pygments_lexer": "ipython3",
   "version": "3.5.3"
  }
 },
 "nbformat": 4,
 "nbformat_minor": 1
}
