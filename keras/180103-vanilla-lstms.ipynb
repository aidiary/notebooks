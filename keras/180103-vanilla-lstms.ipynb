{
 "cells": [
  {
   "cell_type": "code",
   "execution_count": 5,
   "metadata": {
    "collapsed": true
   },
   "outputs": [],
   "source": [
    "import numpy as np\n",
    "import random"
   ]
  },
  {
   "cell_type": "code",
   "execution_count": 20,
   "metadata": {
    "collapsed": true
   },
   "outputs": [],
   "source": [
    "# generate a sequence of random number in [0, n_features)\n",
    "def generate_sequence(length, n_features):\n",
    "    return [random.randint(0, n_features - 1) for _ in range(length)]\n",
    "\n",
    "# one hot encode sequence\n",
    "def one_hot_encode(sequence, n_features):\n",
    "    encoding = list()\n",
    "    for value in sequence:\n",
    "        vector = [0 for _ in range(n_features)]\n",
    "        vector[value] = 1\n",
    "        encoding.append(vector)\n",
    "    return np.array(encoding)\n",
    "\n",
    "# decode a one hot encoded string\n",
    "def one_hot_decode(encoded_seq):\n",
    "    return [np.argmax(vector) for vector in encoded_seq]"
   ]
  },
  {
   "cell_type": "code",
   "execution_count": 25,
   "metadata": {},
   "outputs": [
    {
     "name": "stdout",
     "output_type": "stream",
     "text": [
      "[96, 35, 85, 73, 56, 22, 37, 25, 66, 75, 6, 46, 77, 84, 77, 53, 38, 85, 0, 61, 37, 55, 31, 0, 89]\n"
     ]
    }
   ],
   "source": [
    "sequence = generate_sequence(25, 100)\n",
    "print(sequence)"
   ]
  },
  {
   "cell_type": "code",
   "execution_count": 26,
   "metadata": {},
   "outputs": [
    {
     "name": "stdout",
     "output_type": "stream",
     "text": [
      "[[0 0 0 ..., 0 0 0]\n",
      " [0 0 0 ..., 0 0 0]\n",
      " [0 0 0 ..., 0 0 0]\n",
      " ..., \n",
      " [0 0 0 ..., 0 0 0]\n",
      " [1 0 0 ..., 0 0 0]\n",
      " [0 0 0 ..., 0 0 0]]\n"
     ]
    }
   ],
   "source": [
    "encoded = one_hot_encode(sequence, 100)\n",
    "print(encoded)"
   ]
  },
  {
   "cell_type": "code",
   "execution_count": 27,
   "metadata": {},
   "outputs": [
    {
     "name": "stdout",
     "output_type": "stream",
     "text": [
      "[96, 35, 85, 73, 56, 22, 37, 25, 66, 75, 6, 46, 77, 84, 77, 53, 38, 85, 0, 61, 37, 55, 31, 0, 89]\n"
     ]
    }
   ],
   "source": [
    "decoded = one_hot_decode(encoded)\n",
    "print(decoded)"
   ]
  },
  {
   "cell_type": "code",
   "execution_count": 28,
   "metadata": {},
   "outputs": [
    {
     "data": {
      "text/plain": [
       "(25, 100)"
      ]
     },
     "execution_count": 28,
     "metadata": {},
     "output_type": "execute_result"
    }
   ],
   "source": [
    "# 25個の時系列データ（各データの特徴量は100次元ベクトル）\n",
    "encoded.shape"
   ]
  },
  {
   "cell_type": "code",
   "execution_count": 29,
   "metadata": {
    "collapsed": true
   },
   "outputs": [],
   "source": [
    "# LSTMへ入力できるように (samples, time steps, features) の3Dテンソルに変換\n",
    "X = encoded.reshape(1, 25, 100)"
   ]
  },
  {
   "cell_type": "code",
   "execution_count": 30,
   "metadata": {},
   "outputs": [
    {
     "data": {
      "text/plain": [
       "(1, 25, 100)"
      ]
     },
     "execution_count": 30,
     "metadata": {},
     "output_type": "execute_result"
    }
   ],
   "source": [
    "X.shape"
   ]
  },
  {
   "cell_type": "code",
   "execution_count": 32,
   "metadata": {},
   "outputs": [
    {
     "data": {
      "text/plain": [
       "(100,)"
      ]
     },
     "execution_count": 32,
     "metadata": {},
     "output_type": "execute_result"
    }
   ],
   "source": [
    "y = encoded[1, :]\n",
    "y.shape"
   ]
  },
  {
   "cell_type": "code",
   "execution_count": 33,
   "metadata": {
    "collapsed": true
   },
   "outputs": [],
   "source": [
    "# generate one example for an lstm\n",
    "def generate_example(length, n_features, out_index):\n",
    "    # generate sequence\n",
    "    sequence = generate_sequence(length, n_features)\n",
    "    # one hot encode\n",
    "    encoded = one_hot_encode(sequence, n_features)\n",
    "    # reshape sequence to be 3D\n",
    "    X = encoded.reshape((1, length, n_features))\n",
    "    # select output\n",
    "    y = encoded[out_index].reshape(1, n_features)\n",
    "    return X, y"
   ]
  },
  {
   "cell_type": "code",
   "execution_count": 45,
   "metadata": {},
   "outputs": [
    {
     "name": "stdout",
     "output_type": "stream",
     "text": [
      "(1, 25, 100)\n",
      "(1, 100)\n",
      "[27, 75, 79, 37, 99, 88, 42, 98, 95, 53, 25, 48, 35, 53, 39, 27, 25, 79, 78, 91, 46, 72, 35, 53, 86]\n",
      "[79]\n"
     ]
    }
   ],
   "source": [
    "# 訓練用のデータを1サンプルだけ生成\n",
    "# ランダムに生成した系列の2番目を正解とする\n",
    "X, y = generate_example(25, 100, 2)\n",
    "print(X.shape)\n",
    "print(y.shape)\n",
    "print(one_hot_decode(X[0, :]))\n",
    "print(one_hot_decode(y))"
   ]
  },
  {
   "cell_type": "code",
   "execution_count": 69,
   "metadata": {},
   "outputs": [
    {
     "name": "stdout",
     "output_type": "stream",
     "text": [
      "_________________________________________________________________\n",
      "Layer (type)                 Output Shape              Param #   \n",
      "=================================================================\n",
      "lstm_2 (LSTM)                (None, 25)                3600      \n",
      "_________________________________________________________________\n",
      "dense_2 (Dense)              (None, 10)                260       \n",
      "=================================================================\n",
      "Total params: 3,860\n",
      "Trainable params: 3,860\n",
      "Non-trainable params: 0\n",
      "_________________________________________________________________\n",
      "None\n"
     ]
    }
   ],
   "source": [
    "from keras.models import Sequential\n",
    "from keras.layers import LSTM, Dense\n",
    "# define model\n",
    "length = 5  # 系列長\n",
    "n_features = 10  # 特徴量の次元\n",
    "out_index = 2  # 入力系列中で出力したい値のインデックス\n",
    "model = Sequential()\n",
    "model.add(LSTM(25, input_shape=(length, n_features)))\n",
    "model.add(Dense(n_features, activation='softmax'))\n",
    "model.compile(loss='categorical_crossentropy', optimizer='adam', metrics=['acc'])\n",
    "print(model.summary())"
   ]
  },
  {
   "cell_type": "code",
   "execution_count": 70,
   "metadata": {},
   "outputs": [
    {
     "data": {
      "image/png": "[encoded data removed]",
      "text/plain": [
       "<IPython.core.display.Image object>"
      ]
     },
     "execution_count": 70,
     "metadata": {},
     "output_type": "execute_result"
    }
   ],
   "source": [
    "from keras.utils.vis_utils import plot_model\n",
    "from IPython.display import Image\n",
    "plot_model(model, to_file='model.png', show_shapes=True, show_layer_names=True)\n",
    "Image('model.png')"
   ]
  },
  {
   "cell_type": "code",
   "execution_count": 71,
   "metadata": {},
   "outputs": [],
   "source": [
    "# fit model\n",
    "loss = []\n",
    "for i in range(10000):\n",
    "    # 1つだけサンプル生成して1エポック学習\n",
    "    X, y = generate_example(length, n_features, out_index)\n",
    "    h = model.fit(X, y, epochs=1, verbose=0)\n",
    "    loss.append(h.history['loss'][0])"
   ]
  },
  {
   "cell_type": "code",
   "execution_count": 72,
   "metadata": {},
   "outputs": [
    {
     "data": {
      "text/plain": [
       "[<matplotlib.lines.Line2D at 0x32a4d7780>]"
      ]
     },
     "execution_count": 72,
     "metadata": {},
     "output_type": "execute_result"
    },
    {
     "data": {
      "image/png": "[encoded data removed]",
      "text/plain": [
       "<matplotlib.figure.Figure at 0x3297b1860>"
      ]
     },
     "metadata": {},
     "output_type": "display_data"
    }
   ],
   "source": [
    "import matplotlib.pyplot as plt\n",
    "%matplotlib inline\n",
    "plt.plot(loss)"
   ]
  },
  {
   "cell_type": "code",
   "execution_count": 76,
   "metadata": {},
   "outputs": [
    {
     "name": "stdout",
     "output_type": "stream",
     "text": [
      "Epoch 1/20\n",
      "2s - loss: 2.2354 - acc: 0.2554\n",
      "Epoch 2/20\n",
      "2s - loss: 1.9350 - acc: 0.3484\n",
      "Epoch 3/20\n",
      "2s - loss: 1.4394 - acc: 0.4702\n",
      "Epoch 4/20\n",
      "2s - loss: 0.9583 - acc: 0.6595\n",
      "Epoch 5/20\n",
      "2s - loss: 0.7017 - acc: 0.7745\n",
      "Epoch 6/20\n",
      "2s - loss: 0.5223 - acc: 0.8535\n",
      "Epoch 7/20\n",
      "2s - loss: 0.3804 - acc: 0.9058\n",
      "Epoch 8/20\n",
      "2s - loss: 0.2697 - acc: 0.9405\n",
      "Epoch 9/20\n",
      "2s - loss: 0.1866 - acc: 0.9675\n",
      "Epoch 10/20\n",
      "2s - loss: 0.1286 - acc: 0.9846\n",
      "Epoch 11/20\n",
      "2s - loss: 0.0889 - acc: 0.9927\n",
      "Epoch 12/20\n",
      "2s - loss: 0.0627 - acc: 0.9968\n",
      "Epoch 13/20\n",
      "2s - loss: 0.0452 - acc: 0.9981\n",
      "Epoch 14/20\n",
      "2s - loss: 0.0333 - acc: 0.9994\n",
      "Epoch 15/20\n",
      "2s - loss: 0.0253 - acc: 0.9998\n",
      "Epoch 16/20\n",
      "2s - loss: 0.0196 - acc: 0.9999\n",
      "Epoch 17/20\n",
      "2s - loss: 0.0156 - acc: 1.0000\n",
      "Epoch 18/20\n",
      "2s - loss: 0.0126 - acc: 0.9999\n",
      "Epoch 19/20\n",
      "2s - loss: 0.0104 - acc: 1.0000\n",
      "Epoch 20/20\n",
      "2s - loss: 0.0086 - acc: 1.0000\n"
     ]
    }
   ],
   "source": [
    "# TODO: 1サンプルずつではなくまとめて生成してミニバッチ学習したらどうなる？\n",
    "train_data = []\n",
    "train_label = []\n",
    "for i in range(10000):\n",
    "    X, y = generate_example(length, n_features, out_index)\n",
    "    train_data.append(X)\n",
    "    train_label.append(y)\n",
    "train_data = np.array(train_data)\n",
    "train_label = np.array(train_label)\n",
    "train_data = train_data.reshape(10000, length, n_features)\n",
    "train_label = train_label.reshape(10000, n_features)\n",
    "\n",
    "# create new model\n",
    "model = Sequential()\n",
    "model.add(LSTM(25, input_shape=(length, n_features)))\n",
    "model.add(Dense(n_features, activation='softmax'))\n",
    "model.compile(loss='categorical_crossentropy', optimizer='adam', metrics=['acc'])\n",
    "\n",
    "hist = model.fit(train_data, train_label, batch_size=100, epochs=20, verbose=2)"
   ]
  },
  {
   "cell_type": "code",
   "execution_count": 68,
   "metadata": {},
   "outputs": [
    {
     "name": "stdout",
     "output_type": "stream",
     "text": [
      "(10000, 5, 10)\n",
      "(10000, 10)\n"
     ]
    }
   ],
   "source": [
    "print(train_data.shape)\n",
    "print(train_label.shape)"
   ]
  },
  {
   "cell_type": "code",
   "execution_count": 82,
   "metadata": {},
   "outputs": [
    {
     "data": {
      "text/plain": [
       "[<matplotlib.lines.Line2D at 0x32c27e4e0>]"
      ]
     },
     "execution_count": 82,
     "metadata": {},
     "output_type": "execute_result"
    },
    {
     "data": {
      "image/png": "[encoded data removed]",
      "text/plain": [
       "<matplotlib.figure.Figure at 0x32a77a6d8>"
      ]
     },
     "metadata": {},
     "output_type": "display_data"
    }
   ],
   "source": [
    "plt.plot(hist.history['loss'])"
   ]
  },
  {
   "cell_type": "code",
   "execution_count": 84,
   "metadata": {},
   "outputs": [
    {
     "data": {
      "text/plain": [
       "[<matplotlib.lines.Line2D at 0x32c0f8898>]"
      ]
     },
     "execution_count": 84,
     "metadata": {},
     "output_type": "execute_result"
    },
    {
     "data": {
      "image/png": "[encoded data removed]",
      "text/plain": [
       "<matplotlib.figure.Figure at 0x328f4c860>"
      ]
     },
     "metadata": {},
     "output_type": "display_data"
    }
   ],
   "source": [
    "plt.plot(hist.history['acc'])"
   ]
  },
  {
   "cell_type": "code",
   "execution_count": 85,
   "metadata": {},
   "outputs": [
    {
     "name": "stdout",
     "output_type": "stream",
     "text": [
      "Accuracy: 100.000000\n"
     ]
    }
   ],
   "source": [
    "# evaluate model\n",
    "correct = 0\n",
    "for i in range(100):\n",
    "    X, y = generate_example(length, n_features, out_index)\n",
    "    yhat = model.predict(X)\n",
    "    if one_hot_decode(yhat) == one_hot_decode(y):\n",
    "        correct += 1\n",
    "print('Accuracy: %f' % ((correct / 100) * 100.0))"
   ]
  },
  {
   "cell_type": "code",
   "execution_count": 87,
   "metadata": {},
   "outputs": [
    {
     "name": "stdout",
     "output_type": "stream",
     "text": [
      "Sequence: [[8, 2, 7, 9, 7]]\n",
      "Expected: [7]\n",
      "Predicted: [7]\n"
     ]
    }
   ],
   "source": [
    "# prediction on new data\n",
    "X, y = generate_example(length, n_features, out_index)\n",
    "yhat = model.predict(X)\n",
    "print('Sequence: %s' % [one_hot_decode(x) for x in X])\n",
    "print('Expected: %s' % one_hot_decode(y))\n",
    "print('Predicted: %s' % one_hot_decode(yhat))"
   ]
  },
  {
   "cell_type": "code",
   "execution_count": 88,
   "metadata": {
    "collapsed": true
   },
   "outputs": [],
   "source": [
    "# TODO: 6.9 Extensionsの実験をする"
   ]
  }
 ],
 "metadata": {
  "kernelspec": {
   "display_name": "Python 3",
   "language": "python",
   "name": "python3"
  },
  "language_info": {
   "codemirror_mode": {
    "name": "ipython",
    "version": 3
   },
   "file_extension": ".py",
   "mimetype": "text/x-python",
   "name": "python",
   "nbconvert_exporter": "python",
   "pygments_lexer": "ipython3",
   "version": "3.6.4"
  }
 },
 "nbformat": 4,
 "nbformat_minor": 2
}
