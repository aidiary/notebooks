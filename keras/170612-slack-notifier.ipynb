{
 "cells": [
  {
   "cell_type": "code",
   "execution_count": 26,
   "metadata": {
    "collapsed": false
   },
   "outputs": [
    {
     "name": "stdout",
     "output_type": "stream",
     "text": [
      "Train on 54000 samples, validate on 6000 samples\n",
      "Epoch 1/5\n",
      "54000/54000 [==============================] - 5s - loss: 0.2632 - acc: 0.9182 - val_loss: 0.0953 - val_acc: 0.9713\n",
      "Epoch 2/5\n",
      "54000/54000 [==============================] - 5s - loss: 0.1082 - acc: 0.9680 - val_loss: 0.0798 - val_acc: 0.9758\n",
      "Epoch 3/5\n",
      "54000/54000 [==============================] - 5s - loss: 0.0769 - acc: 0.9769 - val_loss: 0.0734 - val_acc: 0.9778\n",
      "Epoch 4/5\n",
      "54000/54000 [==============================] - 5s - loss: 0.0627 - acc: 0.9809 - val_loss: 0.0700 - val_acc: 0.9798\n",
      "Epoch 5/5\n",
      "54000/54000 [==============================] - 5s - loss: 0.0509 - acc: 0.9847 - val_loss: 0.0706 - val_acc: 0.9810\n",
      "[0.91822222220456162, 0.96796296299828422, 0.97687037038803104, 0.98092592596124717, 0.98474074075840135]\n",
      "o-05349-mac.local\n"
     ]
    },
    {
     "data": {
      "text/plain": [
       "0"
      ]
     },
     "execution_count": 26,
     "metadata": {},
     "output_type": "execute_result"
    }
   ],
   "source": [
    "import os\n",
    "import keras\n",
    "from keras.datasets import mnist\n",
    "from keras.models import Sequential\n",
    "from keras.layers.core import Dense, Dropout, Activation\n",
    "from keras.optimizers import RMSprop\n",
    "from keras.callbacks import LambdaCallback\n",
    "\n",
    "batch_size = 128\n",
    "num_classes = 10\n",
    "epochs = 5\n",
    "\n",
    "(x_train, y_train), (x_test, y_test) = mnist.load_data()\n",
    "x_train = x_train.reshape(60000, 784).astype('float32')\n",
    "x_test = x_test.reshape(10000, 784).astype('float32')\n",
    "x_train /= 255\n",
    "x_test /= 255\n",
    "\n",
    "y_train = keras.utils.to_categorical(y_train, num_classes)\n",
    "y_test = keras.utils.to_categorical(y_test, num_classes)\n",
    "\n",
    "model = Sequential()\n",
    "model.add(Dense(512, input_shape=(784, )))\n",
    "model.add(Activation('relu'))\n",
    "model.add(Dropout(0.2))\n",
    "model.add(Dense(512))\n",
    "model.add(Activation('relu'))\n",
    "model.add(Dropout(0.2))\n",
    "model.add(Dense(10))\n",
    "model.add(Activation('softmax'))\n",
    "\n",
    "model.compile(loss='categorical_crossentropy',\n",
    "              optimizer=RMSprop(),\n",
    "              metrics=['accuracy'])\n",
    "\n",
    "hist = model.fit(x_train, y_train,\n",
    "                 batch_size=batch_size,\n",
    "                 epochs=epochs,\n",
    "                 verbose=1,\n",
    "                 validation_split=0.1,\n",
    "                 callbacks=None)\n",
    "\n",
    "# Slackへ投稿するCallback\n",
    "hostname = os.uname()[1]\n",
    "print(hist.history['acc'])\n",
    "print(hostname)\n",
    "\n",
    "\n",
    "slack_command = 'curl -X POST -H \\'Content-type: application/json\\' --data \\'{{\"text\":\"Here is {}.\\nepoch:{:03d}, loss:{:.3f}, val_loss:{:.3f}, acc:{:.3f}, val_acc:{:.3f}\"}}\\' https://hooks.slack.com/services/<own API key>'\n",
    "slack_command = slack_command.format(\n",
    "        hostname,\n",
    "        hist.epoch[-1],\n",
    "        hist.history['loss'][-1], hist.history['val_loss'][-1],\n",
    "        hist.history['acc'][-1], hist.history['val_acc'][-1])\n",
    "os.system(slack_command)"
   ]
  },
  {
   "cell_type": "code",
   "execution_count": null,
   "metadata": {
    "collapsed": true
   },
   "outputs": [],
   "source": []
  }
 ],
 "metadata": {
  "anaconda-cloud": {},
  "kernelspec": {
   "display_name": "Python [conda root]",
   "language": "python",
   "name": "conda-root-py"
  },
  "language_info": {
   "codemirror_mode": {
    "name": "ipython",
    "version": 3
   },
   "file_extension": ".py",
   "mimetype": "text/x-python",
   "name": "python",
   "nbconvert_exporter": "python",
   "pygments_lexer": "ipython3",
   "version": "3.5.2"
  }
 },
 "nbformat": 4,
 "nbformat_minor": 1
}
