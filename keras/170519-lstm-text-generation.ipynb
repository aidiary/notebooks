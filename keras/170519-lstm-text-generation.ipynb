{
 "cells": [
  {
   "cell_type": "code",
   "execution_count": 1,
   "metadata": {
    "collapsed": true
   },
   "outputs": [],
   "source": [
    "from keras.models import Sequential\n",
    "from keras.layers import Dense, Activation\n",
    "from keras.layers import LSTM\n",
    "from keras.optimizers import RMSprop\n",
    "from keras.utils.data_utils import get_file\n",
    "import numpy as np\n",
    "import random\n",
    "import sys"
   ]
  },
  {
   "cell_type": "code",
   "execution_count": 8,
   "metadata": {
    "collapsed": false
   },
   "outputs": [
    {
     "name": "stdout",
     "output_type": "stream",
     "text": [
      "corpus length: 600893\n"
     ]
    }
   ],
   "source": [
    "path = get_file('nietzsche.txt', origin='https://s3.amazonaws.com/text-datasets/nietzsche.txt')\n",
    "text = open(path).read().lower()\n",
    "print('corpus length:', len(text))"
   ]
  },
  {
   "cell_type": "code",
   "execution_count": 9,
   "metadata": {
    "collapsed": true
   },
   "outputs": [],
   "source": [
    "chars = sorted(list(set(text)))"
   ]
  },
  {
   "cell_type": "code",
   "execution_count": 11,
   "metadata": {
    "collapsed": false
   },
   "outputs": [
    {
     "name": "stdout",
     "output_type": "stream",
     "text": [
      "total chars: 57\n"
     ]
    }
   ],
   "source": [
    "print('total chars:', len(chars))"
   ]
  },
  {
   "cell_type": "code",
   "execution_count": 12,
   "metadata": {
    "collapsed": true
   },
   "outputs": [],
   "source": [
    "char_indices = dict((c, i) for i, c in enumerate(chars))\n",
    "indices_char = dict((i, c) for i, c in enumerate(chars))"
   ]
  },
  {
   "cell_type": "code",
   "execution_count": 15,
   "metadata": {
    "collapsed": false
   },
   "outputs": [
    {
     "name": "stdout",
     "output_type": "stream",
     "text": [
      "num sequences: 200285\n"
     ]
    }
   ],
   "source": [
    "maxlen = 40  # この長さのテキストに分割する\n",
    "step = 3     # オーバーラップ\n",
    "sentences = []\n",
    "next_chars = []\n",
    "for i in range(0, len(text) - maxlen, step):\n",
    "    sentences.append(text[i: i + maxlen])  # 入力となる長さ40の文字列\n",
    "    next_chars.append(text[i + maxlen])    # 予測したい次の文字\n",
    "print('num sequences:', len(sentences))"
   ]
  },
  {
   "cell_type": "code",
   "execution_count": 20,
   "metadata": {
    "collapsed": false
   },
   "outputs": [
    {
     "data": {
      "text/plain": [
       "(40, 'preface\\n\\n\\nsupposing that truth is a woma')"
      ]
     },
     "execution_count": 20,
     "metadata": {},
     "output_type": "execute_result"
    }
   ],
   "source": [
    "len(sentences[0]), sentences[0]"
   ]
  },
  {
   "cell_type": "code",
   "execution_count": 21,
   "metadata": {
    "collapsed": false
   },
   "outputs": [
    {
     "data": {
      "text/plain": [
       "'n'"
      ]
     },
     "execution_count": 21,
     "metadata": {},
     "output_type": "execute_result"
    }
   ],
   "source": [
    "next_chars[0]"
   ]
  },
  {
   "cell_type": "code",
   "execution_count": 28,
   "metadata": {
    "collapsed": false
   },
   "outputs": [
    {
     "name": "stdout",
     "output_type": "stream",
     "text": [
      "Vectorization...\n"
     ]
    }
   ],
   "source": [
    "print('Vectorization...')\n",
    "# 入力は長さ maxlen の文字列なのでmaxlenが必要\n",
    "X = np.zeros((len(sentences), maxlen, len(chars)), dtype=np.bool)\n",
    "# 出力は1文字しかないので maxlen は不要\n",
    "y = np.zeros((len(sentences), len(chars)), dtype=np.bool)\n",
    "for i, sentence in enumerate(sentences):\n",
    "    for t, char in enumerate(sentence):\n",
    "        X[i, t, char_indices[char]] = 1  # 対象文字のみTrueとなるベクトルにする\n",
    "    y[i, char_indices[next_chars[i]]] = 1"
   ]
  },
  {
   "cell_type": "code",
   "execution_count": 30,
   "metadata": {
    "collapsed": false
   },
   "outputs": [
    {
     "name": "stdout",
     "output_type": "stream",
     "text": [
      "(200285, 40, 57) (200285, 57)\n"
     ]
    }
   ],
   "source": [
    "print(X.shape, y.shape)"
   ]
  },
  {
   "cell_type": "code",
   "execution_count": 31,
   "metadata": {
    "collapsed": false
   },
   "outputs": [
    {
     "name": "stdout",
     "output_type": "stream",
     "text": [
      "[False False False False False False False False False False False False\n",
      " False False False False False False False False False False False False\n",
      " False False False False False False False False False False False False\n",
      " False False False False False False  True False False False False False\n",
      " False False False False False False False False False]\n"
     ]
    }
   ],
   "source": [
    "print(X[0][0])"
   ]
  },
  {
   "cell_type": "code",
   "execution_count": 32,
   "metadata": {
    "collapsed": false
   },
   "outputs": [
    {
     "name": "stdout",
     "output_type": "stream",
     "text": [
      "[False False False False False False False False False False False False\n",
      " False False False False False False False False False False False False\n",
      " False False False False False False False False False False False False\n",
      " False False False False  True False False False False False False False\n",
      " False False False False False False False False False]\n"
     ]
    }
   ],
   "source": [
    "print(y[0])"
   ]
  },
  {
   "cell_type": "code",
   "execution_count": 60,
   "metadata": {
    "collapsed": false
   },
   "outputs": [
    {
     "name": "stdout",
     "output_type": "stream",
     "text": [
      "Build model...\n"
     ]
    }
   ],
   "source": [
    "print('Build model...')\n",
    "model = Sequential()\n",
    "\n",
    "# LSTMの入力は (バッチ数, 入力シーケンスの長さ, 入力の次元) となる（バッチ数は省略）\n",
    "# maxlenを変えてもパラメータ数は変化しない（各時刻でパラメータは共有するため）\n",
    "# 128は内部の射影と出力の次元（同じになる）\n",
    "model.add(LSTM(128, input_shape=(maxlen, len(chars))))\n",
    "# 出力の128次元にさらにFCをくっつけて文字ベクトルを出力\n",
    "model.add(Dense(len(chars)))  # 出力\n",
    "model.add(Activation('softmax'))"
   ]
  },
  {
   "cell_type": "code",
   "execution_count": 61,
   "metadata": {
    "collapsed": false
   },
   "outputs": [
    {
     "name": "stdout",
     "output_type": "stream",
     "text": [
      "_________________________________________________________________\n",
      "Layer (type)                 Output Shape              Param #   \n",
      "=================================================================\n",
      "lstm_9 (LSTM)                (None, 128)               95232     \n",
      "_________________________________________________________________\n",
      "dense_8 (Dense)              (None, 57)                7353      \n",
      "_________________________________________________________________\n",
      "activation_8 (Activation)    (None, 57)                0         \n",
      "=================================================================\n",
      "Total params: 102,585\n",
      "Trainable params: 102,585\n",
      "Non-trainable params: 0\n",
      "_________________________________________________________________\n"
     ]
    }
   ],
   "source": [
    "model.summary()"
   ]
  },
  {
   "cell_type": "code",
   "execution_count": 62,
   "metadata": {
    "collapsed": true
   },
   "outputs": [],
   "source": [
    "optimizer = RMSprop(lr=0.01)\n",
    "model.compile(loss='categorical_crossentropy', optimizer=optimizer)"
   ]
  },
  {
   "cell_type": "code",
   "execution_count": 73,
   "metadata": {
    "collapsed": false
   },
   "outputs": [
    {
     "name": "stdout",
     "output_type": "stream",
     "text": [
      "(200285, 40, 57) (200285, 57)\n"
     ]
    }
   ],
   "source": [
    "# 200285個の長さ40の時系列データ（各データは57次元ベクトル）の意味\n",
    "print(X.shape, y.shape)"
   ]
  },
  {
   "cell_type": "code",
   "execution_count": 75,
   "metadata": {
    "collapsed": true
   },
   "outputs": [],
   "source": [
    "def sample(preds, temperature=1.0):\n",
    "    preds = np.asarray(preds).astype('float64')\n",
    "    # temperatureによって確率が変わる？？？\n",
    "    preds = np.log(preds) / temperature\n",
    "    exp_preds = np.exp(preds)\n",
    "    preds = exp_preds / np.sum(exp_preds)\n",
    "    probas = np.random.multinomial(1, preds, 1)\n",
    "    # 確率が最大のインデックスを返す\n",
    "    return np.argmax(probas)"
   ]
  },
  {
   "cell_type": "code",
   "execution_count": null,
   "metadata": {
    "collapsed": false
   },
   "outputs": [
    {
     "name": "stdout",
     "output_type": "stream",
     "text": [
      "\n",
      "--------------------------------------------------\n",
      "Iteration 1\n",
      "\n",
      "----- diversity: 0.2\n",
      "----- Generating with seed: \"now--it dawns upon men that\n",
      "they have pr\"\n",
      "now--it dawns upon men that\n",
      "they have prroaaooooanaaoahoooaaaaoaaaaoaooaaaantaooaaaaaaaoanoooaoaaaooaaoaooooaaanaoaaaaoaohaoaaaoaaaaoaaoaaoaaoaoaoonaahaooaoaaaaaaaooaaoaohacooaaoaohoooonaaaoaoaohooaooaoaaaohooaoooaaaoaorooaaoaaaanaaaaoaahooaaaaaaoaaaaoaoaonaaaaaoaaoaaoaaaoaooaoonnanoaaaaoaoahaalocnoaaaonaannoaanaaaaanaahaaaaooaaolaaohanaaaaaaaoaoaoaonoaoaaoaroaoooaaaoaaahoaaaaaoooaoaooaaonnaaaoaoaoaaahaaaaaaaaaooanaaaanaoaooaaonoaaaarna\n",
      "\n",
      "----- diversity: 0.5\n",
      "----- Generating with seed: \"now--it dawns upon men that\n",
      "they have pr\"\n",
      "now--it dawns upon men that\n",
      "they have prooaarrahllcoaannnoatoaaaotaoooonanaoahonhhtaaoahonoonnnaraaanooonlnaolaotoataacacatoaehanooncaioloaaitoolatatahllranaaaoohahloonanaoloohohancnchnohaaalooaaaahotartalnoahonahrnnnonroaaaooaoooaonoanooaohrdaacodhcthnaococoaoahooroaohlncanotrollanaoaohooaoathnaaornaanaoadlnrhlcaoroacrcohntaaaoahoaanolocoaahhonootaaollanonhaaoactohchcnadnaordnlnattaaclrnrohnrnndhaaloonoatnonwaaaaoloonoononlnaaaaanrahat\n",
      "\n",
      "----- diversity: 1.0\n",
      "----- Generating with seed: \"now--it dawns upon men that\n",
      "they have pr\"\n",
      "now--it dawns upon men that\n",
      "they have prlohrrcwohahc-hderaoyinaanodddtlhohcoancorncrhcooh sohodcrcc aeonaonhdoaarn-olatpryhrhtlnwhhronaalrdcoannhoorhdlonoitantaaahcaanrcolrlraaloatnrononoorunrrdhnnlchoo llearavihonrahoaadoitctcaoowchiucatvawlrtlahhccolahnatan lnorncaoannooaaa thrhoia rhnrcdlrnaaarhronhayctlnaahoaolcholh,rhlahdaolnroccoonoolohtcn nalndarhddnnioolooolroaialcaahartnarloaanlntonaitaocdnhtolawvwohnaianaoocoinlrniaalfnlnnarll\n",
      "\n",
      "----- diversity: 1.2\n",
      "----- Generating with seed: \"now--it dawns upon men that\n",
      "they have pr\"\n",
      "now--it dawns upon men that\n",
      "they have propnawrhcaeoslthnohhncsnoi\n",
      "ooldnnawd.taeonoaaa ahaortntchorrfhaadanaddt(atoct\n",
      "nanho ohancirhnlatoroltnoa hcaohnidahtlilnotlollnalfaofaaotnwtblnnnaooholoallho-oosnnthloapdalcthhctclocthpdwtaaticolcnlehntcwto\n",
      "aaahoaarlocnthcnt-rhctn \n",
      " notondoiiosnhdnshristrtloraacodtcartwlrn onlotlniodooz odhcclsonrnnaontnnaaoah tpo dhilalenotdahohoaoanyhohnoat5ghnlaaoanlntonndatallaclocyonaosnc-landratrnacloah stadd\n",
      "\n",
      "--------------------------------------------------\n",
      "Iteration 2\n",
      "\n",
      "----- diversity: 0.2\n",
      "----- Generating with seed: \"uation\n",
      "is at the back of all their logic\"\n",
      "uation\n",
      "is at the back of all their logicaooaaananaaohaaooaaoaaaaaaaaooaaaoahnoaaaanaaaaaoaoaaaaaaaoaoalnnaaaonoaoaaaanaoaaoaaanaaoaanooaaaaanoaaaaaoaooaaaanaanoaaaaaaaaaaaonaaaoaooaaoooaaooononaaaaaaaooaaaoaaaaaaaaaonlanaaacaaaoaardahaoaoaanooaaaaaaorooaaoaaaananaaonaooooaaaroanohnaaaaaaaaranoaaaaaoaaaoaoaanoalanoonoaoarnoaaaaahaoaaaaoaaaaaanaaaaaaoaaoaooanoooaoaaaooaoooroaaaaaaoaooaaaaoaaooaaaooaaaaaaoaaaaaonaaaooaonoaaoaoaooaanaanaano\n",
      "\n",
      "----- diversity: 0.5\n",
      "----- Generating with seed: \"uation\n",
      "is at the back of all their logic\"\n",
      "uation\n",
      "is at the back of all their logicoalnaroahcnaonnaoraraal hoocaaarlonionocohnclhootlhtoctolaanroaccocaaooaoonoltorroaaalaroard oocdotrlorahandlnlrahcaochoaaaaldaoaaloco-oolonaalolharaaaoohaoahaannaaohaolacwn aionantaooooooaaaaoaoaocolannoaaooohohaonaacolctahlo lohaoodllonooahaoohtcnaohhooonohnaonnoalroaaoonttoonhotholooanracnoaahlcacooananrrolohtoorrohoaaaaonrorrolhhnaatoalntloodnohnraorooaooaaraoanraaaohhlooddnolaaarrlnrooraoaoah\n",
      "\n",
      "----- diversity: 1.0\n",
      "----- Generating with seed: \"uation\n",
      "is at the back of all their logic\"\n",
      "uation\n",
      "is at the back of all their logicalohhtarioaharnnlhowhotcwaohrcnlaraocdnwoahiahanaoaihoattnnnawohataoennnronacoorganaolsalrdaonahannaarpananatcoydddlhavhnonhhnalooldtwhaoanooh natnloheoidshadwyahoaco  ootahcnorodhhhaadradlyoc hohnrnnrwocllaohdnoanadrnldhnrhloraolaonlnhwndrhoaaoncthlcrltonartoaalnhoahwanhoaothnrircc thnonsaacnhl cenhddolaraa noaachadooolg ylnlsodslaor dnlnnoccaalcopalcrnahrhranorrotilliasnldllaaa nhraaanhhcatnowlc\n",
      "\n",
      "----- diversity: 1.2\n",
      "----- Generating with seed: \"uation\n",
      "is at the back of all their logic\"\n",
      "uation\n",
      "is at the back of all their logicohaoa iiydeloon atntclonwnlwniriaocatoaroolaccrttannhhnooaohonaritaloacdehlhrfoodlnsebnoohtdronaoahacwnnrorfcnnrdd  haonlnhcnhdtnl tahrotirwrchcdehahcsahrnhtdfnloonphotlla cnrcoaoaorcndhnrhlrth-nhdrnnaa0occehantaatonpodrr\n",
      "hnchnvlhopoldhaaohptstnonhaoehhcatoaconsoohaoddnodnoanaacaan-narlo,oaiylaahctoyodcaoreaoiniaanaodthsohoncladnoo\n",
      "nrrlhohs  coailindhtnhdtaatpcnclwotoalrocracanrh caoactal?lcaononn\n",
      "\n",
      "--------------------------------------------------\n",
      "Iteration 3\n",
      "\n",
      "----- diversity: 0.2\n",
      "----- Generating with seed: \"t it is difficult to preach this\n",
      "moralit\"\n",
      "t it is difficult to preach this\n",
      "moralitoooaaooooaaaaoaoaaooooooalaaoraonaaanaaanooanaaaanoaoaaaaaoaaaooaaroaaaoaoaaaaoaaannaolaaaaoaoaaoaaaaaaoaaoaaaaaoanoooolaaooaaahaaooanaaoaonoaoalaoaoaaaooaaaaoalaoooaaaooaacraaaooaooaaooaaanaaaaaooaaoaoooaaaaaonoaaaaraaohnnaaahraaaaoaaaaaaaaroaaooaooaraoaoaaaoaooonaaaoaooooaoaooooaonaoaaaalaanaaooaooaoaoahoaaaaaaaaaaooooaaanaaaaaalonoaaaonaoonaaloaaaaaanaaaaoooaoaonaaaanaaoaoaoaaaaaaaoaonanoononao\n",
      "\n",
      "----- diversity: 0.5\n",
      "----- Generating with seed: \"t it is difficult to preach this\n",
      "moralit\"\n",
      "t it is difficult to preach this\n",
      "moralitoaonaaaanotnhnanoohuhhactolaraaahcroacaattoannaonhhaaloodaaatonraloooaraanooooraooalaoataaonhadarooroahononaoancarhhnaoaoarooroanohnccadcathoatocoaarannonaaoactnaoanacaaadnolneaaaolohahoooaooalnnlhanaohooooarnaooalnnnoronaaddanaoharcohaaanwaoaarainotooochdthaoadahloallanacoclhorooooho noohrnrlrnaochnnaonraooaoanaothaonotrhtwacohnaaoaaatoooraaaoonoiaotnoarraoooanaooaadrnhodthaaaaocontoaraonnehronnl\n",
      "\n",
      "----- diversity: 1.0\n",
      "----- Generating with seed: \"t it is difficult to preach this\n",
      "moralit\"\n",
      "t it is difficult to preach this\n",
      "moralitralanlhoy edlaaashtochaoraachahhlnldnarnooocrohwolcioocciaaowcoltiho aachdliloalcwaclooaoalaniodsaoddwioladhhnfaolldtacahohnpatrntrachadahttoaahrdanpoatlaahoolyannasanrdlaeoahdrdtveohrhaoolpehevohrlds nntnadoronoaooclhnoahdrtonlcnacrinlchhohn hlolohtlaropoobaochdc aonhodapwnnasrohinaalhacatnaacl\n",
      "rrooooncrnolhaelacocaalsacnndehiaeannacconl aoatno adonaooooooonnocncslarnanhatlcoai crhcvrrtahantodioa\n",
      "\n",
      "----- diversity: 1.2\n",
      "----- Generating with seed: \"t it is difficult to preach this\n",
      "moralit\"\n",
      "t it is difficult to preach this\n",
      "moralitiadncctdwrncrrdrnhrolociocaaiaalcadiaarcccavdh-ooihhilnaonactoonnvddaaaoalacwcalrlyhtholllhoadhdnd p1nrannlci?adn ndoaalcla dclnoreonhthoyraodtaononhlfnacanhoo nlodcaahhhoociroaaidoohalwlrtoaolocohatl hwairaortaa c.cayaorridtcrocgntllwlaolaaloldorhaniplooflyonptlhrhclnaonayluttnawaaaacycaidlyohlonahnonaltehrsntccarlhnarhlnawnaonaallralottapaasorcc,thearrsldlswodohlanntonsaglcaaha laplorwéonorcaahr\n",
      "\n",
      "--------------------------------------------------\n",
      "Iteration 4\n",
      "\n",
      "----- diversity: 0.2\n",
      "----- Generating with seed: \"ns of transition, for the sake of lighte\"\n",
      "ns of transition, for the sake of lighteaoaaaalaaoaaoaanoaoaanoaaaaaaaaaooaoaaaoaaaaaoaanaaaaanaoooaoaaooaooaoohoooaaaaaooaaaoaaooaraooaaaoolonoohaaaaaaoonoaaaaooanaaaacaaaooaoaaaaooohnoaaanaaaaoaaaaaaaaaaooaaaaaaoooaaoaaaaoaoaaatonooorahoaoaaoooraaaaaaaaoooaaoaaononoaaaaaaanaaoaaaaaanaaaaooaaaoaanconoconaaaaaooaooaoonnaoaaaoaooooaoanaaoaaaanoaaaaoaaaaanoohoaooaoloaooaaaaaoaoloonnaaaaaaanaooooanaaooaoooaanaaaoaaaaaooaoooaaaaoaacaaaraoaa\n",
      "\n",
      "----- diversity: 0.5\n",
      "----- Generating with seed: \"ns of transition, for the sake of lighte\"\n",
      "ns of transition, for the sake of lightecatahacaonaoaaathaoaclnaaladahccroacnoaro naonalrnaonononrrnclhaaranallranalaoocnordcdrnonoontacoaooinidloaohohdahrhaaahololarahroraoaaaaaaotaoaaacltlaallhoolctrhooaoinhcrlcnhoaacaonhnodocoronlaoaoahaaaaanoohdaonnhoncadnaoaoolnhlantoarcaaaarlaoalannnhlaoeoaoaoahararonawooonnn ohaadnlnoonanddoaoaoaaohnaalnahoaoohlodaaoaaaanantaaaooorooaaccoaltoatcaloorltorhailalodoacanonaataotlrahoolrnarnalnrhatrro\n",
      "\n",
      "----- diversity: 1.0\n",
      "----- Generating with seed: \"ns of transition, for the sake of lighte\"\n",
      "ns of transition, for the sake of lighteubcahorattacdaadocronwhtihwdtrdacdsghaahcnaldccahannoatahaehodonondrrchrtupncranrirdnorotnvonl hlconaaartcltrloatnatcnpacohtroannrraayahaahthcdnotdco8nlsaweadnictthacrororwohnoarodlntlanaorhpcnrlododlorovnohcclodaaocloanhaaaaonhturoroh drniawaorhhotaaahhcooantaaronalaawolclrtnhdcwtiarnhooanlrrnthenl tttthtnracacatohtcaadrhaoainhoaanadoarocscaarohrn rannandcnnothhaaonoaolccoa eocnahtchoooalcdnsnhwo\n",
      "\n",
      "----- diversity: 1.2\n",
      "----- Generating with seed: \"ns of transition, for the sake of lighte\"\n",
      "ns of transition, for the sake of lighteyldhoiddrnlybnnnooa- hlhadtrlols raamohwnahnndnoccnnewraohwcwo hohfeodhlntawrdolnhrahnahd\n",
      "yoaspacwwcncirolrrnannocrturloocahhr ydahlcairholnca-ni honovtawnatclrhvio-adorrc irrlnrhdaandha -hltcohllaatrccooctonrchrdlcohrtanowtthofhirayarnehlahaninatltortoooblhaaoosrcdddaraorahrrargrrnooctront toaooawioaorodho rnohnnclincaoxyanioiolrccigroooolaotahwa aanaieohchthaaarnwc hrhlaroihhcoc crhaarhnttco rhn\n",
      "\n",
      "--------------------------------------------------\n",
      "Iteration 5\n",
      "\n",
      "----- diversity: 0.2\n",
      "----- Generating with seed: \"rateness,\n",
      "moderation and the like come, \"\n",
      "rateness,\n",
      "moderation and the like come, ooaaanoaaaaaaooaaaaoonaooohaaaoaaaraoahaaooaooootaaooooooaoaaooaaaaoaaaoaaaaaoaaaaaaoaooaaananaaaaaaoaaooaoooanaocoaaaaoooaaoahoaaoaoooaoaaaaaaoaaaaaanoonoaoooooaaoaoaoaonoaaaaaaaoroaaaaaoaaaannonoloaoaaaannaoaaahaaaanaoooaoooooooaoaaooanhaoooaanaaoaaaaanaaaaoaooonoahnaaaaaaoaoooaoahaaaoarooaaaaannnnaooooaaaooaoaaaoooaaaanoaahaoaoaooaoaoaoaaaaoahornaonoroaaaaaoahaaaaaaooononoonaaaaaaaoaaonaaoaooaa\n",
      "\n",
      "----- diversity: 0.5\n",
      "----- Generating with seed: \"rateness,\n",
      "moderation and the like come, \"\n",
      "rateness,\n",
      "moderation and the like come, noaoooaatcaraahaiatooarnharnhaaoaaohonodnarooahaalalhoaaaooahnaoooaloooooadaocadnaaoltrohnnaonaratlorncoaoaorlnnoaodaanadnrorrncocrohhchnoahaaoanaahondihochaaohaonorotraa asoarnnltnconanooatoaaoalohlooooccooaanlndrhocnaootohacaalaaancttanaroarnhtanaannaaaoalaaaralarhaonnooadlaacanaaoooaonnonoornatdaaancoaaahonnaaaoooaanoanoaaahonnaaaoaaaarcrroanhnwron oootonohaooarconohdoddnaotoalooloonhdaaaanaaha\n",
      "\n",
      "----- diversity: 1.0\n",
      "----- Generating with seed: \"rateness,\n",
      "moderation and the like come, \"\n",
      "rateness,\n",
      "moderation and the like come, an\n",
      "dwooahnalataccotnadoonccdslloncaltla olsdranoradcathndoncannraooalddapyhnltaahorohaiaanhorolainrrnnalhacanonnioahrtnhlannoowtoctdarah cocochlcddfnanawaneowalolhdotanhdthaaanraansaoloar dallaowhitlalohaoaa olccaolhcln asoagrl-aacdlnrtinanaiapw hhcdacodnatnraaopcaaoaaraccoa ntaraondattndlaooawnodnpatortwaoontahelnihhaorhchaiaacharooodaroccnnollaetrhloo o ahahrooarntawwrcohonaonnaohnhaao\n",
      "oatlnoclr\n",
      "\n",
      "----- diversity: 1.2\n",
      "----- Generating with seed: \"rateness,\n",
      "moderation and the like come, \"\n",
      "rateness,\n",
      "moderation and the like come, chnngironchhnahlloawcordaldaanhc.aarcrwtonaotnlcaath\n",
      "rr arlntpiloalt aloahnclawenaoaahnoratctlsnocnrnooohil-ttwoaaonohohahdcinoohaihghanaoiaocerfdonhhothd raooonwlhc a rrthatvostancoorohnliawoeoahranodoaa-lhf ahotaacow arlroanvaohha-ol l chd\n",
      "rttirarnhditaahrrtooryor0pcao,nootl  lo ynco odlgtapainaiasarnnic aa oishl owiocdntyiahlatcoalaroonchvenacdootawallddalhanniccphdrntrvhrstaoroaastachocoteelon\n",
      "\n",
      "--------------------------------------------------\n",
      "Iteration 6\n",
      "\n",
      "----- diversity: 0.2\n",
      "----- Generating with seed: \"ount to noble and servile, master and sl\"\n",
      "ount to noble and servile, master and slaanaoanaaaaananaaaoaahoaaaoaoaaoaaaanoohaoahoaonooaooroaaaaaoronoaoooaaanaooaaoooaaaanrhhooaaaahaoonoooaoaalaaaoaaraoahnaocaoaaaoonaooloaoaaoaaaaaaoaanoonaooaaaaoaoaaaaaaoaaoaaaaaaooaaaaaaoaaaaooaahaaaaoaaaoaaooaonooaaaaoaoaacaaaaaaaaoranraaaaoahaaaooaaaoaaaaaaaaaooaaooaooooanooaanoaoaaaaaaaalaaoaaaaaaooooaoooaaooaoanaooaaaoaaaaaoaraaaahaaoaahaoaaaaaooaoaooaaaaaaaaaoaooaaooooaaoooaaoaaanaoaoaoraaa\n",
      "\n",
      "----- diversity: 0.5\n",
      "----- Generating with seed: \"ount to noble and servile, master and sl\"\n",
      "ount to noble and servile, master and slaoalhanaatoaannlcootalnaoaharhah"
     ]
    }
   ],
   "source": [
    "for iteration in range(1, 60):\n",
    "    print()\n",
    "    print('-' * 50)\n",
    "    print('Iteration', iteration)\n",
    "\n",
    "    # 時系列データを入力して学習\n",
    "#    model.fit(X, y, batch_size=128, epochs=1)\n",
    "    \n",
    "    # 学習データのランダムな位置の40文字に続く文字列を生成する\n",
    "    start_index = random.randint(0, len(text) - maxlen - 1)\n",
    "\n",
    "    generated = ''\n",
    "    sentence = text[start_index: start_index + maxlen]\n",
    "    generated += sentence\n",
    "\n",
    "    print('----- Generating with seed: \"' + sentence + '\"')\n",
    "    sys.stdout.write(generated)\n",
    "\n",
    "    # 400文字分生成する\n",
    "    # この400文字を生成している間、LSTMに内部状態が保持されている？\n",
    "    for i in range(400):\n",
    "        x = np.zeros((1, maxlen, len(chars)))\n",
    "\n",
    "        # sentenceを符号化\n",
    "        # このsentenceは400回のループで生成された文字を加えて次送りされていく\n",
    "        for t, char in enumerate(sentence):\n",
    "            x[0, t, char_indices[char]] = 1.0\n",
    "\n",
    "        # 57次元（文字数）の出力分布\n",
    "        # (系列長=40, データ次元=57) を入力\n",
    "        preds = model.predict(x, verbose=0)[0]\n",
    "\n",
    "        # もっとも確率が高いのを選ぶのではなくサンプリングする？\n",
    "        next_index = sample(preds, diversity)\n",
    "        next_char = indices_char[next_index]\n",
    "\n",
    "        generated += next_char\n",
    "\n",
    "        # 入力は長さ40にしたいので今生成した文字を加えて1つ先に送る\n",
    "        # このsentenceが次の入力となる\n",
    "        sentence = sentence[1:] + next_char\n",
    "\n",
    "        sys.stdout.write(next_char)\n",
    "        sys.stdout.flush()"
   ]
  },
  {
   "cell_type": "code",
   "execution_count": null,
   "metadata": {
    "collapsed": true
   },
   "outputs": [],
   "source": [
    "\n"
   ]
  }
 ],
 "metadata": {
  "anaconda-cloud": {},
  "kernelspec": {
   "display_name": "Python [conda root]",
   "language": "python",
   "name": "conda-root-py"
  },
  "language_info": {
   "codemirror_mode": {
    "name": "ipython",
    "version": 3
   },
   "file_extension": ".py",
   "mimetype": "text/x-python",
   "name": "python",
   "nbconvert_exporter": "python",
   "pygments_lexer": "ipython3",
   "version": "3.5.2"
  }
 },
 "nbformat": 4,
 "nbformat_minor": 1
}
