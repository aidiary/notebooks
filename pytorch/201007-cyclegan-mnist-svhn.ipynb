{
 "cells": [
  {
   "cell_type": "markdown",
   "metadata": {},
   "source": [
    "# CycleGAN で MNIST と SVHN の変換\n",
    "\n",
    "- https://github.com/yunjey/mnist-svhn-transfer"
   ]
  },
  {
   "cell_type": "markdown",
   "metadata": {},
   "source": [
    "## Dataset"
   ]
  },
  {
   "cell_type": "code",
   "execution_count": 1,
   "metadata": {},
   "outputs": [],
   "source": [
    "import torch\n",
    "from torchvision import datasets\n",
    "from torchvision import transforms"
   ]
  },
  {
   "cell_type": "code",
   "execution_count": 6,
   "metadata": {},
   "outputs": [],
   "source": [
    "image_size = 32\n",
    "mnist_path = './data/mnist'\n",
    "svhn_path = './data/svhn'"
   ]
  },
  {
   "cell_type": "code",
   "execution_count": 40,
   "metadata": {},
   "outputs": [
    {
     "name": "stdout",
     "output_type": "stream",
     "text": [
      "Using downloaded and verified file: ./data/svhn/train_32x32.mat\n"
     ]
    }
   ],
   "source": [
    "svhn = datasets.SVHN(root=svhn_path, download=True)"
   ]
  },
  {
   "cell_type": "code",
   "execution_count": 53,
   "metadata": {},
   "outputs": [
    {
     "data": {
      "image/png": "[encoded data removed]",
      "text/plain": [
       "<PIL.Image.Image image mode=RGB size=32x32 at 0x7FABAAC2FA10>"
      ]
     },
     "execution_count": 53,
     "metadata": {},
     "output_type": "execute_result"
    }
   ],
   "source": [
    "svhn[150][0]"
   ]
  },
  {
   "cell_type": "code",
   "execution_count": 54,
   "metadata": {},
   "outputs": [
    {
     "data": {
      "text/plain": [
       "3"
      ]
     },
     "execution_count": 54,
     "metadata": {},
     "output_type": "execute_result"
    }
   ],
   "source": [
    "svhn[150][1]"
   ]
  },
  {
   "cell_type": "code",
   "execution_count": 80,
   "metadata": {},
   "outputs": [],
   "source": [
    "transform1 = transforms.Compose([\n",
    "    transforms.Resize(image_size),\n",
    "    transforms.ToTensor(),\n",
    "    transforms.Normalize((0.5, 0.5, 0.5), (0.5, 0.5, 0.5))\n",
    "])\n",
    "\n",
    "transform2 = transforms.Compose([\n",
    "    transforms.Resize(image_size),\n",
    "    transforms.ToTensor(),\n",
    "    transforms.Normalize((0.5,), (0.5,))\n",
    "])"
   ]
  },
  {
   "cell_type": "code",
   "execution_count": 81,
   "metadata": {},
   "outputs": [
    {
     "name": "stdout",
     "output_type": "stream",
     "text": [
      "Using downloaded and verified file: ./data/svhn/train_32x32.mat\n"
     ]
    }
   ],
   "source": [
    "svhn = datasets.SVHN(root=svhn_path, download=True, transform=transform1)"
   ]
  },
  {
   "cell_type": "code",
   "execution_count": 82,
   "metadata": {},
   "outputs": [
    {
     "data": {
      "text/plain": [
       "Dataset SVHN\n",
       "    Number of datapoints: 73257\n",
       "    Root location: ./data/svhn\n",
       "    Split: train\n",
       "    StandardTransform\n",
       "Transform: Compose(\n",
       "               Resize(size=32, interpolation=PIL.Image.BILINEAR)\n",
       "               ToTensor()\n",
       "               Normalize(mean=(0.5, 0.5, 0.5), std=(0.5, 0.5, 0.5))\n",
       "           )"
      ]
     },
     "execution_count": 82,
     "metadata": {},
     "output_type": "execute_result"
    }
   ],
   "source": [
    "svhn"
   ]
  },
  {
   "cell_type": "code",
   "execution_count": 83,
   "metadata": {},
   "outputs": [],
   "source": [
    "mnist = datasets.MNIST(root=mnist_path, download=True, transform=transform2)"
   ]
  },
  {
   "cell_type": "code",
   "execution_count": 84,
   "metadata": {},
   "outputs": [
    {
     "data": {
      "text/plain": [
       "Dataset MNIST\n",
       "    Number of datapoints: 60000\n",
       "    Root location: ./data/mnist\n",
       "    Split: Train\n",
       "    StandardTransform\n",
       "Transform: Compose(\n",
       "               Resize(size=32, interpolation=PIL.Image.BILINEAR)\n",
       "               ToTensor()\n",
       "               Normalize(mean=(0.5,), std=(0.5,))\n",
       "           )"
      ]
     },
     "execution_count": 84,
     "metadata": {},
     "output_type": "execute_result"
    }
   ],
   "source": [
    "mnist"
   ]
  },
  {
   "cell_type": "markdown",
   "metadata": {},
   "source": [
    "## DataLoader"
   ]
  },
  {
   "cell_type": "code",
   "execution_count": 89,
   "metadata": {},
   "outputs": [],
   "source": [
    "batch_size = 64"
   ]
  },
  {
   "cell_type": "code",
   "execution_count": 90,
   "metadata": {},
   "outputs": [],
   "source": [
    "import torch.utils.data\n",
    "\n",
    "svhn_loader = torch.utils.data.DataLoader(dataset=svhn,\n",
    "                                          batch_size=batch_size,\n",
    "                                          shuffle=True,\n",
    "                                          num_workers=8)\n",
    "\n",
    "mnist_loader = torch.utils.data.DataLoader(dataset=mnist,\n",
    "                                           batch_size=batch_size,\n",
    "                                           shuffle=True,\n",
    "                                           num_workers=8)"
   ]
  },
  {
   "cell_type": "code",
   "execution_count": 91,
   "metadata": {},
   "outputs": [
    {
     "name": "stdout",
     "output_type": "stream",
     "text": [
      "torch.Size([64, 3, 32, 32])\n",
      "torch.Size([64])\n"
     ]
    }
   ],
   "source": [
    "batch = iter(svhn_loader).next()\n",
    "print(batch[0].shape)\n",
    "print(batch[1].shape)"
   ]
  },
  {
   "cell_type": "code",
   "execution_count": 92,
   "metadata": {},
   "outputs": [
    {
     "name": "stdout",
     "output_type": "stream",
     "text": [
      "torch.Size([64, 1, 32, 32])\n",
      "torch.Size([64])\n"
     ]
    }
   ],
   "source": [
    "batch = iter(mnist_loader).next()\n",
    "print(batch[0].shape)\n",
    "print(batch[1].shape)"
   ]
  },
  {
   "cell_type": "markdown",
   "metadata": {},
   "source": [
    "## Model"
   ]
  },
  {
   "cell_type": "code",
   "execution_count": 101,
   "metadata": {},
   "outputs": [],
   "source": [
    "import torch.nn as nn\n",
    "import torch.nn.functional as F"
   ]
  },
  {
   "cell_type": "code",
   "execution_count": 104,
   "metadata": {},
   "outputs": [
    {
     "data": {
      "text/plain": [
       "device(type='cuda', index=0)"
      ]
     },
     "execution_count": 104,
     "metadata": {},
     "output_type": "execute_result"
    }
   ],
   "source": [
    "device = torch.device('cuda:0')\n",
    "device"
   ]
  },
  {
   "cell_type": "code",
   "execution_count": 95,
   "metadata": {},
   "outputs": [],
   "source": [
    "def conv(c_in, c_out, k_size, stride=2, pad=1, bn=True):\n",
    "    layers = []\n",
    "    layers.append(nn.Conv2d(c_in, c_out, k_size, stride, pad, bias=False))\n",
    "    if bn:\n",
    "        layers.append(nn.BatchNorm2d(c_out))\n",
    "    return nn.Sequential(*layers)\n",
    "\n",
    "\n",
    "def deconv(c_in, c_out, k_size, stride=2, pad=1, bn=True):\n",
    "    layers = []\n",
    "    layers.append(nn.ConvTranspose2d(c_in, c_out, k_size, stride, pad, bias=False))\n",
    "    if bn:\n",
    "        layers.append(nn.BatchNorm2d(c_out))\n",
    "    return nn.Sequential(*layers)"
   ]
  },
  {
   "cell_type": "markdown",
   "metadata": {},
   "source": [
    "### Generator"
   ]
  },
  {
   "cell_type": "code",
   "execution_count": 107,
   "metadata": {},
   "outputs": [],
   "source": [
    "class G12(nn.Module):\n",
    "    \"\"\"Generator for transfering from mnist to svhn\"\"\"\n",
    "    def __init__(self, conv_dim=64):\n",
    "        super(G12, self).__init__()\n",
    "        \n",
    "        # encoding blocks\n",
    "        self.conv1 = conv(1, conv_dim, 4)\n",
    "        self.conv2 = conv(conv_dim, conv_dim * 2, 4)\n",
    "        \n",
    "        self.conv3 = conv(conv_dim * 2, conv_dim * 2, 3, 1, 1)\n",
    "        self.conv4 = conv(conv_dim * 2, conv_dim * 2, 3, 1, 1)\n",
    "\n",
    "        # decoding blocks\n",
    "        self.deconv1 = deconv(conv_dim * 2, conv_dim, 4)\n",
    "        self.deconv2 = deconv(conv_dim, 3, 4, bn=False)\n",
    "\n",
    "    def forward(self, x):\n",
    "        out = F.leaky_relu(self.conv1(x), 0.05)      # (?, 64, 16, 16)\n",
    "        out = F.leaky_relu(self.conv2(out), 0.05)    # (?, 128, 8, 8)\n",
    "        \n",
    "        out = F.leaky_relu(self.conv3(out), 0.05)    # (?, 128, 8, 8)\n",
    "        out = F.leaky_relu(self.conv4(out), 0.05)    # (?, 128, 8, 8)\n",
    "        \n",
    "        out = F.leaky_relu(self.deconv1(out), 0.05)  # (?, 64, 16, 16)\n",
    "        out = torch.tanh(self.deconv2(out))              # (?, 3, 32, 32)\n",
    "        \n",
    "        return out"
   ]
  },
  {
   "cell_type": "code",
   "execution_count": 108,
   "metadata": {},
   "outputs": [],
   "source": [
    "class G21(nn.Module):\n",
    "    \"\"\"Generator for transfering from svhn to mnist\"\"\"\n",
    "    def __init__(self, conv_dim=64):\n",
    "        super(G21, self).__init__()\n",
    "        \n",
    "        # encoding blocks\n",
    "        self.conv1 = conv(3, conv_dim, 4)\n",
    "        self.conv2 = conv(conv_dim, conv_dim * 2, 4)\n",
    "        \n",
    "        self.conv3 = conv(conv_dim * 2, conv_dim * 2, 3, 1, 1)\n",
    "        self.conv4 = conv(conv_dim * 2, conv_dim * 2, 3, 1, 1)\n",
    "\n",
    "        # decoding blocks\n",
    "        self.deconv1 = deconv(conv_dim * 2, conv_dim, 4)\n",
    "        self.deconv2 = deconv(conv_dim, 1, 4, bn=False)\n",
    "\n",
    "    def forward(self, x):\n",
    "        out = F.leaky_relu(self.conv1(x), 0.05)      # (?, 64, 16, 16)\n",
    "        out = F.leaky_relu(self.conv2(out), 0.05)    # (?, 128, 8, 8)\n",
    "        \n",
    "        out = F.leaky_relu(self.conv3(out), 0.05)    # (?, 128, 8, 8)\n",
    "        out = F.leaky_relu(self.conv4(out), 0.05)    # (?, 128, 8, 8)\n",
    "        \n",
    "        out = F.leaky_relu(self.deconv1(out), 0.05)  # (?, 64, 16, 16)\n",
    "        out = torch.tanh(self.deconv2(out))              # (?, 1, 32, 32)\n",
    "        \n",
    "        return out"
   ]
  },
  {
   "cell_type": "code",
   "execution_count": 109,
   "metadata": {},
   "outputs": [
    {
     "name": "stdout",
     "output_type": "stream",
     "text": [
      "Requirement already satisfied: torchsummary in /home/koichiro_mori/miniconda3/lib/python3.7/site-packages (1.5.1)\n"
     ]
    }
   ],
   "source": [
    "!pip install torchsummary"
   ]
  },
  {
   "cell_type": "code",
   "execution_count": 110,
   "metadata": {},
   "outputs": [
    {
     "name": "stdout",
     "output_type": "stream",
     "text": [
      "----------------------------------------------------------------\n",
      "        Layer (type)               Output Shape         Param #\n",
      "================================================================\n",
      "            Conv2d-1           [-1, 64, 16, 16]           1,024\n",
      "       BatchNorm2d-2           [-1, 64, 16, 16]             128\n",
      "            Conv2d-3            [-1, 128, 8, 8]         131,072\n",
      "       BatchNorm2d-4            [-1, 128, 8, 8]             256\n",
      "            Conv2d-5            [-1, 128, 8, 8]         147,456\n",
      "       BatchNorm2d-6            [-1, 128, 8, 8]             256\n",
      "            Conv2d-7            [-1, 128, 8, 8]         147,456\n",
      "       BatchNorm2d-8            [-1, 128, 8, 8]             256\n",
      "   ConvTranspose2d-9           [-1, 64, 16, 16]         131,072\n",
      "      BatchNorm2d-10           [-1, 64, 16, 16]             128\n",
      "  ConvTranspose2d-11            [-1, 3, 32, 32]           3,072\n",
      "================================================================\n",
      "Total params: 562,176\n",
      "Trainable params: 562,176\n",
      "Non-trainable params: 0\n",
      "----------------------------------------------------------------\n",
      "Input size (MB): 0.00\n",
      "Forward/backward pass size (MB): 0.90\n",
      "Params size (MB): 2.14\n",
      "Estimated Total Size (MB): 3.05\n",
      "----------------------------------------------------------------\n"
     ]
    }
   ],
   "source": [
    "from torchsummary import summary\n",
    "model = G12().to(device)\n",
    "summary(model, (1, 32, 32))"
   ]
  },
  {
   "cell_type": "code",
   "execution_count": 111,
   "metadata": {},
   "outputs": [
    {
     "name": "stdout",
     "output_type": "stream",
     "text": [
      "----------------------------------------------------------------\n",
      "        Layer (type)               Output Shape         Param #\n",
      "================================================================\n",
      "            Conv2d-1           [-1, 64, 16, 16]           3,072\n",
      "       BatchNorm2d-2           [-1, 64, 16, 16]             128\n",
      "            Conv2d-3            [-1, 128, 8, 8]         131,072\n",
      "       BatchNorm2d-4            [-1, 128, 8, 8]             256\n",
      "            Conv2d-5            [-1, 128, 8, 8]         147,456\n",
      "       BatchNorm2d-6            [-1, 128, 8, 8]             256\n",
      "            Conv2d-7            [-1, 128, 8, 8]         147,456\n",
      "       BatchNorm2d-8            [-1, 128, 8, 8]             256\n",
      "   ConvTranspose2d-9           [-1, 64, 16, 16]         131,072\n",
      "      BatchNorm2d-10           [-1, 64, 16, 16]             128\n",
      "  ConvTranspose2d-11            [-1, 1, 32, 32]           1,024\n",
      "================================================================\n",
      "Total params: 562,176\n",
      "Trainable params: 562,176\n",
      "Non-trainable params: 0\n",
      "----------------------------------------------------------------\n",
      "Input size (MB): 0.01\n",
      "Forward/backward pass size (MB): 0.88\n",
      "Params size (MB): 2.14\n",
      "Estimated Total Size (MB): 3.04\n",
      "----------------------------------------------------------------\n"
     ]
    }
   ],
   "source": [
    "from torchsummary import summary\n",
    "model = G21().to(device)\n",
    "summary(model, (3, 32, 32))"
   ]
  },
  {
   "cell_type": "markdown",
   "metadata": {},
   "source": [
    "### Discriminator"
   ]
  },
  {
   "cell_type": "code",
   "execution_count": 120,
   "metadata": {},
   "outputs": [],
   "source": [
    "class D1(nn.Module):\n",
    "    \"\"\"Discriminator for mnist\"\"\"\n",
    "    def __init__(self, conv_dim=64):\n",
    "        super(D1, self).__init__()\n",
    "        self.conv1 = conv(1, conv_dim, 4, bn=False)\n",
    "        self.conv2 = conv(conv_dim, conv_dim * 2, 4)        \n",
    "        self.conv3 = conv(conv_dim * 2, conv_dim * 4, 4)\n",
    "        self.fc = conv(conv_dim * 4, 1, 4, 1, 0, False)\n",
    "\n",
    "    def forward(self, x):\n",
    "        out = F.leaky_relu(self.conv1(x), 0.05)\n",
    "        out = F.leaky_relu(self.conv2(out), 0.05)        \n",
    "        out = F.leaky_relu(self.conv3(out), 0.05)        \n",
    "        out = self.fc(out).squeeze()\n",
    "        return out"
   ]
  },
  {
   "cell_type": "code",
   "execution_count": 121,
   "metadata": {},
   "outputs": [
    {
     "name": "stdout",
     "output_type": "stream",
     "text": [
      "----------------------------------------------------------------\n",
      "        Layer (type)               Output Shape         Param #\n",
      "================================================================\n",
      "            Conv2d-1           [-1, 64, 16, 16]           1,024\n",
      "            Conv2d-2            [-1, 128, 8, 8]         131,072\n",
      "       BatchNorm2d-3            [-1, 128, 8, 8]             256\n",
      "            Conv2d-4            [-1, 256, 4, 4]         524,288\n",
      "       BatchNorm2d-5            [-1, 256, 4, 4]             512\n",
      "            Conv2d-6              [-1, 1, 1, 1]           4,096\n",
      "================================================================\n",
      "Total params: 661,248\n",
      "Trainable params: 661,248\n",
      "Non-trainable params: 0\n",
      "----------------------------------------------------------------\n",
      "Input size (MB): 0.00\n",
      "Forward/backward pass size (MB): 0.31\n",
      "Params size (MB): 2.52\n",
      "Estimated Total Size (MB): 2.84\n",
      "----------------------------------------------------------------\n"
     ]
    }
   ],
   "source": [
    "from torchsummary import summary\n",
    "model = D1().to(device)\n",
    "summary(model, (1, 32, 32))"
   ]
  },
  {
   "cell_type": "code",
   "execution_count": 123,
   "metadata": {},
   "outputs": [],
   "source": [
    "class D2(nn.Module):\n",
    "    \"\"\"Discriminator for svhn\"\"\"\n",
    "    def __init__(self, conv_dim=64, use_labels=False):\n",
    "        super(D2, self).__init__()\n",
    "        self.conv1 = conv(3, conv_dim, 4, bn=False)\n",
    "        self.conv2 = conv(conv_dim, conv_dim * 2, 4)        \n",
    "        self.conv3 = conv(conv_dim * 2, conv_dim * 4, 4)\n",
    "        self.fc = conv(conv_dim * 4, 1, 4, 1, 0, False)\n",
    "\n",
    "    def forward(self, x):\n",
    "        out = F.leaky_relu(self.conv1(x), 0.05)\n",
    "        out = F.leaky_relu(self.conv2(out), 0.05)        \n",
    "        out = F.leaky_relu(self.conv3(out), 0.05)        \n",
    "        out = self.fc(out).squeeze()\n",
    "        return out"
   ]
  },
  {
   "cell_type": "code",
   "execution_count": 124,
   "metadata": {},
   "outputs": [
    {
     "name": "stdout",
     "output_type": "stream",
     "text": [
      "----------------------------------------------------------------\n",
      "        Layer (type)               Output Shape         Param #\n",
      "================================================================\n",
      "            Conv2d-1           [-1, 64, 16, 16]           3,072\n",
      "            Conv2d-2            [-1, 128, 8, 8]         131,072\n",
      "       BatchNorm2d-3            [-1, 128, 8, 8]             256\n",
      "            Conv2d-4            [-1, 256, 4, 4]         524,288\n",
      "       BatchNorm2d-5            [-1, 256, 4, 4]             512\n",
      "            Conv2d-6              [-1, 1, 1, 1]           4,096\n",
      "================================================================\n",
      "Total params: 663,296\n",
      "Trainable params: 663,296\n",
      "Non-trainable params: 0\n",
      "----------------------------------------------------------------\n",
      "Input size (MB): 0.01\n",
      "Forward/backward pass size (MB): 0.31\n",
      "Params size (MB): 2.53\n",
      "Estimated Total Size (MB): 2.85\n",
      "----------------------------------------------------------------\n"
     ]
    }
   ],
   "source": [
    "from torchsummary import summary\n",
    "model = D2().to(device)\n",
    "summary(model, (3, 32, 32))"
   ]
  },
  {
   "cell_type": "markdown",
   "metadata": {},
   "source": [
    "### CycleGAN"
   ]
  },
  {
   "cell_type": "code",
   "execution_count": 147,
   "metadata": {},
   "outputs": [],
   "source": [
    "g12 = G12(conv_dim=64).to(device)\n",
    "g21 = G21(conv_dim=64).to(device)\n",
    "d1 = D1(conv_dim=64).to(device)\n",
    "d2 = D2(conv_dim=64).to(device)"
   ]
  },
  {
   "cell_type": "code",
   "execution_count": 148,
   "metadata": {},
   "outputs": [],
   "source": [
    "g_params = list(g12.parameters()) + list(g21.parameters())\n",
    "d_params = list(d1.parameters()) + list(d2.parameters())"
   ]
  },
  {
   "cell_type": "code",
   "execution_count": 149,
   "metadata": {},
   "outputs": [],
   "source": [
    "import torch.optim as optim\n",
    "\n",
    "g_optimizer = optim.Adam(g_params, 1e-4, [0.5, 0.999])\n",
    "d_optimizer = optim.Adam(d_params, 1e-4, [0.5, 0.999])"
   ]
  },
  {
   "cell_type": "markdown",
   "metadata": {},
   "source": [
    "## Training"
   ]
  },
  {
   "cell_type": "code",
   "execution_count": 155,
   "metadata": {},
   "outputs": [],
   "source": [
    "svhn_iter = iter(svhn_loader)\n",
    "mnist_iter = iter(mnist_loader)"
   ]
  },
  {
   "cell_type": "code",
   "execution_count": 156,
   "metadata": {},
   "outputs": [
    {
     "data": {
      "text/plain": [
       "(1145, 938)"
      ]
     },
     "execution_count": 156,
     "metadata": {},
     "output_type": "execute_result"
    }
   ],
   "source": [
    "len(svhn_iter), len(mnist_iter)"
   ]
  },
  {
   "cell_type": "code",
   "execution_count": 157,
   "metadata": {},
   "outputs": [
    {
     "data": {
      "text/plain": [
       "938"
      ]
     },
     "execution_count": 157,
     "metadata": {},
     "output_type": "execute_result"
    }
   ],
   "source": [
    "iter_per_epoch = min(len(svhn_iter), len(mnist_iter))\n",
    "iter_per_epoch"
   ]
  },
  {
   "cell_type": "code",
   "execution_count": 158,
   "metadata": {},
   "outputs": [],
   "source": [
    "def reset_grad():\n",
    "    g_optimizer.zero_grad()\n",
    "    d_optimizer.zero_grad()"
   ]
  },
  {
   "cell_type": "code",
   "execution_count": 159,
   "metadata": {},
   "outputs": [
    {
     "name": "stdout",
     "output_type": "stream",
     "text": [
      "Step [100/40000], d_real_loss: 0.11025290191173553, d_fake_loss: 0.03772391006350517, g1_loss: 1.0897891521453857, g2_loss: 1.294374942779541\n",
      "Step [200/40000], d_real_loss: 0.0980357825756073, d_fake_loss: 0.08165669441223145, g1_loss: 1.13115394115448, g2_loss: 1.476405143737793\n",
      "Step [300/40000], d_real_loss: 0.09316019713878632, d_fake_loss: 0.09732900559902191, g1_loss: 1.283158540725708, g2_loss: 1.0786025524139404\n",
      "Step [400/40000], d_real_loss: 0.048470474779605865, d_fake_loss: 0.5071689486503601, g1_loss: 1.8001788854599, g2_loss: 1.1459002494812012\n",
      "Step [500/40000], d_real_loss: 0.08308134973049164, d_fake_loss: 0.07499479502439499, g1_loss: 0.901957094669342, g2_loss: 1.180112600326538\n",
      "Step [600/40000], d_real_loss: 0.042414940893650055, d_fake_loss: 0.16951331496238708, g1_loss: 1.5781599283218384, g2_loss: 1.3792873620986938\n",
      "Step [700/40000], d_real_loss: 0.1734279990196228, d_fake_loss: 0.0837896317243576, g1_loss: 1.0996662378311157, g2_loss: 1.0498077869415283\n",
      "Step [800/40000], d_real_loss: 0.0668313056230545, d_fake_loss: 0.046783823519945145, g1_loss: 1.2472670078277588, g2_loss: 1.2768820524215698\n",
      "Step [900/40000], d_real_loss: 0.08549361675977707, d_fake_loss: 0.10347763448953629, g1_loss: 1.4289698600769043, g2_loss: 1.0437818765640259\n",
      "Step [1000/40000], d_real_loss: 0.04176507145166397, d_fake_loss: 0.05077125504612923, g1_loss: 1.207310676574707, g2_loss: 1.3520723581314087\n",
      "Step [1100/40000], d_real_loss: 0.052658166736364365, d_fake_loss: 0.21511156857013702, g1_loss: 1.5274771451950073, g2_loss: 1.0865058898925781\n",
      "Step [1200/40000], d_real_loss: 0.05477119982242584, d_fake_loss: 0.05393567308783531, g1_loss: 1.0935683250427246, g2_loss: 0.887076735496521\n",
      "Step [1300/40000], d_real_loss: 0.08822663873434067, d_fake_loss: 0.03787693381309509, g1_loss: 1.0989067554473877, g2_loss: 1.3671053647994995\n",
      "Step [1400/40000], d_real_loss: 0.07569848001003265, d_fake_loss: 0.03570139408111572, g1_loss: 1.1704388856887817, g2_loss: 1.041176676750183\n",
      "Step [1500/40000], d_real_loss: 0.07572904974222183, d_fake_loss: 0.11477455496788025, g1_loss: 1.00624418258667, g2_loss: 1.2979782819747925\n",
      "Step [1600/40000], d_real_loss: 0.045623138546943665, d_fake_loss: 0.039294950664043427, g1_loss: 1.2579848766326904, g2_loss: 1.003178358078003\n",
      "Step [1700/40000], d_real_loss: 0.1421707421541214, d_fake_loss: 0.040878262370824814, g1_loss: 0.9594346284866333, g2_loss: 1.3726791143417358\n",
      "Step [1800/40000], d_real_loss: 0.15950050950050354, d_fake_loss: 0.22115439176559448, g1_loss: 1.4017243385314941, g2_loss: 1.4654115438461304\n",
      "Step [1900/40000], d_real_loss: 0.07731650769710541, d_fake_loss: 0.03844418376684189, g1_loss: 1.184013843536377, g2_loss: 1.2838186025619507\n",
      "Step [2000/40000], d_real_loss: 0.044895946979522705, d_fake_loss: 0.04867323487997055, g1_loss: 1.1323773860931396, g2_loss: 1.0011610984802246\n",
      "Step [2100/40000], d_real_loss: 0.15115177631378174, d_fake_loss: 0.027223361656069756, g1_loss: 1.052248239517212, g2_loss: 1.0883245468139648\n",
      "Step [2200/40000], d_real_loss: 0.0765351727604866, d_fake_loss: 0.07565870881080627, g1_loss: 1.286790132522583, g2_loss: 0.8590278625488281\n",
      "Step [2300/40000], d_real_loss: 0.024149397388100624, d_fake_loss: 0.09455494582653046, g1_loss: 1.444791316986084, g2_loss: 1.2876527309417725\n",
      "Step [2400/40000], d_real_loss: 0.03283293545246124, d_fake_loss: 0.05468297749757767, g1_loss: 1.318558931350708, g2_loss: 0.8517829775810242\n",
      "Step [2500/40000], d_real_loss: 0.03643146529793739, d_fake_loss: 0.1301521211862564, g1_loss: 1.3965452909469604, g2_loss: 1.3536183834075928\n",
      "Step [2600/40000], d_real_loss: 0.03131210803985596, d_fake_loss: 0.062349140644073486, g1_loss: 1.3495196104049683, g2_loss: 1.148175597190857\n",
      "Step [2700/40000], d_real_loss: 0.029868435114622116, d_fake_loss: 0.09565682709217072, g1_loss: 0.9641606211662292, g2_loss: 1.1336560249328613\n",
      "Step [2800/40000], d_real_loss: 0.0314895436167717, d_fake_loss: 0.1038065254688263, g1_loss: 1.2833677530288696, g2_loss: 1.134164810180664\n",
      "Step [2900/40000], d_real_loss: 0.052557360380887985, d_fake_loss: 0.11521034687757492, g1_loss: 1.2015929222106934, g2_loss: 1.558476209640503\n",
      "Step [3000/40000], d_real_loss: 0.03439667820930481, d_fake_loss: 0.025289978832006454, g1_loss: 1.2528071403503418, g2_loss: 1.1191939115524292\n",
      "Step [3100/40000], d_real_loss: 0.09215256571769714, d_fake_loss: 0.0344717763364315, g1_loss: 1.215212106704712, g2_loss: 1.1472764015197754\n",
      "Step [3200/40000], d_real_loss: 0.053476929664611816, d_fake_loss: 0.029834019020199776, g1_loss: 1.1216174364089966, g2_loss: 1.1938821077346802\n",
      "Step [3300/40000], d_real_loss: 0.06109403818845749, d_fake_loss: 0.034854114055633545, g1_loss: 0.9888396263122559, g2_loss: 1.2991185188293457\n",
      "Step [3400/40000], d_real_loss: 0.0644545927643776, d_fake_loss: 0.18752864003181458, g1_loss: 1.5980372428894043, g2_loss: 1.2655673027038574\n",
      "Step [3500/40000], d_real_loss: 0.06049508601427078, d_fake_loss: 0.031138602644205093, g1_loss: 1.2248445749282837, g2_loss: 0.8393952250480652\n",
      "Step [3600/40000], d_real_loss: 0.042937349528074265, d_fake_loss: 0.028499264270067215, g1_loss: 1.1659324169158936, g2_loss: 1.2039971351623535\n",
      "Step [3700/40000], d_real_loss: 0.0630665272474289, d_fake_loss: 0.03420992195606232, g1_loss: 1.1967284679412842, g2_loss: 1.2598680257797241\n",
      "Step [3800/40000], d_real_loss: 0.05495019629597664, d_fake_loss: 0.0727735385298729, g1_loss: 1.152191162109375, g2_loss: 1.437007188796997\n",
      "Step [3900/40000], d_real_loss: 0.04821847379207611, d_fake_loss: 0.033032212406396866, g1_loss: 1.194052815437317, g2_loss: 1.2969366312026978\n",
      "Step [4000/40000], d_real_loss: 0.06492318212985992, d_fake_loss: 0.03192492574453354, g1_loss: 1.0721367597579956, g2_loss: 1.1961214542388916\n",
      "Step [4100/40000], d_real_loss: 0.04733969271183014, d_fake_loss: 0.05035955831408501, g1_loss: 1.2689073085784912, g2_loss: 1.051648497581482\n",
      "Step [4200/40000], d_real_loss: 0.031149396672844887, d_fake_loss: 0.11753812432289124, g1_loss: 1.4900929927825928, g2_loss: 1.1781240701675415\n",
      "Step [4300/40000], d_real_loss: 0.053963374346494675, d_fake_loss: 0.04680173099040985, g1_loss: 1.2815755605697632, g2_loss: 1.178419828414917\n",
      "Step [4400/40000], d_real_loss: 0.1341855674982071, d_fake_loss: 0.11141198873519897, g1_loss: 1.0180175304412842, g2_loss: 1.3841179609298706\n",
      "Step [4500/40000], d_real_loss: 0.043818917125463486, d_fake_loss: 0.05697797238826752, g1_loss: 0.9887717366218567, g2_loss: 1.2400468587875366\n",
      "Step [4600/40000], d_real_loss: 0.03301943838596344, d_fake_loss: 0.08239324390888214, g1_loss: 1.4548370838165283, g2_loss: 1.2887433767318726\n",
      "Step [4700/40000], d_real_loss: 0.09091378003358841, d_fake_loss: 0.08815542608499527, g1_loss: 1.1496974229812622, g2_loss: 1.0870205163955688\n",
      "Step [4800/40000], d_real_loss: 0.04636017605662346, d_fake_loss: 0.025756556540727615, g1_loss: 1.2738215923309326, g2_loss: 1.0289150476455688\n",
      "Step [4900/40000], d_real_loss: 0.03197867423295975, d_fake_loss: 0.044772833585739136, g1_loss: 1.1815180778503418, g2_loss: 1.1422926187515259\n",
      "Step [5000/40000], d_real_loss: 0.02417217195034027, d_fake_loss: 0.030979355797171593, g1_loss: 1.2466353178024292, g2_loss: 1.2565913200378418\n",
      "Step [5100/40000], d_real_loss: 0.05870082601904869, d_fake_loss: 0.03912170231342316, g1_loss: 1.1868846416473389, g2_loss: 0.9390981197357178\n",
      "Step [5200/40000], d_real_loss: 0.03144475072622299, d_fake_loss: 0.03676700219511986, g1_loss: 1.345914363861084, g2_loss: 1.022256851196289\n",
      "Step [5300/40000], d_real_loss: 0.11861675977706909, d_fake_loss: 0.027187522500753403, g1_loss: 1.1067997217178345, g2_loss: 1.154622197151184\n",
      "Step [5400/40000], d_real_loss: 0.03800119832158089, d_fake_loss: 0.04504939913749695, g1_loss: 1.1735249757766724, g2_loss: 1.1412484645843506\n",
      "Step [5500/40000], d_real_loss: 0.1532583236694336, d_fake_loss: 0.03170470893383026, g1_loss: 1.0460522174835205, g2_loss: 1.2943052053451538\n",
      "Step [5600/40000], d_real_loss: 0.051243431866168976, d_fake_loss: 0.031943343579769135, g1_loss: 1.0861835479736328, g2_loss: 1.17987060546875\n",
      "Step [5700/40000], d_real_loss: 0.04324448108673096, d_fake_loss: 0.05741642042994499, g1_loss: 1.2065448760986328, g2_loss: 1.4044612646102905\n",
      "Step [5800/40000], d_real_loss: 0.031857650727033615, d_fake_loss: 0.13552379608154297, g1_loss: 1.56191885471344, g2_loss: 1.0833405256271362\n",
      "Step [5900/40000], d_real_loss: 0.03055356815457344, d_fake_loss: 0.02604077383875847, g1_loss: 1.3319272994995117, g2_loss: 1.247910976409912\n",
      "Step [6000/40000], d_real_loss: 0.05970434471964836, d_fake_loss: 0.02328864112496376, g1_loss: 1.1454262733459473, g2_loss: 1.2252020835876465\n",
      "Step [6100/40000], d_real_loss: 0.028155650943517685, d_fake_loss: 0.3193565607070923, g1_loss: 1.569581389427185, g2_loss: 1.2701146602630615\n",
      "Step [6200/40000], d_real_loss: 0.024079211056232452, d_fake_loss: 0.05235535651445389, g1_loss: 1.3486270904541016, g2_loss: 1.0548007488250732\n",
      "Step [6300/40000], d_real_loss: 0.030082695186138153, d_fake_loss: 0.026610391214489937, g1_loss: 1.3184236288070679, g2_loss: 1.2196152210235596\n",
      "Step [6400/40000], d_real_loss: 0.13906922936439514, d_fake_loss: 0.04126992076635361, g1_loss: 0.93879234790802, g2_loss: 1.3313443660736084\n",
      "Step [6500/40000], d_real_loss: 0.02518547885119915, d_fake_loss: 0.08448842912912369, g1_loss: 1.460578203201294, g2_loss: 1.0516471862792969\n",
      "Step [6600/40000], d_real_loss: 0.028889125213027, d_fake_loss: 0.01930716633796692, g1_loss: 1.157212734222412, g2_loss: 1.2079715728759766\n",
      "Step [6700/40000], d_real_loss: 0.047650910913944244, d_fake_loss: 0.051043376326560974, g1_loss: 1.2418643236160278, g2_loss: 1.207034707069397\n",
      "Step [6800/40000], d_real_loss: 0.5638751983642578, d_fake_loss: 0.06167137622833252, g1_loss: 0.732613205909729, g2_loss: 1.2371420860290527\n",
      "Step [6900/40000], d_real_loss: 0.046636682003736496, d_fake_loss: 0.05060354620218277, g1_loss: 1.392282485961914, g2_loss: 1.2288330793380737\n",
      "Step [7000/40000], d_real_loss: 0.048403359949588776, d_fake_loss: 0.0911717414855957, g1_loss: 1.3575459718704224, g2_loss: 1.1917977333068848\n",
      "Step [7100/40000], d_real_loss: 0.0377369225025177, d_fake_loss: 0.03153251111507416, g1_loss: 1.2228937149047852, g2_loss: 1.1986644268035889\n",
      "Step [7200/40000], d_real_loss: 0.05385158583521843, d_fake_loss: 0.041474200785160065, g1_loss: 1.3111733198165894, g2_loss: 1.1435935497283936\n",
      "Step [7300/40000], d_real_loss: 0.05441458523273468, d_fake_loss: 0.07531952857971191, g1_loss: 1.2054165601730347, g2_loss: 0.8547587990760803\n",
      "Step [7400/40000], d_real_loss: 0.08308612555265427, d_fake_loss: 0.10822250694036484, g1_loss: 1.34488844871521, g2_loss: 0.9270544052124023\n",
      "Step [7500/40000], d_real_loss: 0.03550933301448822, d_fake_loss: 0.12683157622814178, g1_loss: 1.510547161102295, g2_loss: 1.155588150024414\n",
      "Step [7600/40000], d_real_loss: 0.03412385284900665, d_fake_loss: 0.029638908803462982, g1_loss: 1.2273139953613281, g2_loss: 1.0752837657928467\n",
      "Step [7700/40000], d_real_loss: 0.02255111187696457, d_fake_loss: 0.042510922998189926, g1_loss: 1.3548343181610107, g2_loss: 1.1261736154556274\n",
      "Step [7800/40000], d_real_loss: 0.03450384736061096, d_fake_loss: 0.06986506283283234, g1_loss: 1.2619733810424805, g2_loss: 1.1037344932556152\n",
      "Step [7900/40000], d_real_loss: 0.02447166107594967, d_fake_loss: 0.05178459733724594, g1_loss: 1.0206058025360107, g2_loss: 1.2004269361495972\n",
      "Step [8000/40000], d_real_loss: 0.1486160159111023, d_fake_loss: 0.025373509153723717, g1_loss: 1.007437825202942, g2_loss: 0.9592793583869934\n",
      "Step [8100/40000], d_real_loss: 0.09024787694215775, d_fake_loss: 0.043161772191524506, g1_loss: 1.2245535850524902, g2_loss: 1.022221326828003\n",
      "Step [8200/40000], d_real_loss: 0.07806115597486496, d_fake_loss: 0.08362600207328796, g1_loss: 1.4301799535751343, g2_loss: 1.2908692359924316\n",
      "Step [8300/40000], d_real_loss: 0.030242808163166046, d_fake_loss: 0.05203600972890854, g1_loss: 1.3666349649429321, g2_loss: 1.1608092784881592\n",
      "Step [8400/40000], d_real_loss: 0.03547236695885658, d_fake_loss: 0.015792179852724075, g1_loss: 1.2346431016921997, g2_loss: 1.19202721118927\n",
      "Step [8500/40000], d_real_loss: 0.02408474311232567, d_fake_loss: 0.053977757692337036, g1_loss: 1.2563364505767822, g2_loss: 1.3397127389907837\n",
      "Step [8600/40000], d_real_loss: 0.03325815498828888, d_fake_loss: 0.03019862063229084, g1_loss: 1.1509137153625488, g2_loss: 1.0942050218582153\n",
      "Step [8700/40000], d_real_loss: 0.02538245916366577, d_fake_loss: 0.02968529239296913, g1_loss: 1.1930005550384521, g2_loss: 1.0043936967849731\n",
      "Step [8800/40000], d_real_loss: 0.06173480302095413, d_fake_loss: 0.035228513181209564, g1_loss: 1.1649912595748901, g2_loss: 1.1928664445877075\n",
      "Step [8900/40000], d_real_loss: 0.023276809602975845, d_fake_loss: 0.03690687194466591, g1_loss: 1.0804734230041504, g2_loss: 1.17662513256073\n",
      "Step [9000/40000], d_real_loss: 0.030093088746070862, d_fake_loss: 0.04869777336716652, g1_loss: 1.4985524415969849, g2_loss: 1.0822291374206543\n",
      "Step [9100/40000], d_real_loss: 0.0471571683883667, d_fake_loss: 0.03229048103094101, g1_loss: 1.1842472553253174, g2_loss: 1.029038429260254\n",
      "Step [9200/40000], d_real_loss: 0.14914637804031372, d_fake_loss: 0.036399129778146744, g1_loss: 1.0904616117477417, g2_loss: 1.0456154346466064\n",
      "Step [9300/40000], d_real_loss: 0.060673076659440994, d_fake_loss: 0.032841309905052185, g1_loss: 1.1446162462234497, g2_loss: 1.2489354610443115\n",
      "Step [9400/40000], d_real_loss: 0.034687262028455734, d_fake_loss: 0.017349446192383766, g1_loss: 1.175894856452942, g2_loss: 1.193145513534546\n",
      "Step [9500/40000], d_real_loss: 0.0218287892639637, d_fake_loss: 0.09348621219396591, g1_loss: 1.47474205493927, g2_loss: 1.2129758596420288\n",
      "Step [9600/40000], d_real_loss: 0.02422851324081421, d_fake_loss: 0.04225485026836395, g1_loss: 1.3348275423049927, g2_loss: 1.0284925699234009\n",
      "Step [9700/40000], d_real_loss: 0.08119127154350281, d_fake_loss: 0.055322304368019104, g1_loss: 1.4798283576965332, g2_loss: 1.2076776027679443\n",
      "Step [9800/40000], d_real_loss: 0.024785518646240234, d_fake_loss: 0.01650002971291542, g1_loss: 1.1946887969970703, g2_loss: 1.1706867218017578\n",
      "Step [9900/40000], d_real_loss: 0.024098452180624008, d_fake_loss: 0.0221543051302433, g1_loss: 1.2229456901550293, g2_loss: 1.2509541511535645\n",
      "Step [10000/40000], d_real_loss: 0.13353708386421204, d_fake_loss: 0.020205877721309662, g1_loss: 1.0961076021194458, g2_loss: 1.0755693912506104\n",
      "Step [10100/40000], d_real_loss: 0.05027564987540245, d_fake_loss: 0.15763640403747559, g1_loss: 0.8962512016296387, g2_loss: 1.1501340866088867\n",
      "Step [10200/40000], d_real_loss: 0.04176501929759979, d_fake_loss: 0.01781848631799221, g1_loss: 1.22090482711792, g2_loss: 1.2943980693817139\n",
      "Step [10300/40000], d_real_loss: 0.02352982573211193, d_fake_loss: 0.05209457129240036, g1_loss: 1.140458106994629, g2_loss: 1.172460913658142\n",
      "Step [10400/40000], d_real_loss: 0.027959775179624557, d_fake_loss: 0.060936473309993744, g1_loss: 1.263068675994873, g2_loss: 1.3525991439819336\n",
      "Step [10500/40000], d_real_loss: 0.07845640927553177, d_fake_loss: 0.02079339139163494, g1_loss: 1.0639313459396362, g2_loss: 1.3839832544326782\n",
      "Step [10600/40000], d_real_loss: 0.022231653332710266, d_fake_loss: 0.013113480992615223, g1_loss: 1.2549612522125244, g2_loss: 1.1948813199996948\n",
      "Step [10700/40000], d_real_loss: 0.03482617065310478, d_fake_loss: 0.1008690744638443, g1_loss: 1.462319254875183, g2_loss: 1.21965491771698\n",
      "Step [10800/40000], d_real_loss: 0.1626700460910797, d_fake_loss: 0.023463040590286255, g1_loss: 0.9963050484657288, g2_loss: 1.0220239162445068\n",
      "Step [10900/40000], d_real_loss: 0.0495537631213665, d_fake_loss: 0.016856743022799492, g1_loss: 1.2873175144195557, g2_loss: 1.036742925643921\n",
      "Step [11000/40000], d_real_loss: 0.0654640719294548, d_fake_loss: 0.031159307807683945, g1_loss: 1.0717737674713135, g2_loss: 1.3614652156829834\n",
      "Step [11100/40000], d_real_loss: 0.029678665101528168, d_fake_loss: 0.05223996192216873, g1_loss: 1.403983235359192, g2_loss: 1.2653266191482544\n",
      "Step [11200/40000], d_real_loss: 0.039167750626802444, d_fake_loss: 0.08075547963380814, g1_loss: 1.2017558813095093, g2_loss: 1.1999279260635376\n",
      "Step [11300/40000], d_real_loss: 0.03671516850590706, d_fake_loss: 0.061781059950590134, g1_loss: 1.292855143547058, g2_loss: 1.2517246007919312\n",
      "Step [11400/40000], d_real_loss: 0.0955345556139946, d_fake_loss: 0.13319441676139832, g1_loss: 1.4852137565612793, g2_loss: 1.250166893005371\n",
      "Step [11500/40000], d_real_loss: 0.044736772775650024, d_fake_loss: 0.019588157534599304, g1_loss: 1.2640668153762817, g2_loss: 1.2749887704849243\n",
      "Step [11600/40000], d_real_loss: 0.04420096427202225, d_fake_loss: 0.014705493114888668, g1_loss: 1.140365719795227, g2_loss: 1.1832759380340576\n",
      "Step [11700/40000], d_real_loss: 0.03262947499752045, d_fake_loss: 0.04704306274652481, g1_loss: 1.3158091306686401, g2_loss: 1.1299115419387817\n",
      "Step [11800/40000], d_real_loss: 0.06502556055784225, d_fake_loss: 0.03692040219902992, g1_loss: 1.0693349838256836, g2_loss: 1.2215564250946045\n",
      "Step [11900/40000], d_real_loss: 0.03992953896522522, d_fake_loss: 0.047398265451192856, g1_loss: 1.2860875129699707, g2_loss: 1.2363324165344238\n",
      "Step [12000/40000], d_real_loss: 0.097044937312603, d_fake_loss: 0.01938379928469658, g1_loss: 1.0604217052459717, g2_loss: 1.1228954792022705\n",
      "Step [12100/40000], d_real_loss: 0.10566329210996628, d_fake_loss: 0.04027882590889931, g1_loss: 1.2642407417297363, g2_loss: 1.1174802780151367\n",
      "Step [12200/40000], d_real_loss: 0.02358020283281803, d_fake_loss: 0.08295754343271255, g1_loss: 1.4975346326828003, g2_loss: 1.196539282798767\n",
      "Step [12300/40000], d_real_loss: 0.03412984684109688, d_fake_loss: 0.034191232174634933, g1_loss: 1.4035085439682007, g2_loss: 1.0698612928390503\n",
      "Step [12400/40000], d_real_loss: 0.08953874558210373, d_fake_loss: 0.05090968310832977, g1_loss: 1.1825138330459595, g2_loss: 1.3290272951126099\n",
      "Step [12500/40000], d_real_loss: 0.050336237996816635, d_fake_loss: 0.03140322118997574, g1_loss: 0.9714564085006714, g2_loss: 1.0999079942703247\n",
      "Step [12600/40000], d_real_loss: 0.021267715841531754, d_fake_loss: 0.05435919016599655, g1_loss: 1.3446447849273682, g2_loss: 1.2068438529968262\n",
      "Step [12700/40000], d_real_loss: 0.029425127431750298, d_fake_loss: 0.07930736243724823, g1_loss: 1.4683321714401245, g2_loss: 1.2604193687438965\n",
      "Step [12800/40000], d_real_loss: 0.03087024949491024, d_fake_loss: 0.028099723160266876, g1_loss: 1.2144756317138672, g2_loss: 1.1819815635681152\n",
      "Step [12900/40000], d_real_loss: 0.08229956775903702, d_fake_loss: 0.045060377568006516, g1_loss: 1.334263801574707, g2_loss: 1.2599738836288452\n",
      "Step [13000/40000], d_real_loss: 0.057040486484766006, d_fake_loss: 0.023350242525339127, g1_loss: 1.140268325805664, g2_loss: 1.1985602378845215\n",
      "Step [13100/40000], d_real_loss: 0.08416473120450974, d_fake_loss: 0.01551304291933775, g1_loss: 1.1168180704116821, g2_loss: 1.0513314008712769\n",
      "Step [13200/40000], d_real_loss: 0.04471491277217865, d_fake_loss: 0.04731764644384384, g1_loss: 1.3129444122314453, g2_loss: 1.2535526752471924\n",
      "Step [13300/40000], d_real_loss: 0.02928914874792099, d_fake_loss: 0.01711641438305378, g1_loss: 1.259334921836853, g2_loss: 1.2044888734817505\n",
      "Step [13400/40000], d_real_loss: 0.020744506269693375, d_fake_loss: 0.018262021243572235, g1_loss: 1.1128406524658203, g2_loss: 1.1530447006225586\n",
      "Step [13500/40000], d_real_loss: 0.046098340302705765, d_fake_loss: 0.024447236210107803, g1_loss: 1.1723096370697021, g2_loss: 1.388893723487854\n",
      "Step [13600/40000], d_real_loss: 0.04966568946838379, d_fake_loss: 0.04314194619655609, g1_loss: 1.1515541076660156, g2_loss: 1.3696070909500122\n",
      "Step [13700/40000], d_real_loss: 0.07180245220661163, d_fake_loss: 0.0717548057436943, g1_loss: 1.1411882638931274, g2_loss: 1.1065895557403564\n",
      "Step [13800/40000], d_real_loss: 0.07844719290733337, d_fake_loss: 0.08861682564020157, g1_loss: 1.2845600843429565, g2_loss: 1.155152440071106\n",
      "Step [13900/40000], d_real_loss: 0.01804017275571823, d_fake_loss: 0.06768952310085297, g1_loss: 1.459505558013916, g2_loss: 1.2577542066574097\n",
      "Step [14000/40000], d_real_loss: 0.045432690531015396, d_fake_loss: 0.07866879552602768, g1_loss: 1.249520182609558, g2_loss: 1.1788599491119385\n",
      "Step [14100/40000], d_real_loss: 0.03987767919898033, d_fake_loss: 0.030991554260253906, g1_loss: 1.171819806098938, g2_loss: 1.2829089164733887\n",
      "Step [14200/40000], d_real_loss: 0.0249631404876709, d_fake_loss: 0.2668294310569763, g1_loss: 1.4781566858291626, g2_loss: 1.2204629182815552\n",
      "Step [14300/40000], d_real_loss: 0.021250495687127113, d_fake_loss: 0.11376480758190155, g1_loss: 1.2724756002426147, g2_loss: 1.0227912664413452\n",
      "Step [14400/40000], d_real_loss: 0.055573221296072006, d_fake_loss: 0.10152525454759598, g1_loss: 1.2163547277450562, g2_loss: 1.0731738805770874\n",
      "Step [14500/40000], d_real_loss: 0.17385610938072205, d_fake_loss: 0.1740424633026123, g1_loss: 1.12791907787323, g2_loss: 0.7724250555038452\n",
      "Step [14600/40000], d_real_loss: 0.05555792897939682, d_fake_loss: 0.04061569273471832, g1_loss: 1.3328144550323486, g2_loss: 1.1377973556518555\n",
      "Step [14700/40000], d_real_loss: 0.08226526528596878, d_fake_loss: 0.031530678272247314, g1_loss: 1.146162509918213, g2_loss: 1.1738648414611816\n",
      "Step [14800/40000], d_real_loss: 0.027748271822929382, d_fake_loss: 0.021838245913386345, g1_loss: 1.188506841659546, g2_loss: 1.121865153312683\n",
      "Step [14900/40000], d_real_loss: 0.037256333976984024, d_fake_loss: 0.06495287269353867, g1_loss: 1.2908973693847656, g2_loss: 1.2505468130111694\n",
      "Step [15000/40000], d_real_loss: 0.0280341487377882, d_fake_loss: 0.03367721661925316, g1_loss: 1.2839570045471191, g2_loss: 1.200232744216919\n",
      "Step [15100/40000], d_real_loss: 0.05077916383743286, d_fake_loss: 0.1350201964378357, g1_loss: 1.476172924041748, g2_loss: 1.0652278661727905\n",
      "Step [15200/40000], d_real_loss: 0.056311484426259995, d_fake_loss: 0.035452812910079956, g1_loss: 1.0269489288330078, g2_loss: 1.08270263671875\n",
      "Step [15300/40000], d_real_loss: 0.04414870962500572, d_fake_loss: 0.028180256485939026, g1_loss: 1.269119381904602, g2_loss: 1.2155498266220093\n",
      "Step [15400/40000], d_real_loss: 0.10252775996923447, d_fake_loss: 0.07056606560945511, g1_loss: 1.6292779445648193, g2_loss: 1.215205430984497\n",
      "Step [15500/40000], d_real_loss: 0.08195282518863678, d_fake_loss: 0.025614092126488686, g1_loss: 1.3010224103927612, g2_loss: 1.029741644859314\n",
      "Step [15600/40000], d_real_loss: 0.02971169911324978, d_fake_loss: 0.025826826691627502, g1_loss: 1.199053406715393, g2_loss: 1.1369762420654297\n",
      "Step [15700/40000], d_real_loss: 0.018730321899056435, d_fake_loss: 0.029688524082303047, g1_loss: 1.2580060958862305, g2_loss: 1.3034708499908447\n",
      "Step [15800/40000], d_real_loss: 0.07935910671949387, d_fake_loss: 0.07974289357662201, g1_loss: 1.3445827960968018, g2_loss: 1.344020962715149\n",
      "Step [15900/40000], d_real_loss: 0.05491558462381363, d_fake_loss: 0.058303698897361755, g1_loss: 1.268018126487732, g2_loss: 1.1133179664611816\n",
      "Step [16000/40000], d_real_loss: 0.06928752362728119, d_fake_loss: 0.048719167709350586, g1_loss: 1.249700665473938, g2_loss: 1.1552808284759521\n",
      "Step [16100/40000], d_real_loss: 0.036800649017095566, d_fake_loss: 0.12224333733320236, g1_loss: 1.333727478981018, g2_loss: 1.0083884000778198\n",
      "Step [16200/40000], d_real_loss: 0.021850332617759705, d_fake_loss: 0.038137614727020264, g1_loss: 1.3055596351623535, g2_loss: 1.023183822631836\n",
      "Step [16300/40000], d_real_loss: 0.01717904396355152, d_fake_loss: 0.021510740742087364, g1_loss: 1.208420991897583, g2_loss: 1.0912482738494873\n",
      "Step [16400/40000], d_real_loss: 0.037437714636325836, d_fake_loss: 0.12840797007083893, g1_loss: 1.3507237434387207, g2_loss: 1.1493247747421265\n",
      "Step [16500/40000], d_real_loss: 0.027971478179097176, d_fake_loss: 0.08185567706823349, g1_loss: 1.4243249893188477, g2_loss: 1.5327904224395752\n",
      "Step [16600/40000], d_real_loss: 0.10443370044231415, d_fake_loss: 0.010455207899212837, g1_loss: 0.9903348684310913, g2_loss: 1.0583326816558838\n",
      "Step [16700/40000], d_real_loss: 0.019966106861829758, d_fake_loss: 0.028734896332025528, g1_loss: 1.3160204887390137, g2_loss: 1.0866787433624268\n",
      "Step [16800/40000], d_real_loss: 0.05940856412053108, d_fake_loss: 0.02187676541507244, g1_loss: 1.1227991580963135, g2_loss: 1.1412121057510376\n",
      "Step [16900/40000], d_real_loss: 0.0714869275689125, d_fake_loss: 0.0194997675716877, g1_loss: 1.3105981349945068, g2_loss: 1.2381761074066162\n",
      "Step [17000/40000], d_real_loss: 0.04104599356651306, d_fake_loss: 0.11559071391820908, g1_loss: 1.411003589630127, g2_loss: 1.07541024684906\n",
      "Step [17100/40000], d_real_loss: 0.05053745210170746, d_fake_loss: 0.05581660941243172, g1_loss: 1.1534852981567383, g2_loss: 1.1985859870910645\n",
      "Step [17200/40000], d_real_loss: 0.10541686415672302, d_fake_loss: 0.034547943621873856, g1_loss: 1.3811695575714111, g2_loss: 1.162889838218689\n",
      "Step [17300/40000], d_real_loss: 0.02307283692061901, d_fake_loss: 0.3016740679740906, g1_loss: 1.9071248769760132, g2_loss: 0.9879465699195862\n",
      "Step [17400/40000], d_real_loss: 0.039623819291591644, d_fake_loss: 0.07118143886327744, g1_loss: 1.4488506317138672, g2_loss: 1.0427334308624268\n",
      "Step [17500/40000], d_real_loss: 0.03337576985359192, d_fake_loss: 0.03032805398106575, g1_loss: 1.1697872877120972, g2_loss: 1.0291987657546997\n",
      "Step [17600/40000], d_real_loss: 0.05194447189569473, d_fake_loss: 0.05381528288125992, g1_loss: 1.2555955648422241, g2_loss: 1.1752841472625732\n",
      "Step [17700/40000], d_real_loss: 0.04085573926568031, d_fake_loss: 0.04166729748249054, g1_loss: 1.280092477798462, g2_loss: 1.2317355871200562\n",
      "Step [17800/40000], d_real_loss: 0.04362307861447334, d_fake_loss: 0.025586677715182304, g1_loss: 1.3665932416915894, g2_loss: 1.2742491960525513\n",
      "Step [17900/40000], d_real_loss: 0.024696532636880875, d_fake_loss: 0.027562733739614487, g1_loss: 1.2533169984817505, g2_loss: 1.282923936843872\n",
      "Step [18000/40000], d_real_loss: 0.06307405233383179, d_fake_loss: 0.019183484837412834, g1_loss: 1.1664893627166748, g2_loss: 1.4173908233642578\n",
      "Step [18100/40000], d_real_loss: 0.03268107771873474, d_fake_loss: 0.024604439735412598, g1_loss: 1.2363567352294922, g2_loss: 1.1415481567382812\n",
      "Step [18200/40000], d_real_loss: 0.016352904960513115, d_fake_loss: 0.017030809074640274, g1_loss: 1.2966115474700928, g2_loss: 1.172102451324463\n",
      "Step [18300/40000], d_real_loss: 0.023176973685622215, d_fake_loss: 0.02711600437760353, g1_loss: 1.0804288387298584, g2_loss: 1.2012578248977661\n",
      "Step [18400/40000], d_real_loss: 0.020940560847520828, d_fake_loss: 0.03370499610900879, g1_loss: 1.2008458375930786, g2_loss: 1.2710222005844116\n",
      "Step [18500/40000], d_real_loss: 0.05846931412816048, d_fake_loss: 0.04138222709298134, g1_loss: 1.244307279586792, g2_loss: 1.1970582008361816\n",
      "Step [18600/40000], d_real_loss: 0.021915700286626816, d_fake_loss: 0.11461430042982101, g1_loss: 1.538018822669983, g2_loss: 1.245073676109314\n",
      "Step [18700/40000], d_real_loss: 0.04447479918599129, d_fake_loss: 0.05823849141597748, g1_loss: 1.2314236164093018, g2_loss: 1.4042772054672241\n",
      "Step [18800/40000], d_real_loss: 0.018704388290643692, d_fake_loss: 0.07696741819381714, g1_loss: 1.4449801445007324, g2_loss: 1.1943202018737793\n",
      "Step [18900/40000], d_real_loss: 0.09125766158103943, d_fake_loss: 0.01874629035592079, g1_loss: 1.2818174362182617, g2_loss: 1.339263677597046\n",
      "Step [19000/40000], d_real_loss: 0.034249842166900635, d_fake_loss: 0.03912141174077988, g1_loss: 1.235107660293579, g2_loss: 1.3184478282928467\n",
      "Step [19100/40000], d_real_loss: 0.19139954447746277, d_fake_loss: 0.07987777888774872, g1_loss: 1.0575690269470215, g2_loss: 0.9337314367294312\n",
      "Step [19200/40000], d_real_loss: 0.03737645596265793, d_fake_loss: 0.017165925353765488, g1_loss: 1.1252251863479614, g2_loss: 1.1415565013885498\n",
      "Step [19300/40000], d_real_loss: 0.09012628346681595, d_fake_loss: 0.06262238323688507, g1_loss: 1.339827060699463, g2_loss: 1.2568728923797607\n",
      "Step [19400/40000], d_real_loss: 0.04316308721899986, d_fake_loss: 0.031596653163433075, g1_loss: 1.1839381456375122, g2_loss: 1.3119418621063232\n",
      "Step [19500/40000], d_real_loss: 0.022932233288884163, d_fake_loss: 0.03234217315912247, g1_loss: 1.3243707418441772, g2_loss: 1.234497308731079\n",
      "Step [19600/40000], d_real_loss: 0.04284817352890968, d_fake_loss: 0.02934960462152958, g1_loss: 1.2944135665893555, g2_loss: 1.1442692279815674\n",
      "Step [19700/40000], d_real_loss: 0.090469129383564, d_fake_loss: 0.08066198229789734, g1_loss: 1.3409420251846313, g2_loss: 1.1397889852523804\n",
      "Step [19800/40000], d_real_loss: 0.04114279896020889, d_fake_loss: 0.023444941267371178, g1_loss: 1.1420034170150757, g2_loss: 1.21620512008667\n",
      "Step [19900/40000], d_real_loss: 0.030704930424690247, d_fake_loss: 0.012916723266243935, g1_loss: 1.3098026514053345, g2_loss: 1.1627399921417236\n",
      "Step [20000/40000], d_real_loss: 0.01885136589407921, d_fake_loss: 0.1406906098127365, g1_loss: 1.4026132822036743, g2_loss: 1.0762302875518799\n",
      "Step [20100/40000], d_real_loss: 0.04481390863656998, d_fake_loss: 0.08151331543922424, g1_loss: 1.2017309665679932, g2_loss: 1.0427935123443604\n",
      "Step [20200/40000], d_real_loss: 0.03572246804833412, d_fake_loss: 0.013336662203073502, g1_loss: 1.21821928024292, g2_loss: 1.133857011795044\n",
      "Step [20300/40000], d_real_loss: 0.061161112040281296, d_fake_loss: 0.05939989909529686, g1_loss: 1.3126007318496704, g2_loss: 1.1959803104400635\n",
      "Step [20400/40000], d_real_loss: 0.0610111802816391, d_fake_loss: 0.024869944900274277, g1_loss: 1.412658452987671, g2_loss: 1.1992149353027344\n",
      "Step [20500/40000], d_real_loss: 0.020664174109697342, d_fake_loss: 0.012774651870131493, g1_loss: 1.1573798656463623, g2_loss: 1.158995509147644\n",
      "Step [20600/40000], d_real_loss: 0.05535949021577835, d_fake_loss: 0.04139883071184158, g1_loss: 1.1972497701644897, g2_loss: 1.098397135734558\n",
      "Step [20700/40000], d_real_loss: 0.022042013704776764, d_fake_loss: 0.1010361760854721, g1_loss: 1.3460785150527954, g2_loss: 1.0394476652145386\n",
      "Step [20800/40000], d_real_loss: 0.015637444332242012, d_fake_loss: 0.048261240124702454, g1_loss: 1.3222733736038208, g2_loss: 1.2878015041351318\n",
      "Step [20900/40000], d_real_loss: 0.017123989760875702, d_fake_loss: 0.016471195966005325, g1_loss: 1.1754353046417236, g2_loss: 1.1965125799179077\n",
      "Step [21000/40000], d_real_loss: 0.07913816720247269, d_fake_loss: 0.06067892909049988, g1_loss: 1.1956864595413208, g2_loss: 1.3056660890579224\n",
      "Step [21100/40000], d_real_loss: 0.053033821284770966, d_fake_loss: 0.017332956194877625, g1_loss: 1.1142897605895996, g2_loss: 1.1251620054244995\n",
      "Step [21200/40000], d_real_loss: 0.027332229539752007, d_fake_loss: 0.031690746545791626, g1_loss: 1.3604671955108643, g2_loss: 1.3197566270828247\n",
      "Step [21300/40000], d_real_loss: 0.26092132925987244, d_fake_loss: 0.016721103340387344, g1_loss: 0.9841185808181763, g2_loss: 1.1265807151794434\n",
      "Step [21400/40000], d_real_loss: 0.025154151022434235, d_fake_loss: 0.0959821566939354, g1_loss: 1.2589808702468872, g2_loss: 1.20795738697052\n",
      "Step [21500/40000], d_real_loss: 0.05091901868581772, d_fake_loss: 0.025676477700471878, g1_loss: 1.1291730403900146, g2_loss: 1.1222078800201416\n",
      "Step [21600/40000], d_real_loss: 0.02420719899237156, d_fake_loss: 0.03837050870060921, g1_loss: 1.161618709564209, g2_loss: 1.2634683847427368\n",
      "Step [21700/40000], d_real_loss: 0.06549094617366791, d_fake_loss: 0.10750870406627655, g1_loss: 1.2457605600357056, g2_loss: 1.0059808492660522\n",
      "Step [21800/40000], d_real_loss: 0.023994021117687225, d_fake_loss: 0.02086382359266281, g1_loss: 1.205157995223999, g2_loss: 1.2044336795806885\n",
      "Step [21900/40000], d_real_loss: 0.02667667716741562, d_fake_loss: 0.0551614835858345, g1_loss: 1.299878716468811, g2_loss: 1.093575119972229\n",
      "Step [22000/40000], d_real_loss: 0.029999542981386185, d_fake_loss: 0.01914377510547638, g1_loss: 1.2498419284820557, g2_loss: 1.1220676898956299\n",
      "Step [22100/40000], d_real_loss: 0.02737996354699135, d_fake_loss: 0.01930159516632557, g1_loss: 1.310445785522461, g2_loss: 1.2040175199508667\n",
      "Step [22200/40000], d_real_loss: 0.07313285022974014, d_fake_loss: 0.020317882299423218, g1_loss: 1.2781107425689697, g2_loss: 1.041577935218811\n",
      "Step [22300/40000], d_real_loss: 0.03302048146724701, d_fake_loss: 0.01843833364546299, g1_loss: 1.3499019145965576, g2_loss: 1.1385505199432373\n",
      "Step [22400/40000], d_real_loss: 0.03617490455508232, d_fake_loss: 0.04002440720796585, g1_loss: 1.0670255422592163, g2_loss: 1.2537410259246826\n",
      "Step [22500/40000], d_real_loss: 0.04881535470485687, d_fake_loss: 0.01297336257994175, g1_loss: 1.1034560203552246, g2_loss: 1.1063371896743774\n",
      "Step [22600/40000], d_real_loss: 0.01689552143216133, d_fake_loss: 0.01588018424808979, g1_loss: 1.234367847442627, g2_loss: 1.3278700113296509\n",
      "Step [22700/40000], d_real_loss: 0.04593580216169357, d_fake_loss: 0.022581905126571655, g1_loss: 1.3041743040084839, g2_loss: 1.3794708251953125\n",
      "Step [22800/40000], d_real_loss: 0.08479674160480499, d_fake_loss: 0.033942822366952896, g1_loss: 1.0021083354949951, g2_loss: 1.0900321006774902\n",
      "Step [22900/40000], d_real_loss: 0.031794678419828415, d_fake_loss: 0.024405667558312416, g1_loss: 1.2505390644073486, g2_loss: 1.2925899028778076\n",
      "Step [23000/40000], d_real_loss: 0.031144853681325912, d_fake_loss: 0.12043268978595734, g1_loss: 1.169554591178894, g2_loss: 1.2653769254684448\n",
      "Step [23100/40000], d_real_loss: 0.05846996605396271, d_fake_loss: 0.023248881101608276, g1_loss: 1.1942188739776611, g2_loss: 1.132448673248291\n",
      "Step [23200/40000], d_real_loss: 0.02623685635626316, d_fake_loss: 0.08745763450860977, g1_loss: 1.492769718170166, g2_loss: 1.1972250938415527\n",
      "Step [23300/40000], d_real_loss: 0.0863465666770935, d_fake_loss: 0.0733243003487587, g1_loss: 1.183606743812561, g2_loss: 1.110260248184204\n",
      "Step [23400/40000], d_real_loss: 0.04990560561418533, d_fake_loss: 0.05971153825521469, g1_loss: 1.2437046766281128, g2_loss: 1.1893969774246216\n",
      "Step [23500/40000], d_real_loss: 0.04370219260454178, d_fake_loss: 0.020999981090426445, g1_loss: 1.1737861633300781, g2_loss: 1.1756608486175537\n",
      "Step [23600/40000], d_real_loss: 0.02829960361123085, d_fake_loss: 0.025572441518306732, g1_loss: 1.2457233667373657, g2_loss: 1.1597071886062622\n",
      "Step [23700/40000], d_real_loss: 0.021283594891428947, d_fake_loss: 0.05131762474775314, g1_loss: 1.3688265085220337, g2_loss: 1.1975152492523193\n",
      "Step [23800/40000], d_real_loss: 0.03235307335853577, d_fake_loss: 0.07829739153385162, g1_loss: 1.3336048126220703, g2_loss: 1.1534219980239868\n",
      "Step [23900/40000], d_real_loss: 0.029292669147253036, d_fake_loss: 0.01419954001903534, g1_loss: 1.1825352907180786, g2_loss: 1.2919723987579346\n",
      "Step [24000/40000], d_real_loss: 0.018421558663249016, d_fake_loss: 0.021181853488087654, g1_loss: 1.3372602462768555, g2_loss: 1.1558748483657837\n",
      "Step [24100/40000], d_real_loss: 0.04309970140457153, d_fake_loss: 0.02746647596359253, g1_loss: 1.3170850276947021, g2_loss: 1.0112770795822144\n",
      "Step [24200/40000], d_real_loss: 0.04975122585892677, d_fake_loss: 0.09407017379999161, g1_loss: 1.294365644454956, g2_loss: 1.1048015356063843\n",
      "Step [24300/40000], d_real_loss: 0.03289509564638138, d_fake_loss: 0.07907849550247192, g1_loss: 1.1825858354568481, g2_loss: 1.108955979347229\n",
      "Step [24400/40000], d_real_loss: 0.05833742022514343, d_fake_loss: 0.04910530522465706, g1_loss: 0.9667438268661499, g2_loss: 1.1438919305801392\n",
      "Step [24500/40000], d_real_loss: 0.06508956849575043, d_fake_loss: 0.026138165965676308, g1_loss: 1.1796042919158936, g2_loss: 1.1982804536819458\n",
      "Step [24600/40000], d_real_loss: 0.04640098661184311, d_fake_loss: 0.02539266273379326, g1_loss: 1.340917706489563, g2_loss: 1.1550817489624023\n",
      "Step [24700/40000], d_real_loss: 0.06081840395927429, d_fake_loss: 0.05548171326518059, g1_loss: 1.0709924697875977, g2_loss: 1.2613146305084229\n",
      "Step [24800/40000], d_real_loss: 0.02445974387228489, d_fake_loss: 0.01182600762695074, g1_loss: 1.1872639656066895, g2_loss: 1.1188377141952515\n",
      "Step [24900/40000], d_real_loss: 0.12145639955997467, d_fake_loss: 0.11540299654006958, g1_loss: 1.060561180114746, g2_loss: 1.098589301109314\n",
      "Step [25000/40000], d_real_loss: 0.05394996330142021, d_fake_loss: 0.03772363066673279, g1_loss: 1.2422761917114258, g2_loss: 0.9790617823600769\n",
      "Step [25100/40000], d_real_loss: 0.016934845596551895, d_fake_loss: 0.06954868882894516, g1_loss: 1.3161932229995728, g2_loss: 1.2166125774383545\n",
      "Step [25200/40000], d_real_loss: 0.03366784006357193, d_fake_loss: 0.05545516312122345, g1_loss: 1.267758846282959, g2_loss: 1.2277039289474487\n",
      "Step [25300/40000], d_real_loss: 0.07854613661766052, d_fake_loss: 0.03060438483953476, g1_loss: 1.1231553554534912, g2_loss: 1.0021147727966309\n",
      "Step [25400/40000], d_real_loss: 0.10528571158647537, d_fake_loss: 0.0611584410071373, g1_loss: 1.110413908958435, g2_loss: 1.1677167415618896\n",
      "Step [25500/40000], d_real_loss: 0.26036685705184937, d_fake_loss: 0.015303641557693481, g1_loss: 0.9751917123794556, g2_loss: 1.1583491563796997\n",
      "Step [25600/40000], d_real_loss: 0.058744318783283234, d_fake_loss: 0.012494401074945927, g1_loss: 1.051741361618042, g2_loss: 1.1729739904403687\n",
      "Step [25700/40000], d_real_loss: 0.03798791393637657, d_fake_loss: 0.0460931658744812, g1_loss: 1.2065047025680542, g2_loss: 1.1056939363479614\n",
      "Step [25800/40000], d_real_loss: 0.02886858582496643, d_fake_loss: 0.03995757922530174, g1_loss: 1.436072826385498, g2_loss: 1.0685908794403076\n",
      "Step [25900/40000], d_real_loss: 0.042591746896505356, d_fake_loss: 0.038648560643196106, g1_loss: 1.2155969142913818, g2_loss: 1.1051796674728394\n",
      "Step [26000/40000], d_real_loss: 0.015366696752607822, d_fake_loss: 0.014923100359737873, g1_loss: 1.3161256313323975, g2_loss: 1.2724039554595947\n",
      "Step [26100/40000], d_real_loss: 0.0530383363366127, d_fake_loss: 0.07828500866889954, g1_loss: 1.1709084510803223, g2_loss: 1.3372665643692017\n",
      "Step [26200/40000], d_real_loss: 0.03496294096112251, d_fake_loss: 0.02753407694399357, g1_loss: 1.1565908193588257, g2_loss: 1.188409686088562\n",
      "Step [26300/40000], d_real_loss: 0.03225170820951462, d_fake_loss: 0.01662280224263668, g1_loss: 1.1590012311935425, g2_loss: 1.254902720451355\n",
      "Step [26400/40000], d_real_loss: 0.02635088562965393, d_fake_loss: 0.040014564990997314, g1_loss: 1.1294678449630737, g2_loss: 1.135399580001831\n",
      "Step [26500/40000], d_real_loss: 0.03369014337658882, d_fake_loss: 0.077330082654953, g1_loss: 1.3292944431304932, g2_loss: 1.0981760025024414\n",
      "Step [26600/40000], d_real_loss: 0.06465067714452744, d_fake_loss: 0.020353157073259354, g1_loss: 1.1228286027908325, g2_loss: 1.1158854961395264\n",
      "Step [26700/40000], d_real_loss: 0.04428648576140404, d_fake_loss: 0.032538723200559616, g1_loss: 1.2926783561706543, g2_loss: 1.1066585779190063\n",
      "Step [26800/40000], d_real_loss: 0.03900836408138275, d_fake_loss: 0.03356437385082245, g1_loss: 1.237700343132019, g2_loss: 1.1093624830245972\n",
      "Step [26900/40000], d_real_loss: 0.015068130567669868, d_fake_loss: 0.0158168226480484, g1_loss: 1.1967138051986694, g2_loss: 1.127192735671997\n",
      "Step [27000/40000], d_real_loss: 0.097084641456604, d_fake_loss: 0.0797942504286766, g1_loss: 1.1262412071228027, g2_loss: 1.2116652727127075\n",
      "Step [27100/40000], d_real_loss: 0.0773250162601471, d_fake_loss: 0.0674389973282814, g1_loss: 1.1821643114089966, g2_loss: 1.0384150743484497\n",
      "Step [27200/40000], d_real_loss: 0.03394503891468048, d_fake_loss: 0.03680843859910965, g1_loss: 1.1729953289031982, g2_loss: 1.1922080516815186\n",
      "Step [27300/40000], d_real_loss: 0.05437411367893219, d_fake_loss: 0.02638900652527809, g1_loss: 0.9733428955078125, g2_loss: 1.0529170036315918\n",
      "Step [27400/40000], d_real_loss: 0.10168210417032242, d_fake_loss: 0.027365578338503838, g1_loss: 1.1858103275299072, g2_loss: 1.1265822649002075\n",
      "Step [27500/40000], d_real_loss: 0.10168325155973434, d_fake_loss: 0.013232498429715633, g1_loss: 1.0673673152923584, g2_loss: 1.254148244857788\n",
      "Step [27600/40000], d_real_loss: 0.011767920106649399, d_fake_loss: 0.026507655158638954, g1_loss: 1.356895089149475, g2_loss: 1.1277220249176025\n",
      "Step [27700/40000], d_real_loss: 0.034269481897354126, d_fake_loss: 0.013917755335569382, g1_loss: 1.0653467178344727, g2_loss: 1.082119107246399\n",
      "Step [27800/40000], d_real_loss: 0.026608295738697052, d_fake_loss: 0.014977533370256424, g1_loss: 1.0844531059265137, g2_loss: 1.0734723806381226\n",
      "Step [27900/40000], d_real_loss: 0.08025260269641876, d_fake_loss: 0.028485774993896484, g1_loss: 1.1516779661178589, g2_loss: 1.2053937911987305\n",
      "Step [28000/40000], d_real_loss: 0.028528284281492233, d_fake_loss: 0.05043422803282738, g1_loss: 1.1295599937438965, g2_loss: 1.060645580291748\n",
      "Step [28100/40000], d_real_loss: 0.018046166747808456, d_fake_loss: 0.05629247426986694, g1_loss: 1.1816331148147583, g2_loss: 1.2242143154144287\n",
      "Step [28200/40000], d_real_loss: 0.030658885836601257, d_fake_loss: 0.020225366577506065, g1_loss: 1.1895463466644287, g2_loss: 1.0726938247680664\n",
      "Step [28300/40000], d_real_loss: 0.08670560270547867, d_fake_loss: 0.03724963963031769, g1_loss: 1.1335784196853638, g2_loss: 1.0181204080581665\n",
      "Step [28400/40000], d_real_loss: 0.01500888541340828, d_fake_loss: 0.019400974735617638, g1_loss: 1.282928705215454, g2_loss: 1.0436898469924927\n",
      "Step [28500/40000], d_real_loss: 0.03262728080153465, d_fake_loss: 0.09159121662378311, g1_loss: 1.1714529991149902, g2_loss: 1.1857761144638062\n",
      "Step [28600/40000], d_real_loss: 0.02061631716787815, d_fake_loss: 0.04232926666736603, g1_loss: 1.096422553062439, g2_loss: 1.1852920055389404\n",
      "Step [28700/40000], d_real_loss: 0.028555721044540405, d_fake_loss: 0.02331734634935856, g1_loss: 1.2298967838287354, g2_loss: 1.1552464962005615\n",
      "Step [28800/40000], d_real_loss: 0.13203997910022736, d_fake_loss: 0.016105428338050842, g1_loss: 1.016566514968872, g2_loss: 1.051453709602356\n",
      "Step [28900/40000], d_real_loss: 0.10194520652294159, d_fake_loss: 0.01950014941394329, g1_loss: 1.4474881887435913, g2_loss: 1.2388007640838623\n",
      "Step [29000/40000], d_real_loss: 0.022766338661313057, d_fake_loss: 0.026057379320263863, g1_loss: 1.1930490732192993, g2_loss: 1.1792395114898682\n",
      "Step [29100/40000], d_real_loss: 0.055381227284669876, d_fake_loss: 0.014859741553664207, g1_loss: 1.0813086032867432, g2_loss: 1.1201504468917847\n",
      "Step [29200/40000], d_real_loss: 0.020004449412226677, d_fake_loss: 0.013688161037862301, g1_loss: 1.2428113222122192, g2_loss: 1.146558403968811\n",
      "Step [29300/40000], d_real_loss: 0.09707356244325638, d_fake_loss: 0.018936101347208023, g1_loss: 1.1423187255859375, g2_loss: 1.0371204614639282\n",
      "Step [29400/40000], d_real_loss: 0.13878005743026733, d_fake_loss: 0.018405649811029434, g1_loss: 1.0825985670089722, g2_loss: 1.2748382091522217\n",
      "Step [29500/40000], d_real_loss: 0.03302654251456261, d_fake_loss: 0.04932943731546402, g1_loss: 1.2807725667953491, g2_loss: 1.0371415615081787\n",
      "Step [29600/40000], d_real_loss: 0.021705329418182373, d_fake_loss: 0.031577419489622116, g1_loss: 1.1958798170089722, g2_loss: 1.0034664869308472\n",
      "Step [29700/40000], d_real_loss: 0.03412759304046631, d_fake_loss: 0.0519983172416687, g1_loss: 1.1384665966033936, g2_loss: 1.2736693620681763\n",
      "Step [29800/40000], d_real_loss: 0.03686274588108063, d_fake_loss: 0.025061823427677155, g1_loss: 1.1889444589614868, g2_loss: 1.2619812488555908\n",
      "Step [29900/40000], d_real_loss: 0.09251147508621216, d_fake_loss: 0.050280798226594925, g1_loss: 1.0538185834884644, g2_loss: 1.1406903266906738\n",
      "Step [30000/40000], d_real_loss: 0.04300382733345032, d_fake_loss: 0.01893755793571472, g1_loss: 1.1338050365447998, g2_loss: 1.2141993045806885\n",
      "Step [30100/40000], d_real_loss: 0.030279751867055893, d_fake_loss: 0.03383645787835121, g1_loss: 1.1416563987731934, g2_loss: 1.033511757850647\n",
      "Step [30200/40000], d_real_loss: 0.018146129325032234, d_fake_loss: 0.052734632045030594, g1_loss: 1.1573623418807983, g2_loss: 1.2769988775253296\n",
      "Step [30300/40000], d_real_loss: 0.06998063623905182, d_fake_loss: 0.13384300470352173, g1_loss: 1.382026195526123, g2_loss: 1.2357161045074463\n",
      "Step [30400/40000], d_real_loss: 0.03292068839073181, d_fake_loss: 0.05229322984814644, g1_loss: 1.2240405082702637, g2_loss: 0.989806592464447\n",
      "Step [30500/40000], d_real_loss: 0.023680223152041435, d_fake_loss: 0.028775660321116447, g1_loss: 1.304836392402649, g2_loss: 1.1466503143310547\n",
      "Step [30600/40000], d_real_loss: 0.014035946689546108, d_fake_loss: 0.09498558938503265, g1_loss: 1.0764350891113281, g2_loss: 1.0644605159759521\n",
      "Step [30700/40000], d_real_loss: 0.06216561049222946, d_fake_loss: 0.04129021614789963, g1_loss: 1.1473655700683594, g2_loss: 1.2417070865631104\n",
      "Step [30800/40000], d_real_loss: 0.035423941910266876, d_fake_loss: 0.04004143550992012, g1_loss: 1.202874779701233, g2_loss: 1.1381378173828125\n",
      "Step [30900/40000], d_real_loss: 0.02426714077591896, d_fake_loss: 0.016481749713420868, g1_loss: 1.2459790706634521, g2_loss: 1.2588697671890259\n",
      "Step [31000/40000], d_real_loss: 0.01825823448598385, d_fake_loss: 0.13583213090896606, g1_loss: 1.456728219985962, g2_loss: 1.0551166534423828\n",
      "Step [31100/40000], d_real_loss: 0.06296966969966888, d_fake_loss: 0.05082594230771065, g1_loss: 1.213922381401062, g2_loss: 1.256783127784729\n",
      "Step [31200/40000], d_real_loss: 0.024091258645057678, d_fake_loss: 0.01251581683754921, g1_loss: 1.2227073907852173, g2_loss: 1.1635053157806396\n",
      "Step [31300/40000], d_real_loss: 0.02089327946305275, d_fake_loss: 0.07678340375423431, g1_loss: 1.24556565284729, g2_loss: 1.1376029253005981\n",
      "Step [31400/40000], d_real_loss: 0.0483119897544384, d_fake_loss: 0.05386511608958244, g1_loss: 1.1325242519378662, g2_loss: 1.0562533140182495\n",
      "Step [31500/40000], d_real_loss: 0.035329416394233704, d_fake_loss: 0.01661938987672329, g1_loss: 1.2085193395614624, g2_loss: 1.2961225509643555\n",
      "Step [31600/40000], d_real_loss: 0.046426549553871155, d_fake_loss: 0.04050002992153168, g1_loss: 1.1855641603469849, g2_loss: 1.0577025413513184\n",
      "Step [31700/40000], d_real_loss: 0.023316748440265656, d_fake_loss: 0.040418192744255066, g1_loss: 1.2233010530471802, g2_loss: 1.0833808183670044\n",
      "Step [31800/40000], d_real_loss: 0.027133069932460785, d_fake_loss: 0.09220704436302185, g1_loss: 1.3176578283309937, g2_loss: 1.2247231006622314\n",
      "Step [31900/40000], d_real_loss: 0.05026214197278023, d_fake_loss: 0.1385398656129837, g1_loss: 1.3947373628616333, g2_loss: 1.370027780532837\n",
      "Step [32000/40000], d_real_loss: 0.061578936874866486, d_fake_loss: 0.09824565798044205, g1_loss: 1.1808199882507324, g2_loss: 0.9712129831314087\n",
      "Step [32100/40000], d_real_loss: 0.03327346593141556, d_fake_loss: 0.01805904135107994, g1_loss: 1.1413849592208862, g2_loss: 1.0629955530166626\n",
      "Step [32200/40000], d_real_loss: 0.012974323704838753, d_fake_loss: 0.041336096823215485, g1_loss: 1.3433221578598022, g2_loss: 1.0701481103897095\n",
      "Step [32300/40000], d_real_loss: 0.028212908655405045, d_fake_loss: 0.022372785955667496, g1_loss: 1.2198601961135864, g2_loss: 1.0745248794555664\n",
      "Step [32400/40000], d_real_loss: 0.09884508699178696, d_fake_loss: 0.03184855729341507, g1_loss: 1.0666824579238892, g2_loss: 1.221308708190918\n",
      "Step [32500/40000], d_real_loss: 0.05016006901860237, d_fake_loss: 0.045776862651109695, g1_loss: 1.2170295715332031, g2_loss: 1.2505513429641724\n",
      "Step [32600/40000], d_real_loss: 0.06401330977678299, d_fake_loss: 0.046399373561143875, g1_loss: 1.1920794248580933, g2_loss: 1.0893058776855469\n",
      "Step [32700/40000], d_real_loss: 0.057276878505945206, d_fake_loss: 0.010159813798964024, g1_loss: 1.217882513999939, g2_loss: 1.0130308866500854\n",
      "Step [32800/40000], d_real_loss: 0.03552434965968132, d_fake_loss: 0.07585088908672333, g1_loss: 1.2999283075332642, g2_loss: 1.3111017942428589\n",
      "Step [32900/40000], d_real_loss: 0.15841791033744812, d_fake_loss: 0.13336606323719025, g1_loss: 1.2517496347427368, g2_loss: 1.2336212396621704\n",
      "Step [33000/40000], d_real_loss: 0.14164003729820251, d_fake_loss: 0.029926709830760956, g1_loss: 1.0834194421768188, g2_loss: 1.1369980573654175\n",
      "Step [33100/40000], d_real_loss: 0.018666721880435944, d_fake_loss: 0.016698211431503296, g1_loss: 1.1065539121627808, g2_loss: 1.1655458211898804\n",
      "Step [33200/40000], d_real_loss: 0.18638837337493896, d_fake_loss: 0.027830708771944046, g1_loss: 1.0348162651062012, g2_loss: 1.172712802886963\n",
      "Step [33300/40000], d_real_loss: 0.09356547147035599, d_fake_loss: 0.037762731313705444, g1_loss: 1.477647304534912, g2_loss: 1.2314499616622925\n",
      "Step [33400/40000], d_real_loss: 0.013217207975685596, d_fake_loss: 0.0871531218290329, g1_loss: 1.3137096166610718, g2_loss: 1.2517964839935303\n",
      "Step [33500/40000], d_real_loss: 0.016395339742302895, d_fake_loss: 0.013021589256823063, g1_loss: 1.1657384634017944, g2_loss: 1.231186866760254\n",
      "Step [33600/40000], d_real_loss: 0.03256595507264137, d_fake_loss: 0.02738618105649948, g1_loss: 1.4531391859054565, g2_loss: 1.2263556718826294\n",
      "Step [33700/40000], d_real_loss: 0.05957689881324768, d_fake_loss: 0.020273922011256218, g1_loss: 1.237593173980713, g2_loss: 1.0145900249481201\n",
      "Step [33800/40000], d_real_loss: 0.04012235626578331, d_fake_loss: 0.034143149852752686, g1_loss: 1.3115113973617554, g2_loss: 1.1133460998535156\n",
      "Step [33900/40000], d_real_loss: 0.030043592676520348, d_fake_loss: 0.017217673361301422, g1_loss: 1.1172466278076172, g2_loss: 1.1861255168914795\n",
      "Step [34000/40000], d_real_loss: 0.014146593399345875, d_fake_loss: 0.02442113682627678, g1_loss: 1.1769704818725586, g2_loss: 1.3266359567642212\n",
      "Step [34100/40000], d_real_loss: 0.03644175827503204, d_fake_loss: 0.018913397565484047, g1_loss: 1.1714222431182861, g2_loss: 1.5002329349517822\n",
      "Step [34200/40000], d_real_loss: 0.02983017824590206, d_fake_loss: 0.014922026544809341, g1_loss: 1.2945717573165894, g2_loss: 1.0149554014205933\n",
      "Step [34300/40000], d_real_loss: 0.03126822039484978, d_fake_loss: 0.016707278788089752, g1_loss: 1.2818408012390137, g2_loss: 1.1760129928588867\n",
      "Step [34400/40000], d_real_loss: 0.02292892523109913, d_fake_loss: 0.03826714679598808, g1_loss: 1.3278751373291016, g2_loss: 1.107934594154358\n",
      "Step [34500/40000], d_real_loss: 0.024947628378868103, d_fake_loss: 0.02832917310297489, g1_loss: 1.181166172027588, g2_loss: 1.0281683206558228\n",
      "Step [34600/40000], d_real_loss: 0.041636090725660324, d_fake_loss: 0.014229174703359604, g1_loss: 1.1320736408233643, g2_loss: 1.1644655466079712\n",
      "Step [34700/40000], d_real_loss: 0.03993041068315506, d_fake_loss: 0.051092978566884995, g1_loss: 1.017684817314148, g2_loss: 1.1161810159683228\n",
      "Step [34800/40000], d_real_loss: 0.0739569291472435, d_fake_loss: 0.038570698350667953, g1_loss: 1.0848876237869263, g2_loss: 1.1510920524597168\n",
      "Step [34900/40000], d_real_loss: 0.05282539129257202, d_fake_loss: 0.027508815750479698, g1_loss: 1.2098370790481567, g2_loss: 1.149233102798462\n",
      "Step [35000/40000], d_real_loss: 0.030774403363466263, d_fake_loss: 0.022082993760704994, g1_loss: 1.1751919984817505, g2_loss: 1.1606472730636597\n",
      "Step [35100/40000], d_real_loss: 0.04123777523636818, d_fake_loss: 0.06484471261501312, g1_loss: 1.0355420112609863, g2_loss: 1.2926136255264282\n",
      "Step [35200/40000], d_real_loss: 0.023831220343708992, d_fake_loss: 0.0961393490433693, g1_loss: 1.2372151613235474, g2_loss: 1.2616206407546997\n",
      "Step [35300/40000], d_real_loss: 0.0385199710726738, d_fake_loss: 0.02530273050069809, g1_loss: 1.3409842252731323, g2_loss: 1.003198266029358\n",
      "Step [35400/40000], d_real_loss: 0.019622303545475006, d_fake_loss: 0.058455418795347214, g1_loss: 1.4140982627868652, g2_loss: 1.0692543983459473\n",
      "Step [35500/40000], d_real_loss: 0.095327228307724, d_fake_loss: 0.0555880069732666, g1_loss: 1.0470119714736938, g2_loss: 1.092758059501648\n",
      "Step [35600/40000], d_real_loss: 0.026086552068591118, d_fake_loss: 0.0471503809094429, g1_loss: 1.050750494003296, g2_loss: 1.148171067237854\n",
      "Step [35700/40000], d_real_loss: 0.11751245707273483, d_fake_loss: 0.028343209996819496, g1_loss: 1.093884825706482, g2_loss: 1.5911664962768555\n",
      "Step [35800/40000], d_real_loss: 0.032513659447431564, d_fake_loss: 0.031126564368605614, g1_loss: 1.230416178703308, g2_loss: 1.162892460823059\n",
      "Step [35900/40000], d_real_loss: 0.024302160367369652, d_fake_loss: 0.026264263316988945, g1_loss: 1.2299706935882568, g2_loss: 1.1489887237548828\n",
      "Step [36000/40000], d_real_loss: 0.04844536632299423, d_fake_loss: 0.01743079349398613, g1_loss: 1.2186522483825684, g2_loss: 1.1346495151519775\n",
      "Step [36100/40000], d_real_loss: 0.02460951916873455, d_fake_loss: 0.05772382393479347, g1_loss: 1.2332873344421387, g2_loss: 1.1581778526306152\n",
      "Step [36200/40000], d_real_loss: 0.01634560525417328, d_fake_loss: 0.039257049560546875, g1_loss: 1.284690260887146, g2_loss: 1.3197710514068604\n",
      "Step [36300/40000], d_real_loss: 0.03486831486225128, d_fake_loss: 0.024528849869966507, g1_loss: 1.1248539686203003, g2_loss: 1.131851077079773\n",
      "Step [36400/40000], d_real_loss: 0.0272474754601717, d_fake_loss: 0.028082318603992462, g1_loss: 1.3263379335403442, g2_loss: 1.2578603029251099\n",
      "Step [36500/40000], d_real_loss: 0.02819959819316864, d_fake_loss: 0.03178483992815018, g1_loss: 1.201989769935608, g2_loss: 1.3242835998535156\n",
      "Step [36600/40000], d_real_loss: 0.036757923662662506, d_fake_loss: 0.02769453451037407, g1_loss: 1.236674189567566, g2_loss: 1.1587762832641602\n",
      "Step [36700/40000], d_real_loss: 0.04191454127430916, d_fake_loss: 0.019214551895856857, g1_loss: 1.1536517143249512, g2_loss: 1.2280244827270508\n",
      "Step [36800/40000], d_real_loss: 0.03395148366689682, d_fake_loss: 0.07932594418525696, g1_loss: 1.4241613149642944, g2_loss: 1.137718677520752\n",
      "Step [36900/40000], d_real_loss: 0.04132211580872536, d_fake_loss: 0.055800795555114746, g1_loss: 1.2407877445220947, g2_loss: 1.1436820030212402\n",
      "Step [37000/40000], d_real_loss: 0.04645984619855881, d_fake_loss: 0.04119805246591568, g1_loss: 1.2775269746780396, g2_loss: 1.1043659448623657\n",
      "Step [37100/40000], d_real_loss: 0.06631731986999512, d_fake_loss: 0.016544613987207413, g1_loss: 1.0527352094650269, g2_loss: 1.2465087175369263\n",
      "Step [37200/40000], d_real_loss: 0.019959477707743645, d_fake_loss: 0.10768137872219086, g1_loss: 1.448372483253479, g2_loss: 1.066696286201477\n",
      "Step [37300/40000], d_real_loss: 0.05234970152378082, d_fake_loss: 0.05741021782159805, g1_loss: 1.3719475269317627, g2_loss: 1.194427490234375\n",
      "Step [37400/40000], d_real_loss: 0.03546680510044098, d_fake_loss: 0.01703133061528206, g1_loss: 1.1590735912322998, g2_loss: 1.1267844438552856\n",
      "Step [37500/40000], d_real_loss: 0.020309047773480415, d_fake_loss: 0.01457690354436636, g1_loss: 1.1489038467407227, g2_loss: 1.2434723377227783\n",
      "Step [37600/40000], d_real_loss: 0.0177525132894516, d_fake_loss: 0.021265529096126556, g1_loss: 1.1879593133926392, g2_loss: 1.2086281776428223\n",
      "Step [37700/40000], d_real_loss: 0.07910763472318649, d_fake_loss: 0.0354897566139698, g1_loss: 1.1919431686401367, g2_loss: 1.0371580123901367\n",
      "Step [37800/40000], d_real_loss: 0.01850789226591587, d_fake_loss: 0.023024797439575195, g1_loss: 1.1991738080978394, g2_loss: 1.1655954122543335\n",
      "Step [37900/40000], d_real_loss: 0.011635523289442062, d_fake_loss: 0.012149915099143982, g1_loss: 1.1724445819854736, g2_loss: 1.2415412664413452\n",
      "Step [38000/40000], d_real_loss: 0.05430899187922478, d_fake_loss: 0.020387446507811546, g1_loss: 1.0225424766540527, g2_loss: 1.115039348602295\n",
      "Step [38100/40000], d_real_loss: 0.06628989428281784, d_fake_loss: 0.0214864369481802, g1_loss: 1.16618013381958, g2_loss: 1.145156979560852\n",
      "Step [38200/40000], d_real_loss: 0.019363632425665855, d_fake_loss: 0.015650510787963867, g1_loss: 1.2210431098937988, g2_loss: 1.1883686780929565\n",
      "Step [38300/40000], d_real_loss: 0.018784938380122185, d_fake_loss: 0.03532283008098602, g1_loss: 1.2099488973617554, g2_loss: 1.015186071395874\n",
      "Step [38400/40000], d_real_loss: 0.012809589505195618, d_fake_loss: 0.014209240674972534, g1_loss: 1.2791929244995117, g2_loss: 1.1542937755584717\n",
      "Step [38500/40000], d_real_loss: 0.05767161399126053, d_fake_loss: 0.12243504077196121, g1_loss: 0.9074410796165466, g2_loss: 1.1478480100631714\n",
      "Step [38600/40000], d_real_loss: 0.11686892807483673, d_fake_loss: 0.01139550469815731, g1_loss: 1.1471257209777832, g2_loss: 1.4130946397781372\n",
      "Step [38700/40000], d_real_loss: 0.049603693187236786, d_fake_loss: 0.07577426731586456, g1_loss: 1.2775579690933228, g2_loss: 1.2083115577697754\n",
      "Step [38800/40000], d_real_loss: 0.09821174293756485, d_fake_loss: 0.024210361763834953, g1_loss: 1.5039526224136353, g2_loss: 1.1792409420013428\n",
      "Step [38900/40000], d_real_loss: 0.01779860071837902, d_fake_loss: 0.017827052623033524, g1_loss: 1.1809577941894531, g2_loss: 1.1579861640930176\n",
      "Step [39000/40000], d_real_loss: 0.024720190092921257, d_fake_loss: 0.024314433336257935, g1_loss: 1.2739988565444946, g2_loss: 1.1704641580581665\n",
      "Step [39100/40000], d_real_loss: 0.022832177579402924, d_fake_loss: 0.07608103007078171, g1_loss: 1.4057064056396484, g2_loss: 1.21584951877594\n",
      "Step [39200/40000], d_real_loss: 0.019664974883198738, d_fake_loss: 0.02234155870974064, g1_loss: 1.3244881629943848, g2_loss: 1.0924866199493408\n",
      "Step [39300/40000], d_real_loss: 0.02837631292641163, d_fake_loss: 0.023699922487139702, g1_loss: 1.2023295164108276, g2_loss: 1.1342695951461792\n",
      "Step [39400/40000], d_real_loss: 0.018326828256249428, d_fake_loss: 0.01457565650343895, g1_loss: 1.2377725839614868, g2_loss: 1.1660981178283691\n",
      "Step [39500/40000], d_real_loss: 0.017922842875123024, d_fake_loss: 0.041004955768585205, g1_loss: 1.2649266719818115, g2_loss: 1.123755693435669\n",
      "Step [39600/40000], d_real_loss: 0.041669223457574844, d_fake_loss: 0.016945529729127884, g1_loss: 1.2058494091033936, g2_loss: 1.2576253414154053\n",
      "Step [39700/40000], d_real_loss: 0.02185755968093872, d_fake_loss: 0.03749331086874008, g1_loss: 1.2649883031845093, g2_loss: 1.2424248456954956\n",
      "Step [39800/40000], d_real_loss: 0.030711814761161804, d_fake_loss: 0.019681215286254883, g1_loss: 1.1767228841781616, g2_loss: 1.1067860126495361\n",
      "Step [39900/40000], d_real_loss: 0.030337359756231308, d_fake_loss: 0.024069633334875107, g1_loss: 1.1932756900787354, g2_loss: 1.0815179347991943\n",
      "Step [40000/40000], d_real_loss: 0.03282508626580238, d_fake_loss: 0.04091005399823189, g1_loss: 1.2255922555923462, g2_loss: 1.078781008720398\n"
     ]
    }
   ],
   "source": [
    "train_iters = 40000\n",
    "log_step = 100\n",
    "\n",
    "d_real_losses = []\n",
    "d_fake_losses = []\n",
    "g1_losses = []\n",
    "g2_losses = []\n",
    "\n",
    "for step in range(1, train_iters + 1):\n",
    "    # reset data_iter for epoch\n",
    "    if step % iter_per_epoch == 0:\n",
    "        mnist_iter = iter(mnist_loader)\n",
    "        svhn_iter = iter(svhn_loader)\n",
    "    \n",
    "    svhn, s_labels = svhn_iter.next()\n",
    "    mnist, m_labels = mnist_iter.next()\n",
    "    svhn, s_labels = svhn.to(device), s_labels.to(device)\n",
    "    mnist, m_labels = mnist.to(device), m_labels.to(device)\n",
    "    \n",
    "    # train discriminator\n",
    "    reset_grad()\n",
    "    \n",
    "    # real画像で訓練\n",
    "    # real画像なのでtargetは1\n",
    "    out = d1(mnist)\n",
    "    d1_loss = torch.mean((out - 1) ** 2)\n",
    "    \n",
    "    out = d2(svhn)\n",
    "    d2_loss = torch.mean((out - 1) ** 2)\n",
    "    \n",
    "    d_real_loss = d1_loss + d2_loss\n",
    "    d_real_losses.append(d_real_loss.item())\n",
    "    d_real_loss.backward()\n",
    "    d_optimizer.step()\n",
    "    \n",
    "    # generatorで生成したfake画像で訓練\n",
    "    # fake画像なのでtargetは0\n",
    "    reset_grad()\n",
    "\n",
    "    fake_svhn = g12(mnist)\n",
    "    out = d2(fake_svhn)\n",
    "    d2_loss = torch.mean(out ** 2)\n",
    "    \n",
    "    fake_mnist = g21(svhn)\n",
    "    out = d1(fake_mnist)\n",
    "    d1_loss = torch.mean(out ** 2)\n",
    "    \n",
    "    d_fake_loss = d1_loss + d2_loss\n",
    "    d_fake_losses.append(d_fake_loss.item())\n",
    "    d_fake_loss.backward()\n",
    "    d_optimizer.step()\n",
    "    \n",
    "    # train generator\n",
    "    reset_grad()\n",
    "    \n",
    "    # mnist => svhn => mnistのサイクル\n",
    "    fake_svhn = g12(mnist)\n",
    "    out = d2(fake_svhn)\n",
    "\n",
    "    # gはdを騙したいのでfakeを1に近づけたい\n",
    "    g1_loss = torch.mean((out - 1) ** 2)\n",
    "    \n",
    "    reconst_mnist = g21(fake_svhn)\n",
    "    g1_loss += torch.mean((mnist - reconst_mnist) ** 2)\n",
    "    g1_losses.append(g1_loss.item())\n",
    "    g1_loss.backward()\n",
    "    g_optimizer.step()\n",
    "    \n",
    "    # svhn => mnist => svhnのサイクル\n",
    "    reset_grad()\n",
    "    fake_mnist = g21(svhn)\n",
    "    out = d1(fake_mnist)\n",
    "    g2_loss = torch.mean((out - 1) ** 2)\n",
    "    \n",
    "    reconst_svhn = g12(fake_mnist)\n",
    "    g2_loss += torch.mean((svhn - reconst_svhn) ** 2)\n",
    "    g2_losses.append(g2_loss.item())\n",
    "    g2_loss.backward()\n",
    "    g_optimizer.step()\n",
    "    \n",
    "    if step % log_step == 0:\n",
    "        print(f'Step [{step}/{train_iters}], d_real_loss: {d_real_loss.item()}, d_fake_loss: {d_fake_loss.item()}, g1_loss: {g1_loss.item()}, g2_loss: {g2_loss.item()}')\n",
    "    \n",
    "    if step % 5000 == 0:\n",
    "        torch.save(g12.state_dict(), f'g12-{step}.pkl')\n",
    "        torch.save(g12.state_dict(), f'g12-{step}.pkl')\n",
    "        torch.save(d1.state_dict(), f'd1-{step}.pkl')\n",
    "        torch.save(d2.state_dict(), f'd2-{step}.pkl')                "
   ]
  },
  {
   "cell_type": "markdown",
   "metadata": {},
   "source": [
    "## Evaluation"
   ]
  },
  {
   "cell_type": "code",
   "execution_count": 160,
   "metadata": {},
   "outputs": [
    {
     "data": {
      "text/plain": [
       "(40000, 40000, 40000, 40000)"
      ]
     },
     "execution_count": 160,
     "metadata": {},
     "output_type": "execute_result"
    }
   ],
   "source": [
    "len(d_real_losses), len(d_fake_losses), len(g1_losses), len(g2_losses)"
   ]
  },
  {
   "cell_type": "code",
   "execution_count": 168,
   "metadata": {},
   "outputs": [
    {
     "data": {
      "text/plain": [
       "[<matplotlib.lines.Line2D at 0x7facc1355250>]"
      ]
     },
     "execution_count": 168,
     "metadata": {},
     "output_type": "execute_result"
    },
    {
     "data": {
      "image/png": "[encoded data removed]",
      "text/plain": [
       "<Figure size 432x288 with 1 Axes>"
      ]
     },
     "metadata": {
      "needs_background": "light"
     },
     "output_type": "display_data"
    }
   ],
   "source": [
    "plt.plot(d_real_losses[::100])"
   ]
  },
  {
   "cell_type": "code",
   "execution_count": 169,
   "metadata": {},
   "outputs": [
    {
     "data": {
      "text/plain": [
       "[<matplotlib.lines.Line2D at 0x7facc17962d0>]"
      ]
     },
     "execution_count": 169,
     "metadata": {},
     "output_type": "execute_result"
    },
    {
     "data": {
      "image/png": "[encoded data removed]",
      "text/plain": [
       "<Figure size 432x288 with 1 Axes>"
      ]
     },
     "metadata": {
      "needs_background": "light"
     },
     "output_type": "display_data"
    }
   ],
   "source": [
    "plt.plot(d_fake_losses[::100])"
   ]
  },
  {
   "cell_type": "code",
   "execution_count": 171,
   "metadata": {},
   "outputs": [
    {
     "data": {
      "text/plain": [
       "[<matplotlib.lines.Line2D at 0x7facd5aa5b10>]"
      ]
     },
     "execution_count": 171,
     "metadata": {},
     "output_type": "execute_result"
    },
    {
     "data": {
      "image/png": "[encoded data removed]",
      "text/plain": [
       "<Figure size 432x288 with 1 Axes>"
      ]
     },
     "metadata": {
      "needs_background": "light"
     },
     "output_type": "display_data"
    }
   ],
   "source": [
    "plt.plot(g2_losses[::100])"
   ]
  },
  {
   "cell_type": "code",
   "execution_count": 178,
   "metadata": {},
   "outputs": [
    {
     "data": {
      "text/plain": [
       "torch.Size([64, 3, 32, 32])"
      ]
     },
     "execution_count": 178,
     "metadata": {},
     "output_type": "execute_result"
    }
   ],
   "source": [
    "fixed_svhn = svhn_iter.next()[0].to(device)\n",
    "fixed_svhn.shape"
   ]
  },
  {
   "cell_type": "code",
   "execution_count": 179,
   "metadata": {},
   "outputs": [
    {
     "data": {
      "text/plain": [
       "torch.Size([64, 1, 32, 32])"
      ]
     },
     "execution_count": 179,
     "metadata": {},
     "output_type": "execute_result"
    }
   ],
   "source": [
    "fixed_mnist = mnist_iter.next()[0].to(device)\n",
    "fixed_mnist.shape"
   ]
  },
  {
   "cell_type": "code",
   "execution_count": 208,
   "metadata": {},
   "outputs": [],
   "source": [
    "# converted images\n",
    "fake_svhn = g12(fixed_mnist)\n",
    "fake_mnist = g21(fixed_svhn)"
   ]
  },
  {
   "cell_type": "code",
   "execution_count": 209,
   "metadata": {},
   "outputs": [
    {
     "data": {
      "text/plain": [
       "torch.Size([64, 3, 32, 32])"
      ]
     },
     "execution_count": 209,
     "metadata": {},
     "output_type": "execute_result"
    }
   ],
   "source": [
    "fake_svhn.shape"
   ]
  },
  {
   "cell_type": "code",
   "execution_count": 210,
   "metadata": {},
   "outputs": [
    {
     "data": {
      "text/plain": [
       "torch.Size([64, 1, 32, 32])"
      ]
     },
     "execution_count": 210,
     "metadata": {},
     "output_type": "execute_result"
    }
   ],
   "source": [
    "fake_mnist.shape"
   ]
  },
  {
   "cell_type": "code",
   "execution_count": 211,
   "metadata": {},
   "outputs": [],
   "source": [
    "import numpy as np\n",
    "\n",
    "def merge_images(sources, targets, k=10):\n",
    "    _, _, h, w = sources.shape\n",
    "    row = int(np.sqrt(64))\n",
    "    merged = np.zeros([3, row*h, row*w*2])\n",
    "    for idx, (s, t) in enumerate(zip(sources, targets)):\n",
    "        i = idx // row\n",
    "        j = idx % row\n",
    "        merged[:, i*h:(i+1)*h, (j*2)*h:(j*2+1)*h] = s\n",
    "        merged[:, i*h:(i+1)*h, (j*2+1)*h:(j*2+2)*h] = t\n",
    "    return merged.transpose(1, 2, 0)"
   ]
  },
  {
   "cell_type": "code",
   "execution_count": 206,
   "metadata": {},
   "outputs": [
    {
     "name": "stdout",
     "output_type": "stream",
     "text": [
      "Collecting imageio\n",
      "\u001b[?25l  Downloading https://files.pythonhosted.org/packages/6e/57/5d899fae74c1752f52869b613a8210a2480e1a69688e65df6cb26117d45d/imageio-2.9.0-py3-none-any.whl (3.3MB)\n",
      "\u001b[K     |████████████████████████████████| 3.3MB 7.6MB/s eta 0:00:01\n",
      "\u001b[?25hRequirement already satisfied: numpy in /home/koichiro_mori/miniconda3/lib/python3.7/site-packages (from imageio) (1.18.1)\n",
      "Requirement already satisfied: pillow in /home/koichiro_mori/miniconda3/lib/python3.7/site-packages (from imageio) (7.0.0)\n",
      "Installing collected packages: imageio\n",
      "Successfully installed imageio-2.9.0\n"
     ]
    }
   ],
   "source": [
    "!pip install imageio"
   ]
  },
  {
   "cell_type": "code",
   "execution_count": 212,
   "metadata": {},
   "outputs": [
    {
     "name": "stderr",
     "output_type": "stream",
     "text": [
      "Lossy conversion from float64 to uint8. Range [-1.0, 1.0]. Convert image to uint8 prior to saving to suppress this warning.\n"
     ]
    }
   ],
   "source": [
    "import imageio\n",
    "\n",
    "mnist_images = merge_images(fixed_mnist.cpu().detach().numpy(), fake_svhn.cpu().detach().numpy())\n",
    "imageio.imwrite('mnist_images.png', mnist_images)"
   ]
  },
  {
   "cell_type": "code",
   "execution_count": 213,
   "metadata": {},
   "outputs": [
    {
     "name": "stderr",
     "output_type": "stream",
     "text": [
      "Lossy conversion from float64 to uint8. Range [-1.0, 1.0]. Convert image to uint8 prior to saving to suppress this warning.\n"
     ]
    }
   ],
   "source": [
    "svhn_images = merge_images(fixed_svhn.cpu().detach().numpy(), fake_mnist.cpu().detach().numpy())\n",
    "imageio.imwrite('svhn_images.png', svhn_images)"
   ]
  }
 ],
 "metadata": {
  "kernelspec": {
   "display_name": "Python 3",
   "language": "python",
   "name": "python3"
  },
  "language_info": {
   "codemirror_mode": {
    "name": "ipython",
    "version": 3
   },
   "file_extension": ".py",
   "mimetype": "text/x-python",
   "name": "python",
   "nbconvert_exporter": "python",
   "pygments_lexer": "ipython3",
   "version": "3.7.4"
  }
 },
 "nbformat": 4,
 "nbformat_minor": 4
}
