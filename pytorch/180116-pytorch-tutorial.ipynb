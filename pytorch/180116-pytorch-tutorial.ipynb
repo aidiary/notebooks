{
 "cells": [
  {
   "cell_type": "markdown",
   "metadata": {},
   "source": [
    "# PyTorch Tutorial\n",
    "https://github.com/yunjey/pytorch-tutorial"
   ]
  },
  {
   "cell_type": "code",
   "execution_count": 1,
   "metadata": {
    "collapsed": true
   },
   "outputs": [],
   "source": [
    "import torch\n",
    "import torchvision\n",
    "import torch.nn as nn\n",
    "import numpy as np\n",
    "import torch.utils.data as data\n",
    "import torchvision.transforms as transforms\n",
    "import torchvision.datasets as dsets\n",
    "from torch.autograd import Variable"
   ]
  },
  {
   "cell_type": "markdown",
   "metadata": {},
   "source": [
    "## PyTorch Basics"
   ]
  },
  {
   "cell_type": "code",
   "execution_count": 5,
   "metadata": {},
   "outputs": [
    {
     "name": "stdout",
     "output_type": "stream",
     "text": [
      "Variable containing:\n",
      " 2\n",
      "[torch.FloatTensor of size 1]\n",
      "\n",
      "Variable containing:\n",
      " 1\n",
      "[torch.FloatTensor of size 1]\n",
      "\n",
      "Variable containing:\n",
      " 1\n",
      "[torch.FloatTensor of size 1]\n",
      "\n"
     ]
    }
   ],
   "source": [
    "# autograd 1\n",
    "# create tensors\n",
    "# Variableは自動微分の対象になる\n",
    "x = Variable(torch.Tensor([1]), requires_grad=True)\n",
    "w = Variable(torch.Tensor([2]), requires_grad=True)\n",
    "b = Variable(torch.Tensor([3]), requires_grad=True)\n",
    "\n",
    "# build a computational graph\n",
    "y = w * x + b  # y = 2 * x + 3\n",
    "\n",
    "# compute gradients\n",
    "y.backward()\n",
    "\n",
    "# print gradients\n",
    "print(x.grad)  # dy/dx = w\n",
    "print(w.grad)  # dy/dw = x\n",
    "print(b.grad)  # dy/db = 1"
   ]
  },
  {
   "cell_type": "code",
   "execution_count": 33,
   "metadata": {},
   "outputs": [
    {
     "name": "stdout",
     "output_type": "stream",
     "text": [
      "w: Parameter containing:\n",
      "-0.0213  0.3410  0.4479\n",
      "-0.2651  0.4823 -0.2477\n",
      "[torch.FloatTensor of size 2x3]\n",
      "\n",
      "b: Parameter containing:\n",
      " 0.2191\n",
      " 0.0330\n",
      "[torch.FloatTensor of size 2]\n",
      "\n",
      "loss: 0.42183035612106323\n",
      "dL/dw: Variable containing:\n",
      " 0.2508  0.3263 -0.0476\n",
      " 0.4193  0.6737 -0.2881\n",
      "[torch.FloatTensor of size 2x3]\n",
      "\n",
      "dL/db: Variable containing:\n",
      "-0.0772\n",
      "-0.1106\n",
      "[torch.FloatTensor of size 2]\n",
      "\n",
      "*** by hand\n",
      "\n",
      "-0.0238  0.3377  0.4484\n",
      "-0.2693  0.4755 -0.2448\n",
      "[torch.FloatTensor of size 2x3]\n",
      "\n",
      "\n",
      " 0.2199\n",
      " 0.0341\n",
      "[torch.FloatTensor of size 2]\n",
      "\n",
      "*** by step()\n",
      "Parameter containing:\n",
      "-0.0238  0.3377  0.4484\n",
      "-0.2693  0.4755 -0.2448\n",
      "[torch.FloatTensor of size 2x3]\n",
      "\n",
      "Parameter containing:\n",
      " 0.2199\n",
      " 0.0341\n",
      "[torch.FloatTensor of size 2]\n",
      "\n"
     ]
    }
   ],
   "source": [
    "# autograd 2\n",
    "x = Variable(torch.randn(5, 3))\n",
    "y = Variable(torch.randn(5, 2))\n",
    "\n",
    "# linear layer\n",
    "linear = nn.Linear(3, 2)\n",
    "print('w:', linear.weight)\n",
    "print('b:', linear.bias)\n",
    "\n",
    "# loss and optimizer\n",
    "criterion = nn.MSELoss()\n",
    "optimizer = torch.optim.SGD(linear.parameters(), lr=0.01)\n",
    "\n",
    "# forward\n",
    "pred = linear(x)\n",
    "\n",
    "# compute loss\n",
    "loss = criterion(pred, y)\n",
    "print('loss:', loss.data[0])\n",
    "\n",
    "# backpropagation\n",
    "loss.backward()\n",
    "\n",
    "# print out the gradients\n",
    "print('dL/dw:', linear.weight.grad)\n",
    "print('dL/db:', linear.bias.grad)\n",
    "\n",
    "print('*** by hand')\n",
    "# optimizer.step()の中身は下の計算をしている\n",
    "# 計算結果が一致する\n",
    "print(linear.weight.data.sub(0.01 * linear.weight.grad.data))\n",
    "print(linear.bias.data.sub(0.01 * linear.bias.grad.data))\n",
    "\n",
    "# gradient descent\n",
    "optimizer.step()\n",
    "\n",
    "print('*** by step()')\n",
    "print(linear.weight)\n",
    "print(linear.bias)"
   ]
  },
  {
   "cell_type": "code",
   "execution_count": 40,
   "metadata": {},
   "outputs": [
    {
     "name": "stdout",
     "output_type": "stream",
     "text": [
      "<class 'numpy.ndarray'>\n",
      "<class 'torch.LongTensor'>\n",
      "<class 'numpy.ndarray'>\n",
      "[[1 2]\n",
      " [3 4]]\n",
      "\n",
      " 1  2\n",
      " 3  4\n",
      "[torch.LongTensor of size 2x2]\n",
      "\n",
      "[[1 2]\n",
      " [3 4]]\n"
     ]
    }
   ],
   "source": [
    "# Loading data from numpy\n",
    "a = np.array([[1, 2], [3, 4]])\n",
    "b = torch.from_numpy(a)  # ndarray => tensor\n",
    "c = b.numpy()            # tensor  => ndarray\n",
    "print(type(a))\n",
    "print(type(b))\n",
    "print(type(c))\n",
    "print(a)\n",
    "print(b)\n",
    "print(c)"
   ]
  },
  {
   "cell_type": "code",
   "execution_count": null,
   "metadata": {
    "collapsed": true
   },
   "outputs": [],
   "source": [
    "# Implementing the input pipeline"
   ]
  }
 ],
 "metadata": {
  "kernelspec": {
   "display_name": "Python [default]",
   "language": "python",
   "name": "python3"
  },
  "language_info": {
   "codemirror_mode": {
    "name": "ipython",
    "version": 3
   },
   "file_extension": ".py",
   "mimetype": "text/x-python",
   "name": "python",
   "nbconvert_exporter": "python",
   "pygments_lexer": "ipython3",
   "version": "3.6.4"
  }
 },
 "nbformat": 4,
 "nbformat_minor": 2
}
