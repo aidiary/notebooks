{
 "cells": [
  {
   "cell_type": "markdown",
   "metadata": {},
   "source": [
    "# Logistic Regression"
   ]
  },
  {
   "cell_type": "code",
   "execution_count": 6,
   "metadata": {
    "collapsed": true
   },
   "outputs": [],
   "source": [
    "%matplotlib inline"
   ]
  },
  {
   "cell_type": "markdown",
   "metadata": {},
   "source": [
    "## Iris Dataset"
   ]
  },
  {
   "cell_type": "code",
   "execution_count": 13,
   "metadata": {
    "collapsed": true
   },
   "outputs": [],
   "source": [
    "import torch\n",
    "import torch.nn as nn\n",
    "from torch.autograd import Variable\n",
    "import numpy as np\n",
    "import matplotlib.pyplot as plt\n",
    "from sklearn.datasets import load_iris\n",
    "from sklearn.model_selection import train_test_split\n",
    "from sklearn.preprocessing import StandardScaler"
   ]
  },
  {
   "cell_type": "markdown",
   "metadata": {},
   "source": [
    "- LogisticRegressionはlogitsを返してsoftmaxを通さないので注意\n",
    "- loss関数のほうにsoftmaxが入る\n",
    "- なので見た目はLinearRegressionとまったく同じ"
   ]
  },
  {
   "cell_type": "markdown",
   "metadata": {},
   "source": [
    "- 入力は `FloatTensor` ラベルは `LongTensor` である必要がある \n",
    "- TODO: DataSetとDataLoaderを使って書き直す\n",
    "- Validで精度を求める"
   ]
  },
  {
   "cell_type": "code",
   "execution_count": 48,
   "metadata": {},
   "outputs": [
    {
     "name": "stdout",
     "output_type": "stream",
     "text": [
      "epoch 0, loss: 1.1522 val_loss: 1.1497 val_acc: 0.2800\n",
      "epoch 1000, loss: 0.3333 val_loss: 0.3372 val_acc: 0.9200\n",
      "epoch 2000, loss: 0.2602 val_loss: 0.2716 val_acc: 0.9200\n",
      "epoch 3000, loss: 0.2179 val_loss: 0.2360 val_acc: 0.9400\n",
      "epoch 4000, loss: 0.1895 val_loss: 0.2122 val_acc: 0.9400\n",
      "epoch 5000, loss: 0.1690 val_loss: 0.1949 val_acc: 0.9400\n",
      "epoch 6000, loss: 0.1535 val_loss: 0.1816 val_acc: 0.9400\n",
      "epoch 7000, loss: 0.1414 val_loss: 0.1711 val_acc: 0.9400\n",
      "epoch 8000, loss: 0.1316 val_loss: 0.1626 val_acc: 0.9400\n",
      "epoch 9000, loss: 0.1235 val_loss: 0.1555 val_acc: 0.9400\n"
     ]
    }
   ],
   "source": [
    "# hyperparameters\n",
    "input_size = 4\n",
    "num_classes = 3\n",
    "num_epochs = 10000\n",
    "learning_rate = 0.01\n",
    "\n",
    "iris = load_iris()\n",
    "X = iris.data\n",
    "y = iris.target\n",
    "# print(X.shape)\n",
    "# print(y.shape)\n",
    "\n",
    "X_train, X_test, y_train, y_test = train_test_split(X, y, test_size=0.33, random_state=5)\n",
    "# print(X_train.shape)\n",
    "# print(X_test.shape)\n",
    "# print(y_train.shape)\n",
    "# print(y_test.shape)\n",
    "\n",
    "# データの標準化\n",
    "scaler = StandardScaler()\n",
    "X_train = scaler.fit_transform(X_train)\n",
    "X_test = scaler.transform(X_test)\n",
    "# print(np.mean(X_train, axis=0))\n",
    "# print(np.std(X_train, axis=0))\n",
    "\n",
    "class LogisticRegression(nn.Module):\n",
    "    def __init__(self, input_size, num_classes):\n",
    "        super(LogisticRegression, self).__init__()\n",
    "        self.linear = nn.Linear(input_size, num_classes)\n",
    "    \n",
    "    def forward(self, x):\n",
    "        out = self.linear(x)\n",
    "        return out\n",
    "\n",
    "model = LogisticRegression(input_size, num_classes)\n",
    "\n",
    "criterion = nn.CrossEntropyLoss()\n",
    "optimizer = torch.optim.SGD(model.parameters(), lr=learning_rate)\n",
    "\n",
    "def train(X_train, y_train):\n",
    "    inputs = Variable(torch.from_numpy(X_train).float())\n",
    "    targets = Variable(torch.from_numpy(y_train).long())\n",
    "    \n",
    "    optimizer.zero_grad()\n",
    "    outputs = model(inputs)\n",
    "    \n",
    "    loss = criterion(outputs, targets)\n",
    "    loss.backward()\n",
    "    optimizer.step()\n",
    "    \n",
    "    return loss.data[0]\n",
    "\n",
    "def valid(X_test, y_test):\n",
    "    inputs = Variable(torch.from_numpy(X_test).float())\n",
    "    targets = Variable(torch.from_numpy(y_test).long())\n",
    "\n",
    "    outputs = model(inputs)\n",
    "    val_loss = criterion(outputs, targets)\n",
    "    \n",
    "    # 精度を求める\n",
    "    _, predicted = torch.max(outputs.data, 1)\n",
    "    correct = (predicted == targets.data).sum()\n",
    "    val_acc = correct / targets.size(0)\n",
    "\n",
    "    return val_loss.data[0], val_acc\n",
    "\n",
    "loss_list = []\n",
    "val_loss_list = []\n",
    "val_acc_list = []\n",
    "for epoch in range(num_epochs):\n",
    "    perm = np.arange(X_train.shape[0])\n",
    "    np.random.shuffle(perm)\n",
    "    X_train = X_train[perm]\n",
    "    y_train = y_train[perm]\n",
    "    \n",
    "    loss = train(X_train, y_train)\n",
    "    val_loss, val_acc = valid(X_test, y_test)\n",
    "    \n",
    "    if epoch % 1000 == 0:\n",
    "        print('epoch %d, loss: %.4f val_loss: %.4f val_acc: %.4f'\n",
    "              % (epoch, loss, val_loss, val_acc))\n",
    "    \n",
    "    # logging\n",
    "    loss_list.append(loss)\n",
    "    val_loss_list.append(val_loss)\n",
    "    val_acc_list.append(val_acc)"
   ]
  },
  {
   "cell_type": "code",
   "execution_count": 49,
   "metadata": {},
   "outputs": [
    {
     "data": {
      "text/plain": [
       "<matplotlib.legend.Legend at 0x1a2044d400>"
      ]
     },
     "execution_count": 49,
     "metadata": {},
     "output_type": "execute_result"
    },
    {
     "data": {
      "image/png": "[encoded data removed]",
      "text/plain": [
       "<matplotlib.figure.Figure at 0x1a20062668>"
      ]
     },
     "metadata": {},
     "output_type": "display_data"
    },
    {
     "data": {
      "image/png": "[encoded data removed]",
      "text/plain": [
       "<matplotlib.figure.Figure at 0x1a2016c9b0>"
      ]
     },
     "metadata": {},
     "output_type": "display_data"
    }
   ],
   "source": [
    "# plot learning curve\n",
    "plt.figure()\n",
    "plt.plot(range(num_epochs), loss_list, 'r-', label='train_loss')\n",
    "plt.plot(range(num_epochs), val_loss_list, 'b-', label='val_loss')\n",
    "plt.legend()\n",
    "\n",
    "plt.figure()\n",
    "plt.plot(range(num_epochs), val_acc_list, 'g-', label='val_acc')\n",
    "plt.legend()"
   ]
  },
  {
   "cell_type": "markdown",
   "metadata": {},
   "source": [
    "## MNIST"
   ]
  },
  {
   "cell_type": "markdown",
   "metadata": {},
   "source": [
    "- MNISTはPyTorchの標準機能でデータセットをダウンロードできる\n",
    "- バッチ単位で読み込めるDataLoaderも簡単に使える"
   ]
  },
  {
   "cell_type": "code",
   "execution_count": 50,
   "metadata": {
    "collapsed": true
   },
   "outputs": [],
   "source": [
    "import torch\n",
    "import torch.nn as nn\n",
    "import torchvision.datasets as dsets\n",
    "import torchvision.transforms as transforms\n",
    "from torch.autograd import Variable"
   ]
  },
  {
   "cell_type": "code",
   "execution_count": 69,
   "metadata": {},
   "outputs": [],
   "source": [
    "# Hyper Parameters \n",
    "input_size = 784\n",
    "num_classes = 10\n",
    "num_epochs = 20\n",
    "batch_size = 100\n",
    "learning_rate = 0.001\n",
    "\n",
    "# MNIST Dataset (Images and Labels)\n",
    "train_dataset = dsets.MNIST(root='./data', \n",
    "                            train=True, \n",
    "                            transform=transforms.ToTensor(),\n",
    "                            download=True)\n",
    "\n",
    "test_dataset = dsets.MNIST(root='./data', \n",
    "                           train=False, \n",
    "                           transform=transforms.ToTensor())\n",
    "\n",
    "# Dataset Loader (Input Pipline)\n",
    "train_loader = torch.utils.data.DataLoader(dataset=train_dataset, \n",
    "                                           batch_size=batch_size, \n",
    "                                           shuffle=True)\n",
    "\n",
    "test_loader = torch.utils.data.DataLoader(dataset=test_dataset, \n",
    "                                          batch_size=batch_size, \n",
    "                                          shuffle=False)"
   ]
  },
  {
   "cell_type": "code",
   "execution_count": 70,
   "metadata": {},
   "outputs": [
    {
     "name": "stdout",
     "output_type": "stream",
     "text": [
      "60000\n",
      "10000\n",
      "<class 'torch.FloatTensor'> <class 'torch.LongTensor'>\n",
      "torch.Size([100, 1, 28, 28]) torch.Size([100])\n"
     ]
    }
   ],
   "source": [
    "print(len(train_dataset))\n",
    "print(len(test_dataset))\n",
    "\n",
    "# 1データだけ取得\n",
    "image, label = iter(train_loader).next()\n",
    "print(type(image), type(label))\n",
    "print(image.size(), label.size())"
   ]
  },
  {
   "cell_type": "code",
   "execution_count": 71,
   "metadata": {},
   "outputs": [
    {
     "name": "stdout",
     "output_type": "stream",
     "text": [
      "epoch 0, loss: 2.0463 val_loss: 10.8309 val_acc: 0.7022\n",
      "epoch 1, loss: 1.6279 val_loss: 8.8435 val_acc: 0.7655\n",
      "epoch 2, loss: 1.3590 val_loss: 7.5478 val_acc: 0.7912\n",
      "epoch 3, loss: 1.1804 val_loss: 6.6658 val_acc: 0.8090\n",
      "epoch 4, loss: 1.0559 val_loss: 6.0349 val_acc: 0.8189\n",
      "epoch 5, loss: 0.9650 val_loss: 5.5636 val_acc: 0.8269\n",
      "epoch 6, loss: 0.8958 val_loss: 5.1983 val_acc: 0.8331\n",
      "epoch 7, loss: 0.8414 val_loss: 4.9069 val_acc: 0.8380\n",
      "epoch 8, loss: 0.7975 val_loss: 4.6683 val_acc: 0.8421\n",
      "epoch 9, loss: 0.7611 val_loss: 4.4693 val_acc: 0.8456\n",
      "epoch 10, loss: 0.7306 val_loss: 4.3004 val_acc: 0.8491\n",
      "epoch 11, loss: 0.7044 val_loss: 4.1550 val_acc: 0.8517\n",
      "epoch 12, loss: 0.6818 val_loss: 4.0283 val_acc: 0.8540\n",
      "epoch 13, loss: 0.6620 val_loss: 3.9169 val_acc: 0.8557\n",
      "epoch 14, loss: 0.6445 val_loss: 3.8179 val_acc: 0.8577\n",
      "epoch 15, loss: 0.6289 val_loss: 3.7294 val_acc: 0.8592\n",
      "epoch 16, loss: 0.6149 val_loss: 3.6496 val_acc: 0.8610\n",
      "epoch 17, loss: 0.6022 val_loss: 3.5772 val_acc: 0.8622\n",
      "epoch 18, loss: 0.5907 val_loss: 3.5113 val_acc: 0.8637\n",
      "epoch 19, loss: 0.5802 val_loss: 3.4509 val_acc: 0.8650\n"
     ]
    }
   ],
   "source": [
    "class LogisticRegression(nn.Module):\n",
    "    def __init__(self, input_size, num_classes):\n",
    "        super(LogisticRegression, self).__init__()\n",
    "        self.linear = nn.Linear(input_size, num_classes)\n",
    "    \n",
    "    def forward(self, x):\n",
    "        out = self.linear(x)\n",
    "        return out\n",
    "\n",
    "model = LogisticRegression(input_size, num_classes)\n",
    "\n",
    "criterion = nn.CrossEntropyLoss()\n",
    "optimizer = torch.optim.SGD(model.parameters(), lr=learning_rate)\n",
    "\n",
    "def train(train_loader):\n",
    "    model.train()\n",
    "    running_loss = 0\n",
    "    for batch_idx, (images, labels) in enumerate(train_loader):\n",
    "        images = Variable(images.view(-1, 28 * 28))\n",
    "        labels = Variable(labels)\n",
    "        \n",
    "        optimizer.zero_grad()\n",
    "        outputs = model(images)\n",
    "\n",
    "        loss = criterion(outputs, labels)\n",
    "        running_loss += loss\n",
    "\n",
    "        loss.backward()\n",
    "        optimizer.step()\n",
    "\n",
    "    train_loss = running_loss / len(train_loader)\n",
    "    \n",
    "    return train_loss.data[0]\n",
    "\n",
    "def valid(test_loader):\n",
    "    model.eval()\n",
    "    running_loss = 0\n",
    "    correct = 0\n",
    "    total = 0\n",
    "    for batch_idx, (images, labels) in enumerate(train_loader):\n",
    "        images = Variable(images.view(-1, 28 * 28))\n",
    "        labels = Variable(labels)\n",
    "        \n",
    "        optimizer.zero_grad()\n",
    "        outputs = model(images)\n",
    "\n",
    "        loss = criterion(outputs, labels)\n",
    "        running_loss += loss\n",
    "\n",
    "        _, predicted = torch.max(outputs.data, 1)\n",
    "        correct += (predicted == labels.data).sum()\n",
    "        total += labels.size(0)\n",
    "\n",
    "    val_loss = running_loss / len(test_loader)\n",
    "    val_acc = correct / total\n",
    "    \n",
    "    return val_loss.data[0], val_acc\n",
    "\n",
    "loss_list = []\n",
    "val_loss_list = []\n",
    "val_acc_list = []\n",
    "for epoch in range(num_epochs):\n",
    "    loss = train(train_loader)\n",
    "    val_loss, val_acc = valid(test_loader)\n",
    "\n",
    "    print('epoch %d, loss: %.4f val_loss: %.4f val_acc: %.4f'\n",
    "          % (epoch, loss, val_loss, val_acc))\n",
    "    \n",
    "    # logging\n",
    "    loss_list.append(loss)\n",
    "    val_loss_list.append(val_loss)\n",
    "    val_acc_list.append(val_acc)"
   ]
  },
  {
   "cell_type": "code",
   "execution_count": 72,
   "metadata": {},
   "outputs": [
    {
     "data": {
      "image/png": "[encoded data removed]",
      "text/plain": [
       "<matplotlib.figure.Figure at 0x1a1bf61710>"
      ]
     },
     "metadata": {},
     "output_type": "display_data"
    },
    {
     "data": {
      "image/png": "[encoded data removed]",
      "text/plain": [
       "<matplotlib.figure.Figure at 0x1a33d4fe80>"
      ]
     },
     "metadata": {},
     "output_type": "display_data"
    }
   ],
   "source": [
    "# plot learning curve\n",
    "plt.figure()\n",
    "plt.plot(range(num_epochs), loss_list, 'r-', label='train_loss')\n",
    "plt.plot(range(num_epochs), val_loss_list, 'b-', label='val_loss')\n",
    "plt.legend()\n",
    "plt.grid()\n",
    "\n",
    "plt.figure()\n",
    "plt.plot(range(num_epochs), val_acc_list, 'g-', label='val_acc')\n",
    "plt.legend()\n",
    "plt.grid()"
   ]
  }
 ],
 "metadata": {
  "kernelspec": {
   "display_name": "Python [default]",
   "language": "python",
   "name": "python3"
  },
  "language_info": {
   "codemirror_mode": {
    "name": "ipython",
    "version": 3
   },
   "file_extension": ".py",
   "mimetype": "text/x-python",
   "name": "python",
   "nbconvert_exporter": "python",
   "pygments_lexer": "ipython3",
   "version": "3.6.4"
  }
 },
 "nbformat": 4,
 "nbformat_minor": 2
}
