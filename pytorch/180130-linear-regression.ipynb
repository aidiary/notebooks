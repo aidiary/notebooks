{
 "cells": [
  {
   "cell_type": "markdown",
   "metadata": {},
   "source": [
    "# Linear Regression\n",
    "\n",
    "https://github.com/yunjey/pytorch-tutorial"
   ]
  },
  {
   "cell_type": "markdown",
   "metadata": {},
   "source": [
    "## Artificial dataset"
   ]
  },
  {
   "cell_type": "code",
   "execution_count": 3,
   "metadata": {},
   "outputs": [
    {
     "name": "stdout",
     "output_type": "stream",
     "text": [
      "Epoch [10/100], Loss: 10.0522\n",
      "Epoch [20/100], Loss: 2.0177\n",
      "Epoch [30/100], Loss: 0.6979\n",
      "Epoch [40/100], Loss: 0.4801\n",
      "Epoch [50/100], Loss: 0.4433\n",
      "Epoch [60/100], Loss: 0.4361\n",
      "Epoch [70/100], Loss: 0.4337\n",
      "Epoch [80/100], Loss: 0.4322\n",
      "Epoch [90/100], Loss: 0.4309\n",
      "Epoch [100/100], Loss: 0.4295\n"
     ]
    }
   ],
   "source": [
    "import torch\n",
    "import torch.nn as nn\n",
    "import numpy as np\n",
    "import matplotlib.pyplot as plt\n",
    "from torch.autograd import Variable\n",
    "\n",
    "# hyper parameters\n",
    "input_size = 1\n",
    "output_size = 1\n",
    "num_epochs = 100\n",
    "learning_rate = 0.001\n",
    "\n",
    "# toy dataset\n",
    "# 15 samples, 1 features\n",
    "x_train = np.array([3.3, 4.4, 5.5, 6.71, 6.93, 4.168, 9.779, 6.182, 7.59, 2.167,\n",
    "                    7.042, 10.791, 5.313, 7.997, 3.1], dtype=np.float32)\n",
    "\n",
    "y_train = np.array([1.7, 2.76, 2.09, 3.19, 1.694, 1.573, 3.366, 2.596, 2.53, 1.221,\n",
    "                    2.827, 3.465, 1.65, 2.904, 1.3], dtype=np.float32)\n",
    "\n",
    "x_train = x_train.reshape(15, 1)\n",
    "y_train = y_train.reshape(15, 1)\n",
    "\n",
    "# linear regression model\n",
    "class LinearRegression(nn.Module):\n",
    "    def __init__(self, input_size, output_size):\n",
    "        super(LinearRegression, self).__init__()\n",
    "        self.linear = nn.Linear(input_size, output_size)\n",
    "    \n",
    "    def forward(self, x):\n",
    "        out = self.linear(x)\n",
    "        return out\n",
    "\n",
    "model = LinearRegression(input_size, output_size)\n",
    "\n",
    "# loss and optimizer\n",
    "criterion = nn.MSELoss()\n",
    "optimizer = torch.optim.SGD(model.parameters(), lr=learning_rate)\n",
    "\n",
    "# train the model\n",
    "for epoch in range(num_epochs):\n",
    "    # convert numpy array to torch Variable\n",
    "    # ndarray => Tensor => Variable\n",
    "    inputs = Variable(torch.from_numpy(x_train))\n",
    "    targets = Variable(torch.from_numpy(y_train))\n",
    "\n",
    "    optimizer.zero_grad()\n",
    "    outputs = model(inputs)\n",
    "    loss = criterion(outputs, targets)\n",
    "    loss.backward()\n",
    "    optimizer.step()\n",
    "    \n",
    "    if (epoch + 1) % 10 == 0:\n",
    "        print('Epoch [%d/%d], Loss: %.4f' % (epoch + 1, num_epochs, loss.data[0]))"
   ]
  },
  {
   "cell_type": "code",
   "execution_count": 4,
   "metadata": {},
   "outputs": [
    {
     "data": {
      "image/png": "[encoded data removed]",
      "text/plain": [
       "<matplotlib.figure.Figure at 0x11291f908>"
      ]
     },
     "metadata": {},
     "output_type": "display_data"
    }
   ],
   "source": [
    "# plot the graph\n",
    "predicted = model(Variable(torch.from_numpy(x_train))).data.numpy()\n",
    "plt.plot(x_train, y_train, 'ro', label='Original data')\n",
    "plt.plot(x_train, predicted, label='Fitted line')\n",
    "plt.legend()\n",
    "plt.show()"
   ]
  },
  {
   "cell_type": "markdown",
   "metadata": {},
   "source": [
    "## Boston house price dataset\n",
    "\n",
    "- https://machinelearningmastery.com/regression-tutorial-keras-deep-learning-library-python/\n",
    "- https://medium.com/@haydar_ai/learning-data-science-day-9-linear-regression-on-boston-housing-dataset-cd62a80775ef"
   ]
  },
  {
   "cell_type": "code",
   "execution_count": 50,
   "metadata": {},
   "outputs": [],
   "source": [
    "import torch\n",
    "import torch.nn as nn\n",
    "import numpy as np\n",
    "import matplotlib.pyplot as plt\n",
    "from torch.autograd import Variable\n",
    "\n",
    "from sklearn.datasets import load_boston\n",
    "from sklearn.model_selection import train_test_split\n",
    "\n",
    "import matplotlib.pyplot as plt\n",
    "%matplotlib inline"
   ]
  },
  {
   "cell_type": "code",
   "execution_count": 62,
   "metadata": {},
   "outputs": [
    {
     "name": "stdout",
     "output_type": "stream",
     "text": [
      "(506, 13)\n",
      "(506,)\n",
      "(339, 13)\n",
      "(167, 13)\n",
      "(339,)\n",
      "(167,)\n",
      "epoch [1/10000], loss: 30510.0566 val_loss: 27647.2344\n",
      "epoch [1001/10000], loss: 44.7724 val_loss: 54.9474\n",
      "epoch [2001/10000], loss: 36.3821 val_loss: 43.7019\n",
      "epoch [3001/10000], loss: 30.1500 val_loss: 37.3949\n",
      "epoch [4001/10000], loss: 25.1708 val_loss: 33.4908\n",
      "epoch [5001/10000], loss: 22.2849 val_loss: 31.6942\n",
      "epoch [6001/10000], loss: 21.2487 val_loss: 31.3694\n",
      "epoch [7001/10000], loss: 21.0222 val_loss: 31.4214\n",
      "epoch [8001/10000], loss: 20.8919 val_loss: 31.2920\n",
      "epoch [9001/10000], loss: 20.7399 val_loss: 31.0570\n"
     ]
    },
    {
     "data": {
      "text/plain": [
       "<matplotlib.legend.Legend at 0x1a1a2f6198>"
      ]
     },
     "execution_count": 62,
     "metadata": {},
     "output_type": "execute_result"
    },
    {
     "data": {
      "image/png": "[encoded data removed]",
      "text/plain": [
       "<matplotlib.figure.Figure at 0x1a19c0cb70>"
      ]
     },
     "metadata": {},
     "output_type": "display_data"
    }
   ],
   "source": [
    "# hyper parameters\n",
    "input_size = 13\n",
    "output_size = 1\n",
    "num_epochs = 10000\n",
    "learning_rate = 0.01\n",
    "\n",
    "boston = load_boston()\n",
    "X = boston.data\n",
    "y = boston.target\n",
    "print(X.shape)\n",
    "print(y.shape)\n",
    "\n",
    "X_train, X_test, y_train, y_test = train_test_split(X, y, test_size = 0.33, random_state = 5)\n",
    "print(X_train.shape)\n",
    "print(X_test.shape)\n",
    "print(y_train.shape)\n",
    "print(y_test.shape)\n",
    "\n",
    "# linear regression model\n",
    "class BaselineModel(nn.Module):\n",
    "    def __init__(self, input_size, output_size):\n",
    "        super(BaselineModel, self).__init__()\n",
    "        self.linear = nn.Linear(input_size, output_size)\n",
    "\n",
    "    def forward(self, x):\n",
    "        out = self.linear(x)\n",
    "        return out\n",
    "\n",
    "model = BaselineModel(input_size, output_size)\n",
    "\n",
    "# loss and optimizer\n",
    "criterion = nn.MSELoss()\n",
    "optimizer = torch.optim.Adam(model.parameters(), lr=learning_rate)\n",
    "\n",
    "def train(X_train, y_train):\n",
    "    inputs = Variable(torch.from_numpy(X_train).float())\n",
    "    targets = Variable(torch.from_numpy(y_train).float())\n",
    "\n",
    "    optimizer.zero_grad()\n",
    "    outputs = model(inputs)\n",
    "\n",
    "    loss = criterion(outputs, targets)\n",
    "    loss.backward()\n",
    "    optimizer.step()\n",
    "\n",
    "    return loss.data[0]\n",
    "\n",
    "def valid(X_test, y_test):\n",
    "    inputs = Variable(torch.from_numpy(X_test).float())\n",
    "    targets = Variable(torch.from_numpy(y_test).float())\n",
    "    \n",
    "    outputs = model(inputs)\n",
    "    val_loss = criterion(outputs, targets)\n",
    "    \n",
    "    return val_loss.data[0]\n",
    "        \n",
    "# train the model\n",
    "loss_list = []\n",
    "val_loss_list = []\n",
    "for epoch in range(num_epochs):\n",
    "    loss = train(X_train, y_train)\n",
    "    val_loss = valid(X_test, y_test)\n",
    "\n",
    "    if epoch % 1000 == 0:\n",
    "        print('epoch [%d/%d], loss: %.4f val_loss: %.4f'\n",
    "              % (epoch + 1, num_epochs, loss, val_loss))\n",
    "\n",
    "    loss_list.append(loss)\n",
    "    val_loss_list.append(val_loss)\n",
    "\n",
    "# plot learning curve\n",
    "plt.plot(range(num_epochs), loss_list, 'r-', label='train_loss')\n",
    "plt.plot(range(num_epochs), val_loss_list, 'b-', label='val_loss')\n",
    "plt.ylim((0, 100))\n",
    "plt.legend()"
   ]
  },
  {
   "cell_type": "code",
   "execution_count": null,
   "metadata": {
    "collapsed": true
   },
   "outputs": [],
   "source": []
  }
 ],
 "metadata": {
  "kernelspec": {
   "display_name": "Python [default]",
   "language": "python",
   "name": "python3"
  },
  "language_info": {
   "codemirror_mode": {
    "name": "ipython",
    "version": 3
   },
   "file_extension": ".py",
   "mimetype": "text/x-python",
   "name": "python",
   "nbconvert_exporter": "python",
   "pygments_lexer": "ipython3",
   "version": "3.6.4"
  }
 },
 "nbformat": 4,
 "nbformat_minor": 2
}
