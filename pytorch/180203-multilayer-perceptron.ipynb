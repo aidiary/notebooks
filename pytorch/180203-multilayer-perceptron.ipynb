{
 "cells": [
  {
   "cell_type": "markdown",
   "metadata": {},
   "source": [
    "## Multilayer Perceptron"
   ]
  },
  {
   "cell_type": "code",
   "execution_count": 1,
   "metadata": {
    "collapsed": true
   },
   "outputs": [],
   "source": [
    "import torch\n",
    "import torch.nn as nn\n",
    "import torchvision.datasets as dsets\n",
    "import torchvision.transforms as transforms\n",
    "from torch.autograd import Variable"
   ]
  },
  {
   "cell_type": "code",
   "execution_count": 44,
   "metadata": {
    "collapsed": true
   },
   "outputs": [],
   "source": [
    "# Hyperparameters \n",
    "input_size = 784\n",
    "hidden_size = 500\n",
    "num_classes = 10\n",
    "num_epochs = 50\n",
    "batch_size = 100\n",
    "learning_rate = 0.001"
   ]
  },
  {
   "cell_type": "markdown",
   "metadata": {},
   "source": [
    "- MNISTはPyTorchの標準機能でデータセットをダウンロードできる\n",
    "- バッチ単位で読み込めるDataLoaderも簡単に使える"
   ]
  },
  {
   "cell_type": "code",
   "execution_count": 60,
   "metadata": {
    "collapsed": true
   },
   "outputs": [],
   "source": [
    "# MNIST Dataset (Images and Labels)\n",
    "train_dataset = dsets.MNIST(root='./data', \n",
    "                            train=True, \n",
    "                            transform=transforms.ToTensor(),\n",
    "                            download=True)\n",
    "\n",
    "test_dataset = dsets.MNIST(root='./data', \n",
    "                           train=False, \n",
    "                           transform=transforms.ToTensor())\n",
    "\n",
    "# Dataset Loader (Input Pipline)\n",
    "train_loader = torch.utils.data.DataLoader(dataset=train_dataset, \n",
    "                                           batch_size=batch_size, \n",
    "                                           shuffle=True)\n",
    "\n",
    "test_loader = torch.utils.data.DataLoader(dataset=test_dataset, \n",
    "                                          batch_size=batch_size, \n",
    "                                          shuffle=False)"
   ]
  },
  {
   "cell_type": "code",
   "execution_count": 61,
   "metadata": {},
   "outputs": [
    {
     "name": "stdout",
     "output_type": "stream",
     "text": [
      "60000\n",
      "10000\n"
     ]
    }
   ],
   "source": [
    "print(len(train_dataset))  # 60000\n",
    "print(len(test_dataset))   # 10000"
   ]
  },
  {
   "cell_type": "markdown",
   "metadata": {},
   "source": [
    "- DataLoaderから1バッチ分のデータを取り出す方法\n",
    "- DataLoaderをiterで囲んでnext()すればよい"
   ]
  },
  {
   "cell_type": "code",
   "execution_count": 65,
   "metadata": {},
   "outputs": [
    {
     "name": "stdout",
     "output_type": "stream",
     "text": [
      "<class 'torch.FloatTensor'>\n",
      "<class 'torch.LongTensor'>\n",
      "torch.Size([100, 1, 28, 28])\n",
      "torch.Size([100])\n"
     ]
    }
   ],
   "source": [
    "# 1データだけ取得\n",
    "image, label = iter(train_loader).next()\n",
    "print(type(image))   # <class 'torch.FloatTensor'>\n",
    "print(type(label))   # <class 'torch.LongTensor'>\n",
    "print(image.size())  # torch.Size([100, 1, 28, 28])\n",
    "print(label.size())  # torch.Size([100])"
   ]
  },
  {
   "cell_type": "code",
   "execution_count": 48,
   "metadata": {
    "collapsed": true
   },
   "outputs": [],
   "source": [
    "class MultiLayerPerceptron(nn.Module):\n",
    "    \n",
    "    def __init__(self, input_size, hidden_size, num_classes):\n",
    "        super(MultiLayerPerceptron, self).__init__()\n",
    "        self.fc1 = nn.Linear(input_size, hidden_size)\n",
    "        self.relu = nn.ReLU()\n",
    "        self.fc2 = nn.Linear(hidden_size, num_classes)\n",
    "    \n",
    "    def forward(self, x):\n",
    "#         print(x.size())\n",
    "        out = self.fc1(x)\n",
    "#         print(out.size())\n",
    "        out = self.relu(out)\n",
    "#         print(out.size())\n",
    "        out = self.fc2(out)\n",
    "#         print(out.size())\n",
    "        return out"
   ]
  },
  {
   "cell_type": "markdown",
   "metadata": {},
   "source": [
    "- Sequentialを使ってまとめて書く方法もある\n",
    "- forward処理中に出力値を見られる"
   ]
  },
  {
   "cell_type": "code",
   "execution_count": 49,
   "metadata": {},
   "outputs": [],
   "source": [
    "model = MultiLayerPerceptron(input_size, hidden_size, num_classes)"
   ]
  },
  {
   "cell_type": "code",
   "execution_count": 50,
   "metadata": {},
   "outputs": [
    {
     "name": "stdout",
     "output_type": "stream",
     "text": [
      "befire view: torch.Size([100, 1, 28, 28])\n",
      "after view: torch.Size([100, 784])\n"
     ]
    },
    {
     "data": {
      "text/plain": [
       "Variable containing:\n",
       " 0.0324 -0.0736  0.0133  ...   0.0170 -0.0768  0.0059\n",
       " 0.1207 -0.0355  0.0041  ...  -0.0193  0.0026  0.1107\n",
       " 0.0118 -0.1295 -0.0467  ...  -0.0101 -0.0207 -0.0858\n",
       "          ...             ⋱             ...          \n",
       " 0.0648 -0.0879 -0.0963  ...   0.0026 -0.0670 -0.0228\n",
       " 0.0413 -0.0455  0.0068  ...   0.0376 -0.0832 -0.0827\n",
       "-0.0090 -0.0230 -0.0120  ...  -0.1214 -0.0143  0.0371\n",
       "[torch.FloatTensor of size 100x10]"
      ]
     },
     "execution_count": 50,
     "metadata": {},
     "output_type": "execute_result"
    }
   ],
   "source": [
    "# テスト\n",
    "image, label = iter(train_loader).next()\n",
    "print(\"befire view:\", image.size())\n",
    "image = image.view(-1, 28 * 28)\n",
    "print(\"after view:\", image.size())\n",
    "model(Variable(image))"
   ]
  },
  {
   "cell_type": "code",
   "execution_count": 51,
   "metadata": {
    "collapsed": true
   },
   "outputs": [],
   "source": [
    "criterion = nn.CrossEntropyLoss()\n",
    "optimizer = torch.optim.SGD(model.parameters(), lr=learning_rate)"
   ]
  },
  {
   "cell_type": "code",
   "execution_count": 52,
   "metadata": {},
   "outputs": [
    {
     "name": "stdout",
     "output_type": "stream",
     "text": [
      "epoch 0, loss: 2.2311 val_loss: 2.1544 val_acc: 0.5560\n",
      "epoch 1, loss: 2.0792 val_loss: 1.9867 val_acc: 0.6899\n",
      "epoch 2, loss: 1.8992 val_loss: 1.7872 val_acc: 0.7371\n",
      "epoch 3, loss: 1.6928 val_loss: 1.5692 val_acc: 0.7641\n",
      "epoch 4, loss: 1.4803 val_loss: 1.3590 val_acc: 0.7839\n",
      "epoch 5, loss: 1.2863 val_loss: 1.1779 val_acc: 0.8020\n",
      "epoch 6, loss: 1.1248 val_loss: 1.0329 val_acc: 0.8172\n",
      "epoch 7, loss: 0.9973 val_loss: 0.9203 val_acc: 0.8262\n",
      "epoch 8, loss: 0.8981 val_loss: 0.8330 val_acc: 0.8360\n",
      "epoch 9, loss: 0.8207 val_loss: 0.7645 val_acc: 0.8446\n",
      "epoch 10, loss: 0.7593 val_loss: 0.7099 val_acc: 0.8502\n",
      "epoch 11, loss: 0.7097 val_loss: 0.6653 val_acc: 0.8558\n",
      "epoch 12, loss: 0.6690 val_loss: 0.6287 val_acc: 0.8618\n",
      "epoch 13, loss: 0.6351 val_loss: 0.5977 val_acc: 0.8658\n",
      "epoch 14, loss: 0.6063 val_loss: 0.5715 val_acc: 0.8692\n",
      "epoch 15, loss: 0.5816 val_loss: 0.5488 val_acc: 0.8724\n",
      "epoch 16, loss: 0.5602 val_loss: 0.5290 val_acc: 0.8745\n",
      "epoch 17, loss: 0.5415 val_loss: 0.5118 val_acc: 0.8780\n",
      "epoch 18, loss: 0.5250 val_loss: 0.4964 val_acc: 0.8800\n",
      "epoch 19, loss: 0.5103 val_loss: 0.4829 val_acc: 0.8821\n",
      "epoch 20, loss: 0.4971 val_loss: 0.4709 val_acc: 0.8838\n",
      "epoch 21, loss: 0.4853 val_loss: 0.4595 val_acc: 0.8859\n",
      "epoch 22, loss: 0.4747 val_loss: 0.4496 val_acc: 0.8877\n",
      "epoch 23, loss: 0.4649 val_loss: 0.4406 val_acc: 0.8900\n",
      "epoch 24, loss: 0.4560 val_loss: 0.4322 val_acc: 0.8914\n",
      "epoch 25, loss: 0.4479 val_loss: 0.4247 val_acc: 0.8923\n",
      "epoch 26, loss: 0.4404 val_loss: 0.4177 val_acc: 0.8927\n",
      "epoch 27, loss: 0.4335 val_loss: 0.4113 val_acc: 0.8933\n",
      "epoch 28, loss: 0.4271 val_loss: 0.4053 val_acc: 0.8944\n",
      "epoch 29, loss: 0.4211 val_loss: 0.3997 val_acc: 0.8954\n",
      "epoch 30, loss: 0.4156 val_loss: 0.3945 val_acc: 0.8963\n",
      "epoch 31, loss: 0.4104 val_loss: 0.3897 val_acc: 0.8976\n",
      "epoch 32, loss: 0.4055 val_loss: 0.3852 val_acc: 0.8984\n",
      "epoch 33, loss: 0.4009 val_loss: 0.3808 val_acc: 0.8992\n",
      "epoch 34, loss: 0.3966 val_loss: 0.3768 val_acc: 0.9003\n",
      "epoch 35, loss: 0.3925 val_loss: 0.3730 val_acc: 0.9010\n",
      "epoch 36, loss: 0.3886 val_loss: 0.3694 val_acc: 0.9009\n",
      "epoch 37, loss: 0.3849 val_loss: 0.3661 val_acc: 0.9018\n",
      "epoch 38, loss: 0.3814 val_loss: 0.3629 val_acc: 0.9024\n",
      "epoch 39, loss: 0.3781 val_loss: 0.3597 val_acc: 0.9023\n",
      "epoch 40, loss: 0.3750 val_loss: 0.3568 val_acc: 0.9027\n",
      "epoch 41, loss: 0.3719 val_loss: 0.3539 val_acc: 0.9032\n",
      "epoch 42, loss: 0.3690 val_loss: 0.3513 val_acc: 0.9031\n",
      "epoch 43, loss: 0.3662 val_loss: 0.3487 val_acc: 0.9035\n",
      "epoch 44, loss: 0.3635 val_loss: 0.3462 val_acc: 0.9036\n",
      "epoch 45, loss: 0.3609 val_loss: 0.3439 val_acc: 0.9043\n",
      "epoch 46, loss: 0.3585 val_loss: 0.3415 val_acc: 0.9048\n",
      "epoch 47, loss: 0.3560 val_loss: 0.3394 val_acc: 0.9056\n",
      "epoch 48, loss: 0.3538 val_loss: 0.3372 val_acc: 0.9061\n",
      "epoch 49, loss: 0.3515 val_loss: 0.3352 val_acc: 0.9065\n"
     ]
    }
   ],
   "source": [
    "def train(train_loader):\n",
    "    model.train()\n",
    "    running_loss = 0\n",
    "    for batch_idx, (images, labels) in enumerate(train_loader):\n",
    "        images = Variable(images.view(-1, 28 * 28))\n",
    "        labels = Variable(labels)\n",
    "        \n",
    "        optimizer.zero_grad()\n",
    "        outputs = model(images)\n",
    "\n",
    "        loss = criterion(outputs, labels)\n",
    "        running_loss += loss\n",
    "\n",
    "        loss.backward()\n",
    "        optimizer.step()\n",
    "\n",
    "    train_loss = running_loss / len(train_loader)\n",
    "    \n",
    "    return train_loss.data[0]\n",
    "\n",
    "\n",
    "def valid(test_loader):\n",
    "    model.eval()\n",
    "    running_loss = 0\n",
    "    correct = 0\n",
    "    total = 0\n",
    "    for batch_idx, (images, labels) in enumerate(test_loader):\n",
    "        images = Variable(images.view(-1, 28 * 28))\n",
    "        labels = Variable(labels)\n",
    "\n",
    "        outputs = model(images)\n",
    "\n",
    "        loss = criterion(outputs, labels)\n",
    "        running_loss += loss\n",
    "\n",
    "        _, predicted = torch.max(outputs.data, 1)\n",
    "        correct += (predicted == labels.data).sum()\n",
    "        total += labels.size(0)\n",
    "\n",
    "    val_loss = running_loss / len(test_loader)\n",
    "    val_acc = correct / total\n",
    "    \n",
    "    return val_loss.data[0], val_acc\n",
    "\n",
    "\n",
    "loss_list = []\n",
    "val_loss_list = []\n",
    "val_acc_list = []\n",
    "for epoch in range(num_epochs):\n",
    "    loss = train(train_loader)\n",
    "    val_loss, val_acc = valid(test_loader)\n",
    "\n",
    "    print('epoch %d, loss: %.4f val_loss: %.4f val_acc: %.4f'\n",
    "          % (epoch, loss, val_loss, val_acc))\n",
    "    \n",
    "    # logging\n",
    "    loss_list.append(loss)\n",
    "    val_loss_list.append(val_loss)\n",
    "    val_acc_list.append(val_acc)"
   ]
  },
  {
   "cell_type": "code",
   "execution_count": 55,
   "metadata": {},
   "outputs": [
    {
     "data": {
      "image/png": "[encoded data removed]",
      "text/plain": [
       "<matplotlib.figure.Figure at 0x11a2a3048>"
      ]
     },
     "metadata": {},
     "output_type": "display_data"
    },
    {
     "data": {
      "image/png": "[encoded data removed]",
      "text/plain": [
       "<matplotlib.figure.Figure at 0x11a039d68>"
      ]
     },
     "metadata": {},
     "output_type": "display_data"
    }
   ],
   "source": [
    "import matplotlib.pyplot as plt\n",
    "%matplotlib inline\n",
    "\n",
    "# plot learning curve\n",
    "plt.figure()\n",
    "plt.plot(range(num_epochs), loss_list, 'r-', label='train_loss')\n",
    "plt.plot(range(num_epochs), val_loss_list, 'b-', label='val_loss')\n",
    "plt.legend()\n",
    "plt.xlabel('epoch')\n",
    "plt.ylabel('loss')\n",
    "plt.grid()\n",
    "\n",
    "plt.figure()\n",
    "plt.plot(range(num_epochs), val_acc_list, 'g-', label='val_acc')\n",
    "plt.legend()\n",
    "plt.xlabel('epoch')\n",
    "plt.ylabel('acc')\n",
    "plt.grid()"
   ]
  },
  {
   "cell_type": "code",
   "execution_count": null,
   "metadata": {
    "collapsed": true
   },
   "outputs": [],
   "source": []
  }
 ],
 "metadata": {
  "kernelspec": {
   "display_name": "Python [default]",
   "language": "python",
   "name": "python3"
  },
  "language_info": {
   "codemirror_mode": {
    "name": "ipython",
    "version": 3
   },
   "file_extension": ".py",
   "mimetype": "text/x-python",
   "name": "python",
   "nbconvert_exporter": "python",
   "pygments_lexer": "ipython3",
   "version": "3.6.4"
  }
 },
 "nbformat": 4,
 "nbformat_minor": 2
}
