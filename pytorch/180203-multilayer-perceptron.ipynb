{
 "cells": [
  {
   "cell_type": "markdown",
   "metadata": {},
   "source": [
    "## Multilayer Perceptron"
   ]
  },
  {
   "cell_type": "code",
   "execution_count": 1,
   "metadata": {
    "collapsed": true
   },
   "outputs": [],
   "source": [
    "import torch\n",
    "import torch.nn as nn\n",
    "import torchvision\n",
    "import torchvision.datasets as dsets\n",
    "import torchvision.transforms as transforms\n",
    "from torch.autograd import Variable"
   ]
  },
  {
   "cell_type": "code",
   "execution_count": 2,
   "metadata": {
    "collapsed": true
   },
   "outputs": [],
   "source": [
    "# Hyperparameters \n",
    "input_size = 784\n",
    "hidden_size = 500\n",
    "num_classes = 10\n",
    "num_epochs = 50\n",
    "batch_size = 100\n",
    "learning_rate = 0.001"
   ]
  },
  {
   "cell_type": "markdown",
   "metadata": {},
   "source": [
    "- MNISTはPyTorchの標準機能でデータセットをダウンロードできる\n",
    "- バッチ単位で読み込めるDataLoaderも簡単に使える"
   ]
  },
  {
   "cell_type": "code",
   "execution_count": 3,
   "metadata": {
    "collapsed": true
   },
   "outputs": [],
   "source": [
    "# MNIST Dataset (Images and Labels)\n",
    "train_dataset = dsets.MNIST(root='./data', \n",
    "                            train=True, \n",
    "                            transform=transforms.ToTensor(),\n",
    "                            download=True)\n",
    "\n",
    "test_dataset = dsets.MNIST(root='./data', \n",
    "                           train=False, \n",
    "                           transform=transforms.ToTensor())\n",
    "\n",
    "# Dataset Loader (Input Pipline)\n",
    "train_loader = torch.utils.data.DataLoader(dataset=train_dataset, \n",
    "                                           batch_size=batch_size, \n",
    "                                           shuffle=True)\n",
    "\n",
    "test_loader = torch.utils.data.DataLoader(dataset=test_dataset, \n",
    "                                          batch_size=batch_size, \n",
    "                                          shuffle=False)"
   ]
  },
  {
   "cell_type": "markdown",
   "metadata": {},
   "source": [
    "- DataSetのlen()はサンプル数を返す\n",
    "- DataLoaderのlen()はミニバッチ数を返す"
   ]
  },
  {
   "cell_type": "code",
   "execution_count": 4,
   "metadata": {},
   "outputs": [
    {
     "name": "stdout",
     "output_type": "stream",
     "text": [
      "60000\n",
      "10000\n",
      "600\n",
      "100\n"
     ]
    }
   ],
   "source": [
    "print(len(train_dataset))  # 60000\n",
    "print(len(test_dataset))   # 10000\n",
    "print(len(train_loader))   # 600\n",
    "print(len(test_loader))    # 100"
   ]
  },
  {
   "cell_type": "markdown",
   "metadata": {},
   "source": [
    "- DataLoaderから1バッチ分のデータを取り出す方法\n",
    "- DataLoaderをiterで囲んでnext()すればよい"
   ]
  },
  {
   "cell_type": "code",
   "execution_count": 5,
   "metadata": {},
   "outputs": [
    {
     "name": "stdout",
     "output_type": "stream",
     "text": [
      "<class 'torch.FloatTensor'>\n",
      "<class 'torch.LongTensor'>\n",
      "torch.Size([100, 1, 28, 28])\n",
      "torch.Size([100])\n"
     ]
    }
   ],
   "source": [
    "# 1データだけ取得\n",
    "image, label = iter(train_loader).next()\n",
    "print(type(image))   # <class 'torch.FloatTensor'>\n",
    "print(type(label))   # <class 'torch.LongTensor'>\n",
    "print(image.size())  # torch.Size([100, 1, 28, 28])\n",
    "print(label.size())  # torch.Size([100])"
   ]
  },
  {
   "cell_type": "code",
   "execution_count": 6,
   "metadata": {},
   "outputs": [
    {
     "data": {
      "text/plain": [
       "(-0.5, 145.5, 145.5, -0.5)"
      ]
     },
     "execution_count": 6,
     "metadata": {},
     "output_type": "execute_result"
    },
    {
     "data": {
      "image/png": "[encoded data removed]",
      "text/plain": [
       "<matplotlib.figure.Figure at 0x1172bb0b8>"
      ]
     },
     "metadata": {},
     "output_type": "display_data"
    }
   ],
   "source": [
    "# 可視化\n",
    "import matplotlib.pyplot as plt\n",
    "import numpy as np\n",
    "%matplotlib inline\n",
    "\n",
    "def imshow(img):\n",
    "    npimg = img.numpy()\n",
    "    # [c, h, w] => [h, w, c]\n",
    "    plt.imshow(np.transpose(npimg, (1, 2, 0)))\n",
    "\n",
    "images, labels = iter(train_loader).next()\n",
    "images, labels = images[:25], labels[:25]\n",
    "imshow(torchvision.utils.make_grid(images, nrow=5, padding=1))\n",
    "plt.axis('off')"
   ]
  },
  {
   "cell_type": "code",
   "execution_count": 7,
   "metadata": {
    "collapsed": true
   },
   "outputs": [],
   "source": [
    "class MultiLayerPerceptron(nn.Module):\n",
    "    \n",
    "    def __init__(self, input_size, hidden_size, num_classes):\n",
    "        super(MultiLayerPerceptron, self).__init__()\n",
    "        self.fc1 = nn.Linear(input_size, hidden_size)\n",
    "        self.relu = nn.ReLU()\n",
    "        self.fc2 = nn.Linear(hidden_size, num_classes)\n",
    "    \n",
    "    def forward(self, x):\n",
    "#         print(x.size())\n",
    "        out = self.fc1(x)\n",
    "#         print(out.size())\n",
    "        out = self.relu(out)\n",
    "#         print(out.size())\n",
    "        out = self.fc2(out)\n",
    "#         print(out.size())\n",
    "        return out"
   ]
  },
  {
   "cell_type": "markdown",
   "metadata": {},
   "source": [
    "- Sequentialを使ってまとめて書く方法もある\n",
    "- forward処理中に出力値を見られる"
   ]
  },
  {
   "cell_type": "code",
   "execution_count": 8,
   "metadata": {
    "collapsed": true
   },
   "outputs": [],
   "source": [
    "model = MultiLayerPerceptron(input_size, hidden_size, num_classes)"
   ]
  },
  {
   "cell_type": "code",
   "execution_count": 9,
   "metadata": {},
   "outputs": [
    {
     "name": "stdout",
     "output_type": "stream",
     "text": [
      "befire view: torch.Size([100, 1, 28, 28])\n",
      "after view: torch.Size([100, 784])\n"
     ]
    },
    {
     "data": {
      "text/plain": [
       "Variable containing:\n",
       "-0.0180 -0.0369  0.0532  ...   0.1062  0.0862 -0.0622\n",
       "-0.0490 -0.1071  0.0209  ...   0.2343  0.0762 -0.0350\n",
       "-0.0733 -0.1088  0.0534  ...   0.1403  0.0299 -0.0623\n",
       "          ...             ⋱             ...          \n",
       "-0.0305 -0.1543  0.0529  ...   0.1813  0.0091 -0.0976\n",
       "-0.0664 -0.0789  0.1120  ...   0.2178  0.0711 -0.0907\n",
       "-0.1112 -0.1045 -0.0129  ...   0.2763  0.0810 -0.0921\n",
       "[torch.FloatTensor of size 100x10]"
      ]
     },
     "execution_count": 9,
     "metadata": {},
     "output_type": "execute_result"
    }
   ],
   "source": [
    "# テスト\n",
    "image, label = iter(train_loader).next()\n",
    "print(\"befire view:\", image.size())\n",
    "image = image.view(-1, 28 * 28)\n",
    "print(\"after view:\", image.size())\n",
    "model(Variable(image))"
   ]
  },
  {
   "cell_type": "code",
   "execution_count": 10,
   "metadata": {
    "collapsed": true
   },
   "outputs": [],
   "source": [
    "criterion = nn.CrossEntropyLoss()\n",
    "optimizer = torch.optim.SGD(model.parameters(), lr=learning_rate)"
   ]
  },
  {
   "cell_type": "code",
   "execution_count": 11,
   "metadata": {},
   "outputs": [
    {
     "name": "stdout",
     "output_type": "stream",
     "text": [
      "epoch 0, loss: 2.2433 val_loss: 2.1701 val_acc: 0.4786\n",
      "epoch 1, loss: 2.0954 val_loss: 2.0065 val_acc: 0.6820\n",
      "epoch 2, loss: 1.9187 val_loss: 1.8087 val_acc: 0.7325\n",
      "epoch 3, loss: 1.7120 val_loss: 1.5892 val_acc: 0.7607\n",
      "epoch 4, loss: 1.4968 val_loss: 1.3758 val_acc: 0.7854\n",
      "epoch 5, loss: 1.2994 val_loss: 1.1916 val_acc: 0.8040\n",
      "epoch 6, loss: 1.1351 val_loss: 1.0439 val_acc: 0.8178\n",
      "epoch 7, loss: 1.0053 val_loss: 0.9289 val_acc: 0.8278\n",
      "epoch 8, loss: 0.9044 val_loss: 0.8400 val_acc: 0.8372\n",
      "epoch 9, loss: 0.8258 val_loss: 0.7703 val_acc: 0.8430\n",
      "epoch 10, loss: 0.7636 val_loss: 0.7147 val_acc: 0.8511\n",
      "epoch 11, loss: 0.7136 val_loss: 0.6697 val_acc: 0.8552\n",
      "epoch 12, loss: 0.6725 val_loss: 0.6324 val_acc: 0.8593\n",
      "epoch 13, loss: 0.6384 val_loss: 0.6011 val_acc: 0.8643\n",
      "epoch 14, loss: 0.6095 val_loss: 0.5747 val_acc: 0.8672\n",
      "epoch 15, loss: 0.5848 val_loss: 0.5517 val_acc: 0.8704\n",
      "epoch 16, loss: 0.5633 val_loss: 0.5319 val_acc: 0.8739\n",
      "epoch 17, loss: 0.5446 val_loss: 0.5145 val_acc: 0.8780\n",
      "epoch 18, loss: 0.5280 val_loss: 0.4991 val_acc: 0.8807\n",
      "epoch 19, loss: 0.5133 val_loss: 0.4853 val_acc: 0.8824\n",
      "epoch 20, loss: 0.5001 val_loss: 0.4729 val_acc: 0.8842\n",
      "epoch 21, loss: 0.4883 val_loss: 0.4618 val_acc: 0.8856\n",
      "epoch 22, loss: 0.4776 val_loss: 0.4518 val_acc: 0.8871\n",
      "epoch 23, loss: 0.4678 val_loss: 0.4427 val_acc: 0.8880\n",
      "epoch 24, loss: 0.4589 val_loss: 0.4343 val_acc: 0.8896\n",
      "epoch 25, loss: 0.4508 val_loss: 0.4267 val_acc: 0.8913\n",
      "epoch 26, loss: 0.4433 val_loss: 0.4196 val_acc: 0.8917\n",
      "epoch 27, loss: 0.4363 val_loss: 0.4132 val_acc: 0.8928\n",
      "epoch 28, loss: 0.4299 val_loss: 0.4071 val_acc: 0.8944\n",
      "epoch 29, loss: 0.4239 val_loss: 0.4014 val_acc: 0.8958\n",
      "epoch 30, loss: 0.4183 val_loss: 0.3962 val_acc: 0.8966\n",
      "epoch 31, loss: 0.4131 val_loss: 0.3912 val_acc: 0.8973\n",
      "epoch 32, loss: 0.4082 val_loss: 0.3867 val_acc: 0.8981\n",
      "epoch 33, loss: 0.4036 val_loss: 0.3825 val_acc: 0.8990\n",
      "epoch 34, loss: 0.3992 val_loss: 0.3784 val_acc: 0.9001\n",
      "epoch 35, loss: 0.3951 val_loss: 0.3745 val_acc: 0.9008\n",
      "epoch 36, loss: 0.3912 val_loss: 0.3709 val_acc: 0.9013\n",
      "epoch 37, loss: 0.3876 val_loss: 0.3675 val_acc: 0.9014\n",
      "epoch 38, loss: 0.3841 val_loss: 0.3642 val_acc: 0.9021\n",
      "epoch 39, loss: 0.3807 val_loss: 0.3611 val_acc: 0.9024\n",
      "epoch 40, loss: 0.3775 val_loss: 0.3582 val_acc: 0.9029\n",
      "epoch 41, loss: 0.3745 val_loss: 0.3554 val_acc: 0.9039\n",
      "epoch 42, loss: 0.3716 val_loss: 0.3527 val_acc: 0.9041\n",
      "epoch 43, loss: 0.3688 val_loss: 0.3502 val_acc: 0.9047\n",
      "epoch 44, loss: 0.3662 val_loss: 0.3476 val_acc: 0.9052\n",
      "epoch 45, loss: 0.3636 val_loss: 0.3452 val_acc: 0.9053\n",
      "epoch 46, loss: 0.3611 val_loss: 0.3429 val_acc: 0.9057\n",
      "epoch 47, loss: 0.3587 val_loss: 0.3409 val_acc: 0.9065\n",
      "epoch 48, loss: 0.3564 val_loss: 0.3387 val_acc: 0.9067\n",
      "epoch 49, loss: 0.3542 val_loss: 0.3366 val_acc: 0.9070\n"
     ]
    }
   ],
   "source": [
    "def train(train_loader):\n",
    "    model.train()\n",
    "    running_loss = 0\n",
    "    for batch_idx, (images, labels) in enumerate(train_loader):\n",
    "        images = Variable(images.view(-1, 28 * 28))\n",
    "        labels = Variable(labels)\n",
    "        \n",
    "        optimizer.zero_grad()\n",
    "        outputs = model(images)\n",
    "\n",
    "        loss = criterion(outputs, labels)\n",
    "        running_loss += loss.data[0]\n",
    "\n",
    "        loss.backward()\n",
    "        optimizer.step()\n",
    "\n",
    "    train_loss = running_loss / len(train_loader)\n",
    "    \n",
    "    return train_loss\n",
    "\n",
    "\n",
    "def valid(test_loader):\n",
    "    model.eval()\n",
    "    running_loss = 0\n",
    "    correct = 0\n",
    "    total = 0\n",
    "    for batch_idx, (images, labels) in enumerate(test_loader):\n",
    "        images = Variable(images.view(-1, 28 * 28))\n",
    "        labels = Variable(labels)\n",
    "\n",
    "        outputs = model(images)\n",
    "\n",
    "        loss = criterion(outputs, labels)\n",
    "        running_loss += loss.data[0]\n",
    "\n",
    "        _, predicted = torch.max(outputs.data, 1)\n",
    "        correct += (predicted == labels.data).sum()\n",
    "        total += labels.size(0)\n",
    "\n",
    "    val_loss = running_loss / len(test_loader)\n",
    "    val_acc = correct / total\n",
    "    \n",
    "    return val_loss, val_acc\n",
    "\n",
    "\n",
    "loss_list = []\n",
    "val_loss_list = []\n",
    "val_acc_list = []\n",
    "for epoch in range(num_epochs):\n",
    "    loss = train(train_loader)\n",
    "    val_loss, val_acc = valid(test_loader)\n",
    "\n",
    "    print('epoch %d, loss: %.4f val_loss: %.4f val_acc: %.4f'\n",
    "          % (epoch, loss, val_loss, val_acc))\n",
    "    \n",
    "    # logging\n",
    "    loss_list.append(loss)\n",
    "    val_loss_list.append(val_loss)\n",
    "    val_acc_list.append(val_acc)"
   ]
  },
  {
   "cell_type": "code",
   "execution_count": 12,
   "metadata": {},
   "outputs": [
    {
     "data": {
      "image/png": "[encoded data removed]",
      "text/plain": [
       "<matplotlib.figure.Figure at 0x11bba4fd0>"
      ]
     },
     "metadata": {},
     "output_type": "display_data"
    },
    {
     "data": {
      "image/png": "[encoded data removed]",
      "text/plain": [
       "<matplotlib.figure.Figure at 0x11c0bdc50>"
      ]
     },
     "metadata": {},
     "output_type": "display_data"
    }
   ],
   "source": [
    "import matplotlib.pyplot as plt\n",
    "%matplotlib inline\n",
    "\n",
    "# plot learning curve\n",
    "plt.figure()\n",
    "plt.plot(range(num_epochs), loss_list, 'r-', label='train_loss')\n",
    "plt.plot(range(num_epochs), val_loss_list, 'b-', label='val_loss')\n",
    "plt.legend()\n",
    "plt.xlabel('epoch')\n",
    "plt.ylabel('loss')\n",
    "plt.grid()\n",
    "\n",
    "plt.figure()\n",
    "plt.plot(range(num_epochs), val_acc_list, 'g-', label='val_acc')\n",
    "plt.legend()\n",
    "plt.xlabel('epoch')\n",
    "plt.ylabel('acc')\n",
    "plt.grid()"
   ]
  },
  {
   "cell_type": "code",
   "execution_count": null,
   "metadata": {
    "collapsed": true
   },
   "outputs": [],
   "source": []
  }
 ],
 "metadata": {
  "kernelspec": {
   "display_name": "Python [default]",
   "language": "python",
   "name": "python3"
  },
  "language_info": {
   "codemirror_mode": {
    "name": "ipython",
    "version": 3
   },
   "file_extension": ".py",
   "mimetype": "text/x-python",
   "name": "python",
   "nbconvert_exporter": "python",
   "pygments_lexer": "ipython3",
   "version": "3.6.4"
  }
 },
 "nbformat": 4,
 "nbformat_minor": 2
}
