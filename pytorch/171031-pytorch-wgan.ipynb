{
 "cells": [
  {
   "cell_type": "code",
   "execution_count": 10,
   "metadata": {
    "collapsed": true
   },
   "outputs": [],
   "source": [
    "import torch\n",
    "import torch.nn as nn\n",
    "import torch.optim as optim\n",
    "from torch.autograd import Variable\n",
    "from torch.utils.data import DataLoader\n",
    "from torchvision import datasets, transforms"
   ]
  },
  {
   "cell_type": "code",
   "execution_count": 2,
   "metadata": {
    "collapsed": true
   },
   "outputs": [],
   "source": [
    "def initialize_weights(net):\n",
    "    for m in net.modules():\n",
    "        if isinstance(m, nn.Conv2d):\n",
    "            m.weight.data.normal_(0, 0.02)\n",
    "            m.bias.data.zero_()\n",
    "        elif isinstance(m, nn.ConvTranspose2d):\n",
    "            m.weight.data.normal_(0, 0.02)\n",
    "            m.bias.data.zero_()\n",
    "        elif isinstance(m, nn.Linear):\n",
    "            m.weight.data.normal_(0, 0.02)\n",
    "            m.bias.data.zero_()"
   ]
  },
  {
   "cell_type": "code",
   "execution_count": 3,
   "metadata": {
    "collapsed": false
   },
   "outputs": [],
   "source": [
    "class generator(nn.Module):\n",
    "    def __init__(self):\n",
    "        super(generator, self).__init__()\n",
    "        self.input_height = 28\n",
    "        self.input_width = 28\n",
    "        self.input_dim = 62  # zの次元\n",
    "        self.output_dim = 1\n",
    "        \n",
    "        self.fc = nn.Sequential(\n",
    "            nn.Linear(self.input_dim, 1024),\n",
    "            nn.BatchNorm1d(1024),\n",
    "            nn.ReLU(),\n",
    "            nn.Linear(1024, 128 * (self.input_height // 4) * (self.input_width // 4)),\n",
    "            nn.BatchNorm1d(128 * (self.input_height // 4) * (self.input_width // 4)),\n",
    "            nn.ReLU()\n",
    "        )\n",
    "        \n",
    "        self.deconv = nn.Sequential(\n",
    "            nn.ConvTranspose2d(128, 64, 4, 2, 1),\n",
    "            nn.BatchNorm2d(64),\n",
    "            nn.ReLU(),\n",
    "            nn.ConvTranspose2d(64, self.output_dim, 4, 2, 1),\n",
    "            nn.Sigmoid(),\n",
    "        )\n",
    "        \n",
    "        initialize_weights(self)\n",
    "        \n",
    "    def forward(self, input):\n",
    "        x = self.fc(input)\n",
    "        x = x.view(-1, 128, (self.input_height // 4), (self.input_width // 4))\n",
    "        x = self.deconv(x)\n",
    "        \n",
    "        return x"
   ]
  },
  {
   "cell_type": "code",
   "execution_count": 4,
   "metadata": {
    "collapsed": false
   },
   "outputs": [
    {
     "data": {
      "text/plain": [
       "generator (\n",
       "  (fc): Sequential (\n",
       "    (0): Linear (62 -> 1024)\n",
       "    (1): BatchNorm1d(1024, eps=1e-05, momentum=0.1, affine=True)\n",
       "    (2): ReLU ()\n",
       "    (3): Linear (1024 -> 6272)\n",
       "    (4): BatchNorm1d(6272, eps=1e-05, momentum=0.1, affine=True)\n",
       "    (5): ReLU ()\n",
       "  )\n",
       "  (deconv): Sequential (\n",
       "    (0): ConvTranspose2d(128, 64, kernel_size=(4, 4), stride=(2, 2), padding=(1, 1))\n",
       "    (1): BatchNorm2d(64, eps=1e-05, momentum=0.1, affine=True)\n",
       "    (2): ReLU ()\n",
       "    (3): ConvTranspose2d(64, 1, kernel_size=(4, 4), stride=(2, 2), padding=(1, 1))\n",
       "    (4): Sigmoid ()\n",
       "  )\n",
       ")"
      ]
     },
     "execution_count": 4,
     "metadata": {},
     "output_type": "execute_result"
    }
   ],
   "source": [
    "gen = generator()\n",
    "gen"
   ]
  },
  {
   "cell_type": "code",
   "execution_count": 5,
   "metadata": {
    "collapsed": true
   },
   "outputs": [],
   "source": [
    "class discriminator(nn.Module):\n",
    "    def __init__(self):\n",
    "        super(discriminator, self).__init__()\n",
    "        self.input_height = 28\n",
    "        self.input_width = 28\n",
    "        self.input_dim = 1\n",
    "        self.output_dim = 1\n",
    "        \n",
    "        self.conv = nn.Sequential(\n",
    "            nn.Conv2d(self.input_dim, 64, 4, 2, 1),\n",
    "            nn.LeakyReLU(0.2),\n",
    "            nn.Conv2d(64, 128, 4, 2, 1),\n",
    "            nn.BatchNorm2d(128),\n",
    "            nn.LeakyReLU(0.2),\n",
    "        )\n",
    "        \n",
    "        self.fc = nn.Sequential(\n",
    "            nn.Linear(128 * (self.input_height // 4) * (self.input_width // 4), 1024),\n",
    "            nn.BatchNorm1d(1024),\n",
    "            nn.LeakyReLU(0.2),\n",
    "            nn.Linear(1024, self.output_dim),\n",
    "            nn.Sigmoid(),\n",
    "        )\n",
    "        \n",
    "        initialize_weights(self)\n",
    "    \n",
    "    def forward(self, input):\n",
    "        x = self.conv(input)\n",
    "        x = x.view(-1, 128 * (self.input_height // 4) * (self.input_width // 4))\n",
    "        x = self.fc(x)\n",
    "        \n",
    "        return x"
   ]
  },
  {
   "cell_type": "code",
   "execution_count": 6,
   "metadata": {
    "collapsed": false
   },
   "outputs": [
    {
     "data": {
      "text/plain": [
       "discriminator (\n",
       "  (conv): Sequential (\n",
       "    (0): Conv2d(1, 64, kernel_size=(4, 4), stride=(2, 2), padding=(1, 1))\n",
       "    (1): LeakyReLU (0.2)\n",
       "    (2): Conv2d(64, 128, kernel_size=(4, 4), stride=(2, 2), padding=(1, 1))\n",
       "    (3): BatchNorm2d(128, eps=1e-05, momentum=0.1, affine=True)\n",
       "    (4): LeakyReLU (0.2)\n",
       "  )\n",
       "  (fc): Sequential (\n",
       "    (0): Linear (6272 -> 1024)\n",
       "    (1): BatchNorm1d(1024, eps=1e-05, momentum=0.1, affine=True)\n",
       "    (2): LeakyReLU (0.2)\n",
       "    (3): Linear (1024 -> 1)\n",
       "    (4): Sigmoid ()\n",
       "  )\n",
       ")"
      ]
     },
     "execution_count": 6,
     "metadata": {},
     "output_type": "execute_result"
    }
   ],
   "source": [
    "disc = discriminator()\n",
    "disc"
   ]
  },
  {
   "cell_type": "code",
   "execution_count": 23,
   "metadata": {
    "collapsed": true
   },
   "outputs": [],
   "source": [
    "class WGAN(object):\n",
    "    def __init__(self):\n",
    "        self.epoch = 5\n",
    "        self.batch_size = 64\n",
    "        self.c = 0.01      # clipping value\n",
    "        self.n_critic = 5  # the number of iterations of the critic per generator iteration\n",
    "        \n",
    "        self.G = generator()\n",
    "        self.D = discriminator()\n",
    "        self.G_optimizer = optim.Adam(self.G.parameters(), lr=0.0002, betas=(0.5, 0.999))\n",
    "        self.D_optimizer = optim.Adam(self.D.parameters(), lr=0.0002, betas=(0.5, 0.999))\n",
    "        \n",
    "        d = datasets.MNIST('data/mnist', train=True, download=True,\n",
    "                           transform=transforms.Compose([transforms.ToTensor()]))\n",
    "        self.data_loader = DataLoader(d, batch_size=self.batch_size, shuffle=True)\n",
    "        self.z_dim = 62\n",
    "        \n",
    "        self.sample_z = Variable(torch.rand((self.batch_size, self.z_dim)), volatile=True)\n",
    "    \n",
    "    def train(self):\n",
    "        self.y_real = Variable(torch.ones(self.batch_size, 1))\n",
    "        self.y_fake = Variable(torch.zeros(self.batch_size, 1))\n",
    "        \n",
    "        self.D.train()\n",
    "        print('training start!')\n",
    "        for epoch in range(self.epoch):\n",
    "            self.G.train()\n",
    "            for iter, (x_, _) in enumerate(self.data_loader):\n",
    "                # x_: (64, 1, 28, 28)\n",
    "                if iter == len(self.data_loader.dataset) // self.batch_size:\n",
    "                    break\n",
    "                \n",
    "                z_ = torch.rand((self.batch_size, self.z_dim))\n",
    "                x_, z_ = Variable(x_), Variable(z_)\n",
    "                \n",
    "                # update D network\n",
    "                self.D_optimizer.zero_grad()\n",
    "                \n",
    "                D_real = self.D(x_)  # [64, 1]\n",
    "                print('D_real:', D_real.size())\n",
    "                # lossなので小さくしたい = D_realは大きくしたい\n",
    "                # 本物画像を入れたときのDの出力は大きい方がよい\n",
    "                D_real_loss = - torch.mean(D_real)\n",
    "                \n",
    "                G_ = self.G(z_)  # [64, 1, 28, 28]\n",
    "                print('G_:', G_.size())\n",
    "                D_fake = self.D(G_)\n",
    "                # lossなので小さくしたい = D_fakeは小さくしたい\n",
    "                # 偽物画像を入れたときのDの出力は小さい方がよい\n",
    "                D_fake_loss = torch.mean(D_fake)\n",
    "\n",
    "                # Dは本物を入れると大きな値が、偽物入れると小さな値が出力するように学習する\n",
    "\n",
    "                D_loss = D_real_loss + D_fake_loss\n",
    "                D_loss.backward()\n",
    "                self.D_optimizer.step()\n",
    "                \n",
    "                # clipping D\n",
    "                # パラメータの値の範囲を [-0.01, 0.01] に切り取る\n",
    "                # なぜこんなことするのか？\n",
    "                for p in self.D.parameters():\n",
    "                    p.data.clamp_(-self.c, self.c)\n",
    "                \n",
    "                # 5エポックごとにGを更新\n",
    "                if ((iter + 1) % self.n_critic) == 0:\n",
    "                    # update G network\n",
    "                    self.G_optimizer.zero_grad()\n",
    "                    \n",
    "                    G_ = self.G(z_)\n",
    "                    D_fake = self.D(G_)\n",
    "                    # G_lossは小さい方がよい = D_fakeは大きい方がよい\n",
    "                    # 本物と思わせたいのでDに大きな値を出力させたい\n",
    "                    G_loss = - torch.mean(D_fake)\n",
    "                    G_loss.backward()\n",
    "                    self.G_optimzier.step()\n",
    "                break\n",
    "            break"
   ]
  },
  {
   "cell_type": "code",
   "execution_count": 24,
   "metadata": {
    "collapsed": false
   },
   "outputs": [
    {
     "name": "stdout",
     "output_type": "stream",
     "text": [
      "training start!\n",
      "D_real: torch.Size([64, 1])\n",
      "G_: torch.Size([64, 1, 28, 28])\n",
      "<class 'torch.FloatTensor'>\n",
      "<class 'torch.FloatTensor'>\n",
      "<class 'torch.FloatTensor'>\n",
      "<class 'torch.FloatTensor'>\n",
      "<class 'torch.FloatTensor'>\n",
      "<class 'torch.FloatTensor'>\n",
      "<class 'torch.FloatTensor'>\n",
      "<class 'torch.FloatTensor'>\n",
      "<class 'torch.FloatTensor'>\n",
      "<class 'torch.FloatTensor'>\n",
      "<class 'torch.FloatTensor'>\n",
      "<class 'torch.FloatTensor'>\n"
     ]
    }
   ],
   "source": [
    "wgan = WGAN()\n",
    "wgan.train()"
   ]
  },
  {
   "cell_type": "code",
   "execution_count": 25,
   "metadata": {
    "collapsed": false
   },
   "outputs": [
    {
     "data": {
      "text/plain": [
       "\n",
       " 3.3007\n",
       " 0.2319\n",
       "-0.4022\n",
       " 0.3157\n",
       "[torch.FloatTensor of size 4]"
      ]
     },
     "execution_count": 25,
     "metadata": {},
     "output_type": "execute_result"
    }
   ],
   "source": [
    "a = torch.randn(4)\n",
    "a"
   ]
  },
  {
   "cell_type": "code",
   "execution_count": 26,
   "metadata": {
    "collapsed": false
   },
   "outputs": [
    {
     "data": {
      "text/plain": [
       "\n",
       " 0.5000\n",
       " 0.2319\n",
       "-0.4022\n",
       " 0.3157\n",
       "[torch.FloatTensor of size 4]"
      ]
     },
     "execution_count": 26,
     "metadata": {},
     "output_type": "execute_result"
    }
   ],
   "source": [
    "torch.clamp(a, min=-0.5, max=0.5)"
   ]
  },
  {
   "cell_type": "code",
   "execution_count": null,
   "metadata": {
    "collapsed": true
   },
   "outputs": [],
   "source": []
  }
 ],
 "metadata": {
  "anaconda-cloud": {},
  "kernelspec": {
   "display_name": "Python [conda root]",
   "language": "python",
   "name": "conda-root-py"
  },
  "language_info": {
   "codemirror_mode": {
    "name": "ipython",
    "version": 3
   },
   "file_extension": ".py",
   "mimetype": "text/x-python",
   "name": "python",
   "nbconvert_exporter": "python",
   "pygments_lexer": "ipython3",
   "version": "3.5.2"
  }
 },
 "nbformat": 4,
 "nbformat_minor": 1
}
