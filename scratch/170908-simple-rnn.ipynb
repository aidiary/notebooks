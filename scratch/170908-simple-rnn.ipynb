{
 "cells": [
  {
   "cell_type": "code",
   "execution_count": 1,
   "metadata": {
    "collapsed": true
   },
   "outputs": [],
   "source": [
    "# http://peterroelants.github.io/posts/rnn_implementation_part01/"
   ]
  },
  {
   "cell_type": "code",
   "execution_count": 2,
   "metadata": {
    "collapsed": true
   },
   "outputs": [],
   "source": [
    "import numpy as np\n",
    "import matplotlib\n",
    "import matplotlib.pyplot as plt\n",
    "from matplotlib import cm\n",
    "from matplotlib.colors import LogNorm\n",
    "%matplotlib inline\n",
    "np.random.seed(seed=1)"
   ]
  },
  {
   "cell_type": "code",
   "execution_count": 21,
   "metadata": {
    "collapsed": false
   },
   "outputs": [
    {
     "name": "stdout",
     "output_type": "stream",
     "text": [
      "(20, 10)\n",
      "(20,)\n"
     ]
    }
   ],
   "source": [
    "# データセットを作成\n",
    "# 01からなる長さ10の系列が20サンプル\n",
    "nb_of_samples = 20\n",
    "sequence_len = 10\n",
    "\n",
    "X = np.zeros((nb_of_samples, sequence_len))\n",
    "for row_idx in range(nb_of_samples):\n",
    "    X[row_idx, :] = np.around(np.random.rand(sequence_len))\n",
    "X = X.astype(int)\n",
    "print(X.shape)\n",
    "\n",
    "# ターゲットは各サンプルの1の数（回帰問題）\n",
    "t = np.sum(X, axis=1)\n",
    "print(t.shape)"
   ]
  },
  {
   "cell_type": "code",
   "execution_count": 44,
   "metadata": {
    "collapsed": true
   },
   "outputs": [],
   "source": [
    "# forward処理の関数\n",
    "def update_state(xk, sk, wx, wRec):\n",
    "    return sk * wRec + xk * wx\n",
    "\n",
    "def forward_states(X, wx, wRec):\n",
    "    # すべての時系列サンプルの状態を記憶する行列 S[サンプル, 状態]\n",
    "    # unfoldすると時系列長の分だけ状態がある\n",
    "    # S[0]は初期状態とする（0で初期化）\n",
    "    # S[:, -1]が各時系列を入力したときの最終出力 = y\n",
    "    S = np.zeros((X.shape[0], X.shape[1] + 1))\n",
    "    for k in range(0, X.shape[1]):\n",
    "        S[:, k + 1] = update_state(X[:, k], S[:, k], wx, wRec)\n",
    "    \n",
    "    return S\n",
    "\n",
    "def cost(y, t):\n",
    "    return ((t - y) ** 2).sum() / nb_of_samples"
   ]
  },
  {
   "cell_type": "code",
   "execution_count": 57,
   "metadata": {
    "collapsed": true
   },
   "outputs": [],
   "source": [
    "def output_gradient(y, t):\n",
    "    return 2.0 * (y - t) / nb_of_samples\n",
    "\n",
    "def backward_gradient(X, S, grad_out, wRec):\n",
    "    grad_over_time = np.zeros((X.shape[0], X.shape[1] + 1))\n",
    "    grad_over_time[:, -1] = grad_out\n",
    "    \n",
    "    # 各レイヤでパラメータを共有しているため勾配を足し合わせる\n",
    "    wx_grad = 0\n",
    "    wRec_grad = 0\n",
    "    for k in range(X.shape[1], 0, -1):\n",
    "        wx_grad += np.sum(grad_over_time[:, k] * X[:, k-1])\n",
    "        wRec_grad += np.sum(grad_over_time[:, k] * S[:, k-1])\n",
    "        grad_over_time[:, k-1] = grad_over_time[:, k] * wRec\n",
    "    return (wx_grad, wRec_grad), grad_over_time"
   ]
  },
  {
   "cell_type": "code",
   "execution_count": 58,
   "metadata": {
    "collapsed": false
   },
   "outputs": [
    {
     "name": "stdout",
     "output_type": "stream",
     "text": [
      "(397.45779204446387, 2506.0609069452612)\n",
      "No gradient errors found\n"
     ]
    }
   ],
   "source": [
    "# gradient checking\n",
    "params = [1.2, 1.2]  # [wx, wRec]\n",
    "eps = 1e-7\n",
    "S = forward_states(X, params[0], params[1])\n",
    "grad_out = output_gradient(S[:, -1], t)\n",
    "backprop_grads, grad_over_time = backward_gradient(X, S, grad_out, params[1])\n",
    "print(backprop_grads)\n",
    "for p_idx, _ in enumerate(params):\n",
    "    grad_backprop = backprop_grads[p_idx]\n",
    "    params[p_idx] += eps\n",
    "    plus_cost = cost(forward_states(X, params[0], params[1])[:, -1], t)\n",
    "    params[p_idx] -= 2 * eps\n",
    "    min_cost = cost(forward_states(X, params[0], params[1])[:, -1], t)\n",
    "    params[p_idx] += eps\n",
    "    grad_num = (plus_cost - min_cost) / (2 * eps)\n",
    "    if not np.isclose(grad_num, grad_backprop):\n",
    "        raise ValueError('Numerical gradient of {:.6f} is not close to the backpropagation gradient of {:.6f}!'.format(float(grad_num), float(grad_backprop)))  \n",
    "print('No gradient errors found')"
   ]
  },
  {
   "cell_type": "code",
   "execution_count": 59,
   "metadata": {
    "collapsed": true
   },
   "outputs": [],
   "source": [
    "def update_rprop(X, t, W, W_prev_sign, W_delta, eta_p, eta_n):\n",
    "    S = forward_states(X, W[0], W[1])\n",
    "    grad_out = output_gradient(S[:, -1], t)\n",
    "    W_grads, _ = backward_gradient(X, S, grad_out, W[1])\n",
    "    W_sign = np.sign(W_grads)\n",
    "    for i, _ in enumerate(W):\n",
    "        if W_sign[i] == W_prev_sign[i]:\n",
    "            W_delta[i] *= eta_p\n",
    "        else:\n",
    "            W_delta[i] *= eta_n\n",
    "    return W_delta, W_sign"
   ]
  },
  {
   "cell_type": "code",
   "execution_count": 62,
   "metadata": {
    "collapsed": false
   },
   "outputs": [
    {
     "name": "stdout",
     "output_type": "stream",
     "text": [
      "Final weights are: wx = 1.0016367524684697, wRec = 0.999667849069417\n"
     ]
    }
   ],
   "source": [
    "eta_p = 1.2\n",
    "eta_n = 0.5\n",
    "\n",
    "W = [-1.5, 2]  # [wx, wRec]\n",
    "W_delta = [0.001, 0.001]\n",
    "W_sign = [0, 0]\n",
    "\n",
    "ls_of_ws = [(W[0], W[1])]\n",
    "for i in range(500):\n",
    "    W_delta, W_sign = update_rprop(X, t, W, W_sign, W_delta, eta_p, eta_n)\n",
    "    for i, _ in enumerate(W):\n",
    "        W[i] -= W_sign[i] * W_delta[i]\n",
    "    ls_of_ws.append((W[0], W[1]))\n",
    "\n",
    "print('Final weights are: wx = {0}, wRec = {1}'.format(W[0], W[1]))"
   ]
  },
  {
   "cell_type": "code",
   "execution_count": 74,
   "metadata": {
    "collapsed": true
   },
   "outputs": [],
   "source": [
    "# 入力は任意の長さでOK\n",
    "test_input = np.asmatrix([[0, 1, 1, 0, 0, 0, 0, 1, 0, 0, 1, 1, 1, 1, 1, 1, 1, 1, 1, 1, 1, 1 ,1, 1, 1, 1, 1, 1, 1, 1, 1, 1, 1, 1, 1 ,1]])\n",
    "test_output = forward_states(test_input, W[0], W[1])"
   ]
  },
  {
   "cell_type": "code",
   "execution_count": 75,
   "metadata": {
    "collapsed": false
   },
   "outputs": [
    {
     "data": {
      "text/plain": [
       "29"
      ]
     },
     "execution_count": 75,
     "metadata": {},
     "output_type": "execute_result"
    }
   ],
   "source": [
    "test_input.sum()"
   ]
  },
  {
   "cell_type": "code",
   "execution_count": 76,
   "metadata": {
    "collapsed": false
   },
   "outputs": [
    {
     "data": {
      "text/plain": [
       "(1, 37)"
      ]
     },
     "execution_count": 76,
     "metadata": {},
     "output_type": "execute_result"
    }
   ],
   "source": [
    "test_output.shape"
   ]
  },
  {
   "cell_type": "code",
   "execution_count": 77,
   "metadata": {
    "collapsed": false
   },
   "outputs": [
    {
     "data": {
      "text/plain": [
       "28.908182434543956"
      ]
     },
     "execution_count": 77,
     "metadata": {},
     "output_type": "execute_result"
    }
   ],
   "source": [
    "test_output[:, -1][0]"
   ]
  },
  {
   "cell_type": "code",
   "execution_count": null,
   "metadata": {
    "collapsed": true
   },
   "outputs": [],
   "source": []
  }
 ],
 "metadata": {
  "anaconda-cloud": {},
  "kernelspec": {
   "display_name": "Python [conda root]",
   "language": "python",
   "name": "conda-root-py"
  },
  "language_info": {
   "codemirror_mode": {
    "name": "ipython",
    "version": 3
   },
   "file_extension": ".py",
   "mimetype": "text/x-python",
   "name": "python",
   "nbconvert_exporter": "python",
   "pygments_lexer": "ipython3",
   "version": "3.5.2"
  }
 },
 "nbformat": 4,
 "nbformat_minor": 1
}
